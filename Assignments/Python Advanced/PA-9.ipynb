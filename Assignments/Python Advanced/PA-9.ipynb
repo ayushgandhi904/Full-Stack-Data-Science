{
  "nbformat": 4,
  "nbformat_minor": 0,
  "metadata": {
    "colab": {
      "provenance": []
    },
    "kernelspec": {
      "name": "python3",
      "display_name": "Python 3"
    },
    "language_info": {
      "name": "python"
    }
  },
  "cells": [
    {
      "cell_type": "markdown",
      "source": [
        "### Q1. In Python 3.X, what are the names and functions of string object types?"
      ],
      "metadata": {
        "id": "Ly2sX_pwHTjy"
      }
    },
    {
      "cell_type": "markdown",
      "source": [
        "The name & function of string object types are:\n",
        "\n",
        "i) \"**str**\"\n",
        "\n",
        "ii) **bytes**"
      ],
      "metadata": {
        "id": "p9bhGaRWHTpU"
      }
    },
    {
      "cell_type": "markdown",
      "source": [
        "### Q2. How do the string forms in Python 3.X vary in terms of operations?"
      ],
      "metadata": {
        "id": "nqh8CSXDHTuv"
      }
    },
    {
      "cell_type": "markdown",
      "source": [
        "The string forms i.ee. (\"str\" & \"bytes\") vary in terms of text operations like substring extraction, concatenation, case conversion, endoding & decoding, immutability & mutation & in some specific methods."
      ],
      "metadata": {
        "id": "FS06b48sHT0K"
      }
    },
    {
      "cell_type": "markdown",
      "source": [
        "### Q3. In 3.X, how do you put non-ASCII Unicode characters in a string?"
      ],
      "metadata": {
        "id": "yHp5KpSQHT59"
      }
    },
    {
      "cell_type": "markdown",
      "source": [
        "The non-ASCII uniode characters in a string can be put to use by unicode escape sequences where escape sequence consists of blackslash (\"\\u\") followed by four hexadecimal digits representing the unicode code point."
      ],
      "metadata": {
        "id": "C7H6WdN2HT_q"
      }
    },
    {
      "cell_type": "markdown",
      "source": [
        "### Q4. In Python 3.X, what are the key differences between text-mode and binary-mode files?"
      ],
      "metadata": {
        "id": "dwh4gC06HUFH"
      }
    },
    {
      "cell_type": "markdown",
      "source": [
        "In text mode, files are treated as text files, & it performs encoding & decoding automatically while in binary mode files are treated as binary files& no automatic encodin or decoding is performed."
      ],
      "metadata": {
        "id": "2A4oWRykHUKl"
      }
    },
    {
      "cell_type": "markdown",
      "source": [
        "### Q5. How can you interpret a Unicode text file containing text encoded in a different encoding than your platform's default?"
      ],
      "metadata": {
        "id": "SjEd5scaHUQV"
      }
    },
    {
      "cell_type": "markdown",
      "source": [
        "To interpret a unicode text file, you need to replace \"file.txt\" with actual file path of unicode text file & \"desired_encoding\" with encoding used in the file."
      ],
      "metadata": {
        "id": "Mo5DD2laHUVQ"
      }
    },
    {
      "cell_type": "markdown",
      "source": [
        "### Q6. What is the best way to make a Unicode text file in a particular encoding format?"
      ],
      "metadata": {
        "id": "-u3346NxHUam"
      }
    },
    {
      "cell_type": "markdown",
      "source": [
        "Unicode text file can be made in encoding format by:\n",
        "\n",
        "i) opening the desired encoding using the \"open()\" function with appropriate \"encoding\" parameter.\n",
        "\n",
        "ii) Writing the content to file using the file object's \"write()\" or \"writelines()\" method."
      ],
      "metadata": {
        "id": "UUYcNK-KHUf7"
      }
    },
    {
      "cell_type": "markdown",
      "source": [
        "### Q7. What qualifies ASCII text as a form of Unicode text?"
      ],
      "metadata": {
        "id": "PJcMHQTBHUln"
      }
    },
    {
      "cell_type": "markdown",
      "source": [
        "ASCII is considered a form of unicode text as it qualifies ASCII Compatiblity, Encoding, & also Interpoerability."
      ],
      "metadata": {
        "id": "sscddao6HUrN"
      }
    },
    {
      "cell_type": "markdown",
      "source": [
        "### Q8. How much of an effect does the change in string types in Python 3.X have on your code?"
      ],
      "metadata": {
        "id": "lJ8E6O-7HUxb"
      }
    },
    {
      "cell_type": "markdown",
      "source": [
        "Python 3x had many impact on the code, few of them are:\n",
        "\n",
        "i) Unicode by Default: Earlier it was sequence of bytes whereas now are unicode by default.\n",
        "\n",
        "ii) Encoding &  Decoding: Now explicit encoding & decoding operations are required to convert between bytes & strings.\n",
        "\n",
        "iii) Iteration & indexing: It now iterates over string & indexing which returns unicode characters instead of individual bytes."
      ],
      "metadata": {
        "id": "NQYtfGnhHU3r"
      }
    },
    {
      "cell_type": "code",
      "source": [],
      "metadata": {
        "id": "m7WZgpLeMede"
      },
      "execution_count": null,
      "outputs": []
    }
  ]
}