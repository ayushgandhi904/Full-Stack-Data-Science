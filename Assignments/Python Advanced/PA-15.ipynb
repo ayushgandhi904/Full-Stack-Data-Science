{
  "nbformat": 4,
  "nbformat_minor": 0,
  "metadata": {
    "colab": {
      "provenance": []
    },
    "kernelspec": {
      "name": "python3",
      "display_name": "Python 3"
    },
    "language_info": {
      "name": "python"
    }
  },
  "cells": [
    {
      "cell_type": "markdown",
      "source": [
        "### 1.\tWhat are the new features added in Python 3.8 version?"
      ],
      "metadata": {
        "id": "FokPVwRlnqRG"
      }
    },
    {
      "cell_type": "markdown",
      "source": [
        "The new features which were added in python 3.8 was assignment expressions, positional-only paramters, f-string support, syntax warning etc.\n"
      ],
      "metadata": {
        "id": "VPbfgrt2nqTq"
      }
    },
    {
      "cell_type": "markdown",
      "source": [
        "### 2.\tWhat is monkey patching in Python?"
      ],
      "metadata": {
        "id": "hQknrb72nqWO"
      }
    },
    {
      "cell_type": "markdown",
      "source": [
        "Monkey patching refers to the practice of modifying or extending existing code at runtime by adding, replacing, or modifying attributes, methods, or functions of classes or objects"
      ],
      "metadata": {
        "id": "5Zu9YiuLnqYy"
      }
    },
    {
      "cell_type": "markdown",
      "source": [
        "### 3.\tWhat is the difference between a shallow copy and deep copy?"
      ],
      "metadata": {
        "id": "kiuvNe-RnqcS"
      }
    },
    {
      "cell_type": "markdown",
      "source": [
        "A shallow copy crates a new object or data structure, but it reference the same elements as the orginial structure. While Deep copy  creates a new object or data structure and recursively copies all the elements including any nested objects."
      ],
      "metadata": {
        "id": "nB0QDhaBnq-q"
      }
    },
    {
      "cell_type": "markdown",
      "source": [
        "### 4.\tWhat is the maximum possible length of an identifier?"
      ],
      "metadata": {
        "id": "L3-HB2Q9nrBf"
      }
    },
    {
      "cell_type": "markdown",
      "source": [
        "PEP 9 suggests using lowercase letters & underscores for variable and function names, and limiting line lengths to 79 characters to enhance code readability."
      ],
      "metadata": {
        "id": "9gHuy7tbnrET"
      }
    },
    {
      "cell_type": "markdown",
      "source": [
        "### 5.\tWhat is generator comprehension?"
      ],
      "metadata": {
        "id": "0cgTos8snrHS"
      }
    },
    {
      "cell_type": "markdown",
      "source": [
        "A generator comprehension is generator expression, which way to create a generator object. "
      ],
      "metadata": {
        "id": "iiGlsaevnrKy"
      }
    }
  ]
}