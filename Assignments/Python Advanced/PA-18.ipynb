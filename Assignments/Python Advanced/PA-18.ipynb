{
  "nbformat": 4,
  "nbformat_minor": 0,
  "metadata": {
    "colab": {
      "provenance": []
    },
    "kernelspec": {
      "name": "python3",
      "display_name": "Python 3"
    },
    "language_info": {
      "name": "python"
    }
  },
  "cells": [
    {
      "cell_type": "markdown",
      "source": [
        "### Q1. Describe the differences between text and binary files in a single paragraph."
      ],
      "metadata": {
        "id": "ziDYIM65yNA1"
      }
    },
    {
      "cell_type": "markdown",
      "source": [
        "Text files are human-readable files that store data as plain text. They typically consist of characters encoded in a specific character encoding, such as ASCII or UTF-8. \n",
        "\n",
        "Binary files contain non-textual data represented in binary format. They store data in a raw, compact, and efficient manner, using sequences of bytes. "
      ],
      "metadata": {
        "id": "oDjw78T0yNDl"
      }
    },
    {
      "cell_type": "markdown",
      "source": [
        "### Q2. What are some scenarios where using text files will be the better option? When would you like to use binary files instead of text files?"
      ],
      "metadata": {
        "id": "6ECye6b5yNGX"
      }
    },
    {
      "cell_type": "markdown",
      "source": [
        "Text file will be better option when storing & manipulating texual data, interchangeability, & huaman readabiliy & ediability."
      ],
      "metadata": {
        "id": "EvkgCW1byNJT"
      }
    },
    {
      "cell_type": "markdown",
      "source": [
        "### Q3. What are some of the issues with using binary operations to read and write a Python integer directly to disc?"
      ],
      "metadata": {
        "id": "3WRvflEPyNML"
      }
    },
    {
      "cell_type": "markdown",
      "source": [
        "Issues which are faced with operations are endianess, data size & format, portability & compatibility & lack of data structure."
      ],
      "metadata": {
        "id": "KNkaWxl7yNO4"
      }
    },
    {
      "cell_type": "markdown",
      "source": [
        "### Q4. Describe a benefit of using the with keyword instead of explicitly opening a file."
      ],
      "metadata": {
        "id": "kyS-5OzDyNRq"
      }
    },
    {
      "cell_type": "markdown",
      "source": [
        "\n",
        "Using the with keyword in Python when working with files provides a significant benefit in terms of resource management and code readability. It is used in automatic resource cleanup, exception handling, readability & conciseness & context manager.\n",
        "\n"
      ],
      "metadata": {
        "id": "bBUauSYOyNUW"
      }
    },
    {
      "cell_type": "markdown",
      "source": [
        "### Q5. Does Python have the trailing newline while reading a line of text? Does Python append a newline when you write a line of text?"
      ],
      "metadata": {
        "id": "CS63UCU0yNXY"
      }
    },
    {
      "cell_type": "markdown",
      "source": [
        "When reading a line of text using the readline() method, the trailing newline character ('\\n') is included in the returned line, except for the last line of the file if it does not end with a newline. This means that the newline character is preserved when reading lines from a text file."
      ],
      "metadata": {
        "id": "eIlS4MFnyNaM"
      }
    },
    {
      "cell_type": "markdown",
      "source": [
        "### Q6. What file operations enable for random-access operation?"
      ],
      "metadata": {
        "id": "9YiK5fyiyNc1"
      }
    },
    {
      "cell_type": "markdown",
      "source": [
        "The seek() and tell() methods enable random-access operations on files, allowing you to read or write data at specific positions within a file."
      ],
      "metadata": {
        "id": "ImNbXUh0yNfU"
      }
    },
    {
      "cell_type": "markdown",
      "source": [
        "### Q7. When do you think you'll use the struct package the most?"
      ],
      "metadata": {
        "id": "JdmN2IqwyNiH"
      }
    },
    {
      "cell_type": "markdown",
      "source": [
        "The struct package is particularly useful when dealing with binary data and working with low-level data formats or network protocols"
      ],
      "metadata": {
        "id": "H0-HX54lyNk5"
      }
    },
    {
      "cell_type": "markdown",
      "source": [
        "### Q8. When is pickling the best option?"
      ],
      "metadata": {
        "id": "BSfjK9yXyNnu"
      }
    },
    {
      "cell_type": "markdown",
      "source": [
        "Pickling is the best option when object persistence, caching & memoization & for interprocess comuunication."
      ],
      "metadata": {
        "id": "4DuH_PIqyNqa"
      }
    },
    {
      "cell_type": "markdown",
      "source": [
        "### Q9. When will it be best to use the shelve package?"
      ],
      "metadata": {
        "id": "Xa9jrc5hyNtM"
      }
    },
    {
      "cell_type": "markdown",
      "source": [
        "The shelve package provides a simple and efficient way to persistently store and retrieve Python objects as key-value pairs.\n",
        "It is used in small-medium size datasets, quick prototyping & development & rapid data storage & retrieval."
      ],
      "metadata": {
        "id": "GVLf9refyNv3"
      }
    },
    {
      "cell_type": "markdown",
      "source": [
        "### Q10. What is a special restriction when using the shelve package, as opposed to using other data dictionaries?"
      ],
      "metadata": {
        "id": "xo5yWfM-1dbq"
      }
    },
    {
      "cell_type": "markdown",
      "source": [
        "\n",
        "When using the shelve package, there is a special restriction to keep in mind compared to using other data dictionaries. The restriction is related to modifying the stored objects within the shelve database."
      ],
      "metadata": {
        "id": "8N_nos2T1ceL"
      }
    }
  ]
}