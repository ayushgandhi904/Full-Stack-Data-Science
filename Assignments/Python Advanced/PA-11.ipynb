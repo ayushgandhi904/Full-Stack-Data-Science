{
  "nbformat": 4,
  "nbformat_minor": 0,
  "metadata": {
    "colab": {
      "provenance": []
    },
    "kernelspec": {
      "name": "python3",
      "display_name": "Python 3"
    },
    "language_info": {
      "name": "python"
    }
  },
  "cells": [
    {
      "cell_type": "markdown",
      "source": [
        "### Q1. What is the concept of a metaclass?"
      ],
      "metadata": {
        "id": "Kxm4Fiq_QhSa"
      }
    },
    {
      "cell_type": "markdown",
      "source": [
        "A metaclass is a class that defines the behaviour and structure of other classes, it is often refeered to as it instances. It is class of a class"
      ],
      "metadata": {
        "id": "s9ueZS4XQhU9"
      }
    },
    {
      "cell_type": "markdown",
      "source": [
        "### Q2. What is the best way to declare a class's metaclass?"
      ],
      "metadata": {
        "id": "y_44LhH-QhXk"
      }
    },
    {
      "cell_type": "markdown",
      "source": [
        "The best way to declare class's metaclass is by using \"**metaclass**\" argument in the class definition."
      ],
      "metadata": {
        "id": "SwwgnKcYQhbN"
      }
    },
    {
      "cell_type": "markdown",
      "source": [
        "### Q3. How do class decorators overlap with metaclasses for handling classes?"
      ],
      "metadata": {
        "id": "5Gehi4Y0Qhvv"
      }
    },
    {
      "cell_type": "markdown",
      "source": [
        "Class decorators are functions that applied to a class using the \"**@decorator**\" syntax immediately before the class declaration while metaclass are classes that define the behavior & structure of other classes. "
      ],
      "metadata": {
        "id": "YfwRcfNPQiJy"
      }
    },
    {
      "cell_type": "markdown",
      "source": [
        "### Q4. How do class decorators overlap with metaclasses for handling instances?"
      ],
      "metadata": {
        "id": "6NmxMbGuQiSX"
      }
    },
    {
      "cell_type": "markdown",
      "source": [
        "Class decorators main focus is on modifying or extending the behavior of the class itself rather than its instances, while metaclass directly control the creation & behavior of class instances."
      ],
      "metadata": {
        "id": "Z9okZ3NNQibw"
      }
    }
  ]
}