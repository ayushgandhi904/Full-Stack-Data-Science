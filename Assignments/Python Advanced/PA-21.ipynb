{
  "nbformat": 4,
  "nbformat_minor": 0,
  "metadata": {
    "colab": {
      "provenance": []
    },
    "kernelspec": {
      "name": "python3",
      "display_name": "Python 3"
    },
    "language_info": {
      "name": "python"
    }
  },
  "cells": [
    {
      "cell_type": "markdown",
      "source": [
        "### Q1. What is a probability distribution, exactly? If the values are meant to be random, how can you predict them at all?"
      ],
      "metadata": {
        "id": "EHuSUNW7Vwb9"
      }
    },
    {
      "cell_type": "markdown",
      "source": [
        "A probability distribution is a mathematical function that describes the likelihood of different outcomes or events occurring in a random experiment or process. It provides a way to model and understand the behavior of random variables."
      ],
      "metadata": {
        "id": "ihsUiSY4VwfG"
      }
    },
    {
      "cell_type": "markdown",
      "source": [
        "### Q2. Is there a distinction between true random numbers and pseudo-random numbers, if there is one? Why are the latter considered “good enough”?"
      ],
      "metadata": {
        "id": "deiOhVpKVwit"
      }
    },
    {
      "cell_type": "markdown",
      "source": [
        "Yes, there is a distinction between true random numbers and pseudo-random numbers.\n",
        "True random numbers are generated from a source of randomness that is inherently unpredictable. They are derived from physical processes or phenomena that are believed to be truly random, such as radioactive decay, atmospheric noise, or chaotic systems"
      ],
      "metadata": {
        "id": "oVqTOI7sVwmB"
      }
    },
    {
      "cell_type": "markdown",
      "source": [
        "### Q3. What are the two main factors that influence the behaviour of a \"normal\" probability distribution?"
      ],
      "metadata": {
        "id": "qhSsmP-IVwpk"
      }
    },
    {
      "cell_type": "markdown",
      "source": [
        "The behavior of a \"normal\" probability distribution is primarily influenced by two main factors i.e. mean & standard deviation."
      ],
      "metadata": {
        "id": "KP0GrHk6VwtM"
      }
    },
    {
      "cell_type": "markdown",
      "source": [
        "### Q4. Provide a real-life example of a normal distribution."
      ],
      "metadata": {
        "id": "lOsGcY1RVwwN"
      }
    },
    {
      "cell_type": "markdown",
      "source": [
        "A real-life example of a normal distribution is the distribution of heights of adult human males"
      ],
      "metadata": {
        "id": "3VOu3BN7Vwzu"
      }
    },
    {
      "cell_type": "markdown",
      "source": [
        "### Q5. In the short term, how can you expect a probability distribution to behave? What do you think will happen as the number of trials grows?"
      ],
      "metadata": {
        "id": "AoAhuAwXVw2q"
      }
    },
    {
      "cell_type": "markdown",
      "source": [
        "In the short term, the behavior of a probability distribution may not precisely reflect its underlying probabilities. Randomness and variability can lead to fluctuations in observed frequencies or outcomes"
      ],
      "metadata": {
        "id": "tQ466r5PVw52"
      }
    },
    {
      "cell_type": "markdown",
      "source": [
        "### Q6. What kind of object can be shuffled by using random.shuffle?"
      ],
      "metadata": {
        "id": "4gb_SlLqVw93"
      }
    },
    {
      "cell_type": "markdown",
      "source": [
        "\n",
        "The random.shuffle function can be used to shuffle the elements of a mutable sequence."
      ],
      "metadata": {
        "id": "JuhgD_YdVxBO"
      }
    },
    {
      "cell_type": "markdown",
      "source": [
        "### Q7. Describe the math package's general categories of functions."
      ],
      "metadata": {
        "id": "Smik3XNCVxEl"
      }
    },
    {
      "cell_type": "markdown",
      "source": [
        "The math package in Python provides a collection of mathematical functions and constants for various mathematical operations.\n",
        "\n",
        "The functions in the math package can generally be categorized into the following categories:\n",
        "\n",
        "Basic Mathematical Functions:\n",
        "\n",
        "Trigonometric functions: such as sin(), cos(), tan(), asin(), acos(), atan(), etc., which calculate trigonometric ratios and their inverse.\n",
        "Exponential and logarithmic functions: including exp(), log(), log10(), sqrt(), pow(), which perform operations related to exponentiation, logarithms, and square roots.\n",
        "\n",
        "Numeric Operations:\n",
        "\n",
        "Rounding functions: such as ceil() (ceiling), floor() (floor), and round(), which round numbers to the nearest integer or a specified decimal place.\n",
        "Absolute function: fabs() or fabs(), which returns the absolute (positive) value of a number.\n",
        "\n",
        "Remainder function: fmod() or remainder(), which calculates the remainder of division between two numbers.\n",
        "Constants:\n",
        "\n",
        "Mathematical constants: pi (π), e, which represent the mathematical constants pi (approximately 3.14159) and Euler's number (approximately 2.71828), respectively.\n",
        "Special Functions:\n",
        "\n",
        "Gamma function: gamma(), which computes the gamma function of a number.\n",
        "Error function: erf() and erfc(), which calculate the error function and complementary error function, respectively."
      ],
      "metadata": {
        "id": "-fRuB03OVxJD"
      }
    },
    {
      "cell_type": "markdown",
      "source": [
        "### Q8. What is the relationship between exponentiation and logarithms?"
      ],
      "metadata": {
        "id": "XiDFWmFnVxMa"
      }
    },
    {
      "cell_type": "markdown",
      "source": [
        "Exponentiation and logarithms are mathematical operations that are inversely related to each other. They are used to solve equations involving exponential growth or decay and to convert between different bases of numbers."
      ],
      "metadata": {
        "id": "TxA9e6SDVxP3"
      }
    },
    {
      "cell_type": "markdown",
      "source": [
        "### Q9. What are the three logarithmic functions that Python supports?"
      ],
      "metadata": {
        "id": "PnnC1ylzVxTO"
      }
    },
    {
      "cell_type": "markdown",
      "source": [
        "\n",
        "Python supports three logarithmic functions through the math module are natural logarithm, common logarithm (base 10) & custom base logarithm."
      ],
      "metadata": {
        "id": "whsPq1ihVxWQ"
      }
    }
  ]
}