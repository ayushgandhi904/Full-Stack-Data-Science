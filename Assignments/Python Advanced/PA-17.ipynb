{
  "nbformat": 4,
  "nbformat_minor": 0,
  "metadata": {
    "colab": {
      "provenance": []
    },
    "kernelspec": {
      "name": "python3",
      "display_name": "Python 3"
    },
    "language_info": {
      "name": "python"
    }
  },
  "cells": [
    {
      "cell_type": "markdown",
      "source": [
        "### Q1. Explain the difference between greedy and non-greedy syntax with visual terms in as few words as possible. What is the bare minimum effort required to transform a greedy pattern into a non-greedy one? What characters or characters can you introduce or change?"
      ],
      "metadata": {
        "id": "sHSX3iSHvzXw"
      }
    },
    {
      "cell_type": "markdown",
      "source": [
        "In regular expressions, a greedy syntax matches as much as possible, while a non-greedy (also known as lazy) syntax matches as little as possible.\n",
        "\n",
        "To transform a greedy pattern into a non-greedy one, you can introduce or change the \"?\" character immediately after a quantifier (\"*\", \"+\", \"?\", \"{n}\", \"{n,}\", or \"{n,m}\"). This modification makes the pattern match the minimum number of times instead of the maximum.\n",
        "\n",
        "For example:"
      ],
      "metadata": {
        "id": "_4o1bBnhvzat"
      }
    },
    {
      "cell_type": "markdown",
      "source": [
        "### Q2. When exactly does greedy versus non-greedy make a difference?  What if you're looking for a non-greedy match but the only one available is greedy?"
      ],
      "metadata": {
        "id": "RfrHEz6avzd7"
      }
    },
    {
      "cell_type": "markdown",
      "source": [
        " Greedy, the regex engine will return the longest match possible. In such cases, if there is only one match and it happens to be greedy, the non-greedy syntax won't have any effect."
      ],
      "metadata": {
        "id": "42csjG1Pvzg_"
      }
    },
    {
      "cell_type": "markdown",
      "source": [
        "###  Q3. In a simple match of a string, which looks only for one match and does not do any replacement, is the use of a nontagged group likely to make any practical difference?"
      ],
      "metadata": {
        "id": "bxctX1aYvzjZ"
      }
    },
    {
      "cell_type": "markdown",
      "source": [
        "\n",
        "In a simple match of a string we are not capturing or extracting any specific portion of the matched text, the use of a non-tagged group (a group without capturing parentheses) generally does not make a practical difference.\n",
        "\n",
        "Non-tagged groups are primarily used for grouping and applying quantifiers, but they do not capture the matched content for later reference."
      ],
      "metadata": {
        "id": "Q2K19bNevzmN"
      }
    },
    {
      "cell_type": "markdown",
      "source": [
        "### Q4. Describe a scenario in which using a nontagged category would have a significant impact on the program's outcomes.\n",
        "\n"
      ],
      "metadata": {
        "id": "L_rWhH2qvzpB"
      }
    },
    {
      "cell_type": "markdown",
      "source": [
        "A scenario where using a non-tagged category would have a significant impact on the program's outcomes is when you are using the re.sub() function to perform replacements."
      ],
      "metadata": {
        "id": "aYRiiEaOvzrp"
      }
    },
    {
      "cell_type": "markdown",
      "source": [
        "### Q5. Unlike a normal regex pattern, a look-ahead condition does not consume the characters it examines. Describe a situation in which this could make a difference in the results of your programme."
      ],
      "metadata": {
        "id": "LroPYjFZvzuX"
      }
    },
    {
      "cell_type": "markdown",
      "source": [
        "\n",
        "A situation where the non-consumption behavior of a look-ahead condition in a regex pattern could make a difference in the results of your program is when you need to match a pattern based on specific conditions ahead of the current position without including those conditions in the actual match."
      ],
      "metadata": {
        "id": "1EUSGxlwvzw-"
      }
    },
    {
      "cell_type": "markdown",
      "source": [
        "### Q6. In standard expressions, what is the difference between positive look-ahead and negative look-ahead?"
      ],
      "metadata": {
        "id": "PZUdRCWzvzzv"
      }
    },
    {
      "cell_type": "markdown",
      "source": [
        "- Positive Look-ahead ((?=...)): It asserts that the pattern inside the look-ahead must be present at the current position for a successful match. It is used to include matches that are followed by a specific pattern.\n",
        "\n",
        "- Negative Look-ahead ((?!...)): It asserts that the pattern inside the look-ahead must not be present at the current position for a successful match. It is used to exclude matches that are followed by a specific pattern."
      ],
      "metadata": {
        "id": "bCLGLDIavz2l"
      }
    },
    {
      "cell_type": "markdown",
      "source": [
        "### Q7. What is the benefit of referring to groups by name rather than by number in a standard expression?"
      ],
      "metadata": {
        "id": "egfewO-Nvz6Y"
      }
    },
    {
      "cell_type": "markdown",
      "source": [
        "Refering to groups by name rather thn by number have benifits like improved readability, code maintainability, self documenting code, flexiblity etc."
      ],
      "metadata": {
        "id": "TgCeVCl7vz91"
      }
    },
    {
      "cell_type": "markdown",
      "source": [
        "### Q8. Can you identify repeated items within a target string using named groups, as in \"The cow jumped over the moon\"?\n"
      ],
      "metadata": {
        "id": "txU0a5PExTIn"
      }
    },
    {
      "cell_type": "markdown",
      "source": [
        "Yes, we can use named groups in regular expressions to identify repeated items within a target string. However, in the example (\"The cow jumped over the moon\"), there are no specific repeated items to identify."
      ],
      "metadata": {
        "id": "cMCkYTHCxTMI"
      }
    },
    {
      "cell_type": "markdown",
      "source": [
        "### Q9. When parsing a string, what is at least one thing that the Scanner interface does for you that the re.findall feature does not?"
      ],
      "metadata": {
        "id": "ech-kh5PxTTu"
      }
    },
    {
      "cell_type": "markdown",
      "source": [
        "When parsing a string, the Scanner interface, which is part of the string module, offers a functionality that re.findall() does not provide. The Scanner interface allows  to iterate over the string and tokenize it based on specified patterns."
      ],
      "metadata": {
        "id": "YNZadcxixTYJ"
      }
    },
    {
      "cell_type": "markdown",
      "source": [
        "### Q10. Does a scanner object have to be named scanner?"
      ],
      "metadata": {
        "id": "ypCh0S-Fxuga"
      }
    },
    {
      "cell_type": "markdown",
      "source": [
        "\n",
        "No, a Scanner object does not have to be named \"scanner\"."
      ],
      "metadata": {
        "id": "GeFZacXYxu_-"
      }
    }
  ]
}