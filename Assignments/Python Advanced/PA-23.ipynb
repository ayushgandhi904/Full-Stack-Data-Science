{
  "nbformat": 4,
  "nbformat_minor": 0,
  "metadata": {
    "colab": {
      "provenance": []
    },
    "kernelspec": {
      "name": "python3",
      "display_name": "Python 3"
    },
    "language_info": {
      "name": "python"
    }
  },
  "cells": [
    {
      "cell_type": "markdown",
      "source": [
        "### Q1. If you have any, what are your choices for increasing the comparison between different figures on the same graph?"
      ],
      "metadata": {
        "id": "olhw_qgffqHZ"
      }
    },
    {
      "cell_type": "markdown",
      "source": [
        "\n",
        "When comparing different figures on the same graph, there are several choices to increase the visibility and comparison between the figures. Some options are adjusting the scale, using different colors, utilize markers or line styles, add legend etc."
      ],
      "metadata": {
        "id": "_tIdDJ5dfqKL"
      }
    },
    {
      "cell_type": "markdown",
      "source": [
        "### Q2. Can you explain the benefit of compound interest over a higher rate of interest that does not compound after reading this chapter?"
      ],
      "metadata": {
        "id": "jsgj9d61fqMy"
      }
    },
    {
      "cell_type": "markdown",
      "source": [
        "Compound interest refers to the process of earning interest on both the initial principal amount and any accumulated interest from previous periods. It allows your investment to grow exponentially over time"
      ],
      "metadata": {
        "id": "DVmXTmBgfqPf"
      }
    },
    {
      "cell_type": "markdown",
      "source": [
        "### Q3. What is a histogram, exactly? Name a numpy method for creating such a graph."
      ],
      "metadata": {
        "id": "b98aJrYEfqSR"
      }
    },
    {
      "cell_type": "markdown",
      "source": [
        "A histogram is a graphical representation of the distribution of a dataset. It displays the frequency or count of values within specific intervals, also known as bins, along the horizontal axis, and the frequency or count of occurrences on the vertical axis. The numpy.histogram() function is used to create a histogram.\n"
      ],
      "metadata": {
        "id": "n12G0wIKfqVA"
      }
    },
    {
      "cell_type": "markdown",
      "source": [
        "### Q4. If necessary, how do you change the aspect ratios between the X and Y axes?"
      ],
      "metadata": {
        "id": "mtyDVcetfqXw"
      }
    },
    {
      "cell_type": "markdown",
      "source": [
        "To change the aspect ratios between the X and Y axes in a plot, you can use the matplotlib.pyplot.axis() function or the matplotlib.axes.Axes.set_aspect() method. "
      ],
      "metadata": {
        "id": "JdRftlILfqal"
      }
    },
    {
      "cell_type": "markdown",
      "source": [
        "### Q5. Compare and contrast the three types of array multiplication between two numpy arrays: dot product, outer product, and regular multiplication of two numpy arrays."
      ],
      "metadata": {
        "id": "saOuWAzAfqdS"
      }
    },
    {
      "cell_type": "markdown",
      "source": [
        " The dot product calculates the sum of element-wise products and returns a scalar, the outer product calculates the pairwise products of elements and returns a new array, and regular multiplication performs element-wise multiplication of corresponding elements and returns a new array with the same shape as the input arrays. "
      ],
      "metadata": {
        "id": "Tlm-ppWMfqgM"
      }
    },
    {
      "cell_type": "markdown",
      "source": [
        "### Q6. Before you buy a home, which numpy function will you use to measure your monthly mortgage payment?"
      ],
      "metadata": {
        "id": "Dr62Fo5Dfqi7"
      }
    },
    {
      "cell_type": "markdown",
      "source": [
        "\n",
        "To measure your monthly mortgage payment before buying a home using numpy, numpy.pmt() function can be used."
      ],
      "metadata": {
        "id": "pERTaK_Rfqlo"
      }
    },
    {
      "cell_type": "markdown",
      "source": [
        "### Q7. Can string data be stored in numpy arrays? If so, list at least one restriction that applies to this data."
      ],
      "metadata": {
        "id": "mv2ye08pfqo8"
      }
    },
    {
      "cell_type": "markdown",
      "source": [
        "Yes, string data can be stored in numpy arrays. Numpy provides the numpy.array() function that can handle arrays with string data. The restriction is when working with string data in numpy arrays: the strings must have a fixed length."
      ],
      "metadata": {
        "id": "ideqO08MhBxa"
      }
    }
  ]
}