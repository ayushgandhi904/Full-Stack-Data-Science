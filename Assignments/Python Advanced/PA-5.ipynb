{
  "nbformat": 4,
  "nbformat_minor": 0,
  "metadata": {
    "colab": {
      "provenance": []
    },
    "kernelspec": {
      "name": "python3",
      "display_name": "Python 3"
    },
    "language_info": {
      "name": "python"
    }
  },
  "cells": [
    {
      "cell_type": "markdown",
      "source": [
        "### Q1. What is the meaning of multiple inheritance?"
      ],
      "metadata": {
        "id": "CCDvGgzlCUJk"
      }
    },
    {
      "cell_type": "markdown",
      "source": [
        "Multiple inheritance refers to feature that allows a class to inherit from multiple base classes. "
      ],
      "metadata": {
        "id": "__V1yv3LCUNs"
      }
    },
    {
      "cell_type": "markdown",
      "source": [
        "### Q2. What is the concept of delegation?"
      ],
      "metadata": {
        "id": "cFNjTAMhCURC"
      }
    },
    {
      "cell_type": "markdown",
      "source": [
        "Delegation refers to pattern where an object passes on delegates a responsiblity or task to another object to perform."
      ],
      "metadata": {
        "id": "xypZ2mkACUVv"
      }
    },
    {
      "cell_type": "markdown",
      "source": [
        "### Q3. What is the concept of composition?\n"
      ],
      "metadata": {
        "id": "gUPujNAxCUY9"
      }
    },
    {
      "cell_type": "markdown",
      "source": [
        "Composition refers to principle that involves constructing complex objects by combining or composing simpler objects. "
      ],
      "metadata": {
        "id": "7J_ZH1lECUcT"
      }
    },
    {
      "cell_type": "markdown",
      "source": [
        "### Q4. What are bound methods and how do we use them?"
      ],
      "metadata": {
        "id": "5qcLnPVvCUfK"
      }
    },
    {
      "cell_type": "markdown",
      "source": [
        "Bound method refers to method that accessed through and instance, which automatically bound that instance which can access te instance's attributes & perform operations specific to that instance."
      ],
      "metadata": {
        "id": "2CBwCVcYCUiX"
      }
    },
    {
      "cell_type": "markdown",
      "source": [
        "### Q5. What is the purpose of pseudoprivate attributes?"
      ],
      "metadata": {
        "id": "u_IVFS46CUlv"
      }
    },
    {
      "cell_type": "markdown",
      "source": [
        "Pseudoprivate attributes provides a form of name hiding or name protection within a class. It also provides accidental access or modification of attributes by external code while still allowing access within the class."
      ],
      "metadata": {
        "id": "uadfJTX1CUpG"
      }
    },
    {
      "cell_type": "code",
      "source": [],
      "metadata": {
        "id": "II2_vANXFuaM"
      },
      "execution_count": null,
      "outputs": []
    }
  ]
}