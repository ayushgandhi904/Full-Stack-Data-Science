{
  "nbformat": 4,
  "nbformat_minor": 0,
  "metadata": {
    "colab": {
      "provenance": []
    },
    "kernelspec": {
      "name": "python3",
      "display_name": "Python 3"
    },
    "language_info": {
      "name": "python"
    }
  },
  "cells": [
    {
      "cell_type": "markdown",
      "source": [
        "### Q1. What is the distinction between a numpy array and a pandas data frame? Is there a way to convert between the two if there is?"
      ],
      "metadata": {
        "id": "N1wZjV8MkPEo"
      }
    },
    {
      "cell_type": "markdown",
      "source": [
        "NumPy Array:\n",
        "\n",
        "- A NumPy array is a multi-dimensional, homogeneous data structure that stores elements of the same data type in a contiguous block of memory.\n",
        "- It provides efficient and fast mathematical operations and array manipulation capabilities.\n",
        "\n",
        "Pandas DataFrame:\n",
        "\n",
        "- A Pandas DataFrame is a two-dimensional, labeled data structure that can store heterogeneous data (i.e., different data types) in a tabular format.\n",
        "- It extends the functionality of NumPy arrays by providing additional features, such as column names, row labels, and built-in methods for data manipulation, indexing, filtering, grouping, and statistical analysis.\n",
        "\n",
        "It is possible to convert a NumPy array to a Pandas DataFrame using the pd.DataFrame() constructor. "
      ],
      "metadata": {
        "id": "99UpqblHkPIE"
      }
    },
    {
      "cell_type": "markdown",
      "source": [
        "### Q2. What can go wrong when an user enters in a stock-ticker symbol, and how do you handle it?"
      ],
      "metadata": {
        "id": "YofIdMQDkPLL"
      }
    },
    {
      "cell_type": "markdown",
      "source": [
        "It can get invalid at invalid ticker symbol, case sensitivity, missing ticker symbol, API Limitations or errors, data quality etc."
      ],
      "metadata": {
        "id": "V2P353zTkPOE"
      }
    },
    {
      "cell_type": "markdown",
      "source": [
        "### Q3. Identify some of the plotting techniques that are used to produce a stock-market chart."
      ],
      "metadata": {
        "id": "QB3KomZbkPQ6"
      }
    },
    {
      "cell_type": "markdown",
      "source": [
        "Some plotting techniques are Line chart, candlestick chart, bar chart, area chart, volume chart, moving average chart, etc."
      ],
      "metadata": {
        "id": "OA4BGNg5kPUQ"
      }
    },
    {
      "cell_type": "markdown",
      "source": [
        "### Q4. Why is it essential to print a legend on a stock market chart?"
      ],
      "metadata": {
        "id": "gNuOmrQKkPXf"
      }
    },
    {
      "cell_type": "markdown",
      "source": [
        "Printing the legend interprets the data, provides context & understanding, differentiating data series, presentation & communication."
      ],
      "metadata": {
        "id": "0Rv7TAKOkPaZ"
      }
    },
    {
      "cell_type": "markdown",
      "source": [
        "### Q5. What is the best way to limit the length of a pandas data frame to less than a year?\n"
      ],
      "metadata": {
        "id": "fCqeCaiYkPdz"
      }
    },
    {
      "cell_type": "markdown",
      "source": [
        "\n",
        "To limit the length of a pandas DataFrame to less than a year, you can filter the DataFrame based on the date or time column using appropriate date/time manipulation techniques. Some are Ensuring the date/time column, setting time range, filter the dataframe etc."
      ],
      "metadata": {
        "id": "KTRCEaS-kPg2"
      }
    },
    {
      "cell_type": "markdown",
      "source": [
        "### Q6. What is the definition of a 180-day moving average?"
      ],
      "metadata": {
        "id": "FY3lL7jPkPj6"
      }
    },
    {
      "cell_type": "markdown",
      "source": [
        "\n",
        "A 180-day moving average is a statistical calculation that provides the average value of a particular variable over a period of 180 days. "
      ],
      "metadata": {
        "id": "rUAsajuVkPm_"
      }
    },
    {
      "cell_type": "markdown",
      "source": [
        "### Q7. Did the chapter's final example use \"indirect\" importing? If so, how exactly do you do it?"
      ],
      "metadata": {
        "id": "OwbTbr17kPqC"
      }
    },
    {
      "cell_type": "markdown",
      "source": [
        "Indirect importing refers to importing a module indirectly through another module or function. In the context of the example, it means that the module was imported dynamically at runtime based on a condition or user input."
      ],
      "metadata": {
        "id": "s5RYQ8M_kPtF"
      }
    }
  ]
}