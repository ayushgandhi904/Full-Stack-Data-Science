{
  "nbformat": 4,
  "nbformat_minor": 0,
  "metadata": {
    "colab": {
      "provenance": []
    },
    "kernelspec": {
      "name": "python3",
      "display_name": "Python 3"
    },
    "language_info": {
      "name": "python"
    }
  },
  "cells": [
    {
      "cell_type": "markdown",
      "source": [
        "### Q1. What is the purpose of the try statement?"
      ],
      "metadata": {
        "id": "Z9oOaoCGAevy"
      }
    },
    {
      "cell_type": "markdown",
      "source": [
        "The purpose of \"try\" statement define a block of code where exceptional situations, or excptions may occur. It handle potential errors or exceptional conditions gracefully & provide appropriate actions."
      ],
      "metadata": {
        "id": "2BcJNxEJAe4Y"
      }
    },
    {
      "cell_type": "markdown",
      "source": [
        "### Q2. What are the two most popular try statement variations?"
      ],
      "metadata": {
        "id": "L96Dq39sAe7-"
      }
    },
    {
      "cell_type": "markdown",
      "source": [
        "The most popular try statement variations are:\n",
        "\n",
        "i) \"**try-except**\"\n",
        "\n",
        "ii) \"**try-except-else-finally**\""
      ],
      "metadata": {
        "id": "eQ289NFnAe-8"
      }
    },
    {
      "cell_type": "markdown",
      "source": [
        "### Q3. What is the purpose of the raise statement?"
      ],
      "metadata": {
        "id": "zRoVW-0ZAfB8"
      }
    },
    {
      "cell_type": "markdown",
      "source": [
        "The \"raise\" statment explicitly raise or trigger an exception during the execution of program. It allows to generate exceptions & communicate exceptional conditions to surrounding code."
      ],
      "metadata": {
        "id": "u64aiN3PAfFb"
      }
    },
    {
      "cell_type": "markdown",
      "source": [
        "### Q4. What does the assert statement do, and what other statement is it like?"
      ],
      "metadata": {
        "id": "dDAd4iGuAfIb"
      }
    },
    {
      "cell_type": "markdown",
      "source": [
        "The \"assert\" statement perform a sanity check or condition check during the execution. It allows to verify certain condition is true at a particular point in the code. "
      ],
      "metadata": {
        "id": "DNlQIUnpAfLY"
      }
    },
    {
      "cell_type": "markdown",
      "source": [
        "### Q5. What is the purpose of the with/as argument, and what other statement is it like?"
      ],
      "metadata": {
        "id": "0mLXa5onAfWk"
      }
    },
    {
      "cell_type": "markdown",
      "source": [
        "The \"with/as\" statement is used for context management & resource handling. It provides a convenient & concise way to work with external resources, such as files or network connections."
      ],
      "metadata": {
        "id": "7dzm9ecMAfZz"
      }
    },
    {
      "cell_type": "markdown",
      "source": [],
      "metadata": {
        "id": "0UcEZWrpAfcu"
      }
    },
    {
      "cell_type": "markdown",
      "source": [],
      "metadata": {
        "id": "2DX_By91Afin"
      }
    }
  ]
}