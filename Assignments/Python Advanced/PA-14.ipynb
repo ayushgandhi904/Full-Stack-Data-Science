{
  "nbformat": 4,
  "nbformat_minor": 0,
  "metadata": {
    "colab": {
      "provenance": []
    },
    "kernelspec": {
      "name": "python3",
      "display_name": "Python 3"
    },
    "language_info": {
      "name": "python"
    }
  },
  "cells": [
    {
      "cell_type": "markdown",
      "source": [
        "### Q1. Is an assignment operator like += only for show? Is it possible that it would lead to faster results at the runtime?"
      ],
      "metadata": {
        "id": "x8QNCsFwn6Cj"
      }
    },
    {
      "cell_type": "markdown",
      "source": [
        "No, the assignment operator \"+=\" is not for show, it lead to faster results at runtime in certain situtations compared to alternative approaches."
      ],
      "metadata": {
        "id": "6_vQG6yPn6FV"
      }
    },
    {
      "cell_type": "markdown",
      "source": [
        "### Q2. What is the smallest number of statements you'd have to write in most programming languages to replace the Python expression a, b = a + b, a?"
      ],
      "metadata": {
        "id": "zioG3issn6H7"
      }
    },
    {
      "cell_type": "markdown",
      "source": [
        "In most programming language, it need three typical statements to replace expression. \"a, b = a + b, a\".\n",
        "\n",
        "Eg:"
      ],
      "metadata": {
        "id": "NmqzegzAn6Ks"
      }
    },
    {
      "cell_type": "code",
      "source": [
        "a = 1\n",
        "b = 2\n",
        "tem = a + b #1\n",
        "b = a #2\n",
        "a = tem #3"
      ],
      "metadata": {
        "id": "VGBWJwNqex1s"
      },
      "execution_count": 3,
      "outputs": []
    },
    {
      "cell_type": "markdown",
      "source": [
        "### Q3. In Python, what is the most effective way to set a list of 100 integers to 0?"
      ],
      "metadata": {
        "id": "SkGgY2b5n6Pz"
      }
    },
    {
      "cell_type": "markdown",
      "source": [
        "Most effective way to set a list of 100 integer to 0 is to use (\"=\") operator along with list comprehension."
      ],
      "metadata": {
        "id": "-_j0hhKcn6So"
      }
    },
    {
      "cell_type": "code",
      "source": [
        "lst = [0] * 100"
      ],
      "metadata": {
        "id": "ER6VLoXifSja"
      },
      "execution_count": 4,
      "outputs": []
    },
    {
      "cell_type": "markdown",
      "source": [
        "### Q4. What is the most effective way to initialise a list of 99 integers that repeats the sequence 1, 2, 3? S If necessary, show step-by-step instructions on how to accomplish this."
      ],
      "metadata": {
        "id": "KPPJP3PXn6Ya"
      }
    },
    {
      "cell_type": "markdown",
      "source": [
        "To intialize a list of 99 integers that repeats the sequence 1,2, 3 combination of list comprehension & (%) can be used."
      ],
      "metadata": {
        "id": "k79ZFfaIn6a5"
      }
    },
    {
      "cell_type": "code",
      "source": [
        "seq = [1, 2, 3]\n",
        "lst = [seq[i % len(seq)] for i in range(99)]"
      ],
      "metadata": {
        "id": "M5TSI9LdfstI"
      },
      "execution_count": 5,
      "outputs": []
    },
    {
      "cell_type": "markdown",
      "source": [
        "### Q5. If you're using IDLE to run a Python application, explain how to print a multidimensional list as efficiently?"
      ],
      "metadata": {
        "id": "4-wdxD_Fn6gc"
      }
    },
    {
      "cell_type": "markdown",
      "source": [
        "To efficiently print multidimensional list in IDLE, a loop to iterate over the elements of the list & print each element on separate line."
      ],
      "metadata": {
        "id": "yWthskQVn6jG"
      }
    },
    {
      "cell_type": "markdown",
      "source": [
        "### Q6. Is it possible to use list comprehension with a string? If so, how can you go about doing it?"
      ],
      "metadata": {
        "id": "_ef4hNEun6l7"
      }
    },
    {
      "cell_type": "markdown",
      "source": [
        "Yes, it is possible to use list comprehension with string. It allows to create a new list by iterating over each character in string & apply certain operations or conditions. "
      ],
      "metadata": {
        "id": "gyAG4hMjn6od"
      }
    },
    {
      "cell_type": "markdown",
      "source": [
        "### Q7. From the command line, how do you get support with a user-written Python programme? Is this possible from inside IDLE?"
      ],
      "metadata": {
        "id": "u5lOxOpon6rZ"
      }
    },
    {
      "cell_type": "markdown",
      "source": [
        "Support can be obtain by online communities, python documentation & third party libraries."
      ],
      "metadata": {
        "id": "Q7juH3J4n6uD"
      }
    },
    {
      "cell_type": "markdown",
      "source": [
        "### Q8. Functions are said to be “first-class objects” in Python but not in most other languages, such as C++ or Java. What can you do in Python with a function (callable object) that you can't do in C or C++?"
      ],
      "metadata": {
        "id": "RSUFL3din6w6"
      }
    },
    {
      "cell_type": "markdown",
      "source": [
        "In python, functions are considerd \"first-class\" it means it have same rights & abilities as any other object in language. This allows to perform powerful operations with functions that may not be available in languages like C or C++."
      ],
      "metadata": {
        "id": "iNbteUYyn6zg"
      }
    },
    {
      "cell_type": "markdown",
      "source": [
        "### Q9. How do you distinguish between a wrapper, a wrapped feature, and a decorator?"
      ],
      "metadata": {
        "id": "W1XeULHGn62S"
      }
    },
    {
      "cell_type": "markdown",
      "source": [
        "Wrapper: It is concept that refers to function or a class that provides additional functionality around an existing feature or object.\n",
        "\n",
        "Wrapped feature: It refers to original funciton, method or object that is being wrapped or modified by wrapper.\n",
        "\n",
        "Decorator: It is type of wrapper that uses a special syntax using \"@decorator\" notation."
      ],
      "metadata": {
        "id": "XhaDCcaqn644"
      }
    },
    {
      "cell_type": "markdown",
      "source": [
        "### Q10. If a function is a generator function, what does it return?"
      ],
      "metadata": {
        "id": "Ik2XGoYln67r"
      }
    },
    {
      "cell_type": "markdown",
      "source": [
        "A genearator funciton returns a generator object whent it is called. "
      ],
      "metadata": {
        "id": "E8uejONcn6-Z"
      }
    },
    {
      "cell_type": "markdown",
      "source": [
        "### Q11. What is the one improvement that must be made to a function in order for it to become a generator function in the Python language?"
      ],
      "metadata": {
        "id": "M-4IEstOn7Bx"
      }
    },
    {
      "cell_type": "markdown",
      "source": [
        "To transform generator function, the one improvement that can be made is to at least one \"yield\" statement within the function's body."
      ],
      "metadata": {
        "id": "7mXys98mn7no"
      }
    },
    {
      "cell_type": "markdown",
      "source": [
        "### Q12. Identify at least one benefit of generators."
      ],
      "metadata": {
        "id": "0cyAm3UQiQmv"
      }
    },
    {
      "cell_type": "markdown",
      "source": [
        "One significant benefit of generators is their ability to provide memory-efficient & on demand generation of values."
      ],
      "metadata": {
        "id": "Kvn95IIKiQt4"
      }
    }
  ]
}