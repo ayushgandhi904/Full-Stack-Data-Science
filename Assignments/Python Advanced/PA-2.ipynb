{
  "nbformat": 4,
  "nbformat_minor": 0,
  "metadata": {
    "colab": {
      "provenance": []
    },
    "kernelspec": {
      "name": "python3",
      "display_name": "Python 3"
    },
    "language_info": {
      "name": "python"
    }
  },
  "cells": [
    {
      "cell_type": "markdown",
      "source": [
        "### Q1. What is the relationship between classes and modules?"
      ],
      "metadata": {
        "id": "9VX9gPJ-OhZg"
      }
    },
    {
      "cell_type": "markdown",
      "source": [
        "A class is blueprint of creating the objects, which are instance of that class, where as module is a container for organizing related code. The relationship between can be treated as how wll organized & reusable code to work together."
      ],
      "metadata": {
        "id": "f8c1cawOOkr6"
      }
    },
    {
      "cell_type": "markdown",
      "source": [
        "### Q2. How do you make instances and classes?"
      ],
      "metadata": {
        "id": "WdS6Xl0-Oku6"
      }
    },
    {
      "cell_type": "markdown",
      "source": [
        "It is created by defining the class, creating the insance & accesing attributes with invoking method in it"
      ],
      "metadata": {
        "id": "vmxS420pOhcD"
      }
    },
    {
      "cell_type": "markdown",
      "source": [
        "### Q3. Where and how should be class attributes created?"
      ],
      "metadata": {
        "id": "Sb-keutOOheq"
      }
    },
    {
      "cell_type": "markdown",
      "source": [
        "Class attributes are created within the class defination but outside of any instance methods."
      ],
      "metadata": {
        "id": "86NbMiNuOhhS"
      }
    },
    {
      "cell_type": "markdown",
      "source": [
        "### Q4. Where and how are instance attributes created?"
      ],
      "metadata": {
        "id": "qnOpwEOMOhkG"
      }
    },
    {
      "cell_type": "markdown",
      "source": [
        "Instance attributes are created by the \"__init__\" method of a class."
      ],
      "metadata": {
        "id": "y7W3AWzCOhm6"
      }
    },
    {
      "cell_type": "markdown",
      "source": [
        "### Q5. What does the term \"self\" in a Python class mean?"
      ],
      "metadata": {
        "id": "Nmoyd1ysOhph"
      }
    },
    {
      "cell_type": "markdown",
      "source": [
        "\"Self\" term represents the instance itself which allows to refer to the attributes & methods of the instance."
      ],
      "metadata": {
        "id": "ChFfRB24OhsY"
      }
    },
    {
      "cell_type": "markdown",
      "source": [
        "### Q6. How does a Python class handle operator overloading?"
      ],
      "metadata": {
        "id": "VzTanNYVOhu_"
      }
    },
    {
      "cell_type": "markdown",
      "source": [
        "Operator overloading customizes how operator work with instances of your class, allwoing more intutive & meaningful operations. It can be handle through \"__init__(self)\", \"__str__(self)\", \"__add__(self, other)\" etc. "
      ],
      "metadata": {
        "id": "52pzu-crOhx5"
      }
    },
    {
      "cell_type": "markdown",
      "source": [
        "### Q7. When do you consider allowing operator overloading of your classes?"
      ],
      "metadata": {
        "id": "5KE4kFMZOh07"
      }
    },
    {
      "cell_type": "markdown",
      "source": [
        "Operator overloading in class can be consider when it provides a meaningful & intutive behavior for instaces in the classes."
      ],
      "metadata": {
        "id": "yqKSxRbcOh3h"
      }
    },
    {
      "cell_type": "markdown",
      "source": [
        "### Q8. What is the most popular form of operator overloading?"
      ],
      "metadata": {
        "id": "XnqMAuXwOh6c"
      }
    },
    {
      "cell_type": "markdown",
      "source": [
        "THe common overloading operator are the artithmetic operators like \"+\", \"-\", \"*\", \"/\", etc."
      ],
      "metadata": {
        "id": "YcZEelC_Oh9v"
      }
    },
    {
      "cell_type": "markdown",
      "source": [
        "### Q9. What are the two most important concepts to grasp in order to comprehend Python OOP code?"
      ],
      "metadata": {
        "id": "5TeWIhCnOiLI"
      }
    },
    {
      "cell_type": "markdown",
      "source": [
        "Two most important concept to grasp in Python OOP code are:\n",
        "\n",
        "i) Classes\n",
        "\n",
        "ii) Objects/Instances"
      ],
      "metadata": {
        "id": "m2u_Ni8E3hYY"
      }
    }
  ]
}