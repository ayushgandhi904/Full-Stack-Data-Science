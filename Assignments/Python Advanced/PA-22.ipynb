{
  "nbformat": 4,
  "nbformat_minor": 0,
  "metadata": {
    "colab": {
      "provenance": []
    },
    "kernelspec": {
      "name": "python3",
      "display_name": "Python 3"
    },
    "language_info": {
      "name": "python"
    }
  },
  "cells": [
    {
      "cell_type": "markdown",
      "source": [
        "### Q1. What are the benefits of the built-in array package, if any?"
      ],
      "metadata": {
        "id": "Ah0NIQiXaOr_"
      }
    },
    {
      "cell_type": "markdown",
      "source": [
        "It provides benifits in compact memory usage, efficient numeric operations, faster element access & opimized storage & interpolability."
      ],
      "metadata": {
        "id": "qdoYYTPpaOyo"
      }
    },
    {
      "cell_type": "markdown",
      "source": [
        "### Q2. What are some of the array package's limitations?"
      ],
      "metadata": {
        "id": "bUd_I2MwaO1-"
      }
    },
    {
      "cell_type": "markdown",
      "source": [
        "Array package limitations are homogeneous data types, fixed size, limited built-in-functionality & limited data structures."
      ],
      "metadata": {
        "id": "UMXgsXWLaO5y"
      }
    },
    {
      "cell_type": "markdown",
      "source": [
        "### Q3. Describe the main differences between the array and numpy packages."
      ],
      "metadata": {
        "id": "RPplbnHdaO8b"
      }
    },
    {
      "cell_type": "markdown",
      "source": [
        "The array package provides a basic array data structure within the Python standard library, numpy offers a comprehensive array manipulation library with extensive functionality, performance optimizations, support for various data types, and multidimensional array capabilities. If you are working with numerical data, scientific computing, or require advanced array operations, numpy is generally the preferred choice due to its rich feature set and performance benefits."
      ],
      "metadata": {
        "id": "NFekC0lOaO_0"
      }
    },
    {
      "cell_type": "markdown",
      "source": [
        "### Q4. Explain the distinctions between the empty, ones, and zeros functions."
      ],
      "metadata": {
        "id": "tmFlD9LfaPC3"
      }
    },
    {
      "cell_type": "markdown",
      "source": [
        "The main distinctions between these functions are the initial values assigned to the array elements. numpy.empty leaves the array uninitialized, numpy.ones initializes all elements to 1, and numpy.zeros\n",
        "\n"
      ],
      "metadata": {
        "id": "d4cF4kmwaPGn"
      }
    },
    {
      "cell_type": "markdown",
      "source": [
        "### Q5. In the fromfunction function, which is used to construct new arrays, what is the role of the callable argument?"
      ],
      "metadata": {
        "id": "mXgnA8MvaPJd"
      }
    },
    {
      "cell_type": "markdown",
      "source": [
        "\n",
        "In the numpy.fromfunction function, the callable argument is used to define a function that maps the indices of the array to its values. This callable function is invoked for each element of the output array during its construction."
      ],
      "metadata": {
        "id": "3RxACG0caPMt"
      }
    },
    {
      "cell_type": "markdown",
      "source": [
        "### Q6. What happens when a numpy array is combined with a single-value operand (a scalar, such as an int or a floating-point value) through addition, as in the expression A + n?"
      ],
      "metadata": {
        "id": "VxJWFfvqaPPp"
      }
    },
    {
      "cell_type": "markdown",
      "source": [
        "When a NumPy array is combined with a single-value operand (a scalar) through addition, such as in the expression A + n, the scalar value is broadcasted to match the shape of the array, and then the element-wise addition operation is performed."
      ],
      "metadata": {
        "id": "CBGNPZ4XaPSo"
      }
    },
    {
      "cell_type": "markdown",
      "source": [
        "### Q7. Can array-to-scalar operations use combined operation-assign operators (such as += or *=)? What is the outcome?"
      ],
      "metadata": {
        "id": "RYKhkev5aPVz"
      }
    },
    {
      "cell_type": "markdown",
      "source": [
        "Array-to-scalar operations do not support combined operation-assign operators (e.g., += or *=) directly. When you attempt to use combined operation-assign operators on a NumPy array and a scalar value, it will encounter a TypeError."
      ],
      "metadata": {
        "id": "ikDReMQ0aPY4"
      }
    },
    {
      "cell_type": "markdown",
      "source": [
        "### Q8. Does a numpy array contain fixed-length strings? What happens if you allocate a longer string to one of these arrays?"
      ],
      "metadata": {
        "id": "hsLYT36NaPby"
      }
    },
    {
      "cell_type": "markdown",
      "source": [
        "In NumPy, it is possible to create arrays that contain fixed-length strings using the numpy.array function with a specified dtype. The dtype parameter can be set to a string type with a specific length, such as 'S10', indicating a fixed-length string of 10 characters."
      ],
      "metadata": {
        "id": "ekzivCoiaPfX"
      }
    },
    {
      "cell_type": "markdown",
      "source": [
        "### Q9. What happens when you combine two numpy arrays using an operation like addition (+) or multiplication (*)? What are the conditions for combining two numpy arrays?"
      ],
      "metadata": {
        "id": "jhPuGGFoaPlp"
      }
    },
    {
      "cell_type": "markdown",
      "source": [
        "When combine two NumPy arrays using an operation like addition (+) or multiplication (*), the operation is applied element-wise to the corresponding elements of the arrays. The resulting array will have the same shape as the input arrays."
      ],
      "metadata": {
        "id": "4rE3Z7D_aPoy"
      }
    },
    {
      "cell_type": "markdown",
      "source": [
        "### Q10. What is the best way to use a Boolean array to mask another array?"
      ],
      "metadata": {
        "id": "avXiCKksaPr-"
      }
    },
    {
      "cell_type": "markdown",
      "source": [
        "The best way to use a Boolean array as a mask to select elements from another array is by using the Boolean array directly within square brackets [] indexing."
      ],
      "metadata": {
        "id": "AmkTpJNKaPvc"
      }
    },
    {
      "cell_type": "markdown",
      "source": [
        "### Q11. What are three different ways to get the standard deviation of a wide collection of data using both standard Python and its packages? Sort the three of them by how quickly they execute."
      ],
      "metadata": {
        "id": "vqkzY5aBaPyZ"
      }
    },
    {
      "cell_type": "markdown",
      "source": [
        " Three different ways to calculate the standard deviation of a wide collection of data which are NumPY, Statistics module & Math module."
      ],
      "metadata": {
        "id": "G6da97rSaP16"
      }
    },
    {
      "cell_type": "markdown",
      "source": [
        "### 12. What is the dimensionality of a Boolean mask-generated array?"
      ],
      "metadata": {
        "id": "RlDQLwBIaP5c"
      }
    },
    {
      "cell_type": "markdown",
      "source": [
        "When a Boolean mask is applied to an array, it creates a new array with the same shape as the original array, but with elements selected based on the mask. "
      ],
      "metadata": {
        "id": "9Bp7cQjKaP84"
      }
    }
  ]
}