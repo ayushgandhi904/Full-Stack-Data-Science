{
  "nbformat": 4,
  "nbformat_minor": 0,
  "metadata": {
    "colab": {
      "provenance": []
    },
    "kernelspec": {
      "name": "python3",
      "display_name": "Python 3"
    },
    "language_info": {
      "name": "python"
    }
  },
  "cells": [
    {
      "cell_type": "markdown",
      "source": [
        "### Q1. What is the purpose of Python's OOP?"
      ],
      "metadata": {
        "id": "Auv4-JEwI4zE"
      }
    },
    {
      "cell_type": "markdown",
      "source": [
        "**Sol**\n",
        "\n",
        "Python Object Oriented Prgoramming (OOP) provide a way to structure & organize code in manner that models real-world obejects or concept."
      ],
      "metadata": {
        "id": "8t1NRQ7YJKd6"
      }
    },
    {
      "cell_type": "markdown",
      "source": [
        "### Q2. Where does an inheritance search look for an attribute?"
      ],
      "metadata": {
        "id": "0daxR5sBJKgl"
      }
    },
    {
      "cell_type": "markdown",
      "source": [
        "**Sol**\n",
        "\n",
        "When inheritance search is done, look for attribute in order instance itself, class, parent class & object."
      ],
      "metadata": {
        "id": "zHoOxeLhJKjm"
      }
    },
    {
      "cell_type": "markdown",
      "source": [
        "### Q3. How do you distinguish between a class object and an instance object?"
      ],
      "metadata": {
        "id": "7H_xt-EBJKmW"
      }
    },
    {
      "cell_type": "markdown",
      "source": [
        "**Sol**\n",
        "\n",
        "Class object is the blueprint or definition of a class, while instance object is specific occurrence or realization of a class."
      ],
      "metadata": {
        "id": "JXxke_4qJKpL"
      }
    },
    {
      "cell_type": "markdown",
      "source": [
        "### Q4. What makes the first argument in a class’s method function special?"
      ],
      "metadata": {
        "id": "IAjkhghHLGDm"
      }
    },
    {
      "cell_type": "markdown",
      "source": [
        "**Sol**\n",
        "\n",
        "The first argument in class's method, which is **self** allows the method to access & manipulate the attributes & other methods of the instance."
      ],
      "metadata": {
        "id": "PzKwteZBLGAC"
      }
    },
    {
      "cell_type": "markdown",
      "source": [
        "### Q5. What is the purpose of the __init__ method?"
      ],
      "metadata": {
        "id": "tq922eqrLF8s"
      }
    },
    {
      "cell_type": "markdown",
      "source": [
        "**Sol**\n",
        "\n",
        "When __init__ method is called, it initalized the class, it is automatically called when new instance object of a class is created."
      ],
      "metadata": {
        "id": "UWNnfijxLFyy"
      }
    },
    {
      "cell_type": "markdown",
      "source": [
        "### Q6. What is the process for creating a class instance?"
      ],
      "metadata": {
        "id": "fAiFy9q4LFs1"
      }
    },
    {
      "cell_type": "markdown",
      "source": [
        "**Sol**\n",
        "\n",
        "Creating a class instance involves defining the class, initalizing by calling any function & by utilizing the instance to access its attributes & invoke its mehtods."
      ],
      "metadata": {
        "id": "A7ffv_8FLFph"
      }
    },
    {
      "cell_type": "markdown",
      "source": [
        "### Q7. What is the process for creating a class?"
      ],
      "metadata": {
        "id": "G_CV-kHmLFmR"
      }
    },
    {
      "cell_type": "markdown",
      "source": [
        "**Sol**\n",
        "\n",
        "Creating a class involves defining the class structure, creating instances of class & using instaces to access the attributes & invoke methods. "
      ],
      "metadata": {
        "id": "CGRnnK2KJKsB"
      }
    }
  ]
}