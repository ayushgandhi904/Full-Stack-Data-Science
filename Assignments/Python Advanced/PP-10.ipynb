{
  "nbformat": 4,
  "nbformat_minor": 0,
  "metadata": {
    "colab": {
      "provenance": []
    },
    "kernelspec": {
      "name": "python3",
      "display_name": "Python 3"
    },
    "language_info": {
      "name": "python"
    }
  },
  "cells": [
    {
      "cell_type": "markdown",
      "source": [
        "### Q1. What is the difference between __getattr__ and __getattribute__?"
      ],
      "metadata": {
        "id": "AG4n-gW9Mw3m"
      }
    },
    {
      "cell_type": "markdown",
      "source": [
        "The main difference between \"__getarr__\" & \"__getattribute__\" lies in their behavior & usage:\n",
        "\n",
        "__getattr__ is method that gets called when an attribute lookup fails. It allows to define custom behavior for accessing non-existent attributes.\n",
        "\n",
        "While __getattribute__ is method that gets called for every attribute access on an object, regardless of whether the attribute exists or not. It allows to intercept & customize all attribute accesses on an object."
      ],
      "metadata": {
        "id": "0zf7zd7-Mw7J"
      }
    },
    {
      "cell_type": "markdown",
      "source": [
        "### Q2. What is the difference between properties and descriptors"
      ],
      "metadata": {
        "id": "9yqrY1DWMxMp"
      }
    },
    {
      "cell_type": "markdown",
      "source": [
        "Properties & Descriptors are mechanism that allow to define & control attribute access, but differs in:\n",
        "\n",
        "i) Properties are high-level & convenient way to manage attribute access while descriptors are lower-level mechanism that provides more fine-grained control over attribute accesss.\n",
        "\n",
        "ii) Properties are used using the \"@property\" decorator or \"property()\" function while Descripors are called using \"__get__\", \"__set__\" & \"__delete__\" methods.\n",
        "\n",
        "iii) Properties are accessed & manipulated like regular attributes while Descriptors are assigned to class-level attributes."
      ],
      "metadata": {
        "id": "SaDScJepMxWN"
      }
    },
    {
      "cell_type": "markdown",
      "source": [
        "### Q3. What are the key differences in functionality between __getattr__ and __getattribute__, as well as properties and descriptors?\n"
      ],
      "metadata": {
        "id": "6PoW0EL8Mxkp"
      }
    },
    {
      "cell_type": "markdown",
      "source": [
        "I) Difference between getattr & getattribute:\n",
        "\n",
        "The main difference between \"__getarr__\" & \"__getattribute__\" lies in their behavior & usage:\n",
        "\n",
        "__getattr__ is method that gets called when an attribute lookup fails. It allows to define custom behavior for accessing non-existent attributes.\n",
        "\n",
        "While __getattribute__ is method that gets called for every attribute access on an object, regardless of whether the attribute exists or not. It allows to intercept & customize all attribute accesses on an object.\n",
        "\n",
        "\n",
        "\n",
        "II) Difference between Properties & Descriptors \n",
        "\n",
        "Properties & Descriptors are mechanism that allow to define & control attribute access, but differs in:\n",
        "\n",
        "i) Properties are high-level & convenient way to manage attribute access while descriptors are lower-level mechanism that provides more fine-grained control over attribute accesss.\n",
        "\n",
        "ii) Properties are used using the \"@property\" decorator or \"property()\" function while Descripors are called using \"__get__\", \"__set__\" & \"__delete__\" methods.\n",
        "\n",
        "iii) Properties are accessed & manipulated like regular attributes while Descriptors are assigned to class-level attributes."
      ],
      "metadata": {
        "id": "Ycw8Hgc-Mxrw"
      }
    }
  ]
}