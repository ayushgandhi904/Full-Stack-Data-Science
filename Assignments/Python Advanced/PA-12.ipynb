{
  "nbformat": 4,
  "nbformat_minor": 0,
  "metadata": {
    "colab": {
      "provenance": []
    },
    "kernelspec": {
      "name": "python3",
      "display_name": "Python 3"
    },
    "language_info": {
      "name": "python"
    }
  },
  "cells": [
    {
      "cell_type": "markdown",
      "source": [
        "### Q1. Does assigning a value to a string's indexed character violate Python's string immutability?"
      ],
      "metadata": {
        "id": "8aBHUlQNSxaX"
      }
    },
    {
      "cell_type": "markdown",
      "source": [
        "Since strings are immutable, any operation that modify string will actually crate a new string object. This ensures the integrity & cosnsistency of string values."
      ],
      "metadata": {
        "id": "tCinny_FSxgW"
      }
    },
    {
      "cell_type": "markdown",
      "source": [
        "### Q2. Does using the += operator to concatenate strings violate Python's string immutability? Why or why not?"
      ],
      "metadata": {
        "id": "NBY__PeySxmL"
      }
    },
    {
      "cell_type": "markdown",
      "source": [
        "Using \"+=\" operator to concatenate doesn't violate the string's immutability because it doesn't modify the original string in-place, instead it create new string object."
      ],
      "metadata": {
        "id": "hCEBysi2Sxr3"
      }
    },
    {
      "cell_type": "markdown",
      "source": [
        "### Q3. In Python, how many different ways are there to index a character?"
      ],
      "metadata": {
        "id": "00f5FtNuSxxx"
      }
    },
    {
      "cell_type": "markdown",
      "source": [
        "There are two ways to index a character:\n",
        "\n",
        "i) Positive indexing\n",
        "\n",
        "ii) Negative indexing"
      ],
      "metadata": {
        "id": "tL6fpDbSSx3F"
      }
    },
    {
      "cell_type": "markdown",
      "source": [
        "### Q4. What is the relationship between indexing and slicing?"
      ],
      "metadata": {
        "id": "SDi_PmBUSx8R"
      }
    },
    {
      "cell_type": "markdown",
      "source": [
        "Indexing allows to access a single element from a sequence using its index, while slicing allows to extract a portion of a sequence by sepecifying a range of indices. It returns a new sequence that contains the selected elements."
      ],
      "metadata": {
        "id": "nf8MunfVSyB6"
      }
    },
    {
      "cell_type": "markdown",
      "source": [
        "### Q5. What is an indexed character's exact data type? What is the data form of a slicing-generated substring?"
      ],
      "metadata": {
        "id": "MJ40k4d4SyHP"
      }
    },
    {
      "cell_type": "markdown",
      "source": [
        "Indexed character of string has data type of single character string, where indexed character is represented as a string containg only one character while using slicing to extract a substring from a string, the resulting data form is also a string."
      ],
      "metadata": {
        "id": "B9wAg9TMSyMm"
      }
    },
    {
      "cell_type": "markdown",
      "source": [
        "### Q6. What is the relationship between string and character \"types\" in Python?"
      ],
      "metadata": {
        "id": "Xro1l4xISyRi"
      }
    },
    {
      "cell_type": "markdown",
      "source": [
        "String is a sequence of charcters enclosed withing a quotes single ('') or (\"\"). It can contains 0 or more character. while characters are represented as string of length."
      ],
      "metadata": {
        "id": "yQWDzIu8SyW5"
      }
    },
    {
      "cell_type": "markdown",
      "source": [
        "### Q7. Identify at least two operators and one method that allow you to combine one or more smaller strings to create a larger string."
      ],
      "metadata": {
        "id": "qgW9DyneSycf"
      }
    },
    {
      "cell_type": "markdown",
      "source": [
        "The operator which allows to combine are:\n",
        "\n",
        "i) Concatenation operator (+)\n",
        "\n",
        "ii) Format String Literal (f-string)\n",
        "\n",
        "The method which allows to combing string are:\n",
        "\n",
        "i) join() method"
      ],
      "metadata": {
        "id": "hGTNSVWdSyhc"
      }
    },
    {
      "cell_type": "markdown",
      "source": [
        "### Q8. What is the benefit of first checking the target string with in or not in before using the index method to find a substring?"
      ],
      "metadata": {
        "id": "V-9OZ4_kSynb"
      }
    },
    {
      "cell_type": "markdown",
      "source": [
        "Checking the target String with or not in before using index method allows to avoid ValueError & Improving the efficiency."
      ],
      "metadata": {
        "id": "SaguvufHSytG"
      }
    },
    {
      "cell_type": "markdown",
      "source": [
        "### Q9. Which operators and built-in string methods produce simple Boolean (true/false) results?"
      ],
      "metadata": {
        "id": "sWU_xw8oSy2U"
      }
    },
    {
      "cell_type": "markdown",
      "source": [
        "The operators that produce boolean results are:\n",
        "\n",
        "i) Comparison Operators (<, >)\n",
        "\n",
        "ii) Equality Operators (==, !=)\n",
        "\n",
        "The methods that produce boolean results are:\n",
        "\n",
        "i) startswith()\n",
        "\n",
        "ii) endswith()\n"
      ],
      "metadata": {
        "id": "sC0TvwJFSy57"
      }
    }
  ]
}