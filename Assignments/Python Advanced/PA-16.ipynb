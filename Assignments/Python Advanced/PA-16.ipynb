{
  "nbformat": 4,
  "nbformat_minor": 0,
  "metadata": {
    "colab": {
      "provenance": []
    },
    "kernelspec": {
      "name": "python3",
      "display_name": "Python 3"
    },
    "language_info": {
      "name": "python"
    }
  },
  "cells": [
    {
      "cell_type": "markdown",
      "source": [
        "### Q1. What is the benefit of regular expressions?"
      ],
      "metadata": {
        "id": "5Y6SehPot5xq"
      }
    },
    {
      "cell_type": "markdown",
      "source": [
        "Regular expression provides matching in pattern, flexiblity & expressivenss, text manipulation & transformation with standarized syntax."
      ],
      "metadata": {
        "id": "vpJqMBmrt51G"
      }
    },
    {
      "cell_type": "markdown",
      "source": [
        "### Q2. Describe the difference between the effects of \"(ab)c+\" and \"a(bc)+.\" Which of these, if any, is the unqualified pattern \"abc+\"?"
      ],
      "metadata": {
        "id": "uiIM0UFPt54P"
      }
    },
    {
      "cell_type": "markdown",
      "source": [
        "- \"(ab)c+\" matches the pattern \"ab\" followed by one or more occurrences of \"c\".\n",
        "- \"a(bc)+\" matches the letter \"a\" followed by one or more occurrences of the pattern \"bc\".\n",
        "- \"(ab)c+\" matches the unqualified pattern \"abc+\"."
      ],
      "metadata": {
        "id": "pcLUO2cmt57G"
      }
    },
    {
      "cell_type": "markdown",
      "source": [
        "### Q3. How much do you need to use the following sentence while using regular expressions?\n",
        "\n",
        "\n",
        "\n",
        "import re\n"
      ],
      "metadata": {
        "id": "713QCv1et5-M"
      }
    },
    {
      "cell_type": "markdown",
      "source": [
        "The sentence import re is typically used at the beginning of a script or module to utilize the functionality provided by the re module, which stands for regular expressions."
      ],
      "metadata": {
        "id": "eXwTZ4VJt6Dr"
      }
    },
    {
      "cell_type": "markdown",
      "source": [
        "### Q4. Which characters have special significance in square brackets when expressing a range, and under what circumstances?"
      ],
      "metadata": {
        "id": "Ausu23G-t6Gz"
      }
    },
    {
      "cell_type": "markdown",
      "source": [
        " The hyphen (-) has no special meaning outside square brackets, and the caret (^) can have different meanings depending on its placement within a regular expression. Similarly, the backslash () can be used to escape various special characters in different contexts, not just within square brackets."
      ],
      "metadata": {
        "id": "29HkckKAt6Jr"
      }
    },
    {
      "cell_type": "markdown",
      "source": [
        "### Q5. How does compiling a regular-expression object benefit you?"
      ],
      "metadata": {
        "id": "xevE9qZ3t6Pw"
      }
    },
    {
      "cell_type": "markdown",
      "source": [
        "Compiling Regular expression provides benfits like improvement in performance, code readability, simplified pattern modification & predefined flags."
      ],
      "metadata": {
        "id": "qzbqtPI1t6U4"
      }
    },
    {
      "cell_type": "markdown",
      "source": [
        "### Q6. What are some examples of how to use the match object returned by re.match and re.search?"
      ],
      "metadata": {
        "id": "Db6XkOtXt6YQ"
      }
    },
    {
      "cell_type": "markdown",
      "source": [
        "\n",
        "The match object returned by the re.match() and re.search() functions in re module provides various methods and attributes that allows to access information about the matched pattern"
      ],
      "metadata": {
        "id": "rCg8nP9kt6bT"
      }
    },
    {
      "cell_type": "markdown",
      "source": [
        "### Q7. What is the difference between using a vertical bar (|) as an alteration and using square brackets as a character set?"
      ],
      "metadata": {
        "id": "LMh9bvl4t6eS"
      }
    },
    {
      "cell_type": "markdown",
      "source": [
        "- Vertical Bar (|): Used to specify alternative patterns, matching any one of the patterns separated by the vertical bar.\n",
        "\n",
        "- Square Brackets ([]): Used to define a character set, matching any one character from the set. It can also include character ranges and support negation.\n"
      ],
      "metadata": {
        "id": "dqQYQcgQt6kA"
      }
    },
    {
      "cell_type": "markdown",
      "source": [
        "### Q8. In regular-expression search patterns, why is it necessary to use the raw-string indicator (r)? In   replacement strings?"
      ],
      "metadata": {
        "id": "_k-aqsK2t6m3"
      }
    },
    {
      "cell_type": "markdown",
      "source": [
        "\n",
        "In regular expression search patterns and replacement strings, using the raw-string indicator (r) is not always necessary but often recommended for better clarity and to avoid unintended interpretation of escape sequences."
      ],
      "metadata": {
        "id": "-WpPB5X5v5Lr"
      }
    }
  ]
}