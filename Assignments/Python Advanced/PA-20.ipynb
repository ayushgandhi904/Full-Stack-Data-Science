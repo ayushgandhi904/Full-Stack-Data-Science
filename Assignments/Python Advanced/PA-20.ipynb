{
  "nbformat": 4,
  "nbformat_minor": 0,
  "metadata": {
    "colab": {
      "provenance": []
    },
    "kernelspec": {
      "name": "python3",
      "display_name": "Python 3"
    },
    "language_info": {
      "name": "python"
    }
  },
  "cells": [
    {
      "cell_type": "code",
      "execution_count": null,
      "metadata": {
        "id": "DgxpTZ9PKD2S"
      },
      "outputs": [],
      "source": []
    },
    {
      "cell_type": "markdown",
      "source": [
        "### 1. Compare and contrast the float and Decimal classes' benefits and drawbacks."
      ],
      "metadata": {
        "id": "NQOD7NYpKNmd"
      }
    },
    {
      "cell_type": "markdown",
      "source": [
        "**float:**\n",
        "\n",
        "Benefits:\n",
        "Generally faster and more memory-efficient compared to Decimal.\n",
        "\n",
        "Drawbacks:\n",
        "Limited precision: float uses binary floating-point representation, which may result in rounding errors for certain decimal values.\n",
        "\n",
        "**decimal:**\n",
        "\n",
        "Benefits:\n",
        "Arbitrary precision: Decimal uses decimal floating-point representation, allowing for precise decimal arithmetic without rounding errors.\n",
        "\n",
        "Drawbacks:\n",
        "Slower and consumes more memory compared to float due to the increased preci"
      ],
      "metadata": {
        "id": "mKLkHoktKNpN"
      }
    },
    {
      "cell_type": "markdown",
      "source": [
        "### 2. Decimal('1.200') and Decimal('1.2') are two objects to consider. In what sense are these the same object? Are these just two ways of representing the exact same value, or do they correspond to different internal states?"
      ],
      "metadata": {
        "id": "jP2cVvnhKNsb"
      }
    },
    {
      "cell_type": "markdown",
      "source": [
        "The Decimal('1.200') and Decimal('1.2') are not the same object but represent the same value. They correspond to different internal states due to how the Decimal class handles the decimal representation.\n"
      ],
      "metadata": {
        "id": "c2wLAsBwKNvL"
      }
    },
    {
      "cell_type": "markdown",
      "source": [
        "### 3. What happens if the equality of Decimal('1.200') and Decimal('1.2') is checked?"
      ],
      "metadata": {
        "id": "FCAtFt1EKNx3"
      }
    },
    {
      "cell_type": "markdown",
      "source": [
        "\n",
        "If you check the equality of Decimal('1.200') and Decimal('1.2'), the comparison will return True."
      ],
      "metadata": {
        "id": "ONQrPuYhKN0r"
      }
    },
    {
      "cell_type": "code",
      "source": [
        "from decimal import Decimal\n",
        "d1 = Decimal('1.200')\n",
        "d2 = Decimal('1.2')\n",
        "print(d1 == d2) "
      ],
      "metadata": {
        "colab": {
          "base_uri": "https://localhost:8080/"
        },
        "id": "IFKX2nKMMXj9",
        "outputId": "a73a19dd-f92f-4d79-95b1-9f3c0e29e3ab"
      },
      "execution_count": 7,
      "outputs": [
        {
          "output_type": "stream",
          "name": "stdout",
          "text": [
            "True\n"
          ]
        }
      ]
    },
    {
      "cell_type": "markdown",
      "source": [
        "### 4. Why is it preferable to start a Decimal object with a string rather than a floating-point value?"
      ],
      "metadata": {
        "id": "bRsvoMSaKN3p"
      }
    },
    {
      "cell_type": "markdown",
      "source": [
        "It is preferable to start a Decimal object with a string rather than a floating-point value because using a string representation ensures accurate decimal representation and avoids potential precision issues associated with floating-point values."
      ],
      "metadata": {
        "id": "ArbZjpuWKN6K"
      }
    },
    {
      "cell_type": "markdown",
      "source": [
        "### 5. In an arithmetic phrase, how simple is it to combine Decimal objects with integers?"
      ],
      "metadata": {
        "id": "fZErj_VIKN9D"
      }
    },
    {
      "cell_type": "markdown",
      "source": [
        "The Decimal class provides seamless integration with integer values, allowing you to perform arithmetic operations between Decimal objects and integers without any explicit conversions."
      ],
      "metadata": {
        "id": "MyRjpfTuNLF4"
      }
    },
    {
      "cell_type": "markdown",
      "source": [
        "### 6. Can Decimal objects and floating-point values be combined easily?"
      ],
      "metadata": {
        "id": "NCODT6sGKOCf"
      }
    },
    {
      "cell_type": "markdown",
      "source": [
        "When combining a Decimal object with a floating-point value, it is recommended to convert the floating-point value to a Decimal object before performing arithmetic operations. "
      ],
      "metadata": {
        "id": "ReYkKahWKN_2"
      }
    },
    {
      "cell_type": "markdown",
      "source": [
        "### 7. Using the Fraction class but not the Decimal class, give an example of a quantity that can be expressed with absolute precision."
      ],
      "metadata": {
        "id": "ElYQfp7fKOFX"
      }
    },
    {
      "cell_type": "markdown",
      "source": [
        "\n",
        "The Fraction class in Python provides a way to represent and perform calculations with rational numbers, allowing for absolute precision in certain cases."
      ],
      "metadata": {
        "id": "-1LTprUWKOIt"
      }
    },
    {
      "cell_type": "markdown",
      "source": [
        "### 8. Describe a quantity that can be accurately expressed by the Decimal or Fraction classes but not by a floating-point value."
      ],
      "metadata": {
        "id": "XuEzmXf1KOQb"
      }
    },
    {
      "cell_type": "markdown",
      "source": [
        "A quantity that can be accurately expressed by the Decimal or Fraction classes but not by a floating-point value is a repeating or non-terminating decimal.\n",
        "\n",
        "the Decimal and Fraction classes handle decimal representation more accurately."
      ],
      "metadata": {
        "id": "gYxfaa1-KOSy"
      }
    },
    {
      "cell_type": "markdown",
      "source": [
        "### Q9.Consider the following two fraction objects: Fraction(1, 2) and Fraction(1, 2). (5, 10). Is the internal state of these two objects the same? Why do you think that is?"
      ],
      "metadata": {
        "id": "W9zl5rVVKOWR"
      }
    },
    {
      "cell_type": "markdown",
      "source": [
        "The internal state of the two Fraction objects Fraction(1, 2) and Fraction(5, 10) is not the same.\n",
        "While both fractions represent the same mathematical value of 1/2, they have different internal states. "
      ],
      "metadata": {
        "id": "JhNfjm2CKOa0"
      }
    },
    {
      "cell_type": "markdown",
      "source": [
        "### Q10. How do the Fraction class and the integer type (int) relate to each other? Containment or inheritance?"
      ],
      "metadata": {
        "id": "RWnaa5p0KOdn"
      }
    },
    {
      "cell_type": "markdown",
      "source": [
        "The Fraction class is part of the fractions module, which provides support for rational numbers as fractions. It allows for precise representation and arithmetic operations with fractions by containment."
      ],
      "metadata": {
        "id": "lbQyEhB8KOhK"
      }
    }
  ]
}