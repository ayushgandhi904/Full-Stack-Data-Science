{
  "nbformat": 4,
  "nbformat_minor": 0,
  "metadata": {
    "colab": {
      "provenance": []
    },
    "kernelspec": {
      "name": "python3",
      "display_name": "Python 3"
    },
    "language_info": {
      "name": "python"
    }
  },
  "cells": [
    {
      "cell_type": "markdown",
      "source": [
        "### 1. What is the concept of an abstract superclass?"
      ],
      "metadata": {
        "id": "g6NpfkGl4cC4"
      }
    },
    {
      "cell_type": "markdown",
      "source": [
        "The concept of abstract superclass, is known as abstract base class(ABC) allows to define a common interface or behavior that is implemented by subclasses."
      ],
      "metadata": {
        "id": "LAI2mOjA4cGT"
      }
    },
    {
      "cell_type": "markdown",
      "source": [
        "### 2. What happens when a class statement's top level contains a basic assignment statement?"
      ],
      "metadata": {
        "id": "Pn91XxzZ4cLa"
      }
    },
    {
      "cell_type": "markdown",
      "source": [
        "When class statement's top level contains a basic assignment statement, it creates a class attribute. It is variable that belongs to the class itself rather than to any specific instance of class. "
      ],
      "metadata": {
        "id": "kBx1OGPK4cOk"
      }
    },
    {
      "cell_type": "markdown",
      "source": [
        "### 3. Why does a class need to manually call a superclass's __init__ method?\n"
      ],
      "metadata": {
        "id": "BpbdB-hq4cQk"
      }
    },
    {
      "cell_type": "markdown",
      "source": [
        "When class is defined, it inherit from superclass to acquire attributes & behavior. But when subclass is defined, it does not automatically call the \"__init__\" method of superclass, that's why it is manyally need to call the superclass init method."
      ],
      "metadata": {
        "id": "xGS4J4wG4cUC"
      }
    },
    {
      "cell_type": "markdown",
      "source": [
        "### 4. How can you augment, instead of completely replacing, an inherited method?"
      ],
      "metadata": {
        "id": "-zxgVTXd4cWr"
      }
    },
    {
      "cell_type": "markdown",
      "source": [
        "An augment can be replace by defining the subclass, overriding the method in subclass with same name by calling the superclaas's method by using *super()* function. \n"
      ],
      "metadata": {
        "id": "H_LLk_ED4cZW"
      }
    },
    {
      "cell_type": "markdown",
      "source": [
        "### 5. How is the local scope of a class different from that of a function?"
      ],
      "metadata": {
        "id": "a7FsLOXs4cca"
      }
    },
    {
      "cell_type": "markdown",
      "source": [
        "Classes create a class namespace accessible by all methods and have class attributes, while funcitons have their own local namespace limited to funciton's scope & local variables. "
      ],
      "metadata": {
        "id": "Yk1GOT6R4cfz"
      }
    }
  ]
}