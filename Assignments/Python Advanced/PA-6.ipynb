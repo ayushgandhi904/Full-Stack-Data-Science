{
  "nbformat": 4,
  "nbformat_minor": 0,
  "metadata": {
    "colab": {
      "provenance": []
    },
    "kernelspec": {
      "name": "python3",
      "display_name": "Python 3"
    },
    "language_info": {
      "name": "python"
    }
  },
  "cells": [
    {
      "cell_type": "markdown",
      "source": [
        "### Q1. Describe three applications for exception processing."
      ],
      "metadata": {
        "id": "Kcr4957I8Dmm"
      }
    },
    {
      "cell_type": "markdown",
      "source": [
        "It is used to handle & manage errors that occur during program execution. The common applications which it can be used are:\n",
        "\n",
        "i) Error Handling\n",
        "\n",
        "ii) Resource Cleanup\n",
        "\n",
        "iii) Robust input Handling"
      ],
      "metadata": {
        "id": "eg7I4uPE8DqQ"
      }
    },
    {
      "cell_type": "markdown",
      "source": [
        "### Q2. What happens if you don't do something extra to treat an exception?"
      ],
      "metadata": {
        "id": "Gxw6Smlp8DtJ"
      }
    },
    {
      "cell_type": "markdown",
      "source": [
        "If something extra is not treated as an exception, it will propagate up the call stack until it reaches the top level of program. It will terminate the program & display traceback message that shows exception type."
      ],
      "metadata": {
        "id": "PEHJ8IM08Dvt"
      }
    },
    {
      "cell_type": "markdown",
      "source": [
        "### Q3. What are your options for recovering from an exception in your script?"
      ],
      "metadata": {
        "id": "IxjS0Yrk8DyM"
      }
    },
    {
      "cell_type": "markdown",
      "source": [
        "Exception can be recover if handle by:\n",
        "\n",
        "i) Exception Handling with try-except\n",
        "\n",
        "ii) Exception Raising \n",
        "\n",
        "iii) Logging"
      ],
      "metadata": {
        "id": "9dZ24NmG8D1A"
      }
    },
    {
      "cell_type": "markdown",
      "source": [
        "### Q4. Describe two methods for triggering exceptions in your script."
      ],
      "metadata": {
        "id": "5FeidZ7G8D3n"
      }
    },
    {
      "cell_type": "markdown",
      "source": [
        "Exception can be trigger by two methods:\n",
        "\n",
        "i) Using \"**raise**\" statement\n",
        "\n",
        "ii) Inovoking built-in functions/methods that raise exceptions"
      ],
      "metadata": {
        "id": "D_MlmOJN8D64"
      }
    },
    {
      "cell_type": "markdown",
      "source": [
        "### Q5. Identify two methods for specifying actions to be executed at termination time, regardless of whether or not an exception exists."
      ],
      "metadata": {
        "id": "_nIdZ1O_8Eya"
      }
    },
    {
      "cell_type": "markdown",
      "source": [
        "The method that can be executed at termination time, regardless of whether or not an exception exists are:\n",
        "\n",
        "i) finally block\n",
        "\n",
        "ii) \"*atexit*\" module"
      ],
      "metadata": {
        "id": "ZHtb_hyl_9JZ"
      }
    }
  ]
}