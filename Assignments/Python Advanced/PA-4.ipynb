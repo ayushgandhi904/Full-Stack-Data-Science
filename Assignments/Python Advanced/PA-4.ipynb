{
  "nbformat": 4,
  "nbformat_minor": 0,
  "metadata": {
    "colab": {
      "provenance": []
    },
    "kernelspec": {
      "name": "python3",
      "display_name": "Python 3"
    },
    "language_info": {
      "name": "python"
    }
  },
  "cells": [
    {
      "cell_type": "markdown",
      "source": [
        "### Q1. Which two operator overloading methods can you use in your classes to support iteration?"
      ],
      "metadata": {
        "id": "vfCr3jLE9CEd"
      }
    },
    {
      "cell_type": "markdown",
      "source": [
        "Two methods that can be used for operator overloading methods are:\n",
        "\n",
        "i) \"__iter__\"\n",
        "\n",
        "ii) \"__next__\""
      ],
      "metadata": {
        "id": "jL-BiWL29CH9"
      }
    },
    {
      "cell_type": "markdown",
      "source": [
        "### Q2. In what contexts do the two operator overloading methods manage printing?"
      ],
      "metadata": {
        "id": "6olCBSNJ9CLS"
      }
    },
    {
      "cell_type": "markdown",
      "source": [
        "Two operator overloading methods that can manage printing are:\n",
        "\n",
        "i) \"__str__\"\n",
        "\n",
        "ii) \"__repr__\""
      ],
      "metadata": {
        "id": "7q1gCJem9CNj"
      }
    },
    {
      "cell_type": "markdown",
      "source": [
        "### Q3. In a class, how do you intercept slice operations?\n"
      ],
      "metadata": {
        "id": "7QDejxOA9Ce5"
      }
    },
    {
      "cell_type": "markdown",
      "source": [
        "Intercept slice operations, we can imply \"__gemitem__\" method with support for slice indexing. "
      ],
      "metadata": {
        "id": "trrDbQPP9CiM"
      }
    },
    {
      "cell_type": "markdown",
      "source": [
        "### Q4. In a class, how do you capture in-place addition?"
      ],
      "metadata": {
        "id": "07-PBR039Clp"
      }
    },
    {
      "cell_type": "markdown",
      "source": [
        "To capture in-place addition, we can imply the \"__iadd__\" metho in a class method."
      ],
      "metadata": {
        "id": "TjNuSmzJ9CwV"
      }
    },
    {
      "cell_type": "markdown",
      "source": [
        "### Q5. When is it appropriate to use operator overloading?"
      ],
      "metadata": {
        "id": "bH5fN0j69C03"
      }
    },
    {
      "cell_type": "markdown",
      "source": [
        "Operator overloading can be used when it enhaces clarity, experssiveness & usability of code. Eg like simplifying complex operations, Code reusability, Emulating built-in types etc."
      ],
      "metadata": {
        "id": "nOYbMrsR9C4T"
      }
    }
  ]
}