{
  "nbformat": 4,
  "nbformat_minor": 0,
  "metadata": {
    "colab": {
      "provenance": []
    },
    "kernelspec": {
      "name": "python3",
      "display_name": "Python 3"
    },
    "language_info": {
      "name": "python"
    }
  },
  "cells": [
    {
      "cell_type": "markdown",
      "source": [
        "### Q1. What are the two latest user-defined exception constraints in Python 3.X?"
      ],
      "metadata": {
        "id": "8sZw4eUvCwhG"
      }
    },
    {
      "cell_type": "markdown",
      "source": [
        "The latest user-defined excpetion constraints in Python are:\n",
        "\n",
        "i) Inherit from Base Exception Classes\n",
        "\n",
        "ii) Provide Informative Error Messages"
      ],
      "metadata": {
        "id": "8jbXOwoVCws8"
      }
    },
    {
      "cell_type": "markdown",
      "source": [
        "### Q2. How are class-based exceptions that have been raised matched to handlers?"
      ],
      "metadata": {
        "id": "H5Xx1oi0Cwvv"
      }
    },
    {
      "cell_type": "markdown",
      "source": [
        "When class-based exeption is raised, the process of mathcing execption involves Execption Matching, Inheritance Hierarchy, Order of Exception Handlers."
      ],
      "metadata": {
        "id": "4V1xECVYCwyl"
      }
    },
    {
      "cell_type": "markdown",
      "source": [
        "### Q3. Describe two methods for attaching context information to exception artefacts."
      ],
      "metadata": {
        "id": "i8G22k53Cw1F"
      }
    },
    {
      "cell_type": "markdown",
      "source": [
        "The methods for attaching context informationto exception artefacts are:\n",
        "\n",
        "i) Exception Arguements\n",
        "\n",
        "ii) Custom Exception Attributes"
      ],
      "metadata": {
        "id": "tIvnGoaFCw37"
      }
    },
    {
      "cell_type": "markdown",
      "source": [
        "### Q4. Describe two methods for specifying the text of an exception object's error message."
      ],
      "metadata": {
        "id": "_nG7pcONCw6h"
      }
    },
    {
      "cell_type": "markdown",
      "source": [
        "The methods for specifying the text of an exeption obeject's error message are:\n",
        "\n",
        "i) Using the Exception Class Constructor\n",
        "\n",
        "ii) Subclassing & Overriding"
      ],
      "metadata": {
        "id": "o733q_9NCw9N"
      }
    },
    {
      "cell_type": "markdown",
      "source": [
        "### Q5. Why do you no longer use string-based exceptions?"
      ],
      "metadata": {
        "id": "dyUHymikCxAC"
      }
    },
    {
      "cell_type": "markdown",
      "source": [
        "String based exeptions are no longer use because it contained lack of lack of type information, they offer limited customization offer & also not allowing the inclusion of additonal & methods & Exception Hierarchy."
      ],
      "metadata": {
        "id": "lY4DAwklCxDG"
      }
    }
  ]
}