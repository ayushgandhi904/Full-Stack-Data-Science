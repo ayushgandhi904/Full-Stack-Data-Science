{
  "nbformat": 4,
  "nbformat_minor": 0,
  "metadata": {
    "colab": {
      "provenance": []
    },
    "kernelspec": {
      "name": "python3",
      "display_name": "Python 3"
    },
    "language_info": {
      "name": "python"
    }
  },
  "cells": [
    {
      "cell_type": "markdown",
      "source": [
        "### Q1. Define the relationship between a class and its instances. Is it a one-to-one or a one-to-many partnership, for example?"
      ],
      "metadata": {
        "id": "vGWMyHN72faQ"
      }
    },
    {
      "cell_type": "markdown",
      "source": [
        "The relationship between a class and its instances in object-oriented programming can be described as a one-to-many partnership because a class can have multiple instances associated with it. \n",
        "\n",
        "Eg:"
      ],
      "metadata": {
        "id": "vQ2S_5fz2ffC"
      }
    },
    {
      "cell_type": "markdown",
      "source": [
        "### Q2. What kind of data is held only in an instance?"
      ],
      "metadata": {
        "id": "b904fs7G2fjo"
      }
    },
    {
      "cell_type": "markdown",
      "source": [
        " It includes attributes and instance variables."
      ],
      "metadata": {
        "id": "QVtnB9nk2fnk"
      }
    },
    {
      "cell_type": "markdown",
      "source": [
        "### Q3. What kind of knowledge is stored in a class?"
      ],
      "metadata": {
        "id": "efgEWWpV2fsA"
      }
    },
    {
      "cell_type": "markdown",
      "source": [
        "The knowledge stored in a class can be categorized into two main components: state and behavior"
      ],
      "metadata": {
        "id": "OkyMx_TK2fvs"
      }
    },
    {
      "cell_type": "markdown",
      "source": [
        "### Q4. What exactly is a method, and how is it different from a regular function?"
      ],
      "metadata": {
        "id": "glYjqN732fzZ"
      }
    },
    {
      "cell_type": "markdown",
      "source": [
        "a type of function that is defined within a class and is associated with instances (objects) of that class. It is a special kind of function that operates on the data (attributes) of the class and can access and manipulate the state of individual instances."
      ],
      "metadata": {
        "id": "TQPB8d432f3B"
      }
    },
    {
      "cell_type": "markdown",
      "source": [
        "### Q5. Is inheritance supported in Python, and if so, what is the syntax?"
      ],
      "metadata": {
        "id": "R4qV9Zyb2f6k"
      }
    },
    {
      "cell_type": "markdown",
      "source": [
        "Yes, inheritance is supported in Python. Inheritance is a fundamental concept in object-oriented programming that allows a class to inherit attributes and methods from another class."
      ],
      "metadata": {
        "id": "5tqqEX6A2f-A"
      }
    },
    {
      "cell_type": "markdown",
      "source": [
        "### Q6. How much encapsulation (making instance or class variables private) does Python support?"
      ],
      "metadata": {
        "id": "TGOHlm072gBX"
      }
    },
    {
      "cell_type": "markdown",
      "source": [
        "In Python, encapsulation is supported to some extent through the use of naming conventions and access modifiers, although it is not enforced in the same way as in some other programming languages."
      ],
      "metadata": {
        "id": "2Wy0H5Mn2gEv"
      }
    },
    {
      "cell_type": "markdown",
      "source": [
        "### Q7. How do you distinguish between a class variable and an instance variable?"
      ],
      "metadata": {
        "id": "sV5N7A2K2gIk"
      }
    },
    {
      "cell_type": "markdown",
      "source": [
        "Class Variables: Class variables are variables that are shared among all instances of a class. They are defined within the class but outside of any instance methods.\n",
        "\n",
        "Instance Variables: Instance variables are variables that are unique to each instance of a class. They are defined within the instance methods or the constructor (__init__) of the class.\n"
      ],
      "metadata": {
        "id": "EHqxDgh22gLw"
      }
    },
    {
      "cell_type": "markdown",
      "source": [
        "### Q8. When, if ever, can self be included in a class's method definitions?"
      ],
      "metadata": {
        "id": "f3jFUDpD2gPP"
      }
    },
    {
      "cell_type": "markdown",
      "source": [
        "The self parameter is typically included as the first parameter in a class's method definitions. It is a convention to refer to the instance of the class on which the method is being called"
      ],
      "metadata": {
        "id": "7UXEDGqe2gSY"
      }
    },
    {
      "cell_type": "markdown",
      "source": [
        "### Q9. What is the difference between the _ _add_ _ and the _ _radd_ _ methods?"
      ],
      "metadata": {
        "id": "2q6W3HK02gVf"
      }
    },
    {
      "cell_type": "markdown",
      "source": [
        "In Python, the __add__ and __radd__ methods are special methods that define the behavior of the addition operation (+) for objects of a class.\n",
        "\n",
        "__add__(self, other): This method is called when the + operator is used to add an object of the class to another object, and the left operand is an instance of the class defining the __add__ method. \n",
        "\n",
        "__radd__(self, other): This method is called when the + operator is used to add an object of a different type to an object of the class defining the __radd__ method, and the left operand is not an instance of the class. \n"
      ],
      "metadata": {
        "id": "D4h2MpPd2gYg"
      }
    },
    {
      "cell_type": "markdown",
      "source": [
        "### Q10. When is it necessary to use a reflection method? When do you not need it, even though you support the operation in question?"
      ],
      "metadata": {
        "id": "ZQUq1aTG2gba"
      }
    },
    {
      "cell_type": "markdown",
      "source": [
        "\n",
        "Reflection methods, such as __str__, __repr__, __len__, and others, are used in Python to provide a string representation, custom behavior, or information about objects of a class.\n",
        "\n",
        "It is necessary for string representation, Debugging & Debugging output & custom behavior."
      ],
      "metadata": {
        "id": "ri8wYdS32geq"
      }
    },
    {
      "cell_type": "markdown",
      "source": [
        "### Q11. What is the _ _iadd_ _ method called?"
      ],
      "metadata": {
        "id": "bsqxkWzH2gqw"
      }
    },
    {
      "cell_type": "markdown",
      "source": [
        "The __iadd__ method is called when the += operator is used to perform in-place addition on an object. It is a special method that allows you to define the behavior of the in-place addition operation."
      ],
      "metadata": {
        "id": "rwrvodT42gt4"
      }
    },
    {
      "cell_type": "markdown",
      "source": [
        "### Q12. Is the _ _init_ _ method inherited by subclasses? What do you do if you need to customize its behavior within a subclass?"
      ],
      "metadata": {
        "id": "629QIotR2gxi"
      }
    },
    {
      "cell_type": "markdown",
      "source": [
        "Yes, the __init__ method is inherited by subclasses. When a subclass is created, it inherits all the methods, including the __init__ method, from its superclass or base class. This means that if a subclass does not define its own __init__ method, it will automatically inherit the __init__ method from its superclass."
      ],
      "metadata": {
        "id": "nPgn0WGq2g1D"
      }
    }
  ]
}