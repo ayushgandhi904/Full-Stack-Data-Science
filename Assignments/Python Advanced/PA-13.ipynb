{
  "nbformat": 4,
  "nbformat_minor": 0,
  "metadata": {
    "colab": {
      "provenance": []
    },
    "kernelspec": {
      "name": "python3",
      "display_name": "Python 3"
    },
    "language_info": {
      "name": "python"
    }
  },
  "cells": [
    {
      "cell_type": "markdown",
      "source": [
        "### Q1. Can you create a programme or function that employs both positive and negative indexing? Is there any repercussion if you do so?"
      ],
      "metadata": {
        "id": "tE53BSjQaO_3"
      }
    },
    {
      "cell_type": "markdown",
      "source": [
        "Yes, it can create program that creates both positive & negative indexing. Positive indexing start from 0 & counts from the beginning of string, while negative indexing starts from -1.\n",
        "\n",
        "Reprercussion is using both positive & negative indexing, it is important to ensure that the indices provided fall within the appropriate range."
      ],
      "metadata": {
        "id": "5XO0SdZ1aPL2"
      }
    },
    {
      "cell_type": "markdown",
      "source": [
        "### Q2. What is the most effective way of starting with 1,000 elements in a Python list? Assume that all elements should be set to the same value."
      ],
      "metadata": {
        "id": "bKIdtjzVaPV-"
      }
    },
    {
      "cell_type": "markdown",
      "source": [
        "If we create a Python list with 1000 elements,all set to the same value, we can use list multiplication operator(*) along with list containing the desired value. "
      ],
      "metadata": {
        "id": "I-sfQtWWaPgI"
      }
    },
    {
      "cell_type": "markdown",
      "source": [
        "### Q3. How do you slice a list to get any other part while missing the rest? (For example, suppose you want to make a new list with the elements first, third, fifth, seventh, and so on.)"
      ],
      "metadata": {
        "id": "ZRVW8RFRaPqj"
      }
    },
    {
      "cell_type": "markdown",
      "source": [
        "To slice a list & extract elements at specific intervals it cna be achieve by:"
      ],
      "metadata": {
        "id": "NrP7RzOvaPzs"
      }
    },
    {
      "cell_type": "code",
      "source": [
        "lst = [100, 200, 300, 400, 600, 800, 1000, 120]\n",
        "\n",
        "new = lst[::2]\n",
        "\n",
        "print(new)"
      ],
      "metadata": {
        "colab": {
          "base_uri": "https://localhost:8080/"
        },
        "id": "lD4aKq0edsw3",
        "outputId": "fda40e19-b7b6-4371-e895-ef29ccb8602d"
      },
      "execution_count": 1,
      "outputs": [
        {
          "output_type": "stream",
          "name": "stdout",
          "text": [
            "[100, 300, 600, 1000]\n"
          ]
        }
      ]
    },
    {
      "cell_type": "markdown",
      "source": [
        "### Q4. Explain the distinctions between indexing and slicing."
      ],
      "metadata": {
        "id": "HptW7EWyaP9k"
      }
    },
    {
      "cell_type": "markdown",
      "source": [
        "Indexing refers to accessing a single element within a sequence by specifying its position or index, while slicing refers to extracting a subsequence or a portion of a sequence by specific a range of indices. \n",
        "\n",
        "Indexing starts from 0 for the first element, while slicing extract multiple elements from a sequence & create new sequence.\n",
        "\n",
        "Index is denoted by square bracket ([ ]), while slicing is denoted by colon (:) between the start and stop indices within square bracket([ ])."
      ],
      "metadata": {
        "id": "BCH6LcPIaQHd"
      }
    },
    {
      "cell_type": "markdown",
      "source": [
        "### Q5. What happens if one of the slicing expression's indexes is out of range?"
      ],
      "metadata": {
        "id": "UuY1OkJeaQRZ"
      }
    },
    {
      "cell_type": "markdown",
      "source": [
        "If slicing expression is out of range, it can be use in:\n",
        "\n",
        "i) If the start index is out of range;\n",
        "\n",
        "ii) If the stop index is out of range;\n",
        "\n",
        "iii) If both start & stop indexes are out of range:"
      ],
      "metadata": {
        "id": "cKHG7aVaaQaO"
      }
    },
    {
      "cell_type": "markdown",
      "source": [
        "### Q6. If you pass a list to a function, and if you want the function to be able to change the values of the list—so that the list is different after the function returns—what action should you avoid?"
      ],
      "metadata": {
        "id": "1EZxyat8aQk7"
      }
    },
    {
      "cell_type": "markdown",
      "source": [
        "If function to be able to change the values of a list passed as an argument, it should avoid reassigning a new list to same variable within the function. Eg:"
      ],
      "metadata": {
        "id": "OEwpSCYOaQtf"
      }
    },
    {
      "cell_type": "code",
      "source": [
        "def lst(lst2):\n",
        "    lst2 = [1, 2, 3]\n",
        "\n",
        "lst2 = [19, 20, 21]\n",
        "\n",
        "lst(lst2)\n",
        "print(lst2)"
      ],
      "metadata": {
        "colab": {
          "base_uri": "https://localhost:8080/"
        },
        "id": "P4fJJEatj_hi",
        "outputId": "a7dd515a-6dca-41d7-8884-6015326096c5"
      },
      "execution_count": 2,
      "outputs": [
        {
          "output_type": "stream",
          "name": "stdout",
          "text": [
            "[19, 20, 21]\n"
          ]
        }
      ]
    },
    {
      "cell_type": "markdown",
      "source": [
        "### Q7. What is the concept of an unbalanced matrix?"
      ],
      "metadata": {
        "id": "sq7ZBfjvaRB1"
      }
    },
    {
      "cell_type": "markdown",
      "source": [
        "The unbalanced matrix refers to matrix that does not have equal dimensions or an equal number of elements in each row or column."
      ],
      "metadata": {
        "id": "T0zmh3qTaRKr"
      }
    },
    {
      "cell_type": "markdown",
      "source": [
        "### Q8. Why is it necessary to use either list comprehension or a loop to create arbitrarily large matrices?"
      ],
      "metadata": {
        "id": "EvBZ13GHaRWZ"
      }
    },
    {
      "cell_type": "markdown",
      "source": [
        "When creating arbitrarily large matrices, it is necessary to use either list comprehension or a loop to generate the matrix elements because these approaches allow for dynamic & efficient generation of matrix. It helps in memor efficiency, scalability, readbility & maintainablilty."
      ],
      "metadata": {
        "id": "YGD56e9em8ab"
      }
    },
    {
      "cell_type": "code",
      "source": [],
      "metadata": {
        "id": "nYeVH3YAnU8g"
      },
      "execution_count": null,
      "outputs": []
    }
  ]
}