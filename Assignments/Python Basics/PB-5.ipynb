{
 "cells": [
  {
   "cell_type": "markdown",
   "id": "e95b78e7",
   "metadata": {},
   "source": [
    "### Q-1 What does an empty dictonary's code look like ?"
   ]
  },
  {
   "cell_type": "markdown",
   "id": "662ecc62",
   "metadata": {},
   "source": [
    "**Sol:**\n",
    "\n",
    "Empty dictonary code look like: a = dict()"
   ]
  },
  {
   "cell_type": "code",
   "execution_count": 1,
   "id": "5f1961bb",
   "metadata": {},
   "outputs": [],
   "source": [
    "a = dict()"
   ]
  },
  {
   "cell_type": "code",
   "execution_count": 2,
   "id": "56ee25e5",
   "metadata": {},
   "outputs": [
    {
     "data": {
      "text/plain": [
       "{}"
      ]
     },
     "execution_count": 2,
     "metadata": {},
     "output_type": "execute_result"
    }
   ],
   "source": [
    "a"
   ]
  },
  {
   "cell_type": "markdown",
   "id": "9a59a708",
   "metadata": {},
   "source": [
    "### Q- 2 What is the value of a dictionary value with the key 'foo' and the value 42?"
   ]
  },
  {
   "cell_type": "markdown",
   "id": "c91149b7",
   "metadata": {},
   "source": [
    "**Sol:**\n",
    "\n",
    "Value with dictionary value with key 'foo' and the value 42 will be 42"
   ]
  },
  {
   "cell_type": "code",
   "execution_count": 3,
   "id": "2ac3a6b6",
   "metadata": {},
   "outputs": [],
   "source": [
    "a = {\"foo\":42}"
   ]
  },
  {
   "cell_type": "code",
   "execution_count": 11,
   "id": "bfb96e03",
   "metadata": {},
   "outputs": [
    {
     "data": {
      "text/plain": [
       "dict_values([42])"
      ]
     },
     "execution_count": 11,
     "metadata": {},
     "output_type": "execute_result"
    }
   ],
   "source": [
    "a.values()"
   ]
  },
  {
   "cell_type": "markdown",
   "id": "7daf8eb1",
   "metadata": {},
   "source": [
    "### Q-3 What is the most significant distinction between a dictionary and a list?"
   ]
  },
  {
   "cell_type": "markdown",
   "id": "b81574e9",
   "metadata": {},
   "source": [
    "**Sol:**\n",
    "\n",
    "A list is the order collection of index value pairs while dictionary is structure collection of various pair & their key values."
   ]
  },
  {
   "cell_type": "markdown",
   "id": "0878ccf6",
   "metadata": {},
   "source": [
    "### Q-4 What happens if you try to access spam['foo'] if spam is {'bar': 100}?"
   ]
  },
  {
   "cell_type": "markdown",
   "id": "c5810c51",
   "metadata": {},
   "source": [
    "**Sol:**\n",
    "\n",
    "It is which showing key error as there is no key called \"foo\" in the spam."
   ]
  },
  {
   "cell_type": "code",
   "execution_count": 6,
   "id": "c3edd323",
   "metadata": {},
   "outputs": [],
   "source": [
    "spam = {\"bar\": 100}"
   ]
  },
  {
   "cell_type": "code",
   "execution_count": 7,
   "id": "9456ad08",
   "metadata": {},
   "outputs": [
    {
     "ename": "KeyError",
     "evalue": "'foo'",
     "output_type": "error",
     "traceback": [
      "\u001b[1;31m---------------------------------------------------------------------------\u001b[0m",
      "\u001b[1;31mKeyError\u001b[0m                                  Traceback (most recent call last)",
      "\u001b[1;32m~\\AppData\\Local\\Temp\\ipykernel_10120\\3841522104.py\u001b[0m in \u001b[0;36m<module>\u001b[1;34m\u001b[0m\n\u001b[1;32m----> 1\u001b[1;33m \u001b[0mspam\u001b[0m\u001b[1;33m[\u001b[0m\u001b[1;34m\"foo\"\u001b[0m\u001b[1;33m]\u001b[0m\u001b[1;33m\u001b[0m\u001b[1;33m\u001b[0m\u001b[0m\n\u001b[0m",
      "\u001b[1;31mKeyError\u001b[0m: 'foo'"
     ]
    }
   ],
   "source": [
    "spam[\"foo\"]"
   ]
  },
  {
   "cell_type": "markdown",
   "id": "6877bab1",
   "metadata": {},
   "source": [
    "### Q-5 If a dictionary is stored in spam, what is the difference between the expressions 'cat' in spam and 'cat' in spam.keys()?"
   ]
  },
  {
   "cell_type": "markdown",
   "id": "634b1316",
   "metadata": {},
   "source": [
    "**Sol**\n",
    "\n",
    "\"Cat\" in spam will show the value of the \"cat\" in spam while spam.keys() will show the keys of spam i.e. (\"cat\")"
   ]
  },
  {
   "cell_type": "code",
   "execution_count": 8,
   "id": "e3b0c69f",
   "metadata": {},
   "outputs": [],
   "source": [
    "spam = {\"cat\":500}"
   ]
  },
  {
   "cell_type": "code",
   "execution_count": 9,
   "id": "f6311c95",
   "metadata": {},
   "outputs": [
    {
     "data": {
      "text/plain": [
       "500"
      ]
     },
     "execution_count": 9,
     "metadata": {},
     "output_type": "execute_result"
    }
   ],
   "source": [
    "spam[\"cat\"]"
   ]
  },
  {
   "cell_type": "code",
   "execution_count": 10,
   "id": "b25b569c",
   "metadata": {},
   "outputs": [
    {
     "data": {
      "text/plain": [
       "dict_keys(['cat'])"
      ]
     },
     "execution_count": 10,
     "metadata": {},
     "output_type": "execute_result"
    }
   ],
   "source": [
    "spam.keys()"
   ]
  },
  {
   "cell_type": "markdown",
   "id": "d7cfab5e",
   "metadata": {},
   "source": [
    "### Q-6 If a dictionary is stored in spam, what is the difference between the expressions 'cat' in spam and 'cat' in spam.values()?"
   ]
  },
  {
   "cell_type": "markdown",
   "id": "388dd4d0",
   "metadata": {},
   "source": [
    "**Sol:**\n",
    "\n",
    "\"Cat\" in spam will be showing the value of cat while, spam.values() will also show all the values in spam "
   ]
  },
  {
   "cell_type": "code",
   "execution_count": 12,
   "id": "93425ccc",
   "metadata": {},
   "outputs": [],
   "source": [
    "spam = {\"cat\":500, \"dog\": 600}"
   ]
  },
  {
   "cell_type": "code",
   "execution_count": 13,
   "id": "8927a228",
   "metadata": {},
   "outputs": [
    {
     "data": {
      "text/plain": [
       "500"
      ]
     },
     "execution_count": 13,
     "metadata": {},
     "output_type": "execute_result"
    }
   ],
   "source": [
    "spam[\"cat\"]"
   ]
  },
  {
   "cell_type": "code",
   "execution_count": 14,
   "id": "8ca62576",
   "metadata": {},
   "outputs": [
    {
     "data": {
      "text/plain": [
       "dict_values([500, 600])"
      ]
     },
     "execution_count": 14,
     "metadata": {},
     "output_type": "execute_result"
    }
   ],
   "source": [
    "spam.values()"
   ]
  },
  {
   "cell_type": "markdown",
   "id": "de48774f",
   "metadata": {},
   "source": [
    "### Q-7 What is a shortcut for the following code?\n",
    "if 'color' not in spam:\n",
    "spam['color'] = 'black'\n"
   ]
  },
  {
   "cell_type": "markdown",
   "id": "52f30eaf",
   "metadata": {},
   "source": [
    "**Sol**\n",
    "\n",
    "Default key will be spam.setdeafault(\"color\", \"black\")"
   ]
  },
  {
   "cell_type": "markdown",
   "id": "1b1fa940",
   "metadata": {},
   "source": [
    "### Q-8 How do you \"pretty print\" dictionary values using which module and function?"
   ]
  },
  {
   "cell_type": "markdown",
   "id": "c6bd5a94",
   "metadata": {},
   "source": [
    "**Sol:**\n",
    "\n",
    "It can be imported by module called \"pprint\" &"
   ]
  }
 ],
 "metadata": {
  "kernelspec": {
   "display_name": "Python 3 (ipykernel)",
   "language": "python",
   "name": "python3"
  },
  "language_info": {
   "codemirror_mode": {
    "name": "ipython",
    "version": 3
   },
   "file_extension": ".py",
   "mimetype": "text/x-python",
   "name": "python",
   "nbconvert_exporter": "python",
   "pygments_lexer": "ipython3",
   "version": "3.9.15"
  }
 },
 "nbformat": 4,
 "nbformat_minor": 5
}
