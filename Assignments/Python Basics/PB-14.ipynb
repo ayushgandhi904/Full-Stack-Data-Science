{
  "nbformat": 4,
  "nbformat_minor": 0,
  "metadata": {
    "colab": {
      "provenance": []
    },
    "kernelspec": {
      "name": "python3",
      "display_name": "Python 3"
    },
    "language_info": {
      "name": "python"
    }
  },
  "cells": [
    {
      "cell_type": "markdown",
      "source": [
        "### 1. What does RGBA stand for?"
      ],
      "metadata": {
        "id": "hDlQ3PoVp-wu"
      }
    },
    {
      "cell_type": "markdown",
      "source": [
        "\n",
        "RGBA stands for Red, Green, Blue, and Alpha. It is a color model used to represent colors in digital images and computer graphics."
      ],
      "metadata": {
        "id": "vDs1qYPWp-zl"
      }
    },
    {
      "cell_type": "markdown",
      "source": [
        "### 2. From the Pillow module, how do you get the RGBA value of any images?"
      ],
      "metadata": {
        "id": "xnuH8YOtp-2t"
      }
    },
    {
      "cell_type": "markdown",
      "source": [
        "To get the RGBA value of any image using the Pillow module in Python, you can use the getpixel() method of the Image object"
      ],
      "metadata": {
        "id": "2YMy96Vmp-8N"
      }
    },
    {
      "cell_type": "markdown",
      "source": [
        "### 3. What is a box tuple, and how does it work?"
      ],
      "metadata": {
        "id": "_7aSkvLKp_BP"
      }
    },
    {
      "cell_type": "markdown",
      "source": [
        "In the context of image processing and the Pillow module, a box tuple refers to a tuple that represents a rectangular region or bounding box within an image.\n",
        "It is commonly used to define the coordinates of the upper left corner and lower right corner of the box."
      ],
      "metadata": {
        "id": "jDvOYhSUp_EQ"
      }
    },
    {
      "cell_type": "markdown",
      "source": [
        "### 4. Use your image and load in notebook then, How can you find out the width and height of an Image object?"
      ],
      "metadata": {
        "id": "M_eV9BTpp_IP"
      }
    },
    {
      "cell_type": "markdown",
      "source": [
        "To find out the width and height of an Image object in Python, you can use the size attribute or the width and height attributes provided by the Pillow module"
      ],
      "metadata": {
        "id": "ztwRB_Hmp_MT"
      }
    },
    {
      "cell_type": "markdown",
      "source": [
        "### 5. What method would you call to get Image object for a 100×100 image, excluding the lower-left quarter of it?"
      ],
      "metadata": {
        "id": "x--PGfGUp_QL"
      }
    },
    {
      "cell_type": "markdown",
      "source": [
        "To get an Image object for a 100x100 image excluding the lower-left quarter, you can use the crop() method"
      ],
      "metadata": {
        "id": "ALWo5iNVp_UQ"
      }
    },
    {
      "cell_type": "markdown",
      "source": [
        "### 6. After making changes to an Image object, how could you save it as an image file?"
      ],
      "metadata": {
        "id": "jrIT6DNjp_YH"
      }
    },
    {
      "cell_type": "markdown",
      "source": [
        "After making changes to an Image object using the Pillow module, you can save it as an image file using the save() method."
      ],
      "metadata": {
        "id": "26ncp1LJp_ba"
      }
    },
    {
      "cell_type": "markdown",
      "source": [
        "### 7. What module contains Pillow’s shape-drawing code?"
      ],
      "metadata": {
        "id": "uSJBgjslp_f3"
      }
    },
    {
      "cell_type": "markdown",
      "source": [
        "Pillow's shape-drawing code is contained in the ImageDraw module. This module provides functionality for drawing various shapes, such as lines, rectangles, circles, and polygons, on an Image object."
      ],
      "metadata": {
        "id": "Zbdtlh6pp_iv"
      }
    },
    {
      "cell_type": "markdown",
      "source": [
        "### 8. Image objects do not have drawing methods. What kind of object does? How do you get this kind of object?"
      ],
      "metadata": {
        "id": "RuM94IqYp_mH"
      }
    },
    {
      "cell_type": "markdown",
      "source": [
        "To perform image drawing operations, you need to create an ImageDraw object associated with the Image.The ImageDraw object provides methods for drawing shapes, lines, text, and other graphics on the Image. It serves as a drawing context for modifying the Image.To obtain an ImageDraw object, you need to import the ImageDraw module from the PIL package and then create an ImageDraw object by passing the Image object as an argument."
      ],
      "metadata": {
        "id": "xYIAb6yMp_pR"
      }
    }
  ]
}