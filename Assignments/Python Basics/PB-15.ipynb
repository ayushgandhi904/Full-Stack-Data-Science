{
  "nbformat": 4,
  "nbformat_minor": 0,
  "metadata": {
    "colab": {
      "provenance": []
    },
    "kernelspec": {
      "name": "python3",
      "display_name": "Python 3"
    },
    "language_info": {
      "name": "python"
    }
  },
  "cells": [
    {
      "cell_type": "markdown",
      "source": [
        "### 1.How many seconds are in an hour? Use the interactive interpreter as a calculator and multiply the number of seconds in a minute (60) by the number of minutes in an hour (also 60)."
      ],
      "metadata": {
        "id": "kxeenJKRsCQs"
      }
    },
    {
      "cell_type": "code",
      "source": [
        "seconds_in_minute = 60\n",
        "minutes_in_hour = 60\n",
        "\n",
        "seconds_in_hour = seconds_in_minute * minutes_in_hour\n",
        "\n",
        "print(seconds_in_hour)"
      ],
      "metadata": {
        "colab": {
          "base_uri": "https://localhost:8080/"
        },
        "id": "8uW8ADTVsOuh",
        "outputId": "70efddb9-e139-4c3b-f33a-6af2ccf913e4"
      },
      "execution_count": 1,
      "outputs": [
        {
          "output_type": "stream",
          "name": "stdout",
          "text": [
            "3600\n"
          ]
        }
      ]
    },
    {
      "cell_type": "markdown",
      "source": [
        "### 2. Assign the result from the previous task (seconds in an hour) to a variable called seconds_per_hour."
      ],
      "metadata": {
        "id": "fFgHS9WSsCWh"
      }
    },
    {
      "cell_type": "code",
      "source": [
        "seconds_per_hour = 3600 #assigned"
      ],
      "metadata": {
        "id": "_taRM0oBsfkQ"
      },
      "execution_count": 2,
      "outputs": []
    },
    {
      "cell_type": "markdown",
      "source": [
        "### 3. How many seconds do you think there are in a day? Make use of the variables seconds per hour and minutes per hour."
      ],
      "metadata": {
        "id": "udKUBV2MsCZf"
      }
    },
    {
      "cell_type": "code",
      "source": [
        "seconds_per_hour = 3600\n",
        "hours_per_day = 24\n",
        "\n",
        "seconds_per_day = seconds_per_hour * hours_per_day"
      ],
      "metadata": {
        "id": "Afa5f4Z_srU8"
      },
      "execution_count": 3,
      "outputs": []
    },
    {
      "cell_type": "markdown",
      "source": [
        "### 4. Calculate seconds per day again, but this time save the result in a variable called seconds_per_day"
      ],
      "metadata": {
        "id": "QDG-1nrcsCcR"
      }
    },
    {
      "cell_type": "code",
      "source": [
        "seconds_per_day = seconds_per_hour * hours_per_day\n",
        "print(seconds_per_day)"
      ],
      "metadata": {
        "colab": {
          "base_uri": "https://localhost:8080/"
        },
        "id": "dGMgPUOhsyfX",
        "outputId": "562fc925-6080-4b6e-bb90-c2b12e157080"
      },
      "execution_count": 9,
      "outputs": [
        {
          "output_type": "stream",
          "name": "stdout",
          "text": [
            "86400\n"
          ]
        }
      ]
    },
    {
      "cell_type": "markdown",
      "source": [
        "### 5. Divide seconds_per_day by seconds_per_hour. Use floating-point (/) division."
      ],
      "metadata": {
        "id": "EuOglbWysCfJ"
      }
    },
    {
      "cell_type": "code",
      "source": [
        "result = seconds_per_day / seconds_per_hour\n",
        "print(result)"
      ],
      "metadata": {
        "colab": {
          "base_uri": "https://localhost:8080/"
        },
        "id": "DDo10tKztAe1",
        "outputId": "4cbe70a4-6911-40c8-e601-bc7f06d1dbb6"
      },
      "execution_count": 8,
      "outputs": [
        {
          "output_type": "stream",
          "name": "stdout",
          "text": [
            "24.0\n"
          ]
        }
      ]
    },
    {
      "cell_type": "markdown",
      "source": [
        "### 6. Divide seconds_per_day by seconds_per_hour, using integer (//) division. Did this number agree with the floating-point value from the previous question, aside from the final .0?"
      ],
      "metadata": {
        "id": "0Di1h74XsCki"
      }
    },
    {
      "cell_type": "code",
      "source": [
        "result = seconds_per_day // seconds_per_hour\n",
        "\n",
        "print(result)"
      ],
      "metadata": {
        "colab": {
          "base_uri": "https://localhost:8080/"
        },
        "id": "ma6YpWwbtKia",
        "outputId": "04933ec5-fd47-4b03-9eab-659db7553a50"
      },
      "execution_count": 7,
      "outputs": [
        {
          "output_type": "stream",
          "name": "stdout",
          "text": [
            "24\n"
          ]
        }
      ]
    },
    {
      "cell_type": "markdown",
      "source": [
        "### 7. Write a generator, genPrimes, that returns the sequence of prime numbers on successive calls to its next() method: 2, 3, 5, 7, 11, ..."
      ],
      "metadata": {
        "id": "-zTtJoLCsCnc"
      }
    },
    {
      "cell_type": "code",
      "source": [
        "def Prime_no():\n",
        "    primes = []  # List to store prime numbers\n",
        "    num = 2  # Start with the first prime number\n",
        "    \n",
        "    while True:\n",
        "        if all(num % prime != 0 for prime in primes):\n",
        "            primes.append(num)\n",
        "            yield num\n",
        "        num += 1\n"
      ],
      "metadata": {
        "id": "Bx6Fra5Ltf0q"
      },
      "execution_count": 10,
      "outputs": []
    }
  ]
}