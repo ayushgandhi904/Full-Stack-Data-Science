{
  "nbformat": 4,
  "nbformat_minor": 0,
  "metadata": {
    "colab": {
      "provenance": []
    },
    "kernelspec": {
      "name": "python3",
      "display_name": "Python 3"
    },
    "language_info": {
      "name": "python"
    }
  },
  "cells": [
    {
      "cell_type": "markdown",
      "source": [
        "### 1. Create a list called years_list, starting with the year of your birth, and each year thereafter until the year of your fifth birthday. For example, if you were born in 1980. the list would be years_list = [1980, 1981, 1982, 1983, 1984, 1985]."
      ],
      "metadata": {
        "id": "hICQ4dAiCnpN"
      }
    },
    {
      "cell_type": "code",
      "source": [
        "birth_year =2001\n",
        "fifth_birthday = birth_year + 5\n",
        "years_list = [year for year in range(birth_year, fifth_birthday)]\n",
        "print(years_list)"
      ],
      "metadata": {
        "colab": {
          "base_uri": "https://localhost:8080/"
        },
        "id": "tmyyxJB7EJbM",
        "outputId": "289d3013-73f5-4a60-986c-3deeeb1a48bb"
      },
      "execution_count": 2,
      "outputs": [
        {
          "output_type": "stream",
          "name": "stdout",
          "text": [
            "[2001, 2002, 2003, 2004, 2005]\n"
          ]
        }
      ]
    },
    {
      "cell_type": "markdown",
      "source": [
        "### 2. In which year in years_list was your third birthday? Remember, you were 0 years of age for your first year."
      ],
      "metadata": {
        "id": "nzqk9qevCnr5"
      }
    },
    {
      "cell_type": "code",
      "source": [
        "birth_year = 2001\n",
        "third_birthday = birth_year + 3\n",
        "\n",
        "if third_birthday in years_list:\n",
        "    print(f\"The year of your third birthday is: {third_birthday}\")\n",
        "else:\n",
        "    print(\"Third birthday does not in list.\")"
      ],
      "metadata": {
        "colab": {
          "base_uri": "https://localhost:8080/"
        },
        "id": "hsaTJlMWEi6f",
        "outputId": "e14889bc-ee2f-4ef6-ff17-e204b6102794"
      },
      "execution_count": 3,
      "outputs": [
        {
          "output_type": "stream",
          "name": "stdout",
          "text": [
            "The year of your third birthday is: 2004\n"
          ]
        }
      ]
    },
    {
      "cell_type": "markdown",
      "source": [
        "### 3.In the years list, which year were you the oldest?"
      ],
      "metadata": {
        "id": "gLAmuj1kEiPx"
      }
    },
    {
      "cell_type": "code",
      "source": [
        "oldest_year = birth_year + 5\n",
        "\n",
        "if oldest_year in years_list:\n",
        "    print(\"The year when you were the oldest is:\", oldest_year)\n",
        "else:\n",
        "    print(\"The years_list does not include the year when you were the oldest.\")"
      ],
      "metadata": {
        "colab": {
          "base_uri": "https://localhost:8080/"
        },
        "id": "Fm8ikJMIFDHl",
        "outputId": "6a440fec-642a-4ac7-f840-78a59594e1ac"
      },
      "execution_count": 4,
      "outputs": [
        {
          "output_type": "stream",
          "name": "stdout",
          "text": [
            "The years_list does not include the year when you were the oldest.\n"
          ]
        }
      ]
    },
    {
      "cell_type": "markdown",
      "source": [
        "### 4. Make a list called things with these three strings as elements: \"mozzarella\", \"cinderella\", \"salmonella\"."
      ],
      "metadata": {
        "id": "NThLv_27Cnul"
      }
    },
    {
      "cell_type": "code",
      "source": [
        "things = [\"mozzarella\", \"cinderella\", \"salmonella\"]"
      ],
      "metadata": {
        "id": "2wYa125SFSkA"
      },
      "execution_count": 5,
      "outputs": []
    },
    {
      "cell_type": "markdown",
      "source": [
        "### 5. Capitalize the element in things that refers to a person and then print the list. Did it change the element in the list?"
      ],
      "metadata": {
        "id": "o6Biymo9Cnxm"
      }
    },
    {
      "cell_type": "code",
      "source": [
        "things[1] = things[1].capitalize()\n",
        "print(things) #Yes it change the case in 2nd element"
      ],
      "metadata": {
        "colab": {
          "base_uri": "https://localhost:8080/"
        },
        "id": "_lCEcOeeFgeA",
        "outputId": "c72a327c-40e7-42bb-8063-985533b9deb0"
      },
      "execution_count": 6,
      "outputs": [
        {
          "output_type": "stream",
          "name": "stdout",
          "text": [
            "['mozzarella', 'Cinderella', 'salmonella']\n"
          ]
        }
      ]
    },
    {
      "cell_type": "markdown",
      "source": [
        "### 6. Make a surprise list with the elements \"Groucho,\" \"Chico,\" and \"Harpo.\""
      ],
      "metadata": {
        "id": "9U9xP-uECn0d"
      }
    },
    {
      "cell_type": "code",
      "source": [
        "surprise = [\"Groucho\", \"Chico\", \"Harpo\"]"
      ],
      "metadata": {
        "id": "pzcutZ9EFy0z"
      },
      "execution_count": 7,
      "outputs": []
    },
    {
      "cell_type": "markdown",
      "source": [
        "### 7. Lowercase the last element of the surprise list, reverse it, and then capitalize it."
      ],
      "metadata": {
        "id": "imyMpDVMCn3c"
      }
    },
    {
      "cell_type": "code",
      "source": [
        "surprise[-1] = surprise[-1].lower()\n",
        "surprise[-1] = surprise[-1][::-1]\n",
        "surprise[-1] = surprise[-1].capitalize()\n",
        "print(surprise)"
      ],
      "metadata": {
        "colab": {
          "base_uri": "https://localhost:8080/"
        },
        "id": "zxFy3AqKGAa7",
        "outputId": "ef1c3b2a-4fef-47ff-c702-364dc16871b2"
      },
      "execution_count": 8,
      "outputs": [
        {
          "output_type": "stream",
          "name": "stdout",
          "text": [
            "['Groucho', 'Chico', 'Oprah']\n"
          ]
        }
      ]
    },
    {
      "cell_type": "markdown",
      "source": [
        "### 8. Make an English-to-French dictionary called e2f and print it. Here are your starter words: dog is chien, cat is chat, and walrus is morse"
      ],
      "metadata": {
        "id": "cYTpZNm-Cn6s"
      }
    },
    {
      "cell_type": "code",
      "source": [
        "e2f = {\n",
        "    'dog': 'chien',\n",
        "    'cat': 'chat',\n",
        "    'walrus': 'morse'\n",
        "}"
      ],
      "metadata": {
        "id": "mvjtgnsCGRw_"
      },
      "execution_count": 9,
      "outputs": []
    },
    {
      "cell_type": "markdown",
      "source": [
        "### 9. Write the French word for walrus in your three-word dictionary e2f."
      ],
      "metadata": {
        "id": "0ta8bad0Cn9S"
      }
    },
    {
      "cell_type": "code",
      "source": [
        "french_word = e2f['walrus']\n",
        "french_word"
      ],
      "metadata": {
        "colab": {
          "base_uri": "https://localhost:8080/",
          "height": 36
        },
        "id": "J_Spc1noGbi_",
        "outputId": "7ac8c964-9f10-450d-dfa6-f8dd91817e32"
      },
      "execution_count": 10,
      "outputs": [
        {
          "output_type": "execute_result",
          "data": {
            "text/plain": [
              "'morse'"
            ],
            "application/vnd.google.colaboratory.intrinsic+json": {
              "type": "string"
            }
          },
          "metadata": {},
          "execution_count": 10
        }
      ]
    },
    {
      "cell_type": "markdown",
      "source": [
        "### 10. Make a French-to-English dictionary called f2e from e2f. Use the items method."
      ],
      "metadata": {
        "id": "AqjktONtCn_7"
      }
    },
    {
      "cell_type": "code",
      "source": [
        "f2e = {value: key for key, value in e2f.items()}\n",
        "f2e"
      ],
      "metadata": {
        "colab": {
          "base_uri": "https://localhost:8080/"
        },
        "id": "lfMiSZAmGs3D",
        "outputId": "9d167edf-5775-4935-a034-efc08506f7be"
      },
      "execution_count": 11,
      "outputs": [
        {
          "output_type": "execute_result",
          "data": {
            "text/plain": [
              "{'chien': 'dog', 'chat': 'cat', 'morse': 'walrus'}"
            ]
          },
          "metadata": {},
          "execution_count": 11
        }
      ]
    },
    {
      "cell_type": "markdown",
      "source": [
        "### 11. Print the English version of the French word chien using f2e."
      ],
      "metadata": {
        "id": "DRUADo8XCoDI"
      }
    },
    {
      "cell_type": "code",
      "source": [
        "english_word = f2e['chien']\n",
        "english_word"
      ],
      "metadata": {
        "colab": {
          "base_uri": "https://localhost:8080/",
          "height": 36
        },
        "id": "yZfT-S38Gzfl",
        "outputId": "8af98fa4-52d1-4670-daf0-c0d522f96d33"
      },
      "execution_count": 12,
      "outputs": [
        {
          "output_type": "execute_result",
          "data": {
            "text/plain": [
              "'dog'"
            ],
            "application/vnd.google.colaboratory.intrinsic+json": {
              "type": "string"
            }
          },
          "metadata": {},
          "execution_count": 12
        }
      ]
    },
    {
      "cell_type": "markdown",
      "source": [
        "### 12. Make and print a set of English words from the keys in e2f."
      ],
      "metadata": {
        "id": "4b0pa9OACoGA"
      }
    },
    {
      "cell_type": "code",
      "source": [
        "english_words = set(e2f.keys())\n",
        "print(english_words)"
      ],
      "metadata": {
        "colab": {
          "base_uri": "https://localhost:8080/"
        },
        "id": "xfvo5C3KG_vD",
        "outputId": "43ea65fb-cff8-45c7-a894-62dd22553ac6"
      },
      "execution_count": 13,
      "outputs": [
        {
          "output_type": "stream",
          "name": "stdout",
          "text": [
            "{'dog', 'walrus', 'cat'}\n"
          ]
        }
      ]
    },
    {
      "cell_type": "markdown",
      "source": [
        "### 13. Make a multilevel dictionary called life. Use these strings for the topmost keys: 'animals', 'plants', and 'other'. Make the 'animals' key refer to another dictionary with the keys 'cats', 'octopi', and 'emus'. Make the 'cats' key refer to a list of strings with the values 'Henri', 'Grumpy', and 'Lucy'. Make all the other keys refer to empty dictionaries."
      ],
      "metadata": {
        "id": "OhNVgvVFCoIc"
      }
    },
    {
      "cell_type": "code",
      "source": [
        "life = {\n",
        "    'animals': {\n",
        "        'cats': ['Henri', 'Grumpy', 'Lucy'],\n",
        "        'octopi': {},\n",
        "        'emus': {}\n",
        "    },\n",
        "    'plants': {},\n",
        "    'other': {}\n",
        "}\n",
        "\n",
        "life"
      ],
      "metadata": {
        "colab": {
          "base_uri": "https://localhost:8080/"
        },
        "id": "kDmBe10nHRCd",
        "outputId": "87664c2c-1df9-44bf-cb8b-3b93e5121817"
      },
      "execution_count": 14,
      "outputs": [
        {
          "output_type": "execute_result",
          "data": {
            "text/plain": [
              "{'animals': {'cats': ['Henri', 'Grumpy', 'Lucy'], 'octopi': {}, 'emus': {}},\n",
              " 'plants': {},\n",
              " 'other': {}}"
            ]
          },
          "metadata": {},
          "execution_count": 14
        }
      ]
    },
    {
      "cell_type": "markdown",
      "source": [
        "### 14. Print the top-level keys of life."
      ],
      "metadata": {
        "id": "oixMD18MCoLt"
      }
    },
    {
      "cell_type": "code",
      "source": [
        "top_level_keys = life.keys()\n",
        "top_level_keys"
      ],
      "metadata": {
        "colab": {
          "base_uri": "https://localhost:8080/"
        },
        "id": "9irbGiu0Ha4P",
        "outputId": "12958d3c-ec89-4f49-bbb4-dbde11e90603"
      },
      "execution_count": 16,
      "outputs": [
        {
          "output_type": "execute_result",
          "data": {
            "text/plain": [
              "dict_keys(['animals', 'plants', 'other'])"
            ]
          },
          "metadata": {},
          "execution_count": 16
        }
      ]
    },
    {
      "cell_type": "markdown",
      "source": [
        "### 15. Print the keys for life['animals']."
      ],
      "metadata": {
        "id": "0z57jXROCoOK"
      }
    },
    {
      "cell_type": "code",
      "source": [
        "animal_keys = life['animals'].keys()\n",
        "animal_keys"
      ],
      "metadata": {
        "colab": {
          "base_uri": "https://localhost:8080/"
        },
        "id": "cgJahFJAHjy_",
        "outputId": "718410a7-51a9-45ef-db71-c3989653206d"
      },
      "execution_count": 17,
      "outputs": [
        {
          "output_type": "execute_result",
          "data": {
            "text/plain": [
              "dict_keys(['cats', 'octopi', 'emus'])"
            ]
          },
          "metadata": {},
          "execution_count": 17
        }
      ]
    },
    {
      "cell_type": "markdown",
      "source": [
        "### 16. Print the values for life['animals']['cats']"
      ],
      "metadata": {
        "id": "Rl6sZ30NCoQ7"
      }
    },
    {
      "cell_type": "code",
      "source": [
        "cat_values = life['animals']['cats']\n",
        "cat_values"
      ],
      "metadata": {
        "colab": {
          "base_uri": "https://localhost:8080/"
        },
        "id": "Yo69i_PUHsR8",
        "outputId": "04b86e53-a9bf-4f4a-d997-85edf56038e6"
      },
      "execution_count": 18,
      "outputs": [
        {
          "output_type": "execute_result",
          "data": {
            "text/plain": [
              "['Henri', 'Grumpy', 'Lucy']"
            ]
          },
          "metadata": {},
          "execution_count": 18
        }
      ]
    }
  ]
}