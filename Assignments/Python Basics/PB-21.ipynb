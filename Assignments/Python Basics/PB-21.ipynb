{
  "nbformat": 4,
  "nbformat_minor": 0,
  "metadata": {
    "colab": {
      "provenance": []
    },
    "kernelspec": {
      "name": "python3",
      "display_name": "Python 3"
    },
    "language_info": {
      "name": "python"
    }
  },
  "cells": [
    {
      "cell_type": "markdown",
      "source": [
        "### 1. Add the current date to the text file today.txt as a string."
      ],
      "metadata": {
        "id": "_foJdUGHQODD"
      }
    },
    {
      "cell_type": "code",
      "source": [
        "import datetime\n",
        "current_date = datetime.date.today()\n",
        "date_string = str(current_date)\n",
        "with open('today.txt', 'a') as file:\n",
        "    file.write(date_string)"
      ],
      "metadata": {
        "id": "22zwWrgUQhYh"
      },
      "execution_count": 1,
      "outputs": []
    },
    {
      "cell_type": "markdown",
      "source": [
        "### 2. Read the text file today.txt into the string today_string"
      ],
      "metadata": {
        "id": "AxDbSeMdQOG1"
      }
    },
    {
      "cell_type": "code",
      "source": [
        "with open('today.txt', 'r') as file:\n",
        "    today_string = file.read()\n",
        "print(today_string)"
      ],
      "metadata": {
        "colab": {
          "base_uri": "https://localhost:8080/"
        },
        "id": "huHLN2SvQtpP",
        "outputId": "a7b4a3d4-7ed3-43e5-e104-ff2e02a5cdc2"
      },
      "execution_count": 2,
      "outputs": [
        {
          "output_type": "stream",
          "name": "stdout",
          "text": [
            "2023-05-21\n"
          ]
        }
      ]
    },
    {
      "cell_type": "markdown",
      "source": [
        "### 3. Parse the date from today_string."
      ],
      "metadata": {
        "id": "USK21V4-QOJy"
      }
    },
    {
      "cell_type": "code",
      "source": [
        "parsed_date = datetime.datetime.strptime(date_string, \"%Y-%m-%d\").date()\n",
        "print(parsed_date)"
      ],
      "metadata": {
        "colab": {
          "base_uri": "https://localhost:8080/"
        },
        "id": "RNiWgg-6Q0-Q",
        "outputId": "1fa97f40-cf40-4d77-fa57-cfec312101f7"
      },
      "execution_count": 3,
      "outputs": [
        {
          "output_type": "stream",
          "name": "stdout",
          "text": [
            "2023-05-21\n"
          ]
        }
      ]
    },
    {
      "cell_type": "markdown",
      "source": [
        "### 4. List the files in your current directory"
      ],
      "metadata": {
        "id": "Cxh7d1WFQOM1"
      }
    },
    {
      "cell_type": "code",
      "source": [
        "import os\n",
        "current_directory = os.getcwd()\n",
        "file_list = os.listdir(current_directory)\n",
        "for file_name in file_list:\n",
        "    print(file_name)"
      ],
      "metadata": {
        "colab": {
          "base_uri": "https://localhost:8080/"
        },
        "id": "wBmvdbjrRCAi",
        "outputId": "98d7355e-3530-4ad8-e8cc-24e847ede64b"
      },
      "execution_count": 4,
      "outputs": [
        {
          "output_type": "stream",
          "name": "stdout",
          "text": [
            ".config\n",
            "today.txt\n",
            "sample_data\n"
          ]
        }
      ]
    },
    {
      "cell_type": "markdown",
      "source": [
        "### 5. Create a list of all of the files in your parent directory."
      ],
      "metadata": {
        "id": "VHjG0mzBQOQN"
      }
    },
    {
      "cell_type": "code",
      "source": [
        "parent_directory = os.path.abspath(os.path.join(os.getcwd(), os.pardir))\n",
        "\n",
        "file_list = os.listdir(parent_directory)\n",
        "\n",
        "file_list = [file for file in file_list if os.path.isfile(os.path.join(parent_directory, file))]\n",
        "\n",
        "for file_name in file_list:\n",
        "    print(file_name)"
      ],
      "metadata": {
        "colab": {
          "base_uri": "https://localhost:8080/"
        },
        "id": "XuWwifOwRSJN",
        "outputId": "6ca8adcf-7182-4463-dfab-b2f7999805f4"
      },
      "execution_count": 5,
      "outputs": [
        {
          "output_type": "stream",
          "name": "stdout",
          "text": [
            ".dockerenv\n",
            "NGC-DL-CONTAINER-LICENSE\n"
          ]
        }
      ]
    },
    {
      "cell_type": "markdown",
      "source": [
        "### 6. Use multiprocessing to create three separate processes. Make each one wait a random number of seconds between one and five, print the current time, and then exit."
      ],
      "metadata": {
        "id": "0Fnvo2XyQOV5"
      }
    },
    {
      "cell_type": "code",
      "source": [
        "import multiprocessing\n",
        "import time\n",
        "import random\n",
        "from datetime import datetime\n",
        "\n",
        "def process_function():\n",
        "    wait_time = random.randint(1, 5)\n",
        "\n",
        "    time.sleep(wait_time)\n",
        "\n",
        "    current_time = datetime.now().strftime(\"%Y-%m-%d %H:%M:%S\")\n",
        "\n",
        "    print(f\"Process ID: {multiprocessing.current_process().name}, Current Time: {current_time}\")\n",
        "\n",
        "processes = []\n",
        "for _ in range(3):\n",
        "    process = multiprocessing.Process(target=process_function)\n",
        "    processes.append(process)\n",
        "    process.start()\n",
        "\n",
        "for process in processes:\n",
        "    process.join()"
      ],
      "metadata": {
        "colab": {
          "base_uri": "https://localhost:8080/"
        },
        "id": "CDs48sctRkNx",
        "outputId": "a7b36074-4dda-4810-860b-9b7625e648b7"
      },
      "execution_count": 6,
      "outputs": [
        {
          "output_type": "stream",
          "name": "stdout",
          "text": [
            "Process ID: Process-2, Current Time: 2023-05-21 07:47:01\n",
            "Process ID: Process-1, Current Time: 2023-05-21 07:47:03\n",
            "Process ID: Process-3, Current Time: 2023-05-21 07:47:04\n"
          ]
        }
      ]
    },
    {
      "cell_type": "markdown",
      "source": [
        "### 7. Create a date object of your day of birth."
      ],
      "metadata": {
        "id": "f4PcYj0yQOY3"
      }
    },
    {
      "cell_type": "code",
      "source": [
        "from datetime import date\n",
        "\n",
        "birth_year = 2001\n",
        "birth_month = 1\n",
        "birth_day = 4\n",
        "\n",
        "birth_date = date(birth_year, birth_month, birth_day)\n",
        "\n",
        "print(birth_date)"
      ],
      "metadata": {
        "colab": {
          "base_uri": "https://localhost:8080/"
        },
        "id": "iTWMCOvfR4_j",
        "outputId": "bc1a80e9-2cbd-4297-ff9d-791661bf1972"
      },
      "execution_count": 7,
      "outputs": [
        {
          "output_type": "stream",
          "name": "stdout",
          "text": [
            "2001-01-04\n"
          ]
        }
      ]
    },
    {
      "cell_type": "markdown",
      "source": [
        "### 8. What day of the week was your day of birth?"
      ],
      "metadata": {
        "id": "SAy7TAppQObt"
      }
    },
    {
      "cell_type": "code",
      "source": [
        "day_of_week = birth_date.weekday()\n",
        "print(day_of_week)"
      ],
      "metadata": {
        "colab": {
          "base_uri": "https://localhost:8080/"
        },
        "id": "y_x6Kta7SN_9",
        "outputId": "e512339f-fe43-4aeb-ed83-f6fff53d098c"
      },
      "execution_count": 8,
      "outputs": [
        {
          "output_type": "stream",
          "name": "stdout",
          "text": [
            "3\n"
          ]
        }
      ]
    },
    {
      "cell_type": "markdown",
      "source": [
        "### 9. When will you be (or when were you) 10,000 days old?"
      ],
      "metadata": {
        "id": "2KMhwoZQQOe5"
      }
    },
    {
      "cell_type": "code",
      "source": [
        "from datetime import timedelta\n",
        "delta = timedelta(days=10000)\n",
        "\n",
        "target_date = birth_date + delta\n",
        "print(target_date)"
      ],
      "metadata": {
        "colab": {
          "base_uri": "https://localhost:8080/"
        },
        "id": "eCyNIwviSenD",
        "outputId": "ed725c67-8977-46c5-c64e-3739ba7c76db"
      },
      "execution_count": 10,
      "outputs": [
        {
          "output_type": "stream",
          "name": "stdout",
          "text": [
            "2028-05-22\n"
          ]
        }
      ]
    }
  ]
}