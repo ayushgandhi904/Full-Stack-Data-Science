{
 "cells": [
  {
   "cell_type": "markdown",
   "id": "fbc05268",
   "metadata": {},
   "source": [
    "### Q-1 What are escape characters, and how do you use them?"
   ]
  },
  {
   "cell_type": "markdown",
   "id": "caa67510",
   "metadata": {},
   "source": [
    "**Sol:**\n",
    "\n",
    "\"Escape characters\" are the character which invokes an alternative interception of charcter in sequence. It can be used in while writing in between string, where specific order is needed."
   ]
  },
  {
   "cell_type": "markdown",
   "id": "f80dba48",
   "metadata": {},
   "source": [
    "### Q-2 What do the escape characters n and t stand for?"
   ]
  },
  {
   "cell_type": "markdown",
   "id": "8e19cef7",
   "metadata": {},
   "source": [
    "**Sol**\n",
    "\n",
    "n is the escape character, which invokes to print in new line.\n",
    "While, t is the escape character, invokes tab space in the print line."
   ]
  },
  {
   "cell_type": "markdown",
   "id": "1bd7ca68",
   "metadata": {},
   "source": [
    "### Q-3 What is the way to include backslash characters in a string?"
   ]
  },
  {
   "cell_type": "markdown",
   "id": "df326c75",
   "metadata": {},
   "source": [
    "**Sol**\n",
    "\n",
    "If we want to use backslash, use \"\\\\\" in the string because, \"\\\" means ignoring the next term."
   ]
  },
  {
   "cell_type": "markdown",
   "id": "af084edb",
   "metadata": {},
   "source": [
    "### Q-4 The string \"Howl's Moving Castle\" is a correct value. Why isn't the single quote character in the word Howl's not escaped a problem?"
   ]
  },
  {
   "cell_type": "markdown",
   "id": "fdde09a4",
   "metadata": {},
   "source": [
    "**Sol**\n",
    "\n",
    "\" ' \" in the sentence is not the problem, because it is inserted in the double quote (\"which escape the escape problem\")"
   ]
  },
  {
   "cell_type": "markdown",
   "id": "51cf346e",
   "metadata": {},
   "source": [
    "### Q-5 How do you write a string of newlines if you don't want to use the n character?"
   ]
  },
  {
   "cell_type": "markdown",
   "id": "3233ddd4",
   "metadata": {},
   "source": [
    "**Sol**\n",
    "\n",
    "If we want to use string in newlines without using n character, we need to use print statement in two different line."
   ]
  },
  {
   "cell_type": "markdown",
   "id": "6edfdcac",
   "metadata": {},
   "source": [
    "### Q-6. What are the values of the given expressions?\n",
    "'Hello, world!'[1]\n",
    "'Hello, world!'[0:5]\n",
    "'Hello, world!'[:5]\n",
    "'Hello, world!'[3:]\n"
   ]
  },
  {
   "cell_type": "markdown",
   "id": "b417ce58",
   "metadata": {},
   "source": [
    "**Sol**\n",
    "\n",
    "'Hello, world!'[1] -- will print 2nd word of string\n",
    "\n",
    "'Hello, world!'[0:5] -- will print 1st 4 words of string\n",
    "\n",
    "'Hello, world!'[:5] -- will print 1st 4 words of string\n",
    "\n",
    "'Hello, world!'[3:] -- will print all words from the 4th letter\n"
   ]
  },
  {
   "cell_type": "code",
   "execution_count": 1,
   "id": "5cdbb558",
   "metadata": {},
   "outputs": [
    {
     "data": {
      "text/plain": [
       "'e'"
      ]
     },
     "execution_count": 1,
     "metadata": {},
     "output_type": "execute_result"
    }
   ],
   "source": [
    "\"Hello, world!\"[1]"
   ]
  },
  {
   "cell_type": "code",
   "execution_count": 2,
   "id": "1e7277df",
   "metadata": {},
   "outputs": [
    {
     "data": {
      "text/plain": [
       "'Hello'"
      ]
     },
     "execution_count": 2,
     "metadata": {},
     "output_type": "execute_result"
    }
   ],
   "source": [
    "\"Hello, world!\"[0:5]"
   ]
  },
  {
   "cell_type": "code",
   "execution_count": 3,
   "id": "fa975629",
   "metadata": {},
   "outputs": [
    {
     "data": {
      "text/plain": [
       "'Hello'"
      ]
     },
     "execution_count": 3,
     "metadata": {},
     "output_type": "execute_result"
    }
   ],
   "source": [
    "\"Hello, world!\"[:5]"
   ]
  },
  {
   "cell_type": "code",
   "execution_count": 4,
   "id": "ec62df47",
   "metadata": {},
   "outputs": [
    {
     "data": {
      "text/plain": [
       "'lo, world!'"
      ]
     },
     "execution_count": 4,
     "metadata": {},
     "output_type": "execute_result"
    }
   ],
   "source": [
    "\"Hello, world!\"[3:]"
   ]
  },
  {
   "cell_type": "markdown",
   "id": "4d0d5688",
   "metadata": {},
   "source": [
    "### Q-7. What are the values of the following expressions?\n",
    "'Hello'.upper()\n",
    "'Hello'.upper().isupper()\n",
    "'Hello'.upper().lower()\n"
   ]
  },
  {
   "cell_type": "markdown",
   "id": "49453759",
   "metadata": {},
   "source": [
    "**Sol**\n",
    "\n",
    "'Hello'.upper() - will print all string to upper case\n",
    "\n",
    "'Hello'.upper().isupper() - will print True or False (depending if string is upper)\n",
    "\n",
    "'Hello'.upper().lower() - will print all the string first in upper case, then in lower case\n"
   ]
  },
  {
   "cell_type": "code",
   "execution_count": 5,
   "id": "52fec791",
   "metadata": {},
   "outputs": [
    {
     "data": {
      "text/plain": [
       "'HELLO'"
      ]
     },
     "execution_count": 5,
     "metadata": {},
     "output_type": "execute_result"
    }
   ],
   "source": [
    "\"Hello\".upper()"
   ]
  },
  {
   "cell_type": "code",
   "execution_count": 6,
   "id": "ef84a6aa",
   "metadata": {},
   "outputs": [
    {
     "data": {
      "text/plain": [
       "True"
      ]
     },
     "execution_count": 6,
     "metadata": {},
     "output_type": "execute_result"
    }
   ],
   "source": [
    "\"Hello\".upper().isupper()"
   ]
  },
  {
   "cell_type": "code",
   "execution_count": 7,
   "id": "6889adc8",
   "metadata": {},
   "outputs": [
    {
     "data": {
      "text/plain": [
       "'hello'"
      ]
     },
     "execution_count": 7,
     "metadata": {},
     "output_type": "execute_result"
    }
   ],
   "source": [
    "\"Hello\".upper().lower()"
   ]
  },
  {
   "cell_type": "markdown",
   "id": "bed3850c",
   "metadata": {},
   "source": [
    "### Q-8. What are the values of the following expressions?\n",
    "'Remember, remember, the fifth of July.'.split()\n",
    "'-'.join('There can only one.'.split())\n"
   ]
  },
  {
   "cell_type": "markdown",
   "id": "5e20a8af",
   "metadata": {},
   "source": [
    "**Sol:**\n",
    "\n",
    "'Remember, remember, the fifth of July.'.split() -- It will split all element after space in the list\n",
    "\n",
    "'-'.join('There can only one.'.split()) -- It will join element with \"-\" wherever there is space in between string\n"
   ]
  },
  {
   "cell_type": "code",
   "execution_count": 9,
   "id": "35af651e",
   "metadata": {},
   "outputs": [
    {
     "data": {
      "text/plain": [
       "['Remember,', 'remember,', 'the', 'fifth', 'of', 'July.']"
      ]
     },
     "execution_count": 9,
     "metadata": {},
     "output_type": "execute_result"
    }
   ],
   "source": [
    "'Remember, remember, the fifth of July.'.split()"
   ]
  },
  {
   "cell_type": "code",
   "execution_count": 10,
   "id": "76959765",
   "metadata": {},
   "outputs": [
    {
     "data": {
      "text/plain": [
       "'There-can-only-one.'"
      ]
     },
     "execution_count": 10,
     "metadata": {},
     "output_type": "execute_result"
    }
   ],
   "source": [
    "'-'.join('There can only one.'.split())"
   ]
  },
  {
   "cell_type": "markdown",
   "id": "f9cb4710",
   "metadata": {},
   "source": [
    "### Q-9 What are the methods for right-justifying, left-justifying, and centering a string?"
   ]
  },
  {
   "cell_type": "markdown",
   "id": "19ea5a39",
   "metadata": {},
   "source": [
    "**Sol** \n",
    "\n",
    "They are done by method using rjust (right-justifying), ljust (left-justifying) & center (for center) in the string"
   ]
  },
  {
   "cell_type": "code",
   "execution_count": 12,
   "id": "92a7b4ff",
   "metadata": {},
   "outputs": [
    {
     "data": {
      "text/plain": [
       "'Ayush               '"
      ]
     },
     "execution_count": 12,
     "metadata": {},
     "output_type": "execute_result"
    }
   ],
   "source": [
    "\"Ayush\".ljust(20)"
   ]
  },
  {
   "cell_type": "markdown",
   "id": "73dee5db",
   "metadata": {},
   "source": [
    "### Q-10 What is the best way to remove whitespace characters from the start or end?"
   ]
  },
  {
   "cell_type": "markdown",
   "id": "666397c5",
   "metadata": {},
   "source": [
    "**Sol**\n",
    "\n",
    "The best way to remove the whitespace from the characters from start to end is with using .strip() method."
   ]
  },
  {
   "cell_type": "code",
   "execution_count": 14,
   "id": "75ce8509",
   "metadata": {},
   "outputs": [
    {
     "data": {
      "text/plain": [
       "'Ayush Gandhi'"
      ]
     },
     "execution_count": 14,
     "metadata": {},
     "output_type": "execute_result"
    }
   ],
   "source": [
    "\"     Ayush Gandhi    \".strip()"
   ]
  },
  {
   "cell_type": "code",
   "execution_count": null,
   "id": "3ece1e61",
   "metadata": {},
   "outputs": [],
   "source": []
  }
 ],
 "metadata": {
  "kernelspec": {
   "display_name": "Python 3 (ipykernel)",
   "language": "python",
   "name": "python3"
  },
  "language_info": {
   "codemirror_mode": {
    "name": "ipython",
    "version": 3
   },
   "file_extension": ".py",
   "mimetype": "text/x-python",
   "name": "python",
   "nbconvert_exporter": "python",
   "pygments_lexer": "ipython3",
   "version": "3.9.15"
  }
 },
 "nbformat": 4,
 "nbformat_minor": 5
}
