{
 "cells": [
  {
   "cell_type": "markdown",
   "id": "62768701",
   "metadata": {},
   "source": [
    "### Q-1 What is the name of the feature responsible for generating Regex objects?"
   ]
  },
  {
   "cell_type": "markdown",
   "id": "89a8b33f",
   "metadata": {},
   "source": [
    "**Sol:**\n",
    "\n",
    "The function re.complie() return Regex objects."
   ]
  },
  {
   "cell_type": "markdown",
   "id": "7545be60",
   "metadata": {},
   "source": [
    "### Q-2. Why do raw strings often appear in Regex objects?"
   ]
  },
  {
   "cell_type": "markdown",
   "id": "9d531715",
   "metadata": {},
   "source": [
    "**Sol:**\n",
    "\n",
    "Raw strings are used so that backslashes don't have to be escaped."
   ]
  },
  {
   "cell_type": "markdown",
   "id": "b626c2e9",
   "metadata": {},
   "source": [
    "### Q-3. What is the return value of the search() method?"
   ]
  },
  {
   "cell_type": "markdown",
   "id": "43aa99cd",
   "metadata": {},
   "source": [
    "**Sol:**\n",
    "\n",
    ".search() function searches the string for a match, and returns the object if there is a match."
   ]
  },
  {
   "cell_type": "markdown",
   "id": "e8d94dc4",
   "metadata": {},
   "source": [
    "### Q-4. From a Match item, how do you get the actual strings that match the pattern?"
   ]
  },
  {
   "cell_type": "markdown",
   "id": "2f40ecab",
   "metadata": {},
   "source": [
    "**Sol:**\n",
    "\n",
    "The .group() method returns the actual strings that matcht the pattern."
   ]
  },
  {
   "cell_type": "markdown",
   "id": "fe57625d",
   "metadata": {},
   "source": [
    "### Q-5. In the regex which created from the r'(\\d\\d\\d)-(\\d\\d\\d-\\d\\d\\d\\d)', what does group zero cover? Group 2? Group 1?"
   ]
  },
  {
   "cell_type": "markdown",
   "id": "cc04156b",
   "metadata": {},
   "source": [
    "**Sol:**\n",
    "\n",
    "Group 0 is the entire match, while group 1 is the 1st set of paranthesis and group 2 is the 2nd set of paranthesis. "
   ]
  },
  {
   "cell_type": "markdown",
   "id": "c415e50b",
   "metadata": {},
   "source": [
    "### Q-6. In standard expression syntax, parentheses and intervals have distinct meanings. How can you tell a regex that you want it to fit real parentheses and periods?"
   ]
  },
  {
   "cell_type": "markdown",
   "id": "90cd182e",
   "metadata": {},
   "source": [
    "**Sol:**\n",
    "\n",
    "Paranthesis & Periods can be escape through blackslash (\\)."
   ]
  },
  {
   "cell_type": "markdown",
   "id": "152bf944",
   "metadata": {},
   "source": [
    "### Q-7. The findall() method returns a string list or a list of string tuples. What causes it to return one of the two options?"
   ]
  },
  {
   "cell_type": "markdown",
   "id": "ef8c70cd",
   "metadata": {},
   "source": [
    "**Sol:**\n",
    "\n",
    "If the regex has no group, a list of string is returned while if it has groups a list of tuple of string is return."
   ]
  },
  {
   "cell_type": "markdown",
   "id": "d524e722",
   "metadata": {},
   "source": [
    "### Q-8. In standard expressions, what does the | character mean?"
   ]
  },
  {
   "cell_type": "markdown",
   "id": "adafb2ac",
   "metadata": {},
   "source": [
    "**Sol:**\n",
    "\n",
    "In standard expression, \"|\" means or between two objects."
   ]
  },
  {
   "cell_type": "markdown",
   "id": "b051557f",
   "metadata": {},
   "source": [
    "### Q-9. In regular expressions, what does the character ? stand for?"
   ]
  },
  {
   "cell_type": "markdown",
   "id": "f6fb2f01",
   "metadata": {},
   "source": [
    "**Sol:**\n",
    "\n",
    "The character \"?\" mean the match zero or one from the proceeding group."
   ]
  },
  {
   "cell_type": "markdown",
   "id": "c5611721",
   "metadata": {},
   "source": [
    "### Q-10.In regular expressions, what is the difference between the + and * characters?"
   ]
  },
  {
   "cell_type": "markdown",
   "id": "1275b9c2",
   "metadata": {},
   "source": [
    "**Sol:**\n",
    "\n",
    "The \"+\" matches one or more, while \"*\" matches zero or more."
   ]
  },
  {
   "cell_type": "markdown",
   "id": "cf9f43eb",
   "metadata": {},
   "source": [
    "### Q-11. What is the difference between {4} and {4,5} in regular expression?"
   ]
  },
  {
   "cell_type": "markdown",
   "id": "c0931bec",
   "metadata": {},
   "source": [
    "**Sol:**\n",
    "\n",
    "The {4} matches exactly four instances of the preceding group, while {4,5} matches between four and five instances. "
   ]
  },
  {
   "cell_type": "markdown",
   "id": "9163f149",
   "metadata": {},
   "source": [
    "### Q-12. What do you mean by the \\d, \\w, and \\s shorthand character classes signify in regular expressions?"
   ]
  },
  {
   "cell_type": "markdown",
   "id": "2a20793b",
   "metadata": {},
   "source": [
    "**Sol:**\n",
    "\n",
    "The \\d mathces single, \\w matches, and \\s matches space."
   ]
  },
  {
   "cell_type": "markdown",
   "id": "e876f112",
   "metadata": {},
   "source": [
    "### Q-13. What do means by \\D, \\W, and \\S shorthand character classes signify in regular expressions?"
   ]
  },
  {
   "cell_type": "markdown",
   "id": "0105e49e",
   "metadata": {},
   "source": [
    "**Sol:**\n",
    "\n",
    "The \\D matches which is not digit, likewise \\W matches matches that is not word, \\S mathces which is not space."
   ]
  },
  {
   "cell_type": "markdown",
   "id": "a4c3343b",
   "metadata": {},
   "source": [
    "### Q-14. What is the difference between .\"*\"? and .* ?"
   ]
  },
  {
   "cell_type": "markdown",
   "id": "7b63e708",
   "metadata": {},
   "source": [
    "**Sol:**\n",
    "\n",
    "The \"?\" character used after quantifier like \"*\", \"+\", \"?\" makes quantifier non-greedy. However \"?\" character itself, without preceding quantifier does not have any special meaning."
   ]
  },
  {
   "cell_type": "markdown",
   "id": "9db61eed",
   "metadata": {},
   "source": [
    "### Q-15. What is the syntax for matching both numbers and lowercase letters with a character class?"
   ]
  },
  {
   "cell_type": "markdown",
   "id": "7b98ad3b",
   "metadata": {},
   "source": [
    "**Sol:**\n",
    "\n",
    "The syntax for matching both number & lowercase letter within class is square brackets '[]' which denote class in regex, inside the character class \"0-9\" matches the digit from 0-9 & the range \"a-z\" matches from a-z."
   ]
  },
  {
   "cell_type": "markdown",
   "id": "dfdbc8df",
   "metadata": {},
   "source": [
    "### Q-16. What is the procedure for making a normal expression in regax case insensitive?"
   ]
  },
  {
   "cell_type": "markdown",
   "id": "2dddf0ee",
   "metadata": {},
   "source": [
    "**Sol:**\n",
    "\n",
    "To make normal expression in regex case insensitive, \"re.IGNORECASE\" can be use."
   ]
  },
  {
   "cell_type": "markdown",
   "id": "370798c3",
   "metadata": {},
   "source": [
    "### 17. What does the . character normally match? What does it match if re.DOTALL is passed as 2nd argument in re.compile()?"
   ]
  },
  {
   "cell_type": "markdown",
   "id": "86fb6db4",
   "metadata": {},
   "source": [
    "**Sol:**\n",
    "\n",
    "In normal match, \".\" matches any character except newline character. \n",
    "\n",
    "If re.DOTALL is passed to 2nd argument in re.complile(), it doesn't match any character."
   ]
  },
  {
   "cell_type": "markdown",
   "id": "45ca4c9b",
   "metadata": {},
   "source": [
    "### Q-18. If numReg = re.compile(r'\\d+'), what will numRegex.sub('X', '11 drummers, 10 pipers, five rings, 4 hen') return?"
   ]
  },
  {
   "cell_type": "markdown",
   "id": "57277001",
   "metadata": {},
   "source": [
    "### **Sol:**\n",
    "\n",
    "It will return numeric substring replace by \"X\", i.e. X drummers, X pipers, five rings, X hen"
   ]
  },
  {
   "cell_type": "code",
   "execution_count": 4,
   "id": "7438911c",
   "metadata": {},
   "outputs": [],
   "source": [
    "import re\n",
    "numReg = re.compile(r'\\d+')\n",
    "\n",
    "r = numReg.sub('X', '11 drummers, 10 pipers, five rings, 4 hen')"
   ]
  },
  {
   "cell_type": "code",
   "execution_count": 5,
   "id": "57aab393",
   "metadata": {},
   "outputs": [
    {
     "name": "stdout",
     "output_type": "stream",
     "text": [
      "X drummers, X pipers, five rings, X hen\n"
     ]
    }
   ],
   "source": [
    "print(r)"
   ]
  },
  {
   "cell_type": "markdown",
   "id": "1e16f990",
   "metadata": {},
   "source": [
    "### Q-19. What does passing re.VERBOSE as the 2nd argument to re.compile() allow to do?"
   ]
  },
  {
   "cell_type": "markdown",
   "id": "dc09118f",
   "metadata": {},
   "source": [
    "**Sol:**\n",
    "\n",
    "Passing re.VERBOSE as 2nd argument to re.compile() allows to write more readable & organized regular expressions by ignoring whitespaces & commenting"
   ]
  },
  {
   "cell_type": "markdown",
   "id": "30765a6d",
   "metadata": {},
   "source": [
    "### Q-20. How would you write a regex that match a number with comma for every three digits? It must match the given following:\n",
    "\n",
    "'42'\n",
    "\n",
    "'1,234'\n",
    "\n",
    "'6,368,745'\n",
    "\n",
    "but not the following:\n",
    "\n",
    "'12,34,567' (which has only two digits between the commas)\n",
    "\n",
    "'1234' (which lacks commas)\n"
   ]
  },
  {
   "cell_type": "markdown",
   "id": "ca4d5eea",
   "metadata": {},
   "source": [
    "**Sol:** \n",
    "\n",
    "We will write the following regex that match a number with comma for every three digit: **r'^\\d{1,3}(,\\d{3})*$'**"
   ]
  },
  {
   "cell_type": "markdown",
   "id": "945692b0",
   "metadata": {},
   "source": [
    "### Q-21. How would you write a regex that matches the full name of someone whose last name is Watanabe? You can assume that the first name that comes before it will always be one word that begins with a capital letter. The regex must match the following:\n",
    "\n",
    "'Haruto Watanabe'\n",
    "\n",
    "'Alice Watanabe'\n",
    "\n",
    "'RoboCop Watanabe'\n",
    "\n",
    "but not the following:\n",
    "\n",
    "'haruto Watanabe' (where the first name is not capitalized)\n",
    "\n",
    "'Mr. Watanabe' (where the preceding word has a nonletter character)\n",
    "\n",
    "\n",
    "'Watanabe' (which has no first name)\n",
    "\n",
    "'Haruto watanabe' (where Watanabe is not capitalized)\n"
   ]
  },
  {
   "cell_type": "markdown",
   "id": "cc8a4d73",
   "metadata": {},
   "source": [
    "**Sol:**\n",
    "\n",
    "We will write the following regex that match full name of someone whose last name is Watanabe: **r'^[A-Z][a-zA-Z]* Watanabe$'**"
   ]
  },
  {
   "cell_type": "markdown",
   "id": "1b5cda37",
   "metadata": {},
   "source": [
    "### Q-22. How would you write a regex that matches a sentence where the first word is either Alice, Bob, or Carol; the second word is either eats, pets, or throws; the third word is apples, cats, or baseballs; and the sentence ends with a period? This regex should be case-insensitive. It must match the following:\n",
    "\n",
    "'Alice eats apples.'\n",
    "\n",
    "'Bob pets cats.'\n",
    "\n",
    "'Carol throws baseballs.'\n",
    "\n",
    "'Alice throws Apples.'\n",
    "\n",
    "'BOB EATS CATS.'\n",
    "\n",
    "but not the following:\n",
    "\n",
    "'RoboCop eats apples.'\n",
    "\n",
    "'ALICE THROWS FOOTBALLS.'\n",
    "\n",
    "'Carol eats 7 cats.'\n"
   ]
  },
  {
   "cell_type": "markdown",
   "id": "8787f165",
   "metadata": {},
   "source": [
    "**Sol:**\n",
    "\n",
    "We will write the following regex that irst word is either Alice, Bob, or Carol; the second word is either eats, pets, or throws; the third word is apples, cats, or baseballs; and the sentence ends with a period: "
   ]
  }
 ],
 "metadata": {
  "kernelspec": {
   "display_name": "Python 3 (ipykernel)",
   "language": "python",
   "name": "python3"
  },
  "language_info": {
   "codemirror_mode": {
    "name": "ipython",
    "version": 3
   },
   "file_extension": ".py",
   "mimetype": "text/x-python",
   "name": "python",
   "nbconvert_exporter": "python",
   "pygments_lexer": "ipython3",
   "version": "3.9.16"
  }
 },
 "nbformat": 4,
 "nbformat_minor": 5
}
