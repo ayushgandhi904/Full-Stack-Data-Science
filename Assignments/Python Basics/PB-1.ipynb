{
 "cells": [
  {
   "cell_type": "markdown",
   "id": "cb3409bb",
   "metadata": {},
   "source": [
    "### Q-1 In the below elements which of them are values or an expression? eg:- values can be integer or string and expressions will be mathematical operators.\n",
    "\n",
    "- * \n",
    "- 'hello'\n",
    "- -87.8\n",
    "- -\n",
    "- / \n",
    "- +\t\n",
    "- 6 "
   ]
  },
  {
   "cell_type": "markdown",
   "id": "5365de6c",
   "metadata": {},
   "source": [
    "#### Sol:\n",
    "\n",
    "**(*)- Mathematcial operator**\n",
    "\n",
    "**(\"hello\") - Value**\n",
    "\n",
    "**(-87.8) - Value**\n",
    "\n",
    "**(-) - Mathematical operator**\n",
    "\n",
    "**(/) - Mathematcal operator**\n",
    "\n",
    "**(+) - Mathematical operator**\n",
    "\n",
    "**(6) - Value**"
   ]
  },
  {
   "cell_type": "markdown",
   "id": "c7c39bb2",
   "metadata": {},
   "source": [
    "### Q-2 What is the difference between string and variable?"
   ]
  },
  {
   "cell_type": "markdown",
   "id": "3017029d",
   "metadata": {},
   "source": [
    "**Sol:**\n",
    "\n",
    "*Variables are the different symbols or combination of expression to store or assign the data in program*\n",
    "\n",
    "*String are expression store in the form \" \" or ' '*"
   ]
  },
  {
   "cell_type": "markdown",
   "id": "aca90979",
   "metadata": {},
   "source": [
    "### Q-3 Describe three different data types"
   ]
  },
  {
   "cell_type": "markdown",
   "id": "e72b3357",
   "metadata": {},
   "source": [
    "**Sol:**\n",
    "\n",
    "*1- Boolean(bol) - The value in the form of \"True & False\"*\n",
    "\n",
    "*2- Integer (int) - The integer value including all negative to positive integer including 0*\n",
    "\n",
    "*3- String (str) - Any value or words in form of expression in \" \" or ' '*"
   ]
  },
  {
   "cell_type": "markdown",
   "id": "6a52ca6d",
   "metadata": {},
   "source": [
    "### Q-4 What is an expression made up of? What do all expressions do?"
   ]
  },
  {
   "cell_type": "markdown",
   "id": "feb33c34",
   "metadata": {},
   "source": [
    "**Sol:**\n",
    "\n",
    "*An expression are made up of logical operators, which performs & interprets some sort of other value or results*"
   ]
  },
  {
   "cell_type": "markdown",
   "id": "6424e09a",
   "metadata": {},
   "source": [
    "### Q-5 This assignment statements, like spam = 10. What is the difference between an expression and a statement?"
   ]
  },
  {
   "cell_type": "markdown",
   "id": "c7013ac7",
   "metadata": {},
   "source": [
    "**Sol:**\n",
    "\n",
    "*An expression is the combination of values to complile & return the new value but orginal value doensn't changes*\n",
    "\n",
    "*A statement is unit of execution which & does not return anything (like current spam = 10, whrere value got stored)*"
   ]
  },
  {
   "cell_type": "markdown",
   "id": "3f4f187b",
   "metadata": {},
   "source": [
    "### Q-6 After running the following code, what does the variable bacon contain?\n",
    "bacon = 22\n",
    "\n",
    "bacon + 1"
   ]
  },
  {
   "cell_type": "markdown",
   "id": "5ee602cc",
   "metadata": {},
   "source": [
    "**Sol:**\n",
    "\n",
    "*The variable \"bacon\" stored the value 22, after 1 is added to bacon which will result 23, but bacon value remains same as early i.e. 22*"
   ]
  },
  {
   "cell_type": "code",
   "execution_count": 1,
   "id": "8e5333c8",
   "metadata": {},
   "outputs": [
    {
     "data": {
      "text/plain": [
       "23"
      ]
     },
     "execution_count": 1,
     "metadata": {},
     "output_type": "execute_result"
    }
   ],
   "source": [
    "bacon = 22\n",
    "bacon + 1"
   ]
  },
  {
   "cell_type": "code",
   "execution_count": 2,
   "id": "c04566c3",
   "metadata": {},
   "outputs": [
    {
     "data": {
      "text/plain": [
       "22"
      ]
     },
     "execution_count": 2,
     "metadata": {},
     "output_type": "execute_result"
    }
   ],
   "source": [
    "bacon"
   ]
  },
  {
   "cell_type": "markdown",
   "id": "1605c3c0",
   "metadata": {},
   "source": [
    "### Q-7 What should the values of the following two terms be?\n",
    "\n",
    "'spam' + 'spamspam'\n",
    "\n",
    "'spam' * 3\n"
   ]
  },
  {
   "cell_type": "markdown",
   "id": "9f387c53",
   "metadata": {},
   "source": [
    "**Sol:**\n",
    "\n",
    "*they should give the same expression as \"spamspamspam\" as \"spam\"+\"spamspam\" is added & (spamx3) also results in same*"
   ]
  },
  {
   "cell_type": "code",
   "execution_count": 3,
   "id": "5b868815",
   "metadata": {},
   "outputs": [
    {
     "name": "stdout",
     "output_type": "stream",
     "text": [
      "spamspamspam\n",
      "spamspamspam\n"
     ]
    }
   ],
   "source": [
    "print (\"spam\" + \"spamspam\")\n",
    "print (\"spam\"*3)"
   ]
  },
  {
   "cell_type": "markdown",
   "id": "0044a874",
   "metadata": {},
   "source": [
    "### Q-8 Why is eggs a valid variable name while 100 is invalid?"
   ]
  },
  {
   "cell_type": "markdown",
   "id": "dd513cdf",
   "metadata": {},
   "source": [
    "**Sol:**\n",
    "\n",
    "*As per rule, variable name cannot start with number or special character, thus 100 is the invalid variable*"
   ]
  },
  {
   "cell_type": "markdown",
   "id": "614ef71c",
   "metadata": {},
   "source": [
    "### Q-9 What three functions can be used to get the integer, floating-point number, or string version of a value?"
   ]
  },
  {
   "cell_type": "markdown",
   "id": "adc78ea7",
   "metadata": {},
   "source": [
    "**Sol:**\n",
    "\n",
    "*To get the integer for the value --> int(x)*\n",
    "\n",
    "*To get floatig point for the value --> float(x)*\n",
    "\n",
    "*To get the string version of a value --> str(x)*\n",
    "\n",
    "*whrere (x) is the variable value which we need to get in different function type*"
   ]
  },
  {
   "cell_type": "markdown",
   "id": "ad316609",
   "metadata": {},
   "source": [
    "### Q- 10 Why does this expression cause an error? How can you fix it?\n",
    "'I have eaten ' + 99 + ' burritos.'\n"
   ]
  },
  {
   "cell_type": "markdown",
   "id": "be79e9f5",
   "metadata": {},
   "source": [
    "**Sol:**\n",
    "\n",
    "*While performing addition operation, string doesn't get add with integer data type, so we need to convert integer to string to get the operation perform, i.e. to str(99), error will be fixed*"
   ]
  },
  {
   "cell_type": "code",
   "execution_count": 4,
   "id": "84c9ea55",
   "metadata": {},
   "outputs": [
    {
     "data": {
      "text/plain": [
       "'I have eaten99buritos'"
      ]
     },
     "execution_count": 4,
     "metadata": {},
     "output_type": "execute_result"
    }
   ],
   "source": [
    "\"I have eaten\" + str(99) + \"buritos\""
   ]
  }
 ],
 "metadata": {
  "kernelspec": {
   "display_name": "Python 3 (ipykernel)",
   "language": "python",
   "name": "python3"
  },
  "language_info": {
   "codemirror_mode": {
    "name": "ipython",
    "version": 3
   },
   "file_extension": ".py",
   "mimetype": "text/x-python",
   "name": "python",
   "nbconvert_exporter": "python",
   "pygments_lexer": "ipython3",
   "version": "3.9.15"
  }
 },
 "nbformat": 4,
 "nbformat_minor": 5
}
