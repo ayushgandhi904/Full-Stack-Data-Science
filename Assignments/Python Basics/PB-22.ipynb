{
  "nbformat": 4,
  "nbformat_minor": 0,
  "metadata": {
    "colab": {
      "provenance": []
    },
    "kernelspec": {
      "name": "python3",
      "display_name": "Python 3"
    },
    "language_info": {
      "name": "python"
    }
  },
  "cells": [
    {
      "cell_type": "markdown",
      "source": [
        "### 1. What is the result of the code, and explain?\n",
        "\n"
      ],
      "metadata": {
        "id": "c1szMTt7W-9P"
      }
    },
    {
      "cell_type": "code",
      "source": [
        "X = \"iNeuron\"\n",
        "def func():\n",
        "  print(X)\n",
        "func()"
      ],
      "metadata": {
        "colab": {
          "base_uri": "https://localhost:8080/"
        },
        "id": "bWLGmMxBXLE4",
        "outputId": "510559a6-b48a-44e8-db53-e81426d01492"
      },
      "execution_count": 1,
      "outputs": [
        {
          "output_type": "stream",
          "name": "stdout",
          "text": [
            "iNeuron\n"
          ]
        }
      ]
    },
    {
      "cell_type": "markdown",
      "source": [
        "- The variable X is assigned the string value 'iNeuron'.\n",
        "- The func() function is defined, but it does not contain any code inside its body.\n",
        "The func() function is called using func().\n",
        "- Since the func() function does not have any code to execute, it returns immediately.\n",
        "- It accesses the variable X inside its body.\n",
        "- When the function is called, it prints the value of X, which is 'iNeuron'."
      ],
      "metadata": {
        "id": "Lup4hZ8ZXSrP"
      }
    },
    {
      "cell_type": "markdown",
      "source": [
        "### 2. What is the result of the code, and explain?\n"
      ],
      "metadata": {
        "id": "RoU6ni2MW-6T"
      }
    },
    {
      "cell_type": "code",
      "source": [
        "X = \"iNeuron\"\n",
        "def func():\n",
        "  X = \"NI!\"\n",
        "\n",
        "func()\n",
        "print(X)"
      ],
      "metadata": {
        "colab": {
          "base_uri": "https://localhost:8080/"
        },
        "id": "mZXLLIt7Xv81",
        "outputId": "7bcb580d-6998-494b-8ad1-486e89eb6278"
      },
      "execution_count": 2,
      "outputs": [
        {
          "output_type": "stream",
          "name": "stdout",
          "text": [
            "iNeuron\n"
          ]
        }
      ]
    },
    {
      "cell_type": "markdown",
      "source": [
        "- The variable X is assigned the string value 'iNeuron'.\n",
        "- The func() function is defined, but it does not contain any code to execute.\n",
        "- The func() function is called using func().\n",
        "- Within the func() function, a new local variable X is assigned the string value 'NI!'.\n",
        "- Since the func() function does not have any code after the assignment, it returns immediately without performing any other action.\n",
        "- The print(X) statement outside the func() function is then executed.\n",
        "It prints the value of the global variable X, which is still 'iNeuron' because the assignment within the function created a new local variable with the same name, shadowing the global variable."
      ],
      "metadata": {
        "id": "WrZqXbJ9W-3j"
      }
    },
    {
      "cell_type": "markdown",
      "source": [
        "### 3. What does this code print, and why?\n"
      ],
      "metadata": {
        "id": "qEWxv5u3W-0q"
      }
    },
    {
      "cell_type": "code",
      "source": [
        "X = \"iNeuron\"\n",
        "def func():\n",
        "  X = \"NI\"\n",
        "  print(X)\n",
        "\n",
        "func()\n",
        "print(X)"
      ],
      "metadata": {
        "colab": {
          "base_uri": "https://localhost:8080/"
        },
        "id": "LUTRFLY8YIN6",
        "outputId": "9f25a412-b791-4b85-9a76-5069fdd607bf"
      },
      "execution_count": 3,
      "outputs": [
        {
          "output_type": "stream",
          "name": "stdout",
          "text": [
            "NI\n",
            "iNeuron\n"
          ]
        }
      ]
    },
    {
      "cell_type": "markdown",
      "source": [
        "- The variable X is assigned the string value 'iNeuron'.\n",
        "- The func() function is defined, and within its body, a new local variable X is assigned the string value 'NI'.\n",
        "- Inside the function, the print(X) statement is executed, which prints the value of the local variable X, which is 'NI'.\n",
        "- The func() function is called using func(), so the code inside the function is executed.\n",
        "- After the function call, the print(X) statement outside the function is executed.\n",
        "- It prints the value of the global variable X, which is 'iNeuron' because the assignment within the function creates a new local variable X, separate from the global variable."
      ],
      "metadata": {
        "id": "K-ivwYwbW-yB"
      }
    },
    {
      "cell_type": "markdown",
      "source": [
        "### 4. What output does this code produce? Why?\n"
      ],
      "metadata": {
        "id": "K_6VuGoDW-vF"
      }
    },
    {
      "cell_type": "code",
      "source": [
        "X = \"iNeuron\"\n",
        "def func():\n",
        "  global X\n",
        "  X = \"NI\"\n",
        "\n",
        "func()\n",
        "print(X)"
      ],
      "metadata": {
        "colab": {
          "base_uri": "https://localhost:8080/"
        },
        "id": "DCV6siDtYpfK",
        "outputId": "437f830a-b591-4856-f898-ab8015ac4ea6"
      },
      "execution_count": 4,
      "outputs": [
        {
          "output_type": "stream",
          "name": "stdout",
          "text": [
            "NI\n"
          ]
        }
      ]
    },
    {
      "cell_type": "markdown",
      "source": [
        "- The variable X is assigned the string value 'iNeuron'.\n",
        "- The func() function is defined, and within its body, the global keyword is used to indicate that the variable X being referenced should be the global variable, not a local variable.\n",
        "- Inside the function, the assignment statement X = 'NI' modifies the value of the global variable X to 'NI'.\n",
        "- The func() function is called using func(), so the code inside the function is executed.\n",
        "- After the function call, the print(X) statement is executed, which prints the value of the global variable X, which has been modified to 'NI' within the function."
      ],
      "metadata": {
        "id": "chS_7oPwW-qK"
      }
    },
    {
      "cell_type": "markdown",
      "source": [
        "### 5. What about this code—what’s the output, and why?\n"
      ],
      "metadata": {
        "id": "oMIybNCQW-nE"
      }
    },
    {
      "cell_type": "code",
      "source": [
        "X = \"iNeuron\"\n",
        "def func():\n",
        "  X = \"NI\"\n",
        "  def nested():\n",
        "    print(X)\n",
        "    nested()\n",
        "\n",
        "func()\n",
        "X"
      ],
      "metadata": {
        "colab": {
          "base_uri": "https://localhost:8080/",
          "height": 36
        },
        "id": "uPZ4tbL8Y9hO",
        "outputId": "fb6f8a67-8f6c-457e-88f3-34d77d485985"
      },
      "execution_count": 6,
      "outputs": [
        {
          "output_type": "execute_result",
          "data": {
            "text/plain": [
              "'iNeuron'"
            ],
            "application/vnd.google.colaboratory.intrinsic+json": {
              "type": "string"
            }
          },
          "metadata": {},
          "execution_count": 6
        }
      ]
    },
    {
      "cell_type": "markdown",
      "source": [
        "- The variable X is assigned the string value 'iNeuron'.\n",
        "- The func() function is defined, and within its body, a new local variable X is assigned the string value 'NI'.\n",
        "- Inside the func() function, another nested function nested() is defined.\n",
        "- Within the nested() function, it attempts to print the value of X.\n",
        "When the nested() function is called, it looks for the variable X locally within its own scope.\n",
        "- Since there is no local variable X defined within the nested() function, it looks for X in the nearest enclosing scope, which is the func() function.\n",
        "- It finds the local variable X defined within the func() function, which has the value 'NI'.\n",
        "- The print(X) statement within the nested() function then prints 'NI'."
      ],
      "metadata": {
        "id": "DcGYCSWeW-gr"
      }
    },
    {
      "cell_type": "markdown",
      "source": [
        "### 6. How about this code: what is its output in Python 3, and explain?"
      ],
      "metadata": {
        "id": "oP4fSP4uZaD0"
      }
    },
    {
      "cell_type": "code",
      "execution_count": 8,
      "metadata": {
        "id": "JIyHI0uBW5oe"
      },
      "outputs": [],
      "source": [
        "def func():\n",
        "  X = \"NI\"\n",
        "  def nested():\n",
        "    nonlocal X\n",
        "    X = \"Spam\"\n",
        "    nested()\n",
        "    print(X)\n",
        "    \n",
        "func()"
      ]
    },
    {
      "cell_type": "markdown",
      "source": [
        "- The func() function is defined, and within its body, a new local variable X is assigned the string value 'NI'.\n",
        "- Inside the func() function, another nested function nested() is defined.\n",
        "- Within the nested() function, the nonlocal keyword is used to indicate that the variable X being referenced should be the nearest enclosing variable, not a local variable.\n",
        "- The nonlocal keyword allows modification of the variable X from the nearest enclosing scope, which is the func() function in this case.\n",
        "- Inside the nested() function, the assignment statement X = 'Spam' modifies the value of the variable X in the func() function to 'Spam'.\n",
        "- The nested() function is called within the func() function.\n",
        "- After the execution of the nested() function, the print(X) statement in the func() function is executed.\n",
        "- It prints the value of the variable X within the func() function, which has been modified to 'Spam' by the assignment statement within the nested() function.\n"
      ],
      "metadata": {
        "id": "kX1zzu8uZtHA"
      }
    }
  ]
}