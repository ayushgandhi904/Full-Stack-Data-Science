{
  "nbformat": 4,
  "nbformat_minor": 0,
  "metadata": {
    "colab": {
      "provenance": []
    },
    "kernelspec": {
      "name": "python3",
      "display_name": "Python 3"
    },
    "language_info": {
      "name": "python"
    }
  },
  "cells": [
    {
      "cell_type": "markdown",
      "source": [
        "### 1. What advantages do Excel spreadsheets have over CSV spreadsheets?"
      ],
      "metadata": {
        "id": "XdIgYHv9n2lQ"
      }
    },
    {
      "cell_type": "markdown",
      "source": [
        "Excel spreadsheets have several advantages over CSV (Comma-Separated Values) spreadsheets in Data Formatting, Multiple Sheets & Workbooks, Data Validation, Functions & Formulaes, Graphical Representation or also for data analysis tools."
      ],
      "metadata": {
        "id": "CmlGfaEsn2oC"
      }
    },
    {
      "cell_type": "markdown",
      "source": [
        "### 2.What do you pass to csv.reader() and csv.writer() to create reader and writer objects?"
      ],
      "metadata": {
        "id": "k-M1JXgbn2tc"
      }
    },
    {
      "cell_type": "markdown",
      "source": [
        "\n",
        "To create reader and writer objects using the csv.reader() and csv.writer() functions in the csv module, you need to pass a file object as an argument."
      ],
      "metadata": {
        "id": "kLdpbIQJn2wY"
      }
    },
    {
      "cell_type": "markdown",
      "source": [
        "### 3. What modes do File objects for reader and writer objects need to be opened in?"
      ],
      "metadata": {
        "id": "QCL683_Mn2zR"
      }
    },
    {
      "cell_type": "markdown",
      "source": [
        "- For reader objects in the csv module, the associated file object needs to be opened in text mode with the mode set to 'r' (read mode). This allows the reader object to read data from the file.\n",
        "\n",
        "- For writer objects, the associated file object needs to be opened in text mode with the mode set to 'w' (write mode). This allows the writer object to write data to the file."
      ],
      "metadata": {
        "id": "Bu3BJEPYn22I"
      }
    },
    {
      "cell_type": "markdown",
      "source": [
        "### 4. What method takes a list argument and writes it to a CSV file?"
      ],
      "metadata": {
        "id": "alDJLHCdn24-"
      }
    },
    {
      "cell_type": "markdown",
      "source": [
        "The writerow() method in the csv.writer object is used to write a list of values as a row to a CSV file. Each element in the list corresponds to a column in the CSV file."
      ],
      "metadata": {
        "id": "utI3bMBun274"
      }
    },
    {
      "cell_type": "markdown",
      "source": [
        "### 5. What do the keyword arguments delimiter and line terminator do?"
      ],
      "metadata": {
        "id": "ckVfNNp9n2-q"
      }
    },
    {
      "cell_type": "markdown",
      "source": [
        "The keyword argument delimiter in the csv.writer object specifies the character used to separate fields (columns) in the CSV file. By default, the delimiter is a comma (,), but you can specify a different character"
      ],
      "metadata": {
        "id": "R1Z6zlFAn3Ew"
      }
    },
    {
      "cell_type": "markdown",
      "source": [
        "### 6. What function takes a string of JSON data and returns a Python data structure?"
      ],
      "metadata": {
        "id": "pTtBS1gDpFTv"
      }
    },
    {
      "cell_type": "markdown",
      "source": [
        "The json.loads() function is used to take a string of JSON data and convert it into a Python data structure. The loads() function stands for \"load string\" and is part of the json module in Python's standard library."
      ],
      "metadata": {
        "id": "30lChjRmpFOg"
      }
    },
    {
      "cell_type": "markdown",
      "source": [
        "### 7. What function takes a Python data structure and returns a string of JSON data?"
      ],
      "metadata": {
        "id": "BOXb36KspFJA"
      }
    },
    {
      "cell_type": "markdown",
      "source": [
        "The json.dumps() function is used to take a Python data structure and convert it into a string of JSON data"
      ],
      "metadata": {
        "id": "yA-_wH62pFD3"
      }
    }
  ]
}