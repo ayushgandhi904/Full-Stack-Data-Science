{
 "cells": [
  {
   "cell_type": "markdown",
   "id": "4d7ff930",
   "metadata": {},
   "source": [
    "### Q-1 Why are functions advantageous to have in your programs?"
   ]
  },
  {
   "cell_type": "markdown",
   "id": "a70620b1",
   "metadata": {},
   "source": [
    "Sol:\n",
    "\n",
    "With use of function, we can avoid rewriting the same logic or code again & again."
   ]
  },
  {
   "cell_type": "markdown",
   "id": "65a12e71",
   "metadata": {},
   "source": [
    "### Q-2 When does the code in a function run: when it's specified or when it's called?"
   ]
  },
  {
   "cell_type": "markdown",
   "id": "f1d15f9a",
   "metadata": {},
   "source": [
    "Sol:\n",
    "\n",
    "When \"return\" function is called or specified, code in a function run. "
   ]
  },
  {
   "cell_type": "markdown",
   "id": "918fed49",
   "metadata": {},
   "source": [
    "### Q-3 What statement creates a function?"
   ]
  },
  {
   "cell_type": "markdown",
   "id": "647a1f0c",
   "metadata": {},
   "source": [
    "Sol:\n",
    "\n",
    "When statement \"def function_name():\n",
    "                    return (\"value\")\"\n",
    "is defined, function is called it create the function. "
   ]
  },
  {
   "cell_type": "markdown",
   "id": "f71a62cd",
   "metadata": {},
   "source": [
    "### Q-4 What is the difference between a function and a function call?"
   ]
  },
  {
   "cell_type": "markdown",
   "id": "d1971066",
   "metadata": {},
   "source": [
    "Sol:\n",
    "\n",
    "A function is code that does a particular operation accepting the parameters & returns a result while a function call is the function which calls another function by calling function. "
   ]
  },
  {
   "cell_type": "markdown",
   "id": "98950654",
   "metadata": {},
   "source": [
    "### Q-5 How many global scopes are there in a Python program? How many local scopes?"
   ]
  },
  {
   "cell_type": "markdown",
   "id": "f22f09e4",
   "metadata": {},
   "source": [
    "Sol: \n",
    "\n",
    "There is 1 global & 1 local scopes in Python"
   ]
  },
  {
   "cell_type": "markdown",
   "id": "6584e3e0",
   "metadata": {},
   "source": [
    "### Q-6 What happens to variables in a local scope when the function call returns?"
   ]
  },
  {
   "cell_type": "markdown",
   "id": "478924a9",
   "metadata": {},
   "source": [
    "Sol:\n",
    "\n",
    "When return function calls the return, variables in the local scope are destroyed."
   ]
  },
  {
   "cell_type": "markdown",
   "id": "9b9d5d7e",
   "metadata": {},
   "source": [
    "### Q-7 What is the concept of a return value? Is it possible to have a return value in an expression?"
   ]
  },
  {
   "cell_type": "markdown",
   "id": "68f2d62a",
   "metadata": {},
   "source": [
    "Sol: \n",
    "\n",
    "The value which returns function to caller is called the return value. Yes, it possible to have return value in an expression."
   ]
  },
  {
   "cell_type": "markdown",
   "id": "26bb1070",
   "metadata": {},
   "source": [
    "### Q-8 If a function does not have a return statement, what is the return value of a call to that function?"
   ]
  },
  {
   "cell_type": "markdown",
   "id": "1ac78a90",
   "metadata": {},
   "source": [
    "Sol: \n",
    "\n",
    "If a function does not have a return statement, it return value will of \"None\" type."
   ]
  },
  {
   "cell_type": "markdown",
   "id": "80c8155e",
   "metadata": {},
   "source": [
    "### Q-9 How do you make a function variable refer to the global variable?"
   ]
  },
  {
   "cell_type": "markdown",
   "id": "c8012afd",
   "metadata": {},
   "source": [
    "Sol: If we want to make a function variable refert to the global, use the global keyword in the function."
   ]
  },
  {
   "cell_type": "markdown",
   "id": "178e7e4f",
   "metadata": {},
   "source": [
    "### Q-10 What is the data type of None?"
   ]
  },
  {
   "cell_type": "markdown",
   "id": "874f9c87",
   "metadata": {},
   "source": [
    "Sol: Data type of \"None\" is \"NoneType\" itself."
   ]
  },
  {
   "cell_type": "code",
   "execution_count": 1,
   "id": "e971c9d9",
   "metadata": {},
   "outputs": [
    {
     "data": {
      "text/plain": [
       "NoneType"
      ]
     },
     "execution_count": 1,
     "metadata": {},
     "output_type": "execute_result"
    }
   ],
   "source": [
    "type(None)"
   ]
  },
  {
   "cell_type": "markdown",
   "id": "29e72449",
   "metadata": {},
   "source": [
    "### Q-11 What does the sentence import areallyourpetsnamederic do?"
   ]
  },
  {
   "cell_type": "markdown",
   "id": "cd11caa9",
   "metadata": {},
   "source": [
    "Sol: If any module name \"areallyourpetsnamederic\" exist, it will import the module areallyourpetsnamederic."
   ]
  },
  {
   "cell_type": "code",
   "execution_count": 3,
   "id": "18cddd18",
   "metadata": {},
   "outputs": [
    {
     "ename": "ModuleNotFoundError",
     "evalue": "No module named 'areallyourpetsnamederic'",
     "output_type": "error",
     "traceback": [
      "\u001b[1;31m---------------------------------------------------------------------------\u001b[0m",
      "\u001b[1;31mModuleNotFoundError\u001b[0m                       Traceback (most recent call last)",
      "\u001b[1;32m~\\AppData\\Local\\Temp\\ipykernel_4220\\1791512721.py\u001b[0m in \u001b[0;36m<module>\u001b[1;34m\u001b[0m\n\u001b[1;32m----> 1\u001b[1;33m \u001b[1;32mimport\u001b[0m \u001b[0mareallyourpetsnamederic\u001b[0m\u001b[1;33m\u001b[0m\u001b[1;33m\u001b[0m\u001b[0m\n\u001b[0m\u001b[0;32m      2\u001b[0m \u001b[1;33m\u001b[0m\u001b[0m\n\u001b[0;32m      3\u001b[0m \u001b[1;31m#It doesn't exist & it will be give the error :)\u001b[0m\u001b[1;33m\u001b[0m\u001b[1;33m\u001b[0m\u001b[0m\n",
      "\u001b[1;31mModuleNotFoundError\u001b[0m: No module named 'areallyourpetsnamederic'"
     ]
    }
   ],
   "source": [
    "import areallyourpetsnamederic \n",
    "\n",
    "#It doesn't exist & it will be give the error :)"
   ]
  },
  {
   "cell_type": "markdown",
   "id": "d212d4cc",
   "metadata": {},
   "source": [
    "### Q-12 If you had a bacon() feature in a spam module, what would you call it after importing spam?"
   ]
  },
  {
   "cell_type": "markdown",
   "id": "f2dbba3a",
   "metadata": {},
   "source": [
    "Sol: If we have bacon() feature in spam module, it will be called by spam.bacon()."
   ]
  },
  {
   "cell_type": "markdown",
   "id": "e6140a7d",
   "metadata": {},
   "source": [
    "### Q-13 What can you do to save a programme from crashing if it encounters an error?"
   ]
  },
  {
   "cell_type": "markdown",
   "id": "6832cddc",
   "metadata": {},
   "source": [
    "Sol: To save program from crashing, we can use \"try\" & \"except\" clause for encounting an error."
   ]
  },
  {
   "cell_type": "markdown",
   "id": "9d5ba923",
   "metadata": {},
   "source": [
    "### Q-14 What is the purpose of the try clause? What is the purpose of the except clause?"
   ]
  },
  {
   "cell_type": "markdown",
   "id": "987d259d",
   "metadata": {},
   "source": [
    "Sol: If there is any potential chance of error in program like dtype, Zerodivision etc. we can use \"try\" clause, which can prevent these type of error, where \"except\" clause will run if any exception happens in the try clause."
   ]
  },
  {
   "cell_type": "code",
   "execution_count": null,
   "id": "20700413",
   "metadata": {},
   "outputs": [],
   "source": []
  }
 ],
 "metadata": {
  "kernelspec": {
   "display_name": "Python 3 (ipykernel)",
   "language": "python",
   "name": "python3"
  },
  "language_info": {
   "codemirror_mode": {
    "name": "ipython",
    "version": 3
   },
   "file_extension": ".py",
   "mimetype": "text/x-python",
   "name": "python",
   "nbconvert_exporter": "python",
   "pygments_lexer": "ipython3",
   "version": "3.9.15"
  }
 },
 "nbformat": 4,
 "nbformat_minor": 5
}
