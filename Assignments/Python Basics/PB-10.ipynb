{
  "nbformat": 4,
  "nbformat_minor": 0,
  "metadata": {
    "colab": {
      "provenance": []
    },
    "kernelspec": {
      "name": "python3",
      "display_name": "Python 3"
    },
    "language_info": {
      "name": "python"
    }
  },
  "cells": [
    {
      "cell_type": "markdown",
      "source": [
        "### 1. How do you distinguish between shutil.copy() and shutil.copytree()?"
      ],
      "metadata": {
        "id": "7mt_Ok7zl4MA"
      }
    },
    {
      "cell_type": "markdown",
      "source": [
        "shutil.copy() is used for copying individual files, while shutil.copytree() is used for copying directories along with their contents."
      ],
      "metadata": {
        "id": "bdfCTgajl62U"
      }
    },
    {
      "cell_type": "markdown",
      "source": [
        "### 2. What function is used to rename files??"
      ],
      "metadata": {
        "id": "tH4T5cRyl69E"
      }
    },
    {
      "cell_type": "markdown",
      "source": [
        "The shutil.move() function is commonly used to rename files. "
      ],
      "metadata": {
        "id": "SjFRaVgpl7Aq"
      }
    },
    {
      "cell_type": "markdown",
      "source": [
        "### 3. What is the difference between the delete functions in the send2trash and shutil modules?"
      ],
      "metadata": {
        "id": "zB3aRWBzl7D0"
      }
    },
    {
      "cell_type": "markdown",
      "source": [
        "The send2trash module is a third-party module that allows you to send files and directories to the operating system's trash or recycle bin instead of permanently deleting them. It provides a send2trash() function that moves the specified file or directory to the trash or recycle bin, making it possible to recover them later if needed."
      ],
      "metadata": {
        "id": "TqeIE_S1l7Gz"
      }
    },
    {
      "cell_type": "markdown",
      "source": [
        "### 4.ZipFile objects have a close() method just like File objects’ close() method. What ZipFile method is equivalent to File objects’ open() method?"
      ],
      "metadata": {
        "id": "14LiOL5Al7J7"
      }
    },
    {
      "cell_type": "markdown",
      "source": [
        "The equivalent method in the ZipFile class to the open() method of file objects is the ZipFile() constructor."
      ],
      "metadata": {
        "id": "3eOVDTPfl7Mx"
      }
    },
    {
      "cell_type": "markdown",
      "source": [
        "### 5. Create a programme that searches a folder tree for files with a certain file extension (such as .pdf or .jpg). Copy these files from whatever location they are in to a new folder."
      ],
      "metadata": {
        "id": "11ozgx6Cl7QJ"
      }
    },
    {
      "cell_type": "code",
      "source": [
        "import os\n",
        "import shutil\n",
        "\n",
        "def copy_files_with_extension(source_folder, target_folder, extension):\n",
        "    if not os.path.exists(target_folder):\n",
        "        os.makedirs(target_folder)\n",
        "    for root, _, files in os.walk(source_folder):\n",
        "        for file in files:\n",
        "            if file.endswith(extension):\n",
        "                source_path = os.path.join(root, file)\n",
        "                target_path = os.path.join(target_folder, file)\n",
        "                shutil.copy2(source_path, target_path)\n",
        "                print(f\"Copied {source_path} to {target_path}\")"
      ],
      "metadata": {
        "id": "qGNzjuI_m9Ih"
      },
      "execution_count": 1,
      "outputs": []
    }
  ]
}