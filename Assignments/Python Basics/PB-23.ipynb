{
  "nbformat": 4,
  "nbformat_minor": 0,
  "metadata": {
    "colab": {
      "provenance": []
    },
    "kernelspec": {
      "name": "python3",
      "display_name": "Python 3"
    },
    "language_info": {
      "name": "python"
    }
  },
  "cells": [
    {
      "cell_type": "markdown",
      "source": [
        "### 1. What is the result of the code, and why?"
      ],
      "metadata": {
        "id": "ba_3iWCQan3e"
      }
    },
    {
      "cell_type": "code",
      "source": [
        "def func(a, b=6, c=8):\n",
        "  print(a, b, c)\n",
        "func(1, 2)"
      ],
      "metadata": {
        "colab": {
          "base_uri": "https://localhost:8080/"
        },
        "id": "gsw2u6BBarZI",
        "outputId": "d285a474-48d1-4156-d7d7-e08fc4e39dc2"
      },
      "execution_count": 1,
      "outputs": [
        {
          "output_type": "stream",
          "name": "stdout",
          "text": [
            "1 2 8\n"
          ]
        }
      ]
    },
    {
      "cell_type": "markdown",
      "source": [
        "- The func() function is defined with three parameters: a, b, and c.\n",
        "The parameter a does not have a default value specified, so it must be provided with an argument when calling the function.\n",
        "- The parameters b and c have default values of 6 and 8, respectively. If no argument is provided for these parameters when calling the function, the default values will be used.\n",
        "- When the func() function is called with the arguments 1 and 2 (func(1, 2)), the value 1 is assigned to parameter a, and the value 2 is assigned to parameter b. - - Since no argument is provided for c, it takes its default value of 8.\n",
        "The print(a, b, c) statement inside the func() function then prints the values of a, b, and c, which are 1, 2, and 8, respectively."
      ],
      "metadata": {
        "id": "r0ureQeJanyK"
      }
    },
    {
      "cell_type": "markdown",
      "source": [
        "### 2. What is the result of this code, and why?"
      ],
      "metadata": {
        "id": "51HzqnMgantA"
      }
    },
    {
      "cell_type": "code",
      "source": [
        "def func(a, b, c=5):\n",
        "  print(a, b, c)\n",
        "func(1, c=3, b=2)"
      ],
      "metadata": {
        "colab": {
          "base_uri": "https://localhost:8080/"
        },
        "id": "4LZ4Y-bebC4a",
        "outputId": "7f3b1a0e-d9a7-48bd-f036-ca349b6a241c"
      },
      "execution_count": 2,
      "outputs": [
        {
          "output_type": "stream",
          "name": "stdout",
          "text": [
            "1 2 3\n"
          ]
        }
      ]
    },
    {
      "cell_type": "markdown",
      "source": [
        "- The func() function is defined with three parameters: a, b, and c.\n",
        "- The parameter c has a default value of 5, so if no argument is provided for c when calling the function, it will take the default value.\n",
        "- When the func() function is called with the arguments 1, c=3, and b=2 (func(1, c=3, b=2)), the value 1 is assigned to parameter a, 2 is assigned to parameter b, and 3 is explicitly assigned to parameter c.\n",
        "- The print(a, b, c) statement inside the func() function then prints the values of a, b, and c, which are 1, 2, and 3, respectively."
      ],
      "metadata": {
        "id": "meH6ApvEannz"
      }
    },
    {
      "cell_type": "markdown",
      "source": [
        "### 3. How about this code: what is its result, and why?\n"
      ],
      "metadata": {
        "id": "nMQWyDuZanjC"
      }
    },
    {
      "cell_type": "code",
      "source": [
        "def func(a, *pargs):\n",
        "  print(a, pargs)\n",
        "func(1, 2, 3)"
      ],
      "metadata": {
        "colab": {
          "base_uri": "https://localhost:8080/"
        },
        "id": "mMiRA-aIcWsV",
        "outputId": "daba41ef-7fc5-4172-8c8f-79ebf697c074"
      },
      "execution_count": 3,
      "outputs": [
        {
          "output_type": "stream",
          "name": "stdout",
          "text": [
            "1 (2, 3)\n"
          ]
        }
      ]
    },
    {
      "cell_type": "markdown",
      "source": [
        "\n",
        "### 4. What does this code print, and why?"
      ],
      "metadata": {
        "id": "tdMmhSkqanb8"
      }
    },
    {
      "cell_type": "code",
      "source": [
        "def func(a, **kargs):\n",
        "  print(a, kargs)\n",
        "func(a=1, c=3, b=2)"
      ],
      "metadata": {
        "colab": {
          "base_uri": "https://localhost:8080/"
        },
        "id": "PNJhOocBcxbs",
        "outputId": "72fac97d-5bd0-43ce-b95b-49b56183a19e"
      },
      "execution_count": 4,
      "outputs": [
        {
          "output_type": "stream",
          "name": "stdout",
          "text": [
            "1 {'c': 3, 'b': 2}\n"
          ]
        }
      ]
    },
    {
      "cell_type": "markdown",
      "source": [
        "- The func() function is defined with a parameter a and a variable-length keyword parameter **kargs using the double asterisks (**) syntax.\n",
        "- The **kargs parameter allows the function to accept any number of additional keyword arguments after the first argument a.\n",
        "- When the func() function is called with the keyword arguments a=1, c=3, b=2 (func(a=1, c=3, b=2)), the value 1 is assigned to parameter a, and the keyword arguments c=3 and b=2 are packed into a dictionary and assigned to kargs.\n",
        "- The print(a, kargs) statement inside the func() function then prints the value of a and the dictionary kargs."
      ],
      "metadata": {
        "id": "E3YipAh8anWg"
      }
    },
    {
      "cell_type": "markdown",
      "source": [
        "### 5. What gets printed by this, and explain?"
      ],
      "metadata": {
        "id": "zW85KnOAanRJ"
      }
    },
    {
      "cell_type": "code",
      "source": [
        "def func(a, b, c=8, d = 5):print(a, b, c, c)\n",
        "func(1, *(5, 6))"
      ],
      "metadata": {
        "colab": {
          "base_uri": "https://localhost:8080/"
        },
        "id": "bbl45a9YcyJO",
        "outputId": "40bd2862-1211-4e08-f04f-03c078f4bc5d"
      },
      "execution_count": 5,
      "outputs": [
        {
          "output_type": "stream",
          "name": "stdout",
          "text": [
            "1 5 6 6\n"
          ]
        }
      ]
    },
    {
      "cell_type": "markdown",
      "source": [
        "- The func() function is defined with four parameters: a, b, c, and d.\n",
        "- The parameters c and d have default values of 8 and 5, respectively. If no argument is provided for these parameters when calling the function, the default values will be used.\n",
        "- When the func() function is called with the arguments 1 and *(5, 6) (func(1, *(5, 6))), the value 1 is assigned to parameter a, and the arguments (5, 6) are unpacked and assigned to parameters b and c.\n",
        "- Since no argument is provided for parameter d, it takes its default value of 5.\n",
        "- The print(a, b, c, d) statement inside the func() function then prints the values of a, b, c, and d, which are 1, 5, 6, and 5, respectively."
      ],
      "metadata": {
        "id": "jBOqcvdtanLd"
      }
    },
    {
      "cell_type": "markdown",
      "source": [
        "### 6. what is the result of this, and explain?\n"
      ],
      "metadata": {
        "id": "kGdEYtsXanFa"
      }
    },
    {
      "cell_type": "code",
      "source": [
        "def func(a, b, c):\n",
        "  a = 2; b[0] = \"x\"; c[\"a\"] = \"y\"\n",
        "\n",
        "l = 1; m = [1]; n={\"a\":0}\n",
        "func(l, m, n)"
      ],
      "metadata": {
        "id": "ZihpK5f4cztF"
      },
      "execution_count": 9,
      "outputs": []
    },
    {
      "cell_type": "markdown",
      "source": [
        "- The func() function takes three parameters: a, b, and c.\n",
        "- Inside the function, the value of a is reassigned to 2, which doesn't have any impact on the original variable l because integers are immutable.\n",
        "- The first element of the list b is modified to 'x', which means the original list m will also be affected because lists are mutable objects.\n",
        "- The value associated with the key 'a' in the dictionary c is modified to 'y', so the original dictionary n will be updated as well because dictionaries are mutable objects."
      ],
      "metadata": {
        "id": "yyOL_0Wwam_6"
      }
    }
  ]
}