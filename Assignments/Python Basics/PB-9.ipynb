{
  "nbformat": 4,
  "nbformat_minor": 0,
  "metadata": {
    "colab": {
      "provenance": []
    },
    "kernelspec": {
      "name": "python3",
      "display_name": "Python 3"
    },
    "language_info": {
      "name": "python"
    }
  },
  "cells": [
    {
      "cell_type": "markdown",
      "source": [
        "### 1. To what does a relative path refer?"
      ],
      "metadata": {
        "id": "EmVUPKPrkSHk"
      }
    },
    {
      "cell_type": "markdown",
      "source": [
        "\n",
        "A relative path refers to the location of a file or directory relative to the current working directory or another reference point. It specifies the path from the current location to the target location without starting from the root directory."
      ],
      "metadata": {
        "id": "xRR5XPurkSDZ"
      }
    },
    {
      "cell_type": "markdown",
      "source": [
        "### 2. What does an absolute path start with your operating system?"
      ],
      "metadata": {
        "id": "5YbG9K3MkQ07"
      }
    },
    {
      "cell_type": "markdown",
      "source": [
        " An absolute path starts with the root directory. The root directory is the highest-level directory in a file system and is denoted by a forward slash (\"/\") in Unix-like systems (e.g., Linux, macOS) and by a drive letter followed by a colon (e.g., \"C:\") in Windows."
      ],
      "metadata": {
        "id": "euunO6x7kQ3p"
      }
    },
    {
      "cell_type": "markdown",
      "source": [
        "### 3. What do the functions os.getcwd() and os.chdir() do?"
      ],
      "metadata": {
        "id": "WreyeUIwkQ6Q"
      }
    },
    {
      "cell_type": "markdown",
      "source": [
        "The os.getcwd() function is used to get the current working directory. "
      ],
      "metadata": {
        "id": "P8ZciCc9kQ80"
      }
    },
    {
      "cell_type": "markdown",
      "source": [
        "### 4. What are the . and .. folders?"
      ],
      "metadata": {
        "id": "WCjBd4w2kQ_x"
      }
    },
    {
      "cell_type": "markdown",
      "source": [
        "In a file system, the . and .. folders are special symbols that represent relative directories."
      ],
      "metadata": {
        "id": "6hetmoM6kRDq"
      }
    },
    {
      "cell_type": "markdown",
      "source": [
        "### 5. In C:\\bacon\\eggs\\spam.txt, which part is the dir name, and which part is the base name?"
      ],
      "metadata": {
        "id": "MjUKYk_9kRGi"
      }
    },
    {
      "cell_type": "markdown",
      "source": [
        "This directory name refers to the path of the directory containing the file, and the base name refers to the actual name of the file itself."
      ],
      "metadata": {
        "id": "S5SA7ElYkRJV"
      }
    },
    {
      "cell_type": "markdown",
      "source": [
        "### 6. What are the three “mode” arguments that can be passed to the open() function?"
      ],
      "metadata": {
        "id": "YeMNrsP5kRL6"
      }
    },
    {
      "cell_type": "markdown",
      "source": [
        "The three \"mode\" arguments that can be passed to the open() function in Python are:\n",
        "\n",
        "\"r\": This mode is used for reading files. It opens the file for reading, and if the file does not exist, it raises a FileNotFoundError.\n",
        "\n",
        "\"w\": This mode is used for writing files. It opens the file for writing, and if the file already exists, it truncates its contents. If the file does not exist, it creates a new file.\n",
        "\n",
        "\"a\": This mode is used for appending to files. It opens the file for writing, but instead of truncating the contents, it appends new data to the end of the file. If the file does not exist, it creates a new file."
      ],
      "metadata": {
        "id": "jnSXvHmQkROq"
      }
    },
    {
      "cell_type": "markdown",
      "source": [
        "### 7. What happens if an existing file is opened in write mode?"
      ],
      "metadata": {
        "id": "DBQxkPFvkRRR"
      }
    },
    {
      "cell_type": "markdown",
      "source": [
        "If an existing file is opened in write mode (\"w\"), the file's contents are truncated, which means that the existing content of the file is completely deleted. The file is then ready to be written with new data."
      ],
      "metadata": {
        "id": "BMSajrNikRUS"
      }
    },
    {
      "cell_type": "markdown",
      "source": [
        "### 8. How do you tell the difference between read() and readlines()?"
      ],
      "metadata": {
        "id": "Y1MgsWXNkRXC"
      }
    },
    {
      "cell_type": "markdown",
      "source": [
        "Command read() returns a single string with the entire file content, including newlines, while readlines() returns a list of strings, where each string represents a line from the file, without newlines."
      ],
      "metadata": {
        "id": "31LGVhugkRZ8"
      }
    },
    {
      "cell_type": "markdown",
      "source": [
        "### 9. What data structure does a shelf value resemble?"
      ],
      "metadata": {
        "id": "2U8Wc3ZCkRcw"
      }
    },
    {
      "cell_type": "markdown",
      "source": [
        "A shelf value resembles a dictionary data structure also known as a persistent dictionary, is a persistent, dictionary-like object that is stored on disk. It provides a way to store and retrieve key-value pairs persistently, similar to a dictionary."
      ],
      "metadata": {
        "id": "n9DvITA3kRfi"
      }
    }
  ]
}