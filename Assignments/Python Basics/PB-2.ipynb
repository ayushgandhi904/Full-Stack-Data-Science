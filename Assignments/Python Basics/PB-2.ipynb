{
 "cells": [
  {
   "cell_type": "markdown",
   "id": "76daa240",
   "metadata": {},
   "source": [
    "### Q- 1 What are the two values of the Boolean data type? How do you write them?"
   ]
  },
  {
   "cell_type": "markdown",
   "id": "1fd33960",
   "metadata": {},
   "source": [
    "**Sol:**\n",
    "\n",
    "*Two values of the Boolean data type are: \"0\" & \"1\"*\n",
    "\n",
    "*They are writen as \"True\" for true statment (or 1) & \"False\" for false statment (or 0)\"*"
   ]
  },
  {
   "cell_type": "markdown",
   "id": "6cc202d4",
   "metadata": {},
   "source": [
    "### Q-2 What are the three different types of Boolean operators?"
   ]
  },
  {
   "cell_type": "markdown",
   "id": "0da41843",
   "metadata": {},
   "source": [
    "**Sol:**\n",
    "\n",
    "*Three boolean operators are:- \"and\", \"or\" & \"not\"*"
   ]
  },
  {
   "cell_type": "markdown",
   "id": "216a563a",
   "metadata": {},
   "source": [
    "### Q-3 Make a list of each Boolean operator's truth tables (i.e. every possible combination of Boolean values for the operator and what it evaluate )."
   ]
  },
  {
   "cell_type": "markdown",
   "id": "4845f427",
   "metadata": {},
   "source": [
    "**Sol:**\n",
    "\n",
    "|A|B|and operator|\n",
    "|--|--|--|\n",
    "|True|True|True|\n",
    "|True|False|False|\n",
    "|False|True|False|\n",
    "|False|False|False|\n",
    "\n",
    "\n",
    "|A|B|or operator|\n",
    "|--|--|--|\n",
    "|True|True|True|\n",
    "|True|False|True|\n",
    "|False|True|True|\n",
    "|False|False|False|\n",
    "\n",
    "*For not of value, it will result in opposite*\n",
    "\n"
   ]
  },
  {
   "cell_type": "markdown",
   "id": "9771e0c6",
   "metadata": {},
   "source": [
    "### Q-4 What are the values of the following expressions?\n",
    "- (5 > 4) and (3 == 5)\n",
    "- not (5 > 4)\n",
    "- (5 > 4) or (3 == 5)\n",
    "- not ((5 > 4) or (3 == 5))\n",
    "- (True and True) and (True == False)\n",
    "- (not False) or (not True)\n"
   ]
  },
  {
   "cell_type": "markdown",
   "id": "b97eee30",
   "metadata": {},
   "source": [
    "**Sol:**\n",
    "\n",
    "*(5 > 4) and (3 == 5) --> (True) and (False) --> False*\n",
    "\n",
    "*not(5>4) --> not(True) --> False*\n",
    "\n",
    "*(5>4) or (3==5) --> (True) or (False) --> True*\n",
    "\n",
    "*not((5>4) or (3==5)) --> not((True) or (False)) --> not(True) --> False*\n",
    "\n",
    "*(True and True) and (True == False) --> True and False --> False*\n",
    "\n",
    "*(not False) or (not True) --> True or False --> True*"
   ]
  },
  {
   "cell_type": "code",
   "execution_count": 1,
   "id": "12d4ac49",
   "metadata": {},
   "outputs": [
    {
     "name": "stdout",
     "output_type": "stream",
     "text": [
      "False\n",
      "False\n",
      "True\n",
      "False\n",
      "False\n",
      "True\n"
     ]
    }
   ],
   "source": [
    "print((5 > 4) and (3 == 5))\n",
    "print(not (5 > 4))\n",
    "print((5 > 4) or (3 == 5))\n",
    "print(not ((5 > 4) or (3 == 5)))\n",
    "print((True and True) and (True == False))\n",
    "print((not False) or (not True))"
   ]
  },
  {
   "cell_type": "markdown",
   "id": "d8277387",
   "metadata": {},
   "source": [
    "### Q-5 What are the six comparison operators?"
   ]
  },
  {
   "cell_type": "markdown",
   "id": "e5661083",
   "metadata": {},
   "source": [
    "**Sol:**\n",
    "\n",
    "*The six comparison operators are < (less then) , >(greater then), == (equals to), <=(less then or equal to), >= (greater then or equal to) & !=(not equals to)*"
   ]
  },
  {
   "cell_type": "markdown",
   "id": "03d949b8",
   "metadata": {},
   "source": [
    "### Q-6 How do you tell the difference between the equal to and assignment operators?Describe a condition and when you would use one."
   ]
  },
  {
   "cell_type": "markdown",
   "id": "f3f6c96c",
   "metadata": {},
   "source": [
    "**Sol:**\n",
    "\n",
    "*For equal to assignment operator, it is assign by \"==\" (double equal sign) & assignmen operator is assign by \"=\" (single equal to sign)*\n",
    "\n",
    "*Equal to assignment is used to compare two equal values which will result in boolean type --> 5==5 (i.e True), 8==9 (i.e. False) etc.*\n",
    "\n",
    "*Assignment operator is used for assigning value to the variable --> x=5, y = \"hello\"*"
   ]
  },
  {
   "cell_type": "markdown",
   "id": "a9a7e860",
   "metadata": {},
   "source": [
    "### Q-7 Identify the three blocks in this code:\n",
    "- spam = 0\n",
    "- if spam == 10:\n",
    "- print('eggs')\n",
    "- if spam > 5:\n",
    "- print('bacon')\n",
    "- else:\n",
    "- print('ham')\n",
    "- print('spam')\n",
    "- print('spam')"
   ]
  },
  {
   "cell_type": "markdown",
   "id": "1937ea95",
   "metadata": {},
   "source": [
    "**Sol:**\n",
    "\n",
    "*Three blocks of code are:-*\n",
    "\n",
    "1 - if spam == 10:\n",
    "        print('eggs')\n",
    "    \n",
    "2 - if spam > 5:\n",
    "        print('bacon')\n",
    "\n",
    "3 - else:\n",
    "        print('ham')\n",
    "        print('spam')\n",
    "        print('spam')"
   ]
  },
  {
   "cell_type": "markdown",
   "id": "ca3b40ec",
   "metadata": {},
   "source": [
    "### Q-8 Write code that prints Hello if 1 is stored in spam, prints Howdy if 2 is stored in spam, and prints Greetings! if anything else is stored in spam."
   ]
  },
  {
   "cell_type": "markdown",
   "id": "87a3b606",
   "metadata": {},
   "source": [
    "**Sol:**"
   ]
  },
  {
   "cell_type": "code",
   "execution_count": 2,
   "id": "71dc361d",
   "metadata": {},
   "outputs": [
    {
     "name": "stdout",
     "output_type": "stream",
     "text": [
      "Howdy\n"
     ]
    }
   ],
   "source": [
    "spam = 2\n",
    "\n",
    "if spam == 1:\n",
    "    print(\"Hello\")\n",
    "elif spam == 2:\n",
    "    print(\"Howdy\")\n",
    "else:\n",
    "    print(\"Greetings!\")"
   ]
  },
  {
   "cell_type": "markdown",
   "id": "bc88b69d",
   "metadata": {},
   "source": [
    "### Q-9 If your programme is stuck in an endless loop, what keys you’ll press?"
   ]
  },
  {
   "cell_type": "markdown",
   "id": "1aa03ebc",
   "metadata": {},
   "source": [
    "**Sol:**\n",
    "\n",
    "*Key to press endless loop is ctrl + c*"
   ]
  },
  {
   "cell_type": "markdown",
   "id": "3320b570",
   "metadata": {},
   "source": [
    "### Q-10 How can you tell the difference between break and continue?"
   ]
  },
  {
   "cell_type": "markdown",
   "id": "b93bb4c1",
   "metadata": {},
   "source": [
    "**Sol:**\n",
    "\n",
    "*Break is the statement used for exisiting from the loop after condition becomes false, while Continue is the statement used for moving current loop iteration to next loop while statement becomes false*"
   ]
  },
  {
   "cell_type": "markdown",
   "id": "b37b68e5",
   "metadata": {},
   "source": [
    "### Q-11 In a for loop, what is the difference between range(10), range(0, 10), and range(0, 10, 1)?"
   ]
  },
  {
   "cell_type": "markdown",
   "id": "475493d2",
   "metadata": {},
   "source": [
    "**Sol:**\n",
    "\n",
    "*While defining range in for loop it is given as range(a, b, c) where a is start range, b is end range, c is the ileterator, by default a=0 & c=1 . If single value is define after range it takes as range(b). Considering the current values in for loop range(10), range(0,10), range(0, 10, 1) are same* "
   ]
  },
  {
   "cell_type": "markdown",
   "id": "866a6863",
   "metadata": {},
   "source": [
    "### Q-12 Write a short program that prints the numbers 1 to 10 using a for loop. Then write an equivalent program that prints the numbers 1 to 10 using a while loop."
   ]
  },
  {
   "cell_type": "markdown",
   "id": "535c057a",
   "metadata": {},
   "source": [
    "**Sol:**"
   ]
  },
  {
   "cell_type": "code",
   "execution_count": 6,
   "id": "00ddf872",
   "metadata": {},
   "outputs": [
    {
     "name": "stdout",
     "output_type": "stream",
     "text": [
      "1\n",
      "2\n",
      "3\n",
      "4\n",
      "5\n",
      "6\n",
      "7\n",
      "8\n",
      "9\n",
      "10\n"
     ]
    }
   ],
   "source": [
    "#for loop\n",
    "\n",
    "for i in range(1, 11):\n",
    "    print(i)"
   ]
  },
  {
   "cell_type": "code",
   "execution_count": 7,
   "id": "84cb5598",
   "metadata": {},
   "outputs": [
    {
     "name": "stdout",
     "output_type": "stream",
     "text": [
      "1\n",
      "2\n",
      "3\n",
      "4\n",
      "5\n",
      "6\n",
      "7\n",
      "8\n",
      "9\n",
      "10\n"
     ]
    }
   ],
   "source": [
    "#while loop\n",
    "\n",
    "i = 1 \n",
    "while i < 11:\n",
    "    print(i)\n",
    "    i += 1"
   ]
  },
  {
   "cell_type": "markdown",
   "id": "3fe5c395",
   "metadata": {},
   "source": [
    "### Q-13 If you had a function named bacon() inside a module named spam, how would you call it after importing spam?"
   ]
  },
  {
   "cell_type": "markdown",
   "id": "77559a0a",
   "metadata": {},
   "source": [
    "**Sol:**\n",
    "\n",
    "*If there is function name bacon in spam module, it can be called by \"spam.bacon()\"*"
   ]
  }
 ],
 "metadata": {
  "kernelspec": {
   "display_name": "Python 3 (ipykernel)",
   "language": "python",
   "name": "python3"
  },
  "language_info": {
   "codemirror_mode": {
    "name": "ipython",
    "version": 3
   },
   "file_extension": ".py",
   "mimetype": "text/x-python",
   "name": "python",
   "nbconvert_exporter": "python",
   "pygments_lexer": "ipython3",
   "version": "3.9.15"
  }
 },
 "nbformat": 4,
 "nbformat_minor": 5
}
