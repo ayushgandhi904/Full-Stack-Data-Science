{
 "cells": [
  {
   "cell_type": "markdown",
   "id": "3434e38c",
   "metadata": {},
   "source": [
    "### Q-1 What exactly is [ ]?"
   ]
  },
  {
   "cell_type": "markdown",
   "id": "4b763119",
   "metadata": {},
   "source": [
    "**Sol**\n",
    "\n",
    "\"[]\" are the index bracket use for list literats also allowing to slice particular element from list, tuple, etc."
   ]
  },
  {
   "cell_type": "markdown",
   "id": "043085bc",
   "metadata": {},
   "source": [
    "### Q-2 In a list of values stored in a variable called spam, how would you assign the value 'hello' as the third value? (Assume [2, 4, 6, 8, 10] are in spam.)"
   ]
  },
  {
   "cell_type": "markdown",
   "id": "9066c35b",
   "metadata": {},
   "source": [
    "**Sol**"
   ]
  },
  {
   "cell_type": "code",
   "execution_count": 1,
   "id": "c202c00c",
   "metadata": {},
   "outputs": [],
   "source": [
    "spam = [2, 4, 6, 8, 10]"
   ]
  },
  {
   "cell_type": "code",
   "execution_count": 4,
   "id": "168ddba3",
   "metadata": {},
   "outputs": [],
   "source": [
    "#3rd value to the spam will be assign by index slicing method by denoting 3rd (2nd) index to \"hello\"\n",
    "spam[2] = \"hello\""
   ]
  },
  {
   "cell_type": "code",
   "execution_count": 5,
   "id": "fc7e78df",
   "metadata": {},
   "outputs": [
    {
     "data": {
      "text/plain": [
       "[2, 4, 'hello', 8, 10]"
      ]
     },
     "execution_count": 5,
     "metadata": {},
     "output_type": "execute_result"
    }
   ],
   "source": [
    "spam"
   ]
  },
  {
   "cell_type": "markdown",
   "id": "022759eb",
   "metadata": {},
   "source": [
    "Let's pretend the spam includes the list ['a', 'b', 'c', 'd'] for the next three queries."
   ]
  },
  {
   "cell_type": "code",
   "execution_count": 6,
   "id": "57311e50",
   "metadata": {},
   "outputs": [],
   "source": [
    "spam = [\"a\", \"b\", \"c\", \"d\"]"
   ]
  },
  {
   "cell_type": "markdown",
   "id": "c724a4f6",
   "metadata": {},
   "source": [
    "### Q-3 What is the value of spam[int(int('3' * 2) / 11)]?"
   ]
  },
  {
   "cell_type": "code",
   "execution_count": 8,
   "id": "2e3f724a",
   "metadata": {},
   "outputs": [
    {
     "data": {
      "text/plain": [
       "'d'"
      ]
     },
     "execution_count": 8,
     "metadata": {},
     "output_type": "execute_result"
    }
   ],
   "source": [
    "#its value will be \"d\" as it will slice (33/11) = 3, i.e. 3rd index element which is d\n",
    "spam[int(int(\"3\"*2)/11)]"
   ]
  },
  {
   "cell_type": "markdown",
   "id": "d124b899",
   "metadata": {},
   "source": [
    "### Q-4 What is the value of spam[-1]?"
   ]
  },
  {
   "cell_type": "code",
   "execution_count": 9,
   "id": "d5ac2cbe",
   "metadata": {},
   "outputs": [
    {
     "data": {
      "text/plain": [
       "'d'"
      ]
     },
     "execution_count": 9,
     "metadata": {},
     "output_type": "execute_result"
    }
   ],
   "source": [
    "#its value will be \"d\" which wil extract last element of list\n",
    "spam[-1]"
   ]
  },
  {
   "cell_type": "markdown",
   "id": "9ed5a8d1",
   "metadata": {},
   "source": [
    "### Q-5 What is the value of spam[:2]?"
   ]
  },
  {
   "cell_type": "code",
   "execution_count": 10,
   "id": "443110ed",
   "metadata": {},
   "outputs": [
    {
     "data": {
      "text/plain": [
       "['a', 'b']"
      ]
     },
     "execution_count": 10,
     "metadata": {},
     "output_type": "execute_result"
    }
   ],
   "source": [
    "#its value will be (\"a\", \"b\"), which will slice element to starting index to till index 1st index\n",
    "spam[:2]"
   ]
  },
  {
   "cell_type": "markdown",
   "id": "612826a0",
   "metadata": {},
   "source": [
    "Let's pretend bacon has the list [3.14, 'cat,' 11, 'cat,' True] for the next three questions."
   ]
  },
  {
   "cell_type": "code",
   "execution_count": 11,
   "id": "ccb593ea",
   "metadata": {},
   "outputs": [],
   "source": [
    "bacon = [3.14, \"cat\", 11, \"cat\", True]"
   ]
  },
  {
   "cell_type": "markdown",
   "id": "f1e40af9",
   "metadata": {},
   "source": [
    "### Q-6 What is the value of bacon.index('cat')?"
   ]
  },
  {
   "cell_type": "code",
   "execution_count": 12,
   "id": "748c66ad",
   "metadata": {},
   "outputs": [
    {
     "data": {
      "text/plain": [
       "1"
      ]
     },
     "execution_count": 12,
     "metadata": {},
     "output_type": "execute_result"
    }
   ],
   "source": [
    "#It's value will be 1 as \"cat\" first occurence is at index 1\n",
    "bacon.index(\"cat\")"
   ]
  },
  {
   "cell_type": "markdown",
   "id": "fc0b9a23",
   "metadata": {},
   "source": [
    "### Q-7 How does bacon.append(99) change the look of the list value in bacon?"
   ]
  },
  {
   "cell_type": "code",
   "execution_count": 13,
   "id": "a29ade56",
   "metadata": {},
   "outputs": [],
   "source": [
    "#It will add the value 99 in the list bacon at the end\n",
    "bacon.append(99)"
   ]
  },
  {
   "cell_type": "code",
   "execution_count": 14,
   "id": "02f2ec49",
   "metadata": {},
   "outputs": [
    {
     "data": {
      "text/plain": [
       "[3.14, 'cat', 11, 'cat', True, 99]"
      ]
     },
     "execution_count": 14,
     "metadata": {},
     "output_type": "execute_result"
    }
   ],
   "source": [
    "bacon"
   ]
  },
  {
   "cell_type": "markdown",
   "id": "ebee6a5c",
   "metadata": {},
   "source": [
    "### Q-8 How does bacon.remove('cat') change the look of the list in bacon?"
   ]
  },
  {
   "cell_type": "code",
   "execution_count": 15,
   "id": "efe1890c",
   "metadata": {},
   "outputs": [],
   "source": [
    "#It will remove the first occurence of the \"cat\" in the list\n",
    "bacon.remove(\"cat\")"
   ]
  },
  {
   "cell_type": "code",
   "execution_count": 16,
   "id": "52269bc5",
   "metadata": {},
   "outputs": [
    {
     "data": {
      "text/plain": [
       "[3.14, 11, 'cat', True, 99]"
      ]
     },
     "execution_count": 16,
     "metadata": {},
     "output_type": "execute_result"
    }
   ],
   "source": [
    "bacon"
   ]
  },
  {
   "cell_type": "markdown",
   "id": "d1507201",
   "metadata": {},
   "source": [
    "### Q-9 What are the list concatenation and list replication operators?"
   ]
  },
  {
   "cell_type": "markdown",
   "id": "cfe4f825",
   "metadata": {},
   "source": [
    "**Sol**\n",
    "\n",
    "- The list conatenation operator is \"+\" like string which will add 2 list\n",
    "\n",
    "- The List replication operators is \"*\" like string which will replicate list."
   ]
  },
  {
   "cell_type": "markdown",
   "id": "66bd97b4",
   "metadata": {},
   "source": [
    "### Q-10 What is difference between the list methods append() and insert()?"
   ]
  },
  {
   "cell_type": "markdown",
   "id": "e584569d",
   "metadata": {},
   "source": [
    "**Sol**\n",
    "\n",
    "- append() method append the element in last of the list --> _.append(\" \").\n",
    "\n",
    "\n",
    "- insert() method append the element in the specific position of the list we want. --> _.insert(postion no, \" \")"
   ]
  },
  {
   "cell_type": "markdown",
   "id": "b73bcfb7",
   "metadata": {},
   "source": [
    "### Q-11 What are the two methods for removing items from a list?"
   ]
  },
  {
   "cell_type": "markdown",
   "id": "e9901478",
   "metadata": {},
   "source": [
    "**Sol**\n",
    "\n",
    "- one method is .pop(), which wil remove the last element of the list.\n",
    "\n",
    "- other method is .remove(\" \"), which will remove the specific element from the list"
   ]
  },
  {
   "cell_type": "markdown",
   "id": "75ba11b7",
   "metadata": {},
   "source": [
    "### Q-12 Describe how list values and string values are identical."
   ]
  },
  {
   "cell_type": "markdown",
   "id": "f5db2a69",
   "metadata": {},
   "source": [
    "**Sol**\n",
    "\n",
    "- They both are ordered collection of characters. Both dtypes can be slice, change, mutuable etc. "
   ]
  },
  {
   "cell_type": "markdown",
   "id": "f8357f4f",
   "metadata": {},
   "source": [
    "### Q-13 What's the difference between tuples and lists?"
   ]
  },
  {
   "cell_type": "markdown",
   "id": "c37d3f44",
   "metadata": {},
   "source": [
    "**Sol**\n",
    "\n",
    "- Major difference between tuples & lists is, tuples are immutable (i.e. it cannot be edited or change) which list are mutuable (i.e. it can be change or edited)\n",
    "\n",
    "- The list are denoted by [], while tuple are denoted by ()"
   ]
  },
  {
   "cell_type": "markdown",
   "id": "405899ea",
   "metadata": {},
   "source": [
    "### Q-14 How do you type a tuple value that only contains the integer 42?"
   ]
  },
  {
   "cell_type": "markdown",
   "id": "1d735816",
   "metadata": {},
   "source": [
    "**Sol**\n",
    "\n",
    "- If dtype only contain integer 42, it will consider as int, until commaa(,) is provided."
   ]
  },
  {
   "cell_type": "code",
   "execution_count": 18,
   "id": "d8ade649",
   "metadata": {},
   "outputs": [
    {
     "name": "stdout",
     "output_type": "stream",
     "text": [
      "<class 'int'>\n",
      "<class 'tuple'>\n"
     ]
    }
   ],
   "source": [
    "t1 = (42) #it will integer\n",
    "t2 = (42,) #it will tuple\n",
    "\n",
    "print(type(t1))\n",
    "print(type(t2))"
   ]
  },
  {
   "cell_type": "markdown",
   "id": "cab10ee7",
   "metadata": {},
   "source": [
    "### Q-15 How do you get a list value's tuple form? How do you get a tuple value's list form?"
   ]
  },
  {
   "cell_type": "markdown",
   "id": "ed4a8188",
   "metadata": {},
   "source": [
    "**Sol**\n",
    "\n",
    "- If you want to convert tuple to list, which can perform with list(\"tuple\")\n",
    "- If you want to convert list to tuple, which can perform with tuple(\"list\")"
   ]
  },
  {
   "cell_type": "markdown",
   "id": "d12a3aa9",
   "metadata": {},
   "source": [
    "### Q-16 Variables that \"contain\" list values are not necessarily lists themselves. Instead, what do they contain?"
   ]
  },
  {
   "cell_type": "markdown",
   "id": "57cf78cb",
   "metadata": {},
   "source": [
    "**Sol**\n",
    "\n",
    "It contains reference to list values which are assign."
   ]
  },
  {
   "cell_type": "markdown",
   "id": "210faa35",
   "metadata": {},
   "source": [
    "### Q-17 How do you distinguish between copy.copy() and copy.deepcopy()?"
   ]
  },
  {
   "cell_type": "markdown",
   "id": "68e4fedc",
   "metadata": {},
   "source": [
    "**Sol**\n",
    "\n",
    "- copy.copy() just create reference to orginal object, it will be change if original change.\n",
    "\n",
    "- copy.deepcopy(), it create exact real copy for original to object."
   ]
  },
  {
   "cell_type": "code",
   "execution_count": null,
   "id": "c53dc54a",
   "metadata": {},
   "outputs": [],
   "source": []
  }
 ],
 "metadata": {
  "kernelspec": {
   "display_name": "Python 3 (ipykernel)",
   "language": "python",
   "name": "python3"
  },
  "language_info": {
   "codemirror_mode": {
    "name": "ipython",
    "version": 3
   },
   "file_extension": ".py",
   "mimetype": "text/x-python",
   "name": "python",
   "nbconvert_exporter": "python",
   "pygments_lexer": "ipython3",
   "version": "3.9.15"
  }
 },
 "nbformat": 4,
 "nbformat_minor": 5
}
