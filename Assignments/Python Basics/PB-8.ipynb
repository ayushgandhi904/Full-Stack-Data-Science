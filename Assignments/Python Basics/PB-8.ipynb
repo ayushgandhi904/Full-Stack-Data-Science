{
  "nbformat": 4,
  "nbformat_minor": 0,
  "metadata": {
    "colab": {
      "provenance": []
    },
    "kernelspec": {
      "name": "python3",
      "display_name": "Python 3"
    },
    "language_info": {
      "name": "python"
    }
  },
  "cells": [
    {
      "cell_type": "markdown",
      "source": [
        "### 1. Is the Python Standard Library included with PyInputPlus?"
      ],
      "metadata": {
        "id": "JP_N8zx4i52M"
      }
    },
    {
      "cell_type": "markdown",
      "source": [
        "No, the Python Standard Library is separate from PyInputPlus. PyInputPlus is a third-party library that provides additional input validation and handling capabilities, beyond what is available in the Python Standard Library."
      ],
      "metadata": {
        "id": "MTTviijSi55I"
      }
    },
    {
      "cell_type": "markdown",
      "source": [
        "### 2. Why is PyInputPlus commonly imported with import pyinputplus as pypi?"
      ],
      "metadata": {
        "id": "XI56usfMi579"
      }
    },
    {
      "cell_type": "markdown",
      "source": [
        "PyInputPlus is commonly imported with the alias \"pypi\" (or any other chosen alias) to make it easier and more convenient to use in the code."
      ],
      "metadata": {
        "id": "anXFu_ppi5-l"
      }
    },
    {
      "cell_type": "markdown",
      "source": [
        "###  3. How do you distinguish between inputInt() and inputFloat()?"
      ],
      "metadata": {
        "id": "sJCQDn0Ni6BM"
      }
    },
    {
      "cell_type": "markdown",
      "source": [
        "1.  inputInt(prompt=None, default=None, blank=False, limit=None, timeout=None, allowRegexes=None, blockRegexes=None, strip=True)\n",
        "- This function is used to prompt the user for integer input.\n",
        "- It accepts an optional prompt message as the prompt parameter.\n",
        "It returns an integer value entered by the user.\n",
        "\n",
        "2. inputFloat(prompt=None, default=None, blank=False, limit=None, timeout=None, allowRegexes=None, blockRegexes=None, strip=True):\n",
        "\n",
        "- This function is used to prompt the user for floating-point input.\n",
        "- It works similar to inputInt(), but it expects and returns a floating-point value instead of an integer.\n"
      ],
      "metadata": {
        "id": "o7yeCkw6i6JL"
      }
    },
    {
      "cell_type": "markdown",
      "source": [
        "### 4. Using PyInputPlus, how do you ensure that the user enters a whole number between 0 and 99?"
      ],
      "metadata": {
        "id": "40-C-iT8jhyd"
      }
    },
    {
      "cell_type": "markdown",
      "source": [
        "To ensure that the user enters a whole number between 0 and 99 using PyInputPlus, you can use the inputInt() function with the limit parameter set to restrict the range of valid input."
      ],
      "metadata": {
        "id": "2MJ0aLbKi6L4"
      }
    },
    {
      "cell_type": "markdown",
      "source": [
        "### 5. What is transferred to the keyword arguments allowRegexes and blockRegexes?"
      ],
      "metadata": {
        "id": "KBOAALc7i6Ot"
      }
    },
    {
      "cell_type": "markdown",
      "source": [
        "In PyInputPlus, the keyword arguments allowRegexes and blockRegexes are used to specify regular expressions that define patterns for allowed or blocked input."
      ],
      "metadata": {
        "id": "R-89iA0Qi6RS"
      }
    },
    {
      "cell_type": "markdown",
      "source": [
        "### 6. If a blank input is entered three times, what does inputStr(limit=3) do?"
      ],
      "metadata": {
        "id": "YGPH3UMWi6UB"
      }
    },
    {
      "cell_type": "markdown",
      "source": [
        "When using inputStr(limit=3) , if a blank input is entered three times consecutively, it raises a RetryLimitException indicating that the user has exceeded the maximum number of retries."
      ],
      "metadata": {
        "id": "e85KYXgRi6W1"
      }
    },
    {
      "cell_type": "markdown",
      "source": [
        "### 7. If blank input is entered three times, what does inputStr(limit=3, default='hello') do?"
      ],
      "metadata": {
        "id": "GmrV1Tkai6Zs"
      }
    },
    {
      "cell_type": "markdown",
      "source": [
        "When using inputStr(limit=3, default='hello') and a blank input is entered three times consecutively, it returns the default value specified, which in this case is the string 'hello'."
      ],
      "metadata": {
        "id": "xyuqr5P4i6ca"
      }
    }
  ]
}