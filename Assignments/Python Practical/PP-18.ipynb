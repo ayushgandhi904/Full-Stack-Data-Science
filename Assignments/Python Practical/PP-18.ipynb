{
  "nbformat": 4,
  "nbformat_minor": 0,
  "metadata": {
    "colab": {
      "provenance": []
    },
    "kernelspec": {
      "name": "python3",
      "display_name": "Python 3"
    },
    "language_info": {
      "name": "python"
    }
  },
  "cells": [
    {
      "cell_type": "markdown",
      "source": [
        "### Question 1\n",
        "Create a function that takes a list of non-negative integers and strings and return a new list without the strings.\n"
      ],
      "metadata": {
        "id": "a8022AS0Uk-z"
      }
    },
    {
      "cell_type": "code",
      "execution_count": 1,
      "metadata": {
        "id": "LqTrGSbfTokn"
      },
      "outputs": [],
      "source": [
        "def filter_list(lst):\n",
        "    return [num for num in lst if isinstance(num, int)]\n"
      ]
    },
    {
      "cell_type": "code",
      "source": [
        "filter_list([1, 2, \"a\", \"b\"]) "
      ],
      "metadata": {
        "colab": {
          "base_uri": "https://localhost:8080/"
        },
        "id": "2x4ngWIPUs7r",
        "outputId": "aae8343f-22a2-4afd-ad72-866f8f39fb98"
      },
      "execution_count": 2,
      "outputs": [
        {
          "output_type": "execute_result",
          "data": {
            "text/plain": [
              "[1, 2]"
            ]
          },
          "metadata": {},
          "execution_count": 2
        }
      ]
    },
    {
      "cell_type": "markdown",
      "source": [
        "### Question 2\n",
        "The \"Reverser\" takes a string as input and returns that string in reverse order, with the opposite case.\n"
      ],
      "metadata": {
        "id": "4gbQn9rpUvli"
      }
    },
    {
      "cell_type": "code",
      "source": [
        "def reverse(string):\n",
        "    reversed_string = string[::-1]\n",
        "    reversed_string = reversed_string.swapcase()\n",
        "    return reversed_string"
      ],
      "metadata": {
        "id": "zhjTdXqrUy2n"
      },
      "execution_count": 4,
      "outputs": []
    },
    {
      "cell_type": "code",
      "source": [
        "reverse(\"ReVeRsE\") "
      ],
      "metadata": {
        "colab": {
          "base_uri": "https://localhost:8080/",
          "height": 35
        },
        "id": "RpRC2L--U1zr",
        "outputId": "39b3aff8-3665-4de4-a824-450ea4da0d7c"
      },
      "execution_count": 5,
      "outputs": [
        {
          "output_type": "execute_result",
          "data": {
            "text/plain": [
              "'eSrEvEr'"
            ],
            "application/vnd.google.colaboratory.intrinsic+json": {
              "type": "string"
            }
          },
          "metadata": {},
          "execution_count": 5
        }
      ]
    },
    {
      "cell_type": "markdown",
      "source": [
        "### Question 3\n",
        "With Python 3, you can assign variables from lists in a much more succinct way. Create variables first, middle and last from the given list using destructuring assignment."
      ],
      "metadata": {
        "id": "yp8NF6qGU5hM"
      }
    },
    {
      "cell_type": "code",
      "source": [
        "lst = [1, 2, 3, 4, 5, 6]\n",
        "first, *middle, last = lst\n",
        "\n",
        "print(\"First:\", first)\n",
        "print(\"Middle:\", middle)\n",
        "print(\"Last:\", last)"
      ],
      "metadata": {
        "colab": {
          "base_uri": "https://localhost:8080/"
        },
        "id": "C9uiocFIU46J",
        "outputId": "d2af11ab-a831-445c-a962-fc8ed5f09c7d"
      },
      "execution_count": 6,
      "outputs": [
        {
          "output_type": "stream",
          "name": "stdout",
          "text": [
            "First: 1\n",
            "Middle: [2, 3, 4, 5]\n",
            "Last: 6\n"
          ]
        }
      ]
    },
    {
      "cell_type": "markdown",
      "source": [
        "### Question 4\n",
        "Write a function that calculates the factorial of a number recursively.\n"
      ],
      "metadata": {
        "id": "9646j1HQVWf3"
      }
    },
    {
      "cell_type": "code",
      "source": [
        "def factorial(n):\n",
        "    if n == 0 or n == 1:\n",
        "        return 1\n",
        "    else:\n",
        "        return n * factorial(n-1)"
      ],
      "metadata": {
        "id": "EyBjJLjzVOcl"
      },
      "execution_count": 7,
      "outputs": []
    },
    {
      "cell_type": "code",
      "source": [
        "factorial(3) "
      ],
      "metadata": {
        "colab": {
          "base_uri": "https://localhost:8080/"
        },
        "id": "Sld-IX_BVh12",
        "outputId": "76fc700e-cd91-44de-d5cd-ccd8625688da"
      },
      "execution_count": 8,
      "outputs": [
        {
          "output_type": "execute_result",
          "data": {
            "text/plain": [
              "6"
            ]
          },
          "metadata": {},
          "execution_count": 8
        }
      ]
    },
    {
      "cell_type": "markdown",
      "source": [
        "### Question 5\n",
        "Write a function that moves all elements of one type to the end of the list.\n"
      ],
      "metadata": {
        "id": "DCP6Yz-7Vorc"
      }
    },
    {
      "cell_type": "code",
      "source": [
        "def move_to_end(lst, element_type):\n",
        "    type_elements = []\n",
        "    other_elements = []\n",
        "    for element in lst:\n",
        "        if isinstance(element, element_type):\n",
        "            type_elements.append(element)\n",
        "        else:\n",
        "            other_elements.append(element)\n",
        "    result = other_elements + type_elements\n",
        "    return result"
      ],
      "metadata": {
        "id": "sxNp-LioVjgC"
      },
      "execution_count": 10,
      "outputs": []
    }
  ]
}