{
  "nbformat": 4,
  "nbformat_minor": 0,
  "metadata": {
    "colab": {
      "provenance": []
    },
    "kernelspec": {
      "name": "python3",
      "display_name": "Python 3"
    },
    "language_info": {
      "name": "python"
    }
  },
  "cells": [
    {
      "cell_type": "markdown",
      "source": [
        "### Question 1:\n",
        "Please write a program using generator to print the numbers which can be divisible by 5 and 7 between 0 and n in comma separated form while n is input by console.\n"
      ],
      "metadata": {
        "id": "qJESgapCOdz6"
      }
    },
    {
      "cell_type": "code",
      "execution_count": 1,
      "metadata": {
        "colab": {
          "base_uri": "https://localhost:8080/"
        },
        "id": "7urUCTxzOQWK",
        "outputId": "347fc782-c663-473f-879b-b2e08ad2490c"
      },
      "outputs": [
        {
          "output_type": "stream",
          "name": "stdout",
          "text": [
            "Enter a value for n: 100\n",
            "0,35,70\n"
          ]
        }
      ],
      "source": [
        "def divisible_generator(n):\n",
        "    for i in range(n+1):\n",
        "        if i % 5 == 0 and i % 7 == 0:\n",
        "            yield i\n",
        "\n",
        "n = int(input(\"Enter a value for n: \"))\n",
        "numbers = divisible_generator(n)\n",
        "result = ','.join(str(num) for num in numbers)\n",
        "print(result)"
      ]
    },
    {
      "cell_type": "markdown",
      "source": [
        "### Question 2:\n",
        "Please write a program using generator to print the even numbers between 0 and n in comma separated form while n is input by console.\n"
      ],
      "metadata": {
        "id": "1Ge03JJXOw-6"
      }
    },
    {
      "cell_type": "code",
      "source": [
        "def even_numbers_generator(n):\n",
        "    for i in range(n+1):\n",
        "        if i % 2 == 0:\n",
        "            yield i\n",
        "\n",
        "n = int(input(\"Enter a value for n: \"))\n",
        "numbers = even_numbers_generator(n)\n",
        "result = ','.join(str(num) for num in numbers)\n",
        "print(result)"
      ],
      "metadata": {
        "colab": {
          "base_uri": "https://localhost:8080/"
        },
        "id": "1EXTz5VLOvKg",
        "outputId": "e117f16a-d871-4f69-83c9-38df0fc6ec55"
      },
      "execution_count": 2,
      "outputs": [
        {
          "output_type": "stream",
          "name": "stdout",
          "text": [
            "Enter a value for n: 10\n",
            "0,2,4,6,8,10\n"
          ]
        }
      ]
    },
    {
      "cell_type": "markdown",
      "source": [
        "### Question 3:\n",
        "The Fibonacci Sequence is computed based on the following formula:\n",
        "f(n)=0 if n=0\n",
        "f(n)=1 if n=1\n",
        "f(n)=f(n-1)+f(n-2) if n>1\n",
        "Please write a program using list comprehension to print the Fibonacci Sequence in comma separated form with a given n input by console."
      ],
      "metadata": {
        "id": "CnIYT3ncPD88"
      }
    },
    {
      "cell_type": "code",
      "source": [
        "n = int(input(\"Enter a value for n: \"))\n",
        "fibonacci = [0, 1]  \n",
        "[fibonacci.append(fibonacci[-1] + fibonacci[-2]) for _ in range(2, n+1)]\n",
        "\n",
        "result = ','.join(str(num) for num in fibonacci[:n+1])\n",
        "print(result)"
      ],
      "metadata": {
        "colab": {
          "base_uri": "https://localhost:8080/"
        },
        "id": "lZhXk3S7PAOh",
        "outputId": "64dfff4e-f2f7-4bde-8d0c-a6aeb85f261a"
      },
      "execution_count": 4,
      "outputs": [
        {
          "output_type": "stream",
          "name": "stdout",
          "text": [
            "Enter a value for n: 7\n",
            "0,1,1,2,3,5,8,13\n"
          ]
        }
      ]
    },
    {
      "cell_type": "markdown",
      "source": [
        "### Question 4:\n",
        "Assuming that we have some email addresses in the \"username@companyname.com\" format, please write program to print the user name of a given email address. Both user names and company names are composed of letters only.\n"
      ],
      "metadata": {
        "id": "dj5fYsTgPWwK"
      }
    },
    {
      "cell_type": "code",
      "source": [
        "email = input(\"Enter an email address: \")\n",
        "user_name = email.split('@')[0]\n",
        "print(\"User name:\", user_name)"
      ],
      "metadata": {
        "colab": {
          "base_uri": "https://localhost:8080/"
        },
        "id": "jMs9tEWaPP1-",
        "outputId": "bed3b4c6-5927-478d-9389-02b8fc5f4860"
      },
      "execution_count": 5,
      "outputs": [
        {
          "output_type": "stream",
          "name": "stdout",
          "text": [
            "Enter an email address: john@google.com\n",
            "User name: john\n"
          ]
        }
      ]
    },
    {
      "cell_type": "markdown",
      "source": [
        "### Question 5:\n",
        "Define a class named Shape and its subclass Square. The Square class has an init function which takes a length as argument. Both classes have a area function which can print the area of the shape where Shape's area is 0 by default.\n"
      ],
      "metadata": {
        "id": "EkFfToOwPpdd"
      }
    },
    {
      "cell_type": "code",
      "source": [
        "class Shape:\n",
        "    def __init__(self):\n",
        "        self.area = 0\n",
        "    \n",
        "    def calculate_area(self):\n",
        "        pass\n",
        "\n",
        "class Square(Shape):\n",
        "    def __init__(self, length):\n",
        "        super().__init__()\n",
        "        self.length = length\n",
        "    \n",
        "    def calculate_area(self):\n",
        "        self.area = self.length ** 2"
      ],
      "metadata": {
        "id": "_p4NY_G-PkW6"
      },
      "execution_count": 6,
      "outputs": []
    }
  ]
}