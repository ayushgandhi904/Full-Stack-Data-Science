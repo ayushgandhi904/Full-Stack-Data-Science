{
 "cells": [
  {
   "cell_type": "markdown",
   "id": "7ff70ffd",
   "metadata": {},
   "source": [
    "### Q-1 Write a Python program to convert kilometers to miles?"
   ]
  },
  {
   "cell_type": "code",
   "execution_count": 1,
   "id": "85ef45fa",
   "metadata": {},
   "outputs": [
    {
     "name": "stdout",
     "output_type": "stream",
     "text": [
      "Enter the kilometers: 55\n",
      "Total miles is 34.155\n"
     ]
    }
   ],
   "source": [
    "km = float(input(\"Enter the kilometers: \"))\n",
    "\n",
    "print(f\"Total miles is {km*0.621}\")"
   ]
  },
  {
   "cell_type": "markdown",
   "id": "7d4e22aa",
   "metadata": {},
   "source": [
    "### Q-2 Write a Python program to covert celsius to fahrenheit?"
   ]
  },
  {
   "cell_type": "code",
   "execution_count": 2,
   "id": "1ef77bf0",
   "metadata": {},
   "outputs": [
    {
     "name": "stdout",
     "output_type": "stream",
     "text": [
      "Enter the celsius value: -40\n",
      "Fahrenheit is -40.0\n"
     ]
    }
   ],
   "source": [
    "c = float(input(\"Enter the celsius value: \"))\n",
    "\n",
    "print(f\"Fahrenheit is {(c*9/5)+32}\")"
   ]
  },
  {
   "cell_type": "markdown",
   "id": "7d060b32",
   "metadata": {},
   "source": [
    "### Q-3 Write a Python program to display calendar?"
   ]
  },
  {
   "cell_type": "code",
   "execution_count": 3,
   "id": "c26e79ec",
   "metadata": {},
   "outputs": [
    {
     "name": "stdout",
     "output_type": "stream",
     "text": [
      "   December 2022\n",
      "Mo Tu We Th Fr Sa Su\n",
      "          1  2  3  4\n",
      " 5  6  7  8  9 10 11\n",
      "12 13 14 15 16 17 18\n",
      "19 20 21 22 23 24 25\n",
      "26 27 28 29 30 31\n",
      "\n"
     ]
    }
   ],
   "source": [
    "import calendar\n",
    "\n",
    "y = 2022\n",
    "m = 12\n",
    "\n",
    "print(calendar.month(y, m))"
   ]
  },
  {
   "cell_type": "markdown",
   "id": "b945c523",
   "metadata": {},
   "source": [
    "### Q-4 Write a Python program to solve quadratic equation?"
   ]
  },
  {
   "cell_type": "code",
   "execution_count": 4,
   "id": "a959a825",
   "metadata": {},
   "outputs": [
    {
     "name": "stdout",
     "output_type": "stream",
     "text": [
      "Enter the value of a: 1\n",
      "Enter the value of b: 5\n",
      "Enter the value of c: 9\n",
      "The solutions of the equations are -63.0 & 58.0\n"
     ]
    }
   ],
   "source": [
    "#solving equation in the form of ax^2 + bx + c = 0\n",
    "\n",
    "a = float(input(\"Enter the value of a: \"))\n",
    "b = float(input(\"Enter the value of b: \"))\n",
    "c = float(input(\"Enter the value of c: \"))\n",
    "\n",
    "D = (b**2) - (4*a*c)\n",
    "d = (D)**2\n",
    "\n",
    "sol1 = ((-b) - d)/2*a\n",
    "sol2 = ((-b) + d)/2*a\n",
    "\n",
    "print(f\"The solutions of the equations are {sol1} & {sol2}\")"
   ]
  },
  {
   "cell_type": "markdown",
   "id": "bf09160d",
   "metadata": {},
   "source": [
    "### Q-5 Write a Python program to swap two variables without temp variable?"
   ]
  },
  {
   "cell_type": "code",
   "execution_count": 5,
   "id": "57450f51",
   "metadata": {},
   "outputs": [
    {
     "name": "stdout",
     "output_type": "stream",
     "text": [
      "80\n",
      "hello\n"
     ]
    }
   ],
   "source": [
    "x = \"hello\"\n",
    "y = 80\n",
    "\n",
    "x, y = y, x\n",
    "\n",
    "print(x)\n",
    "print(y)"
   ]
  },
  {
   "cell_type": "code",
   "execution_count": null,
   "id": "dc868988",
   "metadata": {},
   "outputs": [],
   "source": []
  }
 ],
 "metadata": {
  "kernelspec": {
   "display_name": "Python 3 (ipykernel)",
   "language": "python",
   "name": "python3"
  },
  "language_info": {
   "codemirror_mode": {
    "name": "ipython",
    "version": 3
   },
   "file_extension": ".py",
   "mimetype": "text/x-python",
   "name": "python",
   "nbconvert_exporter": "python",
   "pygments_lexer": "ipython3",
   "version": "3.9.15"
  }
 },
 "nbformat": 4,
 "nbformat_minor": 5
}
