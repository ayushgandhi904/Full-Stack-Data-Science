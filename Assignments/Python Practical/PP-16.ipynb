{
  "nbformat": 4,
  "nbformat_minor": 0,
  "metadata": {
    "colab": {
      "provenance": []
    },
    "kernelspec": {
      "name": "python3",
      "display_name": "Python 3"
    },
    "language_info": {
      "name": "python"
    }
  },
  "cells": [
    {
      "cell_type": "markdown",
      "source": [
        "### Question1. Write a function that stutters a word as if someone is struggling to read it. The first two letters are repeated twice with an ellipsis ... and space after each, and then the word is pronounced with a question mark ?."
      ],
      "metadata": {
        "id": "benystDaQP11"
      }
    },
    {
      "cell_type": "code",
      "execution_count": 3,
      "metadata": {
        "id": "mSvhnEciP6cM"
      },
      "outputs": [],
      "source": [
        "def stutter(word):\n",
        "    if len(word) < 2:\n",
        "        return word\n",
        "    \n",
        "    stuttered = word[:2] + \"... \" + word[:2] + \"... \" + word + \"?\"\n",
        "    return stuttered"
      ]
    },
    {
      "cell_type": "code",
      "source": [
        "stutter(\"incredible\") "
      ],
      "metadata": {
        "colab": {
          "base_uri": "https://localhost:8080/",
          "height": 35
        },
        "id": "WMh6cdDCQUZT",
        "outputId": "637adfe2-9eae-4057-8a61-17a2065267b9"
      },
      "execution_count": 4,
      "outputs": [
        {
          "output_type": "execute_result",
          "data": {
            "text/plain": [
              "'in... in... incredible?'"
            ],
            "application/vnd.google.colaboratory.intrinsic+json": {
              "type": "string"
            }
          },
          "metadata": {},
          "execution_count": 4
        }
      ]
    },
    {
      "cell_type": "markdown",
      "source": [
        "### Question 2.Create a function that takes an angle in radians and returns the corresponding angle in degrees rounded to one decimal place."
      ],
      "metadata": {
        "id": "LAgyaq7aQfQP"
      }
    },
    {
      "cell_type": "code",
      "source": [
        "import math\n",
        "\n",
        "def radians_to_degrees(angle_rad):\n",
        "    degrees = angle_rad * (180 / math.pi)\n",
        "    degrees_rounded = round(degrees, 1)\n",
        "    return degrees_rounded"
      ],
      "metadata": {
        "id": "cYtQisFSQYOJ"
      },
      "execution_count": 5,
      "outputs": []
    },
    {
      "cell_type": "code",
      "source": [
        "radians_to_degrees(20) "
      ],
      "metadata": {
        "colab": {
          "base_uri": "https://localhost:8080/"
        },
        "id": "MedHj_KoQl2b",
        "outputId": "e4f76dd1-0885-4cbd-e47c-63e5155a8a29"
      },
      "execution_count": 6,
      "outputs": [
        {
          "output_type": "execute_result",
          "data": {
            "text/plain": [
              "1145.9"
            ]
          },
          "metadata": {},
          "execution_count": 6
        }
      ]
    },
    {
      "cell_type": "markdown",
      "source": [
        "### Question 3. \n",
        "In this challenge, establish if a given integer num is a Curzon number. If 1 plus 2 elevated to num is exactly divisible by 1 plus 2 multiplied by num, then num is a Curzon number.\n",
        "Given a non-negative integer num, implement a function that returns True if num is a Curzon number, or False otherwise.\n"
      ],
      "metadata": {
        "id": "9YgyF-e1QsTC"
      }
    },
    {
      "cell_type": "code",
      "source": [
        "def is_curzon(num):\n",
        "    numerator = 2 ** num + 1\n",
        "    denominator = 2 * num + 1\n",
        "    return numerator % denominator == 0"
      ],
      "metadata": {
        "id": "IdmdzqH4QqlS"
      },
      "execution_count": 9,
      "outputs": []
    },
    {
      "cell_type": "code",
      "source": [
        "is_curzon(14) "
      ],
      "metadata": {
        "colab": {
          "base_uri": "https://localhost:8080/"
        },
        "id": "QabkkxAiQ3QJ",
        "outputId": "5027d3a8-d705-42b8-bdc2-0c1c1e48cba5"
      },
      "execution_count": 10,
      "outputs": [
        {
          "output_type": "execute_result",
          "data": {
            "text/plain": [
              "True"
            ]
          },
          "metadata": {},
          "execution_count": 10
        }
      ]
    },
    {
      "cell_type": "markdown",
      "source": [
        "### Question 4.Given the side length x find the area of a hexagon."
      ],
      "metadata": {
        "id": "8TKtQE8QRAEH"
      }
    },
    {
      "cell_type": "code",
      "source": [
        "\n",
        "def area_of_hexagon(x):\n",
        "    area = (3 * math.sqrt(3) * x ** 2) / 2\n",
        "    return area"
      ],
      "metadata": {
        "id": "iQ2fCqDrQ5g_"
      },
      "execution_count": 11,
      "outputs": []
    },
    {
      "cell_type": "code",
      "source": [
        "area_of_hexagon(2) "
      ],
      "metadata": {
        "colab": {
          "base_uri": "https://localhost:8080/"
        },
        "id": "6c8HAo4fRMad",
        "outputId": "78eab0c1-9d6c-48ec-d89d-549297cb20bc"
      },
      "execution_count": 12,
      "outputs": [
        {
          "output_type": "execute_result",
          "data": {
            "text/plain": [
              "10.392304845413264"
            ]
          },
          "metadata": {},
          "execution_count": 12
        }
      ]
    },
    {
      "cell_type": "markdown",
      "source": [
        "### Question 5. \n",
        "Create a function that returns a base-2 (binary) representation of a base-10 (decimal) string number. To convert is simple: ((2) means base-2 and (10) means base-10) 010101001(2) = 1 + 8 + 32 + 128.\n",
        "Going from right to left, the value of the most right bit is 1, now from that every bit to the left will be x2 the value, value of an 8 bit binary numbers are (256, 128, 64, 32, 16, 8, 4, 2, 1).\n"
      ],
      "metadata": {
        "id": "X7jt2BDiRREp"
      }
    },
    {
      "cell_type": "code",
      "source": [
        "def binary(decimal_num):\n",
        "    decimal_num = int(decimal_num)  \n",
        "    binary_num = bin(decimal_num)[2:]  \n",
        "    return binary_num"
      ],
      "metadata": {
        "id": "-oVK8aifRPPz"
      },
      "execution_count": 13,
      "outputs": []
    },
    {
      "cell_type": "code",
      "source": [
        "binary(5) "
      ],
      "metadata": {
        "colab": {
          "base_uri": "https://localhost:8080/",
          "height": 35
        },
        "id": "J52U6L0tRffU",
        "outputId": "8aa0a623-4983-4f41-ffa3-f3589b2de0e1"
      },
      "execution_count": 14,
      "outputs": [
        {
          "output_type": "execute_result",
          "data": {
            "text/plain": [
              "'101'"
            ],
            "application/vnd.google.colaboratory.intrinsic+json": {
              "type": "string"
            }
          },
          "metadata": {},
          "execution_count": 14
        }
      ]
    }
  ]
}