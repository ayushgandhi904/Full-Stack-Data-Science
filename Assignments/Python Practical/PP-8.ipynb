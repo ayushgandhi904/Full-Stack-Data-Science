{
  "nbformat": 4,
  "nbformat_minor": 0,
  "metadata": {
    "colab": {
      "provenance": []
    },
    "kernelspec": {
      "name": "python3",
      "display_name": "Python 3"
    },
    "language_info": {
      "name": "python"
    }
  },
  "cells": [
    {
      "cell_type": "markdown",
      "source": [
        "### 1.\tWrite a Python Program to Add Two Matrices?"
      ],
      "metadata": {
        "id": "P86qdcgrVFTJ"
      }
    },
    {
      "cell_type": "code",
      "source": [
        "def add_mat(m1, m2):\n",
        "\n",
        "  try:\n",
        "\n",
        "    rows = len(m1)\n",
        "    cols = len(m1[0])\n",
        "\n",
        "    result = [[0 for i in range(cols)] for i in range(rows)]\n",
        "\n",
        "    for i in range(rows):\n",
        "      for j in range(cols):\n",
        "        result[i][j] = m1[i][j] + m2[i][j]\n",
        "\n",
        "    return result\n",
        "\n",
        "  except:\n",
        "\n",
        "    print(\"rows & coloumns not equal for matrix\")\n",
        "\n"
      ],
      "metadata": {
        "id": "hLvh1NiKVGFW"
      },
      "execution_count": 5,
      "outputs": []
    },
    {
      "cell_type": "code",
      "source": [
        "add_mat([[1, 2, 3], [4, 5, 6]], [[7, 8, 9], [10, 11, 12]])"
      ],
      "metadata": {
        "colab": {
          "base_uri": "https://localhost:8080/"
        },
        "id": "OWfFkCWGXOVF",
        "outputId": "00699748-4769-46da-c717-959dd4a3ef8c"
      },
      "execution_count": 8,
      "outputs": [
        {
          "output_type": "execute_result",
          "data": {
            "text/plain": [
              "[[8, 10, 12], [14, 16, 18]]"
            ]
          },
          "metadata": {},
          "execution_count": 8
        }
      ]
    },
    {
      "cell_type": "markdown",
      "source": [
        "### 2.\tWrite a Python Program to Multiply Two Matrices?"
      ],
      "metadata": {
        "id": "srzvxKpAYghc"
      }
    },
    {
      "cell_type": "code",
      "source": [
        "def mul_mat(m1, m2):\n",
        "\n",
        "  try:\n",
        "\n",
        "    result = [[0 for i in range(len(m2[0]))] for i in range(len(m1))]\n",
        "    for i in range(len(m1)):\n",
        "      for j in range(len(m2[0])):\n",
        "        for k in range(len(m2)):\n",
        "          result[i][j] += m1[i][k] * m2[k][j]\n",
        "    return result\n",
        "\n",
        "  except:\n",
        "\n",
        "    raise ValueError(\"Matrics can't be multiplied\")\n",
        "\n"
      ],
      "metadata": {
        "id": "URaP0-PgXXGK"
      },
      "execution_count": 15,
      "outputs": []
    },
    {
      "cell_type": "code",
      "source": [
        "mul_mat([[1, 2, 3], [4, 5, 6]], [[7, 8, 9], [10, 11, 12]])"
      ],
      "metadata": {
        "colab": {
          "base_uri": "https://localhost:8080/"
        },
        "id": "vlFKGY-3Z6Hp",
        "outputId": "3ca118c3-aa7f-427f-c123-8af08d15dea6"
      },
      "execution_count": 16,
      "outputs": [
        {
          "output_type": "execute_result",
          "data": {
            "text/plain": [
              "[[27, 30, 33], [78, 87, 96]]"
            ]
          },
          "metadata": {},
          "execution_count": 16
        }
      ]
    },
    {
      "cell_type": "markdown",
      "source": [
        "### 3.\tWrite a Python Program to Transpose a Matrix?"
      ],
      "metadata": {
        "id": "uDDJkFCPfQcq"
      }
    },
    {
      "cell_type": "code",
      "source": [
        "def tra_mat(a):\n",
        "\n",
        "  trans = [[0 for i in range(len(a))] for i in range(len(a[0]))]\n",
        "\n",
        "  for i in range(len(a)):\n",
        "    for j in range(len(a[0])):\n",
        "      trans[j][i] = a[i][j]\n",
        "\n",
        "  return trans"
      ],
      "metadata": {
        "id": "9M1bEHfIZ-jS"
      },
      "execution_count": 17,
      "outputs": []
    },
    {
      "cell_type": "code",
      "source": [
        "tra_mat([[9, 4, 10],\n",
        "         [28, 20, 10],\n",
        "         [19, 12, 1]])"
      ],
      "metadata": {
        "colab": {
          "base_uri": "https://localhost:8080/"
        },
        "id": "PFQxpzwrh2Dw",
        "outputId": "e60d17b1-0161-4624-ac59-144780cc82de"
      },
      "execution_count": 19,
      "outputs": [
        {
          "output_type": "execute_result",
          "data": {
            "text/plain": [
              "[[9, 28, 19], [4, 20, 12], [10, 10, 1]]"
            ]
          },
          "metadata": {},
          "execution_count": 19
        }
      ]
    },
    {
      "cell_type": "markdown",
      "source": [
        "### 4.\tWrite a Python Program to Sort Words in Alphabetic Order?"
      ],
      "metadata": {
        "id": "GHNXsbxniJ7Q"
      }
    },
    {
      "cell_type": "code",
      "source": [
        "def sort(a):\n",
        "\n",
        "  ans = sorted(a)\n",
        "\n",
        "  return ans"
      ],
      "metadata": {
        "id": "Mhu_C97kh5N9"
      },
      "execution_count": 20,
      "outputs": []
    },
    {
      "cell_type": "code",
      "source": [
        "sort(\"ayush\")"
      ],
      "metadata": {
        "colab": {
          "base_uri": "https://localhost:8080/"
        },
        "id": "VprLFkUAiyn5",
        "outputId": "9e5b2fb4-d3ea-4709-9d35-26b075d4953b"
      },
      "execution_count": 21,
      "outputs": [
        {
          "output_type": "execute_result",
          "data": {
            "text/plain": [
              "['a', 'h', 's', 'u', 'y']"
            ]
          },
          "metadata": {},
          "execution_count": 21
        }
      ]
    },
    {
      "cell_type": "markdown",
      "source": [
        "### 5.\tWrite a Python Program to Remove Punctuation From a String?"
      ],
      "metadata": {
        "id": "b9KpRefIi56A"
      }
    },
    {
      "cell_type": "code",
      "source": [
        "def rem_pun(a):\n",
        "\n",
        "  pun = '''()-[]{};:'\"\\,<>./?@#$%^&*_~'''\n",
        "  no_pun = \"\"\n",
        "  for i in a:\n",
        "    if i not in pun:\n",
        "      no_pun += i\n",
        "  return(no_pun)"
      ],
      "metadata": {
        "id": "zu9XYe0ai1L0"
      },
      "execution_count": 25,
      "outputs": []
    },
    {
      "cell_type": "code",
      "source": [
        "rem_pun(\"Hey, Ayush! How are you ?\")"
      ],
      "metadata": {
        "colab": {
          "base_uri": "https://localhost:8080/",
          "height": 35
        },
        "id": "X0-sGHFikUv7",
        "outputId": "50a3cb18-8e0a-419b-c081-06740c2ebcae"
      },
      "execution_count": 26,
      "outputs": [
        {
          "output_type": "execute_result",
          "data": {
            "text/plain": [
              "'Hey Ayush! How are you '"
            ],
            "application/vnd.google.colaboratory.intrinsic+json": {
              "type": "string"
            }
          },
          "metadata": {},
          "execution_count": 26
        }
      ]
    },
    {
      "cell_type": "code",
      "source": [],
      "metadata": {
        "id": "SXYfzCBWk8B1"
      },
      "execution_count": null,
      "outputs": []
    }
  ]
}