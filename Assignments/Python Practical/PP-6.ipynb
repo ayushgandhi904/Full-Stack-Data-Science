{
 "cells": [
  {
   "cell_type": "markdown",
   "id": "7ab7163a",
   "metadata": {},
   "source": [
    "### Q-1 Write a Python Program to Display Fibonacci Sequence Using Recursion?"
   ]
  },
  {
   "cell_type": "code",
   "execution_count": 18,
   "id": "78dab9ef",
   "metadata": {},
   "outputs": [],
   "source": [
    "def Fibonacci(n):\n",
    "    \n",
    "    n1, n2 = 0, 1\n",
    "    c = 0\n",
    "\n",
    "    if n<1:\n",
    "        print(\"Enter positive integer\")\n",
    "    elif n ==1:\n",
    "        print(n1)\n",
    "    else:\n",
    "        while c < n:\n",
    "            print(n1)\n",
    "            x = n1 + n2\n",
    "            n1 = n2\n",
    "            n2 = x\n",
    "            c += 1                    "
   ]
  },
  {
   "cell_type": "code",
   "execution_count": 19,
   "id": "93c5f2ce",
   "metadata": {},
   "outputs": [
    {
     "name": "stdout",
     "output_type": "stream",
     "text": [
      "0\n",
      "1\n"
     ]
    }
   ],
   "source": [
    "Fibonacci(2)"
   ]
  },
  {
   "cell_type": "code",
   "execution_count": 20,
   "id": "82d39e2c",
   "metadata": {},
   "outputs": [
    {
     "name": "stdout",
     "output_type": "stream",
     "text": [
      "0\n",
      "1\n",
      "1\n",
      "2\n",
      "3\n"
     ]
    }
   ],
   "source": [
    "Fibonacci(5)"
   ]
  },
  {
   "cell_type": "markdown",
   "id": "b82e6796",
   "metadata": {},
   "source": [
    "### Q-2 Write a Python Program to Find Factorial of Number Using Recursion?"
   ]
  },
  {
   "cell_type": "code",
   "execution_count": 23,
   "id": "25e8a6f9",
   "metadata": {},
   "outputs": [],
   "source": [
    "def factorial(n):\n",
    "    \n",
    "    a = 1\n",
    "    \n",
    "    for i in range(1, n+1):\n",
    "        x = a*i\n",
    "        a = x\n",
    "    print(a)"
   ]
  },
  {
   "cell_type": "code",
   "execution_count": 24,
   "id": "c52db973",
   "metadata": {},
   "outputs": [
    {
     "name": "stdout",
     "output_type": "stream",
     "text": [
      "120\n"
     ]
    }
   ],
   "source": [
    "factorial(5)"
   ]
  },
  {
   "cell_type": "code",
   "execution_count": 25,
   "id": "25b56785",
   "metadata": {},
   "outputs": [
    {
     "name": "stdout",
     "output_type": "stream",
     "text": [
      "3628800\n"
     ]
    }
   ],
   "source": [
    "factorial(10)"
   ]
  },
  {
   "cell_type": "markdown",
   "id": "068be529",
   "metadata": {},
   "source": [
    "### Q-3 Write a Python Program to calculate your Body Mass Index?"
   ]
  },
  {
   "cell_type": "code",
   "execution_count": 26,
   "id": "0311500a",
   "metadata": {},
   "outputs": [],
   "source": [
    "def BMI():\n",
    "    a = float(input(\"Enter your weight in KGs\"))\n",
    "    b = float(input(\"Enter your height in cms\"))\n",
    "    n = (a/((b/100)**2))\n",
    "    \n",
    "    if n <= 18.5:\n",
    "        print(\"You are underweight\")\n",
    "    elif n <= 24.9:\n",
    "        print(\"You are normalweight & healthy\")\n",
    "    elif n <= 29.9:\n",
    "        print(\"You are overweight\")\n",
    "    else:\n",
    "        print(\"you should check yourself\")\n",
    "    "
   ]
  },
  {
   "cell_type": "code",
   "execution_count": 27,
   "id": "e7e35f37",
   "metadata": {},
   "outputs": [
    {
     "name": "stdout",
     "output_type": "stream",
     "text": [
      "Enter your weight in KGs62\n",
      "Enter your height in cms172\n",
      "You are normalweight & healthy\n"
     ]
    }
   ],
   "source": [
    "BMI()"
   ]
  },
  {
   "cell_type": "markdown",
   "id": "915bc3e1",
   "metadata": {},
   "source": [
    "### Q-4 Write a Python Program to calculate the natural logarithm of any number?"
   ]
  },
  {
   "cell_type": "code",
   "execution_count": 28,
   "id": "bf861f7d",
   "metadata": {},
   "outputs": [],
   "source": [
    "def log(a):\n",
    "    \n",
    "    import math\n",
    "    \n",
    "    print(math.log(a))"
   ]
  },
  {
   "cell_type": "code",
   "execution_count": 29,
   "id": "8636dab8",
   "metadata": {},
   "outputs": [
    {
     "name": "stdout",
     "output_type": "stream",
     "text": [
      "3.2188758248682006\n"
     ]
    }
   ],
   "source": [
    "log(25)"
   ]
  },
  {
   "cell_type": "markdown",
   "id": "a1eef165",
   "metadata": {},
   "source": [
    "### Q-5 Write a Python Program for cube sum of first n natural numbers?"
   ]
  },
  {
   "cell_type": "code",
   "execution_count": 30,
   "id": "85375b02",
   "metadata": {},
   "outputs": [],
   "source": [
    "def sum_cub(n):\n",
    "    a = 0\n",
    "    for i in range(1, n+1):\n",
    "        a += i**3\n",
    "    print(a)"
   ]
  },
  {
   "cell_type": "code",
   "execution_count": 31,
   "id": "fd722537",
   "metadata": {},
   "outputs": [
    {
     "name": "stdout",
     "output_type": "stream",
     "text": [
      "36\n"
     ]
    }
   ],
   "source": [
    "sum_cub(3)"
   ]
  },
  {
   "cell_type": "code",
   "execution_count": 32,
   "id": "1e8c4a6c",
   "metadata": {},
   "outputs": [
    {
     "name": "stdout",
     "output_type": "stream",
     "text": [
      "8281\n"
     ]
    }
   ],
   "source": [
    "sum_cub(13)"
   ]
  },
  {
   "cell_type": "code",
   "execution_count": null,
   "id": "876d1225",
   "metadata": {},
   "outputs": [],
   "source": []
  }
 ],
 "metadata": {
  "kernelspec": {
   "display_name": "Python 3 (ipykernel)",
   "language": "python",
   "name": "python3"
  },
  "language_info": {
   "codemirror_mode": {
    "name": "ipython",
    "version": 3
   },
   "file_extension": ".py",
   "mimetype": "text/x-python",
   "name": "python",
   "nbconvert_exporter": "python",
   "pygments_lexer": "ipython3",
   "version": "3.9.15"
  }
 },
 "nbformat": 4,
 "nbformat_minor": 5
}
