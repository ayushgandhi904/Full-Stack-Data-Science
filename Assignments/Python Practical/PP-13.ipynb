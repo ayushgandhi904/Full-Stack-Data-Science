{
  "nbformat": 4,
  "nbformat_minor": 0,
  "metadata": {
    "colab": {
      "provenance": []
    },
    "kernelspec": {
      "name": "python3",
      "display_name": "Python 3"
    },
    "language_info": {
      "name": "python"
    }
  },
  "cells": [
    {
      "cell_type": "markdown",
      "source": [
        "### Question 1:\n",
        "\n",
        "Write a program that calculates and prints the value according to the given formula:\n",
        "\n",
        "Q = Square root of [(2 * C * D)/H]\n",
        "\n",
        "Following are the fixed values of C and H:\n",
        "\n",
        "C is 50. H is 30.\n",
        "\n",
        "D is the variable whose values should be input to your program in a comma-separated sequence.\n"
      ],
      "metadata": {
        "id": "mSGfR_79txYL"
      }
    },
    {
      "cell_type": "code",
      "execution_count": 1,
      "metadata": {
        "colab": {
          "base_uri": "https://localhost:8080/"
        },
        "id": "OZzgMze3oAE2",
        "outputId": "c880ac33-61eb-4018-9a4a-932295486201"
      },
      "outputs": [
        {
          "output_type": "stream",
          "name": "stdout",
          "text": [
            "Enter the comma-separated sequence of values for D: 20, 40\n",
            "8.16, 11.55\n"
          ]
        }
      ],
      "source": [
        "import math\n",
        "\n",
        "C = 50\n",
        "H = 30\n",
        "\n",
        "d_values = input(\"Enter the comma-separated sequence of values for D: \")\n",
        "d_list = d_values.split(',')\n",
        "\n",
        "result_list = []\n",
        "for d in d_list:\n",
        "    d = int(d)\n",
        "    Q = math.sqrt((2 * C * d) / H)\n",
        "    result_list.append(str(round(Q, 2)))\n",
        "\n",
        "result = ', '.join(result_list)\n",
        "print(result)"
      ]
    },
    {
      "cell_type": "markdown",
      "source": [
        "### Question 2:\n",
        "Write a program which takes 2 digits, X,Y as input and generates a 2-dimensional array. The element value in the i-th row and j-th column of the array should be i*j.\n",
        "\n",
        "Note: i=0,1.., X-1; j=0,1,¡¬Y-1.\n"
      ],
      "metadata": {
        "id": "BXZ3FWC_uW2T"
      }
    },
    {
      "cell_type": "code",
      "source": [
        "x = int(input(\"Enter the value x: \"))\n",
        "y = int(input(\"Enter the value y: \"))\n",
        "\n",
        "array = []\n",
        "for i in range(x):\n",
        "    row = []\n",
        "    for j in range(y):\n",
        "        row.append(i * j)\n",
        "    array.append(row)\n",
        "for row in array:\n",
        "    print(row)"
      ],
      "metadata": {
        "colab": {
          "base_uri": "https://localhost:8080/"
        },
        "id": "KXyrkxfcuMsF",
        "outputId": "bd1aa2f8-533d-48c9-ccab-3cd751ef78df"
      },
      "execution_count": 3,
      "outputs": [
        {
          "output_type": "stream",
          "name": "stdout",
          "text": [
            "Enter the value x: 4\n",
            "Enter the value y: 6\n",
            "[0, 0, 0, 0, 0, 0]\n",
            "[0, 1, 2, 3, 4, 5]\n",
            "[0, 2, 4, 6, 8, 10]\n",
            "[0, 3, 6, 9, 12, 15]\n"
          ]
        }
      ]
    },
    {
      "cell_type": "markdown",
      "source": [
        "### Question 3:\n",
        "Write a program that accepts a comma separated sequence of words as input and prints the words in a comma-separated sequence after sorting them alphabetically.\n"
      ],
      "metadata": {
        "id": "CSWeFG8bu1Op"
      }
    },
    {
      "cell_type": "code",
      "source": [
        "words= input(\"Enter a comma-separated sequence of words: \")\n",
        "words_list = words.split(',')\n",
        "sorted_words = sorted(words_list)\n",
        "output= ', '.join(sorted_words)\n",
        "print(output)"
      ],
      "metadata": {
        "colab": {
          "base_uri": "https://localhost:8080/"
        },
        "id": "KQmHV_pDunt5",
        "outputId": "01f0e57e-643e-4565-f132-ec6b36a63b61"
      },
      "execution_count": 4,
      "outputs": [
        {
          "output_type": "stream",
          "name": "stdout",
          "text": [
            "Enter a comma-separated sequence of words: ayush, nilesh, hemil, gandhi\n",
            " gandhi,  hemil,  nilesh, ayush\n"
          ]
        }
      ]
    },
    {
      "cell_type": "markdown",
      "source": [
        "### Question 4:\n",
        "Write a program that accepts a sequence of whitespace separated words as input and prints the words after removing all duplicate words and sorting them alphanumerically.\n"
      ],
      "metadata": {
        "id": "D-5VV38WvZpX"
      }
    },
    {
      "cell_type": "code",
      "source": [
        "words = input(\"Enter a sequence of whitespace-separated words: \")\n",
        "words_list = words.split()\n",
        "unique_words = list(set(words_list))\n",
        "sorted_words = sorted(unique_words)\n",
        "print(sorted_words)\n"
      ],
      "metadata": {
        "colab": {
          "base_uri": "https://localhost:8080/"
        },
        "id": "R-Z_CAB_vPaR",
        "outputId": "7d305e8b-a0a6-4b2a-b7dc-5d3e4ac290d6"
      },
      "execution_count": 5,
      "outputs": [
        {
          "output_type": "stream",
          "name": "stdout",
          "text": [
            "Enter a sequence of whitespace-separated words: ayush nilesh gandhi\n",
            "['ayush', 'gandhi', 'nilesh']\n"
          ]
        }
      ]
    },
    {
      "cell_type": "markdown",
      "source": [
        "### Question 5:\n",
        "Write a program that accepts a sentence and calculate the number of letters and digits."
      ],
      "metadata": {
        "id": "LWPNZGJ1wBj1"
      }
    },
    {
      "cell_type": "code",
      "source": [
        "word = input(\"Enter a word: \")\n",
        "letter_count = 0\n",
        "digit_count = 0\n",
        "\n",
        "for char in word:\n",
        "    if char.isalpha():  \n",
        "        letter_count += 1\n",
        "    elif char.isdigit(): \n",
        "        digit_count += 1\n",
        "\n",
        "# Print the results\n",
        "print(letter_count)\n",
        "print(digit_count)"
      ],
      "metadata": {
        "colab": {
          "base_uri": "https://localhost:8080/"
        },
        "id": "5yq8JZdYvu5W",
        "outputId": "30e4e106-e0d7-4534-aabc-dfc34510c4b8"
      },
      "execution_count": 6,
      "outputs": [
        {
          "output_type": "stream",
          "name": "stdout",
          "text": [
            "Enter a word: Hello, Good Morning\n",
            "16\n",
            "0\n"
          ]
        }
      ]
    },
    {
      "cell_type": "markdown",
      "source": [
        "### Question 6:\n",
        "A website requires the users to input username and password to register. Write a program to check the validity of password input by users.\n",
        "\n",
        "Following are the criteria for checking the password:\n",
        "\n",
        "1. At least 1 letter between [a-z]\n",
        "\n",
        "2. At least 1 number between [0-9]\n",
        "\n",
        "1. At least 1 letter between [A-Z]\n",
        "\n",
        "3. At least 1 character from [$#@]\n",
        "\n",
        "4. Minimum length of transaction password: 6\n",
        "\n",
        "5. Maximum length of transaction password: 12\n",
        "\n",
        "Your program should accept a sequence of comma separated passwords and will check them according to the above criteria. Passwords that match the criteria are to be printed, each separated by a comma.\n"
      ],
      "metadata": {
        "id": "fWf4jPBUwonR"
      }
    },
    {
      "cell_type": "code",
      "source": [
        "#It can be perform by re objects\n",
        "\n",
        "import re\n",
        "\n",
        "def is_valid_password(password):\n",
        "    if re.match(r\"^(?=.*[a-z])(?=.*[A-Z])(?=.*\\d)(?=.*[$#@])[a-zA-Z\\d$#@]{6,12}$\", password):\n",
        "        return True\n",
        "    else:\n",
        "        return False\n",
        "\n",
        "passwords_input = input(\"Enter a sequence of comma-separated passwords: \")\n",
        "\n",
        "passwords_list = passwords_input.split(',')\n",
        "\n",
        "valid_passwords = []\n",
        "for password in passwords_list:\n",
        "    if is_valid_password(password):\n",
        "        valid_passwords.append(password)\n",
        "\n",
        "valid_passwords_output = ', '.join(valid_passwords)\n",
        "print(\"Valid passwords:\", valid_passwords_output)"
      ],
      "metadata": {
        "colab": {
          "base_uri": "https://localhost:8080/"
        },
        "id": "T6FU7uqZwhtd",
        "outputId": "7246b0f9-e64c-4622-d38f-647b4f4b28b4"
      },
      "execution_count": 7,
      "outputs": [
        {
          "output_type": "stream",
          "name": "stdout",
          "text": [
            "Enter a sequence of comma-separated passwords: Love4@me\n",
            "Valid passwords: Love4@me\n"
          ]
        }
      ]
    },
    {
      "cell_type": "code",
      "source": [],
      "metadata": {
        "id": "EGuh2xKnxAf5"
      },
      "execution_count": null,
      "outputs": []
    }
  ]
}