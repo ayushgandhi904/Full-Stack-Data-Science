{
  "nbformat": 4,
  "nbformat_minor": 0,
  "metadata": {
    "colab": {
      "provenance": []
    },
    "kernelspec": {
      "name": "python3",
      "display_name": "Python 3"
    },
    "language_info": {
      "name": "python"
    }
  },
  "cells": [
    {
      "cell_type": "markdown",
      "source": [
        "### Question1\n",
        "Create a function that takes a string and returns a string in which each character is repeated once.\n"
      ],
      "metadata": {
        "id": "pMONrqxyWXv-"
      }
    },
    {
      "cell_type": "code",
      "execution_count": 1,
      "metadata": {
        "id": "aKrrcIX3WNnv"
      },
      "outputs": [],
      "source": [
        "def double_char(input_string):\n",
        "    double_char = ''.join([char * 2 for char in input_string])\n",
        "    return double_char"
      ]
    },
    {
      "cell_type": "code",
      "source": [
        "double_char(\"String\") "
      ],
      "metadata": {
        "colab": {
          "base_uri": "https://localhost:8080/",
          "height": 35
        },
        "id": "kiWlVrbHWhz_",
        "outputId": "8097ab3c-c132-4a29-d487-adf3e0f4a973"
      },
      "execution_count": 2,
      "outputs": [
        {
          "output_type": "execute_result",
          "data": {
            "text/plain": [
              "'SSttrriinngg'"
            ],
            "application/vnd.google.colaboratory.intrinsic+json": {
              "type": "string"
            }
          },
          "metadata": {},
          "execution_count": 2
        }
      ]
    },
    {
      "cell_type": "markdown",
      "source": [
        "### Question2\n",
        "Create a function that reverses a boolean value and returns the string \"boolean expected\" if another variable type is given.\n"
      ],
      "metadata": {
        "id": "s5R1CeKxWkG8"
      }
    },
    {
      "cell_type": "code",
      "source": [
        "def reverse(value):\n",
        "    if isinstance(value, bool):\n",
        "        return not value\n",
        "    else:\n",
        "        return \"boolean expected\""
      ],
      "metadata": {
        "id": "-ejwtLDfWjgl"
      },
      "execution_count": 3,
      "outputs": []
    },
    {
      "cell_type": "code",
      "source": [
        "reverse(None) "
      ],
      "metadata": {
        "colab": {
          "base_uri": "https://localhost:8080/",
          "height": 35
        },
        "id": "iSK0vfLZWtvn",
        "outputId": "71d8a0b0-4760-4f54-a33e-78af8d36bd67"
      },
      "execution_count": 4,
      "outputs": [
        {
          "output_type": "execute_result",
          "data": {
            "text/plain": [
              "'boolean expected'"
            ],
            "application/vnd.google.colaboratory.intrinsic+json": {
              "type": "string"
            }
          },
          "metadata": {},
          "execution_count": 4
        }
      ]
    },
    {
      "cell_type": "markdown",
      "source": [
        "### Question3\n",
        "Create a function that returns the thickness (in meters) of a piece of paper after folding it n number of times. The paper starts off with a thickness of 0.5mm.\n"
      ],
      "metadata": {
        "id": "so5GhBd_WyEi"
      }
    },
    {
      "cell_type": "code",
      "source": [
        "def num_layers(n):\n",
        "    thickness_mm = 0.5\n",
        "    for _ in range(n):\n",
        "        thickness_mm *= 2\n",
        "    thickness_m = thickness_mm / 1000  \n",
        "    return f\"{thickness_m}m\""
      ],
      "metadata": {
        "id": "j0nFjhu6WxOq"
      },
      "execution_count": 9,
      "outputs": []
    },
    {
      "cell_type": "code",
      "source": [
        "num_layers(4)"
      ],
      "metadata": {
        "colab": {
          "base_uri": "https://localhost:8080/",
          "height": 35
        },
        "id": "ANkfbJZ8W9c9",
        "outputId": "03cb9d1b-6942-43d8-ade8-075a1a0e32df"
      },
      "execution_count": 10,
      "outputs": [
        {
          "output_type": "execute_result",
          "data": {
            "text/plain": [
              "'0.008m'"
            ],
            "application/vnd.google.colaboratory.intrinsic+json": {
              "type": "string"
            }
          },
          "metadata": {},
          "execution_count": 10
        }
      ]
    },
    {
      "cell_type": "markdown",
      "source": [
        "### Question4\n",
        "Create a function that takes a single string as argument and returns an ordered list containing the indices of all capital letters in the string.\n"
      ],
      "metadata": {
        "id": "ilPeFWxFXOfR"
      }
    },
    {
      "cell_type": "code",
      "source": [
        "def index_of_caps(string):\n",
        "    return [i for i, char in enumerate(string) if char.isupper()]"
      ],
      "metadata": {
        "id": "AMH7FwCVXDJp"
      },
      "execution_count": 11,
      "outputs": []
    },
    {
      "cell_type": "code",
      "source": [
        "index_of_caps(\"STRIKE\") "
      ],
      "metadata": {
        "colab": {
          "base_uri": "https://localhost:8080/"
        },
        "id": "0TmTOv2lXYOz",
        "outputId": "e8dfdf3a-4f0a-4f6d-8696-64abfce56865"
      },
      "execution_count": 12,
      "outputs": [
        {
          "output_type": "execute_result",
          "data": {
            "text/plain": [
              "[0, 1, 2, 3, 4, 5]"
            ]
          },
          "metadata": {},
          "execution_count": 12
        }
      ]
    },
    {
      "cell_type": "markdown",
      "source": [
        "### Question5\n",
        "Using list comprehensions, create a function that finds all even numbers from 1 to the given number.\n"
      ],
      "metadata": {
        "id": "kKkphhBQXfDw"
      }
    },
    {
      "cell_type": "code",
      "source": [
        "def find_even_nums(n):\n",
        "    return [num for num in range(1, n+1) if num % 2 == 0]"
      ],
      "metadata": {
        "id": "4la6oyRuXbD7"
      },
      "execution_count": 13,
      "outputs": []
    },
    {
      "cell_type": "code",
      "source": [
        "find_even_nums(8)"
      ],
      "metadata": {
        "id": "A8gtO8x_Xj6c",
        "outputId": "1acd1420-e780-4918-c18d-bc8faf47e9e9",
        "colab": {
          "base_uri": "https://localhost:8080/"
        }
      },
      "execution_count": 14,
      "outputs": [
        {
          "output_type": "execute_result",
          "data": {
            "text/plain": [
              "[2, 4, 6, 8]"
            ]
          },
          "metadata": {},
          "execution_count": 14
        }
      ]
    }
  ]
}