{
 "cells": [
  {
   "cell_type": "markdown",
   "id": "2b37d073",
   "metadata": {},
   "source": [
    "### Q-1 Write a Python Program to Find LCM?"
   ]
  },
  {
   "cell_type": "code",
   "execution_count": 6,
   "id": "8c4e90a7",
   "metadata": {},
   "outputs": [],
   "source": [
    "def LCM(a, b):\n",
    "    \n",
    "    if a > b:\n",
    "        no = a\n",
    "    else:\n",
    "        no = b\n",
    "        \n",
    "    while (True):\n",
    "        \n",
    "        if (no % a == 0) and (no % b == 0):\n",
    "            \n",
    "            lcm = no\n",
    "            break\n",
    "        no += 1\n",
    "    return lcm"
   ]
  },
  {
   "cell_type": "code",
   "execution_count": 7,
   "id": "d2384798",
   "metadata": {},
   "outputs": [
    {
     "data": {
      "text/plain": [
       "30"
      ]
     },
     "execution_count": 7,
     "metadata": {},
     "output_type": "execute_result"
    }
   ],
   "source": [
    "LCM (10, 15)"
   ]
  },
  {
   "cell_type": "markdown",
   "id": "3d30850c",
   "metadata": {},
   "source": [
    "### Q-2 Write a Python Program to Find HCF?"
   ]
  },
  {
   "cell_type": "code",
   "execution_count": 12,
   "id": "7f988d23",
   "metadata": {},
   "outputs": [],
   "source": [
    "def HCF(a, b):\n",
    "    \n",
    "    if a > b:\n",
    "        no = b\n",
    "    else: \n",
    "        no = a\n",
    "        \n",
    "    for i in range(1, no+1):\n",
    "        \n",
    "        if (a % i == 0) and (b % i == 0):\n",
    "            hcf = i\n",
    "    return hcf\n",
    "        \n"
   ]
  },
  {
   "cell_type": "code",
   "execution_count": 13,
   "id": "cbee53fc",
   "metadata": {},
   "outputs": [
    {
     "data": {
      "text/plain": [
       "2"
      ]
     },
     "execution_count": 13,
     "metadata": {},
     "output_type": "execute_result"
    }
   ],
   "source": [
    "HCF (2, 4)"
   ]
  },
  {
   "cell_type": "markdown",
   "id": "ee73be9b",
   "metadata": {},
   "source": [
    "### Q-3 Write a Python Program to Convert Decimal to Binary, Octal and Hexadecimal?"
   ]
  },
  {
   "cell_type": "code",
   "execution_count": 17,
   "id": "4ddcf89d",
   "metadata": {},
   "outputs": [
    {
     "name": "stdout",
     "output_type": "stream",
     "text": [
      "Enter the number you want to convert into binary: 29\n",
      "11101\n"
     ]
    }
   ],
   "source": [
    "#to convert into binary\n",
    "\n",
    "a = int(input(\"Enter the number you want to convert into binary: \"))\n",
    "\n",
    "print(bin(a)[2:])"
   ]
  },
  {
   "cell_type": "code",
   "execution_count": 18,
   "id": "a0f19e1b",
   "metadata": {},
   "outputs": [
    {
     "name": "stdout",
     "output_type": "stream",
     "text": [
      "Enter the number you want to convert into octal: 8562\n",
      "20562\n"
     ]
    }
   ],
   "source": [
    "#to convert into octal\n",
    "\n",
    "a = int(input(\"Enter the number you want to convert into octal: \"))\n",
    "\n",
    "print(oct(a)[2:])"
   ]
  },
  {
   "cell_type": "code",
   "execution_count": 20,
   "id": "082a5319",
   "metadata": {},
   "outputs": [
    {
     "name": "stdout",
     "output_type": "stream",
     "text": [
      "Enter the number you want to convert into hexadecimal: 59\n",
      "3b\n"
     ]
    }
   ],
   "source": [
    "#to convert into hexadecimal\n",
    "\n",
    "a = int(input(\"Enter the number you want to convert into hexadecimal: \"))\n",
    "\n",
    "print(hex(a)[2:])"
   ]
  },
  {
   "cell_type": "markdown",
   "id": "210edaea",
   "metadata": {},
   "source": [
    "### Q-4 Write a Python Program To Find ASCII value of a character?"
   ]
  },
  {
   "cell_type": "code",
   "execution_count": 28,
   "id": "029bf59a",
   "metadata": {},
   "outputs": [
    {
     "name": "stdout",
     "output_type": "stream",
     "text": [
      "Enter the 1 character to which you want to find ASCII value: /\n",
      "The ASCII value of '/' is 47\n"
     ]
    }
   ],
   "source": [
    "a = input(\"Enter the 1 character to which you want to find ASCII value: \")\n",
    "\n",
    "print(f\"The ASCII value of '{a}' is {ord(a)}\")"
   ]
  },
  {
   "cell_type": "markdown",
   "id": "81c18ec0",
   "metadata": {},
   "source": [
    "### Q-5 Write a Python Program to Make a Simple Calculator with 4 basic mathematical operations?"
   ]
  },
  {
   "cell_type": "code",
   "execution_count": 30,
   "id": "680eae64",
   "metadata": {},
   "outputs": [],
   "source": [
    "class Calculator:\n",
    "    \n",
    "    def add(a, b):\n",
    "        return a + b\n",
    "    def sub(a, b):\n",
    "        return a - b\n",
    "    def mul(a, b):\n",
    "        return a*b\n",
    "    def div(a, b):\n",
    "        return a/b"
   ]
  },
  {
   "cell_type": "code",
   "execution_count": 32,
   "id": "d2081458",
   "metadata": {},
   "outputs": [
    {
     "data": {
      "text/plain": [
       "8"
      ]
     },
     "execution_count": 32,
     "metadata": {},
     "output_type": "execute_result"
    }
   ],
   "source": [
    "Calculator.add(3, 5)"
   ]
  },
  {
   "cell_type": "code",
   "execution_count": null,
   "id": "e4b2c6a7",
   "metadata": {},
   "outputs": [],
   "source": []
  }
 ],
 "metadata": {
  "kernelspec": {
   "display_name": "Python 3 (ipykernel)",
   "language": "python",
   "name": "python3"
  },
  "language_info": {
   "codemirror_mode": {
    "name": "ipython",
    "version": 3
   },
   "file_extension": ".py",
   "mimetype": "text/x-python",
   "name": "python",
   "nbconvert_exporter": "python",
   "pygments_lexer": "ipython3",
   "version": "3.9.15"
  }
 },
 "nbformat": 4,
 "nbformat_minor": 5
}
