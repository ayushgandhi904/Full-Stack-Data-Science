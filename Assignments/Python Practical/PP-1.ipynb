{
 "cells": [
  {
   "cell_type": "markdown",
   "id": "81dae9f2",
   "metadata": {},
   "source": [
    "### Q-1 Write a python program to print \"Hello Python\"?"
   ]
  },
  {
   "cell_type": "code",
   "execution_count": 1,
   "id": "d44a651b",
   "metadata": {},
   "outputs": [
    {
     "name": "stdout",
     "output_type": "stream",
     "text": [
      "Hello Python\n"
     ]
    }
   ],
   "source": [
    "print(\"Hello Python\")"
   ]
  },
  {
   "cell_type": "markdown",
   "id": "4efdf6b1",
   "metadata": {},
   "source": [
    "### Q-2 Write a Python program to do arithmetical operations additon and division?"
   ]
  },
  {
   "cell_type": "code",
   "execution_count": 4,
   "id": "3a103404",
   "metadata": {},
   "outputs": [
    {
     "name": "stdout",
     "output_type": "stream",
     "text": [
      "Addition operation is performed by +\n",
      "5 + 8 = 13\n",
      "Division operation is performed by /\n",
      "5/8 = 0.625\n"
     ]
    }
   ],
   "source": [
    "#addition\n",
    "print(\"Addition operation is performed by +\")\n",
    "print(f\"5 + 8 = {5+8}\")\n",
    "\n",
    "#division\n",
    "print(\"Division operation is performed by /\")\n",
    "print(f\"5/8 = {5/8}\")"
   ]
  },
  {
   "cell_type": "markdown",
   "id": "2bbff8dc",
   "metadata": {},
   "source": [
    "### Q-3 Write a Python program to find the area of a triangle?"
   ]
  },
  {
   "cell_type": "code",
   "execution_count": 6,
   "id": "feb37304",
   "metadata": {},
   "outputs": [
    {
     "name": "stdout",
     "output_type": "stream",
     "text": [
      "Enter the base length: 40\n",
      "Enter the altitude length: 30\n",
      "Area of triangle is 600.0\n"
     ]
    }
   ],
   "source": [
    "base = int(input(\"Enter the base length: \"))\n",
    "height = int(input(\"Enter the altitude length: \"))\n",
    "\n",
    "print(f\"Area of triangle is {(1/2)*base*height}\")"
   ]
  },
  {
   "cell_type": "markdown",
   "id": "9a3ec023",
   "metadata": {},
   "source": [
    "### Q-4 Write a Python to swap two variables?"
   ]
  },
  {
   "cell_type": "code",
   "execution_count": 7,
   "id": "27658a1d",
   "metadata": {},
   "outputs": [],
   "source": [
    "a = \"Hello\"\n",
    "b = \"Python\"\n",
    "\n",
    "a, b = b, a"
   ]
  },
  {
   "cell_type": "code",
   "execution_count": 8,
   "id": "f23d597f",
   "metadata": {},
   "outputs": [
    {
     "name": "stdout",
     "output_type": "stream",
     "text": [
      "Python\n",
      "Hello\n"
     ]
    }
   ],
   "source": [
    "print(a)\n",
    "print(b)"
   ]
  },
  {
   "cell_type": "markdown",
   "id": "dfe02839",
   "metadata": {},
   "source": [
    "### Q-5 Write a Python program to generate a random number?"
   ]
  },
  {
   "cell_type": "code",
   "execution_count": 10,
   "id": "6430b5a3",
   "metadata": {},
   "outputs": [
    {
     "data": {
      "text/plain": [
       "69"
      ]
     },
     "execution_count": 10,
     "metadata": {},
     "output_type": "execute_result"
    }
   ],
   "source": [
    "import random\n",
    "\n",
    "random.randint(0, 100)"
   ]
  },
  {
   "cell_type": "code",
   "execution_count": null,
   "id": "23b519ec",
   "metadata": {},
   "outputs": [],
   "source": []
  }
 ],
 "metadata": {
  "kernelspec": {
   "display_name": "Python 3 (ipykernel)",
   "language": "python",
   "name": "python3"
  },
  "language_info": {
   "codemirror_mode": {
    "name": "ipython",
    "version": 3
   },
   "file_extension": ".py",
   "mimetype": "text/x-python",
   "name": "python",
   "nbconvert_exporter": "python",
   "pygments_lexer": "ipython3",
   "version": "3.9.15"
  }
 },
 "nbformat": 4,
 "nbformat_minor": 5
}
