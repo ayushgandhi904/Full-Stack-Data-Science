{
  "nbformat": 4,
  "nbformat_minor": 0,
  "metadata": {
    "colab": {
      "provenance": []
    },
    "kernelspec": {
      "name": "python3",
      "display_name": "Python 3"
    },
    "language_info": {
      "name": "python"
    }
  },
  "cells": [
    {
      "cell_type": "markdown",
      "source": [
        "### Question1\n",
        "Create a function that takes three integer arguments (a, b, c) and returns the amount of integers which are of equal value.\n"
      ],
      "metadata": {
        "id": "osJg8O88fKLu"
      }
    },
    {
      "cell_type": "code",
      "execution_count": 2,
      "metadata": {
        "id": "c2_L5T_bfENN"
      },
      "outputs": [],
      "source": [
        "def equal(a, b, c):\n",
        "    count = 0\n",
        "    if a == b:\n",
        "        count += 1\n",
        "    if b == c:\n",
        "        count += 1\n",
        "    if a == c:\n",
        "        count += 1\n",
        "    return count\n"
      ]
    },
    {
      "cell_type": "code",
      "source": [
        "equal(1, 1, 1) "
      ],
      "metadata": {
        "colab": {
          "base_uri": "https://localhost:8080/"
        },
        "id": "FBYaAwIafSfL",
        "outputId": "278eadaf-fe37-4dcd-bc9c-ead14f27241a"
      },
      "execution_count": 3,
      "outputs": [
        {
          "output_type": "execute_result",
          "data": {
            "text/plain": [
              "3"
            ]
          },
          "metadata": {},
          "execution_count": 3
        }
      ]
    },
    {
      "cell_type": "markdown",
      "source": [
        "### Question2\n",
        "Write a function that converts a dictionary into a list of keys-values tuples."
      ],
      "metadata": {
        "id": "DsBlTDNvfa7B"
      }
    },
    {
      "cell_type": "code",
      "source": [
        "def dict_to_list(dictionary):\n",
        "    return list(dictionary.items())\n"
      ],
      "metadata": {
        "id": "kLiMrnQDfVHZ"
      },
      "execution_count": 4,
      "outputs": []
    },
    {
      "cell_type": "code",
      "source": [
        "dict_to_list({\n",
        "  \"D\": 1,\n",
        "  \"B\": 2,\n",
        "  \"C\": 3\n",
        "}) "
      ],
      "metadata": {
        "colab": {
          "base_uri": "https://localhost:8080/"
        },
        "id": "RhupDgzaff7U",
        "outputId": "7bf1f3e2-7f30-4f45-ee08-c8e17ac4a5e9"
      },
      "execution_count": 5,
      "outputs": [
        {
          "output_type": "execute_result",
          "data": {
            "text/plain": [
              "[('D', 1), ('B', 2), ('C', 3)]"
            ]
          },
          "metadata": {},
          "execution_count": 5
        }
      ]
    },
    {
      "cell_type": "markdown",
      "source": [
        "### Question3\n",
        "Write a function that creates a dictionary with each (key, value) pair being the (lower case, upper case) versions of a letter, respectively.\n"
      ],
      "metadata": {
        "id": "_Mj0MvHZfk4j"
      }
    },
    {
      "cell_type": "code",
      "source": [
        "def mapping(lst):\n",
        "    lowercase_letters = 'abcdefghijklmnopqrstuvwxyz'\n",
        "    uppercase_letters = 'ABCDEFGHIJKLMNOPQRSTUVWXYZ'\n",
        "    letter_dict = dict(zip(lowercase_letters, uppercase_letters))\n",
        "    return letter_dict"
      ],
      "metadata": {
        "id": "suq-paeXfifX"
      },
      "execution_count": 8,
      "outputs": []
    },
    {
      "cell_type": "code",
      "source": [
        "mapping([\"p\", \"s\"]) "
      ],
      "metadata": {
        "colab": {
          "base_uri": "https://localhost:8080/"
        },
        "id": "GI7Oadueft88",
        "outputId": "9ae5474d-8885-445a-d99c-c93bc48b26af"
      },
      "execution_count": 9,
      "outputs": [
        {
          "output_type": "execute_result",
          "data": {
            "text/plain": [
              "{'a': 'A',\n",
              " 'b': 'B',\n",
              " 'c': 'C',\n",
              " 'd': 'D',\n",
              " 'e': 'E',\n",
              " 'f': 'F',\n",
              " 'g': 'G',\n",
              " 'h': 'H',\n",
              " 'i': 'I',\n",
              " 'j': 'J',\n",
              " 'k': 'K',\n",
              " 'l': 'L',\n",
              " 'm': 'M',\n",
              " 'n': 'N',\n",
              " 'o': 'O',\n",
              " 'p': 'P',\n",
              " 'q': 'Q',\n",
              " 'r': 'R',\n",
              " 's': 'S',\n",
              " 't': 'T',\n",
              " 'u': 'U',\n",
              " 'v': 'V',\n",
              " 'w': 'W',\n",
              " 'x': 'X',\n",
              " 'y': 'Y',\n",
              " 'z': 'Z'}"
            ]
          },
          "metadata": {},
          "execution_count": 9
        }
      ]
    },
    {
      "cell_type": "markdown",
      "source": [
        "### Question4\n",
        "Write a function, that replaces all vowels in a string with a specified vowel.\n"
      ],
      "metadata": {
        "id": "LGP8xL2Cf30w"
      }
    },
    {
      "cell_type": "code",
      "source": [
        "def vow_replace(string, vowel):\n",
        "    vowels = 'aeiouAEIOU'\n",
        "    new_string = ''.join([vowel if char in vowels else char for char in string])\n",
        "    return new_string\n"
      ],
      "metadata": {
        "id": "Syf6wgwKfvUz"
      },
      "execution_count": 10,
      "outputs": []
    },
    {
      "cell_type": "code",
      "source": [
        "vow_replace(\"cheese casserole\", \"o\") "
      ],
      "metadata": {
        "colab": {
          "base_uri": "https://localhost:8080/",
          "height": 35
        },
        "id": "QsNNJ4J5f5dr",
        "outputId": "f9589c31-0db4-4934-9cda-1a70e4ee14e5"
      },
      "execution_count": 11,
      "outputs": [
        {
          "output_type": "execute_result",
          "data": {
            "text/plain": [
              "'chooso cossorolo'"
            ],
            "application/vnd.google.colaboratory.intrinsic+json": {
              "type": "string"
            }
          },
          "metadata": {},
          "execution_count": 11
        }
      ]
    },
    {
      "cell_type": "markdown",
      "source": [
        "### Question5\n",
        "Create a function that takes a string as input and capitalizes a letter if its ASCII code is even and returns its lower case version if its ASCII code is odd.\n"
      ],
      "metadata": {
        "id": "TTHlm3qBf58K"
      }
    },
    {
      "cell_type": "code",
      "source": [
        "def ascii_capitalize(string):\n",
        "    new_string = \"\"\n",
        "    for char in string:\n",
        "        ascii_code = ord(char)\n",
        "        if ascii_code % 2 == 0:\n",
        "            new_string += char.upper()\n",
        "        else:\n",
        "            new_string += char.lower()\n",
        "    return new_string\n"
      ],
      "metadata": {
        "id": "gZgi0gCnf6oh"
      },
      "execution_count": 12,
      "outputs": []
    },
    {
      "cell_type": "code",
      "source": [
        "ascii_capitalize(\"THE LITTLE MERMAID\") "
      ],
      "metadata": {
        "colab": {
          "base_uri": "https://localhost:8080/",
          "height": 35
        },
        "id": "Ib4AztWnf634",
        "outputId": "6b745ea2-1af7-4ad8-a5f5-e1ba8d5bdccd"
      },
      "execution_count": 13,
      "outputs": [
        {
          "output_type": "execute_result",
          "data": {
            "text/plain": [
              "'THe LiTTLe meRmaiD'"
            ],
            "application/vnd.google.colaboratory.intrinsic+json": {
              "type": "string"
            }
          },
          "metadata": {},
          "execution_count": 13
        }
      ]
    }
  ]
}