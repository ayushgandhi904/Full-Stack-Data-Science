{
  "nbformat": 4,
  "nbformat_minor": 0,
  "metadata": {
    "colab": {
      "provenance": []
    },
    "kernelspec": {
      "name": "python3",
      "display_name": "Python 3"
    },
    "language_info": {
      "name": "python"
    }
  },
  "cells": [
    {
      "cell_type": "markdown",
      "source": [
        "### Question 1:\n",
        "\n",
        "Define a class with a generator which can iterate the numbers, which are divisible by 7, between a given range 0 and n.\n"
      ],
      "metadata": {
        "id": "cVUu2kRtMKsj"
      }
    },
    {
      "cell_type": "code",
      "execution_count": 1,
      "metadata": {
        "id": "e4y4iP1gxXzi"
      },
      "outputs": [],
      "source": [
        "class Division_Generator:\n",
        "    def __init__(self, n):\n",
        "        self.n = n\n",
        "\n",
        "    def generate(self):\n",
        "        for num in range(self.n + 1):\n",
        "            if num % 7 == 0:\n",
        "                yield num"
      ]
    },
    {
      "cell_type": "markdown",
      "source": [
        "### Question 2:\n",
        "Write a program to compute the frequency of the words from the input. The output should output after sorting the key alphanumerically. \n"
      ],
      "metadata": {
        "id": "67wAhmU9MehP"
      }
    },
    {
      "cell_type": "code",
      "source": [
        "def word_frequency(input_string):\n",
        "    words = input_string.split()\n",
        "    frequencies = {}\n",
        "    for word in words:\n",
        "        frequencies[word] = frequencies.get(word, 0) + 1\n",
        "    sorted_words = sorted(frequencies.keys())\n",
        "    for word in sorted_words:\n",
        "        print(word, \":\", frequencies[word])\n",
        "input_sentence = input(\"Enter a sentence: \")\n",
        "word_frequency(input_sentence)"
      ],
      "metadata": {
        "colab": {
          "base_uri": "https://localhost:8080/"
        },
        "id": "zjtnrErbMZ-_",
        "outputId": "115b766c-48bd-4ce5-e8a3-7d761d966313"
      },
      "execution_count": 2,
      "outputs": [
        {
          "output_type": "stream",
          "name": "stdout",
          "text": [
            "Enter a sentence: I am Ayush Gandhi \n",
            "Ayush : 1\n",
            "Gandhi : 1\n",
            "I : 1\n",
            "am : 1\n"
          ]
        }
      ]
    },
    {
      "cell_type": "markdown",
      "source": [
        "### Question 3:\n",
        "Define a class Person and its two child classes: Male and Female. All classes have a method \"getGender\" which can print \"Male\" for Male class and \"Female\" for Female class."
      ],
      "metadata": {
        "id": "5J_iKxJVNA4Z"
      }
    },
    {
      "cell_type": "code",
      "source": [
        "class Person:\n",
        "    def getGender(self):\n",
        "        print(\"Unknown\")\n",
        "\n",
        "class Male(Person):\n",
        "    def getGender(self):\n",
        "        print(\"Male\")\n",
        "\n",
        "class Female(Person):\n",
        "    def getGender(self):\n",
        "        print(\"Female\")"
      ],
      "metadata": {
        "id": "HLkTHJsWMxY_"
      },
      "execution_count": 3,
      "outputs": []
    },
    {
      "cell_type": "markdown",
      "source": [
        "### Question 4:\n",
        "Please write a program to generate all sentences where subject is in [\"I\", \"You\"] and verb is in [\"Play\", \"Love\"] and the object is in [\"Hockey\",\"Football\"]."
      ],
      "metadata": {
        "id": "g_TaMBSRNNUK"
      }
    },
    {
      "cell_type": "code",
      "source": [
        "subjects = [\"I\", \"You\"]\n",
        "verbs = [\"Play\", \"Love\"]\n",
        "objects = [\"Hockey\", \"Football\"]\n",
        "\n",
        "sentences = []\n",
        "for subject in subjects:\n",
        "    for verb in verbs:\n",
        "        for obj in objects:\n",
        "            sentence = f\"{subject} {verb} {obj}.\"\n",
        "            sentences.append(sentence)\n",
        "for sentence in sentences:\n",
        "    print(sentence)"
      ],
      "metadata": {
        "colab": {
          "base_uri": "https://localhost:8080/"
        },
        "id": "UOO5i9BUNKzV",
        "outputId": "424bff41-7bbb-4fe4-ea45-702115b4246c"
      },
      "execution_count": 4,
      "outputs": [
        {
          "output_type": "stream",
          "name": "stdout",
          "text": [
            "I Play Hockey.\n",
            "I Play Football.\n",
            "I Love Hockey.\n",
            "I Love Football.\n",
            "You Play Hockey.\n",
            "You Play Football.\n",
            "You Love Hockey.\n",
            "You Love Football.\n"
          ]
        }
      ]
    },
    {
      "cell_type": "markdown",
      "source": [
        "### Question 5:\n",
        "Please write a program to compress and decompress the string \"hello world!hello world!hello world!hello world!\".\n"
      ],
      "metadata": {
        "id": "oivkhgctNiln"
      }
    },
    {
      "cell_type": "code",
      "source": [
        "import zlib\n",
        "original_string = \"hello world!hello world!hello world!hello world!\"\n",
        "compressed_data = zlib.compress(original_string.encode())\n",
        "decompressed_data = zlib.decompress(compressed_data).decode()\n",
        "print(\"Original string:\", original_string)\n",
        "print(\"Decompressed string:\", decompressed_data)"
      ],
      "metadata": {
        "colab": {
          "base_uri": "https://localhost:8080/"
        },
        "id": "ZfChDT3ZNf2_",
        "outputId": "4b03c616-7fa4-436d-8d06-af6c1017e833"
      },
      "execution_count": 5,
      "outputs": [
        {
          "output_type": "stream",
          "name": "stdout",
          "text": [
            "Original string: hello world!hello world!hello world!hello world!\n",
            "Decompressed string: hello world!hello world!hello world!hello world!\n"
          ]
        }
      ]
    },
    {
      "cell_type": "markdown",
      "source": [
        "### Question 6:\n",
        "Please write a binary search function which searches an item in a sorted list. The function should return the index of element to be searched in the list.\n"
      ],
      "metadata": {
        "id": "JzXY3301N7Gc"
      }
    },
    {
      "cell_type": "code",
      "source": [
        "def binary_search(arr, target):\n",
        "    low = 0\n",
        "    high = len(arr) - 1\n",
        "\n",
        "    while low <= high:\n",
        "        mid = (low + high) // 2\n",
        "\n",
        "        if arr[mid] == target:\n",
        "            return mid\n",
        "        elif arr[mid] < target:\n",
        "            low = mid + 1\n",
        "        else:\n",
        "            high = mid - 1\n",
        "\n",
        "    return -1  "
      ],
      "metadata": {
        "id": "KeQVMx_hN2uN"
      },
      "execution_count": 6,
      "outputs": []
    }
  ]
}