{
  "nbformat": 4,
  "nbformat_minor": 0,
  "metadata": {
    "colab": {
      "provenance": []
    },
    "kernelspec": {
      "name": "python3",
      "display_name": "Python 3"
    },
    "language_info": {
      "name": "python"
    }
  },
  "cells": [
    {
      "cell_type": "markdown",
      "source": [
        "### Question1. Create a function that takes three arguments a, b, c and returns the sum of the numbers that are evenly divided by c from the range a, b inclusive."
      ],
      "metadata": {
        "id": "aCnUbe4tSCis"
      }
    },
    {
      "cell_type": "code",
      "execution_count": 1,
      "metadata": {
        "id": "vQ_Su8cMR8ZJ"
      },
      "outputs": [],
      "source": [
        "def evenly_divisible(a, b, c):\n",
        "    total = 0 \n",
        "    for num in range(a, b+1): \n",
        "        if num % c == 0:  \n",
        "            total += num  \n",
        "    return total "
      ]
    },
    {
      "cell_type": "code",
      "source": [
        "evenly_divisible(1, 10, 2)"
      ],
      "metadata": {
        "colab": {
          "base_uri": "https://localhost:8080/"
        },
        "id": "U5O18q7eSTP9",
        "outputId": "4ab9b620-7268-4b62-e187-234e50900420"
      },
      "execution_count": 2,
      "outputs": [
        {
          "output_type": "execute_result",
          "data": {
            "text/plain": [
              "30"
            ]
          },
          "metadata": {},
          "execution_count": 2
        }
      ]
    },
    {
      "cell_type": "markdown",
      "source": [
        "### Question2. Create a function that returns True if a given inequality expression is correct and False otherwise."
      ],
      "metadata": {
        "id": "AxptjV75SagB"
      }
    },
    {
      "cell_type": "code",
      "source": [
        "def correct_signs(expression):\n",
        "    return eval(expression)"
      ],
      "metadata": {
        "id": "zTeldP3HSY1O"
      },
      "execution_count": 5,
      "outputs": []
    },
    {
      "cell_type": "code",
      "source": [
        "correct_signs(\"3 < 7 < 11\") "
      ],
      "metadata": {
        "colab": {
          "base_uri": "https://localhost:8080/"
        },
        "id": "0XnUUHaqSsr-",
        "outputId": "51a3d7cc-aa4c-4239-8864-1b0ff1481066"
      },
      "execution_count": 6,
      "outputs": [
        {
          "output_type": "execute_result",
          "data": {
            "text/plain": [
              "True"
            ]
          },
          "metadata": {},
          "execution_count": 6
        }
      ]
    },
    {
      "cell_type": "markdown",
      "source": [
        "### Question3. Create a function that replaces all the vowels in a string with a specified character."
      ],
      "metadata": {
        "id": "UatjkqeOSzgo"
      }
    },
    {
      "cell_type": "code",
      "source": [
        "def replace_vowels(string, replacement):\n",
        "    vowels = ['a', 'e', 'i', 'o', 'u', 'A', 'E', 'I', 'O', 'U']\n",
        "    result = ''\n",
        "    for char in string:\n",
        "        if char in vowels:\n",
        "            result += replacement\n",
        "        else:\n",
        "            result += char\n",
        "    return result"
      ],
      "metadata": {
        "id": "PCccVLIASu0F"
      },
      "execution_count": 7,
      "outputs": []
    },
    {
      "cell_type": "code",
      "source": [
        "replace_vowels(\"minnie mouse\", \"?\") "
      ],
      "metadata": {
        "colab": {
          "base_uri": "https://localhost:8080/",
          "height": 35
        },
        "id": "3BrVCybyS5Og",
        "outputId": "9f9d2013-1678-4914-a618-c56450344153"
      },
      "execution_count": 8,
      "outputs": [
        {
          "output_type": "execute_result",
          "data": {
            "text/plain": [
              "'m?nn?? m??s?'"
            ],
            "application/vnd.google.colaboratory.intrinsic+json": {
              "type": "string"
            }
          },
          "metadata": {},
          "execution_count": 8
        }
      ]
    },
    {
      "cell_type": "markdown",
      "source": [
        "### Question4. Write a function that calculates the factorial of a number recursively."
      ],
      "metadata": {
        "id": "vodU4wpcTCfr"
      }
    },
    {
      "cell_type": "code",
      "source": [
        "def factorial(n):\n",
        "    if n == 0:\n",
        "        return 1\n",
        "    else:\n",
        "        return n * factorial(n - 1)"
      ],
      "metadata": {
        "id": "QBL8w6eyS9Zc"
      },
      "execution_count": 10,
      "outputs": []
    },
    {
      "cell_type": "code",
      "source": [
        "factorial(5) "
      ],
      "metadata": {
        "colab": {
          "base_uri": "https://localhost:8080/"
        },
        "id": "02Ht3hkWTG6d",
        "outputId": "241633f7-5539-452d-9008-628ad31f3475"
      },
      "execution_count": 11,
      "outputs": [
        {
          "output_type": "execute_result",
          "data": {
            "text/plain": [
              "120"
            ]
          },
          "metadata": {},
          "execution_count": 11
        }
      ]
    },
    {
      "cell_type": "markdown",
      "source": [
        "### Question 5\n",
        "Hamming distance is the number of characters that differ between two strings.\n",
        "Create a function that computes the hamming distance between two strings.\n"
      ],
      "metadata": {
        "id": "NA8HB5TDTUct"
      }
    },
    {
      "cell_type": "code",
      "source": [
        "def hamming_distance(str1, str2):\n",
        "    if len(str1) != len(str2):\n",
        "        raise ValueError(\"Strings must have equal length\")\n",
        "    \n",
        "    distance = 0\n",
        "    for char1, char2 in zip(str1, str2):\n",
        "        if char1 != char2:\n",
        "            distance += 1\n",
        "    \n",
        "    return distance"
      ],
      "metadata": {
        "id": "GF6wwn2nTLsJ"
      },
      "execution_count": 12,
      "outputs": []
    },
    {
      "cell_type": "code",
      "source": [
        "hamming_distance(\"abcde\", \"bcdef\") "
      ],
      "metadata": {
        "colab": {
          "base_uri": "https://localhost:8080/"
        },
        "id": "-aYQYy3pTdBy",
        "outputId": "7b2e4912-aff9-4b8b-88a5-69149bf322c6"
      },
      "execution_count": 13,
      "outputs": [
        {
          "output_type": "execute_result",
          "data": {
            "text/plain": [
              "5"
            ]
          },
          "metadata": {},
          "execution_count": 13
        }
      ]
    }
  ]
}