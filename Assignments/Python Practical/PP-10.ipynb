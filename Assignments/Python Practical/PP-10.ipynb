{
  "nbformat": 4,
  "nbformat_minor": 0,
  "metadata": {
    "colab": {
      "provenance": []
    },
    "kernelspec": {
      "name": "python3",
      "display_name": "Python 3"
    },
    "language_info": {
      "name": "python"
    }
  },
  "cells": [
    {
      "cell_type": "markdown",
      "source": [
        "### 1.\tWrite a Python program to find sum of elements in list?"
      ],
      "metadata": {
        "id": "cmI2iTdQquV9"
      }
    },
    {
      "cell_type": "code",
      "execution_count": 1,
      "metadata": {
        "id": "SR6cw6DFqCy1"
      },
      "outputs": [],
      "source": [
        "def list_sum(a):\n",
        "\n",
        "  sum = 0\n",
        "  for i in a:\n",
        "    sum += i\n",
        "  return sum"
      ]
    },
    {
      "cell_type": "code",
      "source": [
        "list_sum([1, 592, 10])"
      ],
      "metadata": {
        "colab": {
          "base_uri": "https://localhost:8080/"
        },
        "id": "Mb9676agrTzL",
        "outputId": "902c298d-9495-4445-d165-a8dbe8bd4464"
      },
      "execution_count": 2,
      "outputs": [
        {
          "output_type": "execute_result",
          "data": {
            "text/plain": [
              "603"
            ]
          },
          "metadata": {},
          "execution_count": 2
        }
      ]
    },
    {
      "cell_type": "markdown",
      "source": [
        "### 2.\tWrite a Python program to  Multiply all numbers in the list?"
      ],
      "metadata": {
        "id": "gfoFnTW0rXWU"
      }
    },
    {
      "cell_type": "code",
      "source": [
        "def list_mul(a):\n",
        "\n",
        "  mul = 1\n",
        "  for i in a:\n",
        "    mul *= i\n",
        "  return mul"
      ],
      "metadata": {
        "id": "SUtPGUynrVvl"
      },
      "execution_count": 3,
      "outputs": []
    },
    {
      "cell_type": "code",
      "source": [
        "list_mul([19, 12, 9])"
      ],
      "metadata": {
        "colab": {
          "base_uri": "https://localhost:8080/"
        },
        "id": "esyxw-wgrhuQ",
        "outputId": "6ce80039-db31-40b8-b12f-9cd0acd56d3e"
      },
      "execution_count": 4,
      "outputs": [
        {
          "output_type": "execute_result",
          "data": {
            "text/plain": [
              "2052"
            ]
          },
          "metadata": {},
          "execution_count": 4
        }
      ]
    },
    {
      "cell_type": "markdown",
      "source": [
        "### 3.\tWrite a Python program to find smallest number in a list?"
      ],
      "metadata": {
        "id": "V1pkd--jr9cu"
      }
    },
    {
      "cell_type": "code",
      "source": [
        "def list_small(a):\n",
        "\n",
        "  small = a[0]\n",
        "\n",
        "  for i in a:\n",
        "    if i < small:\n",
        "      small = i\n",
        "  return small"
      ],
      "metadata": {
        "id": "7Pl3EEK3rktr"
      },
      "execution_count": 13,
      "outputs": []
    },
    {
      "cell_type": "code",
      "source": [
        "list_small([38, 28, 13])"
      ],
      "metadata": {
        "colab": {
          "base_uri": "https://localhost:8080/"
        },
        "id": "AI5RH1vUsWs7",
        "outputId": "7243cbee-23be-46c9-8370-a836f85d01a6"
      },
      "execution_count": 14,
      "outputs": [
        {
          "output_type": "execute_result",
          "data": {
            "text/plain": [
              "13"
            ]
          },
          "metadata": {},
          "execution_count": 14
        }
      ]
    },
    {
      "cell_type": "markdown",
      "source": [
        "### 4.\tWrite a Python program to find largest number in a list?"
      ],
      "metadata": {
        "id": "tMtqFfIPtL9I"
      }
    },
    {
      "cell_type": "code",
      "source": [
        "def list_large(a):\n",
        "\n",
        "  large = a[0]\n",
        "\n",
        "  for i in a:\n",
        "    if i > large:\n",
        "      large = i\n",
        "    return large"
      ],
      "metadata": {
        "id": "I6PQus28sZPD"
      },
      "execution_count": 15,
      "outputs": []
    },
    {
      "cell_type": "code",
      "source": [
        "list_large([198, 5819, 282])"
      ],
      "metadata": {
        "colab": {
          "base_uri": "https://localhost:8080/"
        },
        "id": "PhEC6Y9dtdKL",
        "outputId": "a110c95a-e04e-4288-8947-d9dc80a80ec7"
      },
      "execution_count": 16,
      "outputs": [
        {
          "output_type": "execute_result",
          "data": {
            "text/plain": [
              "198"
            ]
          },
          "metadata": {},
          "execution_count": 16
        }
      ]
    },
    {
      "cell_type": "markdown",
      "source": [
        "### 5.\tWrite a Python program to find second largest number in a list?"
      ],
      "metadata": {
        "id": "UBVdCpsEthZb"
      }
    },
    {
      "cell_type": "code",
      "source": [
        "def list_large2nd(a):\n",
        "\n",
        "  large = a[0]\n",
        "  large_2 = a[0]\n",
        "\n",
        "  for i in a:\n",
        "    if i > large:\n",
        "      large_2 = large\n",
        "      large = i\n",
        "    \n",
        "    elif i > large_2 and i != large:\n",
        "      large_2 = i\n",
        "  \n",
        "  return large_2\n",
        "    "
      ],
      "metadata": {
        "id": "QzTyHxHbtfk4"
      },
      "execution_count": 17,
      "outputs": []
    },
    {
      "cell_type": "code",
      "source": [
        "list_large2nd([1, 2, 5, 9])"
      ],
      "metadata": {
        "colab": {
          "base_uri": "https://localhost:8080/"
        },
        "id": "GiV1Pe-dvajZ",
        "outputId": "a4fa92c8-118d-4f2d-f38c-7a9f2afa66d5"
      },
      "execution_count": 18,
      "outputs": [
        {
          "output_type": "execute_result",
          "data": {
            "text/plain": [
              "5"
            ]
          },
          "metadata": {},
          "execution_count": 18
        }
      ]
    },
    {
      "cell_type": "markdown",
      "source": [
        "### 6.\tWrite a Python program to find N largest elements from a list?"
      ],
      "metadata": {
        "id": "ggYK1JhCwQSe"
      }
    },
    {
      "cell_type": "code",
      "source": [
        "def n_large(a, num):\n",
        "\n",
        "  a.sort(reverse = True)\n",
        "\n",
        "  return a[:num]"
      ],
      "metadata": {
        "id": "ZNeWZSrevefC"
      },
      "execution_count": 19,
      "outputs": []
    },
    {
      "cell_type": "code",
      "source": [
        "n_large([38, 298, 2982, 13], 2)"
      ],
      "metadata": {
        "colab": {
          "base_uri": "https://localhost:8080/"
        },
        "id": "ACNlllMTwvWe",
        "outputId": "997c7020-ac50-4747-a611-cca363ad3fc4"
      },
      "execution_count": 20,
      "outputs": [
        {
          "output_type": "execute_result",
          "data": {
            "text/plain": [
              "[2982, 298]"
            ]
          },
          "metadata": {},
          "execution_count": 20
        }
      ]
    },
    {
      "cell_type": "markdown",
      "source": [
        "### 7.\tWrite a Python program to print even numbers in a list?"
      ],
      "metadata": {
        "id": "7gAFGymqw2qp"
      }
    },
    {
      "cell_type": "code",
      "source": [
        "def list_even(a):\n",
        "\n",
        "  for i in a:\n",
        "    if i%2 == 0:\n",
        "      print(i)"
      ],
      "metadata": {
        "id": "HLRGQyKbwzFY"
      },
      "execution_count": 24,
      "outputs": []
    },
    {
      "cell_type": "code",
      "source": [
        "list_even([1, 2, 3, 4])"
      ],
      "metadata": {
        "colab": {
          "base_uri": "https://localhost:8080/"
        },
        "id": "HSeip1RpxDVS",
        "outputId": "c4a27947-aa89-4094-814b-b5e4047802cd"
      },
      "execution_count": 26,
      "outputs": [
        {
          "output_type": "stream",
          "name": "stdout",
          "text": [
            "2\n",
            "4\n"
          ]
        }
      ]
    },
    {
      "cell_type": "markdown",
      "source": [
        "### 8.\tWrite a Python program to print odd numbers in a List?"
      ],
      "metadata": {
        "id": "p0HSEDkCxZbw"
      }
    },
    {
      "cell_type": "code",
      "source": [
        "def list_odd(a):\n",
        "\n",
        "  for i in a:\n",
        "    if i%2 != 0:\n",
        "      print(i)"
      ],
      "metadata": {
        "id": "_SmXXlIcxG-W"
      },
      "execution_count": 27,
      "outputs": []
    },
    {
      "cell_type": "code",
      "source": [
        "list_odd([1009, 9283, 12, 290])"
      ],
      "metadata": {
        "colab": {
          "base_uri": "https://localhost:8080/"
        },
        "id": "Vn7aFzlhxi0n",
        "outputId": "676b4900-050c-4296-fc55-6df9782880c4"
      },
      "execution_count": 28,
      "outputs": [
        {
          "output_type": "stream",
          "name": "stdout",
          "text": [
            "1009\n",
            "9283\n"
          ]
        }
      ]
    },
    {
      "cell_type": "markdown",
      "source": [
        "### 9.\tWrite a Python program to Remove empty List from List?"
      ],
      "metadata": {
        "id": "56B_GHMdxmrD"
      }
    },
    {
      "cell_type": "code",
      "source": [
        "def rem_list(a):\n",
        "\n",
        "  return [i for i in a if i]"
      ],
      "metadata": {
        "id": "J3bMj5QAxlYj"
      },
      "execution_count": 29,
      "outputs": []
    },
    {
      "cell_type": "code",
      "source": [
        "rem_list([[], [2], 1, 5])"
      ],
      "metadata": {
        "colab": {
          "base_uri": "https://localhost:8080/"
        },
        "id": "jcC7l0_jyzVq",
        "outputId": "b19f5c26-5bc8-42aa-d7fb-2619fb3111d5"
      },
      "execution_count": 31,
      "outputs": [
        {
          "output_type": "execute_result",
          "data": {
            "text/plain": [
              "[[2], 1, 5]"
            ]
          },
          "metadata": {},
          "execution_count": 31
        }
      ]
    },
    {
      "cell_type": "markdown",
      "source": [
        "### 10.\tWrite a Python program to Cloning or Copying a list?"
      ],
      "metadata": {
        "id": "GAS98Wnk0Yog"
      }
    },
    {
      "cell_type": "code",
      "source": [
        "def clone(a):\n",
        "  return a[:]\n",
        "\n",
        "def copy(a):\n",
        "  return a.copy(a)"
      ],
      "metadata": {
        "id": "5n77ZcpCy116"
      },
      "execution_count": 32,
      "outputs": []
    },
    {
      "cell_type": "markdown",
      "source": [
        "### 11.\tWrite a Python program to Count occurrences of an element in a list?"
      ],
      "metadata": {
        "id": "0lWkdyrq0tQJ"
      }
    },
    {
      "cell_type": "code",
      "source": [
        "def count_list(lst, ele):\n",
        "\n",
        "  count = 0\n",
        "\n",
        "  for i in lst:\n",
        "\n",
        "    if i == ele:\n",
        "      count += 1\n",
        "  return count "
      ],
      "metadata": {
        "id": "JGJtIT380sO7"
      },
      "execution_count": 33,
      "outputs": []
    },
    {
      "cell_type": "code",
      "source": [
        "count_list([1, 3, 5, 2, 1, 2, 1, 9, 2, 3], 1)"
      ],
      "metadata": {
        "colab": {
          "base_uri": "https://localhost:8080/"
        },
        "id": "4DswkUkA1x1w",
        "outputId": "6a91d860-7c8d-4f43-b456-1c4e3b048c5a"
      },
      "execution_count": 34,
      "outputs": [
        {
          "output_type": "execute_result",
          "data": {
            "text/plain": [
              "3"
            ]
          },
          "metadata": {},
          "execution_count": 34
        }
      ]
    }
  ]
}