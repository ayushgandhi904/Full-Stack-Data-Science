{
  "nbformat": 4,
  "nbformat_minor": 0,
  "metadata": {
    "colab": {
      "provenance": []
    },
    "kernelspec": {
      "name": "python3",
      "display_name": "Python 3"
    },
    "language_info": {
      "name": "python"
    }
  },
  "cells": [
    {
      "cell_type": "markdown",
      "source": [
        "### Question 1\n",
        "Create a function that takes a number as an argument and returns True or False depending on whether the number is symmetrical or not. A number is symmetrical when it is the same as its reverse.\n"
      ],
      "metadata": {
        "id": "7nP_aEYPcwua"
      }
    },
    {
      "cell_type": "code",
      "execution_count": 1,
      "metadata": {
        "id": "gvZ182VBcn2L"
      },
      "outputs": [],
      "source": [
        "def is_symmetrical(number):\n",
        "    number_str = str(number)\n",
        "    reverse_str = number_str[::-1]\n",
        "    return number_str == reverse_str"
      ]
    },
    {
      "cell_type": "code",
      "source": [
        "is_symmetrical(1112111) "
      ],
      "metadata": {
        "colab": {
          "base_uri": "https://localhost:8080/"
        },
        "id": "s2dAOpOLc0yS",
        "outputId": "51513ddb-13cb-49e8-c02c-95ea13cf6a11"
      },
      "execution_count": 2,
      "outputs": [
        {
          "output_type": "execute_result",
          "data": {
            "text/plain": [
              "True"
            ]
          },
          "metadata": {},
          "execution_count": 2
        }
      ]
    },
    {
      "cell_type": "markdown",
      "source": [
        "### Question 2\n",
        "Given a string of numbers separated by a comma and space, return the product of the numbers.\n"
      ],
      "metadata": {
        "id": "o48dFsZic6Vu"
      }
    },
    {
      "cell_type": "code",
      "source": [
        "def multiply_nums(numbers):\n",
        "    num_list = numbers.split(\", \")\n",
        "    product = 1\n",
        "    for num in num_list:\n",
        "        product *= int(num)\n",
        "    return product"
      ],
      "metadata": {
        "id": "U5sMZxH1c3cx"
      },
      "execution_count": 3,
      "outputs": []
    },
    {
      "cell_type": "code",
      "source": [
        "multiply_nums(\"1, 2, 3, 4\") "
      ],
      "metadata": {
        "colab": {
          "base_uri": "https://localhost:8080/"
        },
        "id": "7LpJfqnMdBiL",
        "outputId": "23731f46-906c-43db-deef-c5899fc8238e"
      },
      "execution_count": 4,
      "outputs": [
        {
          "output_type": "execute_result",
          "data": {
            "text/plain": [
              "24"
            ]
          },
          "metadata": {},
          "execution_count": 4
        }
      ]
    },
    {
      "cell_type": "markdown",
      "source": [
        "### Question 3\n",
        "Create a function that squares every digit of a number.\n"
      ],
      "metadata": {
        "id": "pkU-pAFodFuT"
      }
    },
    {
      "cell_type": "code",
      "source": [
        "def square_digits(number):\n",
        "    number_str = str(number)\n",
        "    squared_digits = \"\"\n",
        "    for digit in number_str:\n",
        "        squared_digit = str(int(digit) ** 2)\n",
        "        squared_digits += squared_digit\n",
        "    return int(squared_digits)"
      ],
      "metadata": {
        "id": "T_AEo-eEdEwY"
      },
      "execution_count": 5,
      "outputs": []
    },
    {
      "cell_type": "code",
      "source": [
        "square_digits(2483) "
      ],
      "metadata": {
        "colab": {
          "base_uri": "https://localhost:8080/"
        },
        "id": "HhRUkJ8UdR4s",
        "outputId": "6627f8aa-f92c-472f-cab7-f0279797b46b"
      },
      "execution_count": 6,
      "outputs": [
        {
          "output_type": "execute_result",
          "data": {
            "text/plain": [
              "416649"
            ]
          },
          "metadata": {},
          "execution_count": 6
        }
      ]
    },
    {
      "cell_type": "markdown",
      "source": [
        "### Question 4\n",
        "Create a function that sorts a list and removes all duplicate items from it.\n"
      ],
      "metadata": {
        "id": "i769FZbydXrx"
      }
    },
    {
      "cell_type": "code",
      "source": [
        "def setify(lst):\n",
        "    sorted_lst = sorted(lst)\n",
        "    unique_lst = list(set(sorted_lst))\n",
        "    return unique_lst\n"
      ],
      "metadata": {
        "id": "UEMfhQILdTwF"
      },
      "execution_count": 7,
      "outputs": []
    },
    {
      "cell_type": "code",
      "source": [
        "setify([5, 7, 8, 9, 10, 15]) "
      ],
      "metadata": {
        "colab": {
          "base_uri": "https://localhost:8080/"
        },
        "id": "dTI6ZCAmdehM",
        "outputId": "90c7a8c5-f42b-4878-a64a-086aae4ccc0b"
      },
      "execution_count": 8,
      "outputs": [
        {
          "output_type": "execute_result",
          "data": {
            "text/plain": [
              "[5, 7, 8, 9, 10, 15]"
            ]
          },
          "metadata": {},
          "execution_count": 8
        }
      ]
    },
    {
      "cell_type": "markdown",
      "source": [
        "### Question 5\n",
        "Create a function that returns the mean of all digits.\n"
      ],
      "metadata": {
        "id": "hwmuGpDYdhpa"
      }
    },
    {
      "cell_type": "code",
      "source": [
        "def mean(number):\n",
        "    number_str = str(number)\n",
        "    digit_sum = sum(int(digit) for digit in number_str)\n",
        "    mean = digit_sum / len(number_str)\n",
        "    return mean"
      ],
      "metadata": {
        "id": "hl7pXPGxdgur"
      },
      "execution_count": 9,
      "outputs": []
    },
    {
      "cell_type": "code",
      "source": [
        "mean(12345) "
      ],
      "metadata": {
        "colab": {
          "base_uri": "https://localhost:8080/"
        },
        "id": "wPAk8TfBdtcV",
        "outputId": "4a2fab50-d787-4cd2-ed89-7eeff50d49b9"
      },
      "execution_count": 10,
      "outputs": [
        {
          "output_type": "execute_result",
          "data": {
            "text/plain": [
              "3.0"
            ]
          },
          "metadata": {},
          "execution_count": 10
        }
      ]
    }
  ]
}