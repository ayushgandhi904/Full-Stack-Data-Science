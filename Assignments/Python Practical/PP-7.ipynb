{
  "nbformat": 4,
  "nbformat_minor": 0,
  "metadata": {
    "colab": {
      "provenance": []
    },
    "kernelspec": {
      "name": "python3",
      "display_name": "Python 3"
    },
    "language_info": {
      "name": "python"
    }
  },
  "cells": [
    {
      "cell_type": "markdown",
      "source": [
        "### 1.\tWrite a Python Program to find sum of array?"
      ],
      "metadata": {
        "id": "bMs45RER_mLY"
      }
    },
    {
      "cell_type": "code",
      "source": [
        "def array_sum(a):\n",
        "\n",
        "  sum = 0\n",
        "  for i in a:\n",
        "    sum += i\n",
        "  return sum"
      ],
      "metadata": {
        "id": "dR9vpo1k_7FT"
      },
      "execution_count": 2,
      "outputs": []
    },
    {
      "cell_type": "code",
      "source": [
        "array_sum([1, 3, 5, 9])"
      ],
      "metadata": {
        "colab": {
          "base_uri": "https://localhost:8080/"
        },
        "id": "2_uuFPgCI9ra",
        "outputId": "56bb98fe-f153-4865-a18c-9e7022bd9857"
      },
      "execution_count": 3,
      "outputs": [
        {
          "output_type": "execute_result",
          "data": {
            "text/plain": [
              "18"
            ]
          },
          "metadata": {},
          "execution_count": 3
        }
      ]
    },
    {
      "cell_type": "markdown",
      "source": [
        "### 2.\tWrite a Python Program to find largest element in an array?"
      ],
      "metadata": {
        "id": "hFOGdK6BJBm-"
      }
    },
    {
      "cell_type": "code",
      "source": [
        "def large(a):\n",
        "\n",
        "  largest = a[0]\n",
        "\n",
        "  for i in a:\n",
        "    if i > largest:\n",
        "      largest = i\n",
        "  return largest"
      ],
      "metadata": {
        "id": "qtCLISNJJGvr"
      },
      "execution_count": 4,
      "outputs": []
    },
    {
      "cell_type": "code",
      "source": [
        "large([1, 59, 100, 12])"
      ],
      "metadata": {
        "colab": {
          "base_uri": "https://localhost:8080/"
        },
        "id": "lzAk0XcDJeQW",
        "outputId": "0f7d319c-a600-44ff-ef57-3cd128e1b76b"
      },
      "execution_count": 5,
      "outputs": [
        {
          "output_type": "execute_result",
          "data": {
            "text/plain": [
              "100"
            ]
          },
          "metadata": {},
          "execution_count": 5
        }
      ]
    },
    {
      "cell_type": "markdown",
      "source": [
        "### 3.\tWrite a Python Program for array rotation?"
      ],
      "metadata": {
        "id": "rGZnqIGkJqSV"
      }
    },
    {
      "cell_type": "code",
      "source": [
        "def rotate(a):\n",
        "  \n",
        "  length = len(a)\n",
        "  rotate_arr = a[length::-1]\n",
        "\n",
        "  return rotate_arr"
      ],
      "metadata": {
        "id": "WgSYdoFZJgyy"
      },
      "execution_count": 18,
      "outputs": []
    },
    {
      "cell_type": "code",
      "source": [
        "rotate([1, 5, 9, 10])"
      ],
      "metadata": {
        "colab": {
          "base_uri": "https://localhost:8080/"
        },
        "id": "Zsfa9BjeKuky",
        "outputId": "21ed174d-d9da-4a8a-b0ed-1b2132e2d094"
      },
      "execution_count": 19,
      "outputs": [
        {
          "output_type": "execute_result",
          "data": {
            "text/plain": [
              "[10, 9, 5, 1]"
            ]
          },
          "metadata": {},
          "execution_count": 19
        }
      ]
    },
    {
      "cell_type": "markdown",
      "source": [
        "### 4.\tWrite a Python Program to Split the array and add the first part to the end?"
      ],
      "metadata": {
        "id": "34w5dT8HMM8Q"
      }
    },
    {
      "cell_type": "code",
      "source": [
        "def split(a, split_num):\n",
        "\n",
        "  length = len(a)\n",
        "\n",
        "  arr_1 = a[0:split_num]\n",
        "  arr_2 = a[split_num:]\n",
        "  arr = arr_2 + arr_1\n",
        "\n",
        "  return arr"
      ],
      "metadata": {
        "id": "8d1Mz5qxKz_-"
      },
      "execution_count": 20,
      "outputs": []
    },
    {
      "cell_type": "code",
      "source": [
        "split([9, 20, 10, 12], 3)"
      ],
      "metadata": {
        "colab": {
          "base_uri": "https://localhost:8080/"
        },
        "id": "M8vIrcwsNMId",
        "outputId": "e4b1dd01-b9d9-4dd4-8bb9-c932c9c0b680"
      },
      "execution_count": 21,
      "outputs": [
        {
          "output_type": "execute_result",
          "data": {
            "text/plain": [
              "[12, 9, 20, 10]"
            ]
          },
          "metadata": {},
          "execution_count": 21
        }
      ]
    },
    {
      "cell_type": "markdown",
      "source": [
        "### 5.\tWrite a Python Program to check if given array is Monotonic?"
      ],
      "metadata": {
        "id": "xQBnf6QkP0s_"
      }
    },
    {
      "cell_type": "code",
      "source": [
        "def mono(a):\n",
        "  return (all(a[i] <= a[i+1] for i in range(len(a) - 1)) or (all(a[i] >= a[i+1] for i in range(len(a) + 1))))\n"
      ],
      "metadata": {
        "id": "GTWqsnyENQYs"
      },
      "execution_count": 35,
      "outputs": []
    },
    {
      "cell_type": "code",
      "source": [
        "mono([49, 24, 23, 89])"
      ],
      "metadata": {
        "colab": {
          "base_uri": "https://localhost:8080/"
        },
        "id": "BBUyH3bqQ0F4",
        "outputId": "8d4a38f6-d6f5-4a6f-b77f-b044b1d61990"
      },
      "execution_count": 36,
      "outputs": [
        {
          "output_type": "execute_result",
          "data": {
            "text/plain": [
              "False"
            ]
          },
          "metadata": {},
          "execution_count": 36
        }
      ]
    },
    {
      "cell_type": "code",
      "source": [
        "mono([20, 40, 70])"
      ],
      "metadata": {
        "colab": {
          "base_uri": "https://localhost:8080/"
        },
        "id": "M3RlwGYHRD4w",
        "outputId": "0c2ca629-a91c-4fe7-ee11-bff54a84743c"
      },
      "execution_count": 37,
      "outputs": [
        {
          "output_type": "execute_result",
          "data": {
            "text/plain": [
              "True"
            ]
          },
          "metadata": {},
          "execution_count": 37
        }
      ]
    }
  ]
}