{
  "nbformat": 4,
  "nbformat_minor": 0,
  "metadata": {
    "colab": {
      "provenance": []
    },
    "kernelspec": {
      "name": "python3",
      "display_name": "Python 3"
    },
    "language_info": {
      "name": "python"
    }
  },
  "cells": [
    {
      "cell_type": "markdown",
      "source": [
        "### 1.\tWrite a Python program to check if the given number is a Disarium Number?"
      ],
      "metadata": {
        "id": "GL4eeCMp9ePL"
      }
    },
    {
      "cell_type": "code",
      "execution_count": 9,
      "metadata": {
        "id": "57NCkDoo9Zos"
      },
      "outputs": [],
      "source": [
        "def disarium_check(a):\n",
        "  sum = 0\n",
        "  num = str(a)\n",
        "  \n",
        "  for i in range(len(num)):\n",
        "    sum += (int(num[i])**(i+1))\n",
        "\n",
        "  return sum == a\n"
      ]
    },
    {
      "cell_type": "code",
      "source": [
        "disarium_check(90)"
      ],
      "metadata": {
        "colab": {
          "base_uri": "https://localhost:8080/"
        },
        "id": "onBt4jHKFEop",
        "outputId": "3492ab2f-33c9-4610-947f-3ec0b47eab8b"
      },
      "execution_count": 10,
      "outputs": [
        {
          "output_type": "execute_result",
          "data": {
            "text/plain": [
              "False"
            ]
          },
          "metadata": {},
          "execution_count": 10
        }
      ]
    },
    {
      "cell_type": "code",
      "source": [
        "disarium_check(89)"
      ],
      "metadata": {
        "colab": {
          "base_uri": "https://localhost:8080/"
        },
        "id": "hk4vkGJrFeDt",
        "outputId": "bf5bd4b6-8c80-46b9-d210-597904e48349"
      },
      "execution_count": 11,
      "outputs": [
        {
          "output_type": "execute_result",
          "data": {
            "text/plain": [
              "True"
            ]
          },
          "metadata": {},
          "execution_count": 11
        }
      ]
    },
    {
      "cell_type": "markdown",
      "source": [
        "### 2.\tWrite a Python program to print all disarium numbers between 1 to 100?|"
      ],
      "metadata": {
        "id": "wImZtsjGKbHQ"
      }
    },
    {
      "cell_type": "code",
      "source": [
        "for i in range (1, 101):\n",
        "\n",
        "  sum = 0\n",
        "  num = str(i)\n",
        "\n",
        "  for j in range(len(num)):\n",
        "    sum += (int(num[j])**(j+1))\n",
        "  \n",
        "  if sum == i:\n",
        "    print(i)"
      ],
      "metadata": {
        "colab": {
          "base_uri": "https://localhost:8080/"
        },
        "id": "y1KWB1xYIydl",
        "outputId": "49c24afe-970d-45aa-bd12-4de44d7471a2"
      },
      "execution_count": 12,
      "outputs": [
        {
          "output_type": "stream",
          "name": "stdout",
          "text": [
            "1\n",
            "2\n",
            "3\n",
            "4\n",
            "5\n",
            "6\n",
            "7\n",
            "8\n",
            "9\n",
            "89\n"
          ]
        }
      ]
    },
    {
      "cell_type": "markdown",
      "source": [
        "### 3.\tWrite a Python program to check if the given number is Happy Number?"
      ],
      "metadata": {
        "id": "P3p7cDvWLcQu"
      }
    },
    {
      "cell_type": "code",
      "source": [
        "def happy_check(a):\n",
        "  check = set()\n",
        "\n",
        "  while a != 1:\n",
        "    a = sum(int(i)**2 for i in str(a))\n",
        "    if a in check:\n",
        "      return False\n",
        "    check.add(a)\n",
        "  return True"
      ],
      "metadata": {
        "id": "0vQtdxzPLUjI"
      },
      "execution_count": 24,
      "outputs": []
    },
    {
      "cell_type": "code",
      "source": [
        "happy_check(1)"
      ],
      "metadata": {
        "colab": {
          "base_uri": "https://localhost:8080/"
        },
        "id": "KAyWrmp-NJB4",
        "outputId": "918da69b-6062-43c5-f971-ba5dc99a6533"
      },
      "execution_count": 25,
      "outputs": [
        {
          "output_type": "execute_result",
          "data": {
            "text/plain": [
              "True"
            ]
          },
          "metadata": {},
          "execution_count": 25
        }
      ]
    },
    {
      "cell_type": "markdown",
      "source": [
        "### 4.\tWrite a Python program to print all happy numbers between 1 and 100?"
      ],
      "metadata": {
        "id": "gsaedcmwjZ0J"
      }
    },
    {
      "cell_type": "code",
      "source": [
        "def happy_check(a):\n",
        "  check = set()\n",
        "\n",
        "  while a != 1:\n",
        "    a = sum(int(i)**2 for i in str(a))\n",
        "    if a in check:\n",
        "      return False\n",
        "    check.add(a)\n",
        "  return True\n",
        "\n",
        "for i in range (1, 101):\n",
        "  if happy_check(i):\n",
        "    print(i)"
      ],
      "metadata": {
        "id": "A7GBySQ3jZce"
      },
      "execution_count": 28,
      "outputs": []
    },
    {
      "cell_type": "markdown",
      "source": [
        "### 5.\tWrite a Python program to determine whether the given number is a Harshad Number?"
      ],
      "metadata": {
        "id": "3c-Y-jbikkKC"
      }
    },
    {
      "cell_type": "code",
      "source": [
        "def check_harasad(num):\n",
        "  number = str(num)\n",
        "  sum = 0\n",
        "\n",
        "  for i in range(len(number)):\n",
        "    x = int(number[i])\n",
        "    sum += x\n",
        "\n",
        "  return num % sum == 0"
      ],
      "metadata": {
        "id": "93ZeDjAviyhB"
      },
      "execution_count": 33,
      "outputs": []
    },
    {
      "cell_type": "code",
      "source": [
        "check_harasad(19)"
      ],
      "metadata": {
        "colab": {
          "base_uri": "https://localhost:8080/"
        },
        "id": "CJboi8nMm-E7",
        "outputId": "8999c203-9901-4709-84aa-f907fa0e3347"
      },
      "execution_count": 34,
      "outputs": [
        {
          "output_type": "execute_result",
          "data": {
            "text/plain": [
              "False"
            ]
          },
          "metadata": {},
          "execution_count": 34
        }
      ]
    },
    {
      "cell_type": "code",
      "source": [
        "check_harasad(18)"
      ],
      "metadata": {
        "colab": {
          "base_uri": "https://localhost:8080/"
        },
        "id": "hd55Hto1nA7w",
        "outputId": "796eb211-c5a8-450d-b03c-013f19108bd6"
      },
      "execution_count": 35,
      "outputs": [
        {
          "output_type": "execute_result",
          "data": {
            "text/plain": [
              "True"
            ]
          },
          "metadata": {},
          "execution_count": 35
        }
      ]
    },
    {
      "cell_type": "markdown",
      "source": [
        "### 6.\tWrite a Python program to print all pronic numbers between 1 and 100?"
      ],
      "metadata": {
        "id": "M769FmuSno-4"
      }
    },
    {
      "cell_type": "code",
      "source": [
        "for i in range(0, 101):\n",
        "\n",
        "  z = i*(i+1)\n",
        "  if z < 100:\n",
        "    print(z)"
      ],
      "metadata": {
        "colab": {
          "base_uri": "https://localhost:8080/"
        },
        "id": "FuCFlcTRnuYZ",
        "outputId": "a243fd0e-edc2-4595-fba0-ab9de3b5e9a5"
      },
      "execution_count": 36,
      "outputs": [
        {
          "output_type": "stream",
          "name": "stdout",
          "text": [
            "0\n",
            "2\n",
            "6\n",
            "12\n",
            "20\n",
            "30\n",
            "42\n",
            "56\n",
            "72\n",
            "90\n"
          ]
        }
      ]
    }
  ]
}