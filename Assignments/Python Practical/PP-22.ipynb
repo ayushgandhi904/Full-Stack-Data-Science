{
  "nbformat": 4,
  "nbformat_minor": 0,
  "metadata": {
    "colab": {
      "provenance": []
    },
    "kernelspec": {
      "name": "python3",
      "display_name": "Python 3"
    },
    "language_info": {
      "name": "python"
    }
  },
  "cells": [
    {
      "cell_type": "markdown",
      "source": [
        "### Question1\n",
        "Create a function that takes three parameters where:\n",
        "\n",
        "•\tx is the start of the range (inclusive).\n",
        "\n",
        "•\ty is the end of the range (inclusive).\n",
        "\n",
        "•\tn is the divisor to be checked against.\n",
        "Return an ordered list with numbers in the range that are divisible by the third parameter n. Return an empty list if there are no numbers that are divisible by n.\n"
      ],
      "metadata": {
        "id": "uZOLjtM_bCZv"
      }
    },
    {
      "cell_type": "code",
      "execution_count": 1,
      "metadata": {
        "id": "PesglC7-a-kz"
      },
      "outputs": [],
      "source": [
        "def list_operation(x, y, n):\n",
        "    return [num for num in range(x, y + 1) if num % n == 0]"
      ]
    },
    {
      "cell_type": "code",
      "source": [
        "list_operation(15, 20, 7)"
      ],
      "metadata": {
        "colab": {
          "base_uri": "https://localhost:8080/"
        },
        "id": "5yYZrbVmbPmu",
        "outputId": "4b7d8d1c-0cfb-446a-a7a2-5188124f97f3"
      },
      "execution_count": 2,
      "outputs": [
        {
          "output_type": "execute_result",
          "data": {
            "text/plain": [
              "[]"
            ]
          },
          "metadata": {},
          "execution_count": 2
        }
      ]
    },
    {
      "cell_type": "markdown",
      "source": [
        "### Question2\n",
        "Create a function that takes in two lists and returns True if the second list follows the first list by one element, and False otherwise. In other words, determine if the second list is the first list shifted to the right by 1.\n"
      ],
      "metadata": {
        "id": "9E8pv_DFbXM7"
      }
    },
    {
      "cell_type": "code",
      "source": [
        "def simon_says(list1, list2):\n",
        "    if len(list1) != len(list2) - 1:\n",
        "        return False\n",
        "\n",
        "    return list1 == list2[:-1]  "
      ],
      "metadata": {
        "id": "PYAfLn3sbS1p"
      },
      "execution_count": 3,
      "outputs": []
    },
    {
      "cell_type": "code",
      "source": [
        "simon_says([1, 2, 3, 4, 5], [0, 1, 2, 3, 4]) "
      ],
      "metadata": {
        "colab": {
          "base_uri": "https://localhost:8080/"
        },
        "id": "BVXrbxiVbfBk",
        "outputId": "526a4a3f-f0db-405e-d70c-f709c7e7c541"
      },
      "execution_count": 4,
      "outputs": [
        {
          "output_type": "execute_result",
          "data": {
            "text/plain": [
              "False"
            ]
          },
          "metadata": {},
          "execution_count": 4
        }
      ]
    },
    {
      "cell_type": "markdown",
      "source": [
        "### Question3\n",
        "A group of friends have decided to start a secret society. The name will be the first letter of each of their names, sorted in alphabetical order.\n",
        "Create a function that takes in a list of names and returns the name of the secret society.\n"
      ],
      "metadata": {
        "id": "b4s7dEwJbmYk"
      }
    },
    {
      "cell_type": "code",
      "source": [
        "def society_name(names):\n",
        "    society_name = ''.join(name[0] for name in names)\n",
        "    society_name = ''.join(sorted(society_name))\n",
        "    return society_name"
      ],
      "metadata": {
        "id": "Yi9xpiEvbhzK"
      },
      "execution_count": 5,
      "outputs": []
    },
    {
      "cell_type": "code",
      "source": [
        "society_name([\"Adam\", \"Sarah\", \"Malcolm\"]) "
      ],
      "metadata": {
        "colab": {
          "base_uri": "https://localhost:8080/",
          "height": 35
        },
        "id": "QMtL7fzScCWm",
        "outputId": "1d456b13-bc4a-43f3-b195-5aba903b26d4"
      },
      "execution_count": 6,
      "outputs": [
        {
          "output_type": "execute_result",
          "data": {
            "text/plain": [
              "'AMS'"
            ],
            "application/vnd.google.colaboratory.intrinsic+json": {
              "type": "string"
            }
          },
          "metadata": {},
          "execution_count": 6
        }
      ]
    },
    {
      "cell_type": "markdown",
      "source": [
        "### Question4\n",
        "An isogram is a word that has no duplicate letters. Create a function that takes a string and returns either True or False depending on whether or not it's an \"isogram\".\n"
      ],
      "metadata": {
        "id": "w9Tb8enQcJma"
      }
    },
    {
      "cell_type": "code",
      "source": [
        "def is_isogram(word):\n",
        "    word = word.lower() \n",
        "    unique_chars = set(word)  \n",
        "    return len(word) == len(unique_chars)\n"
      ],
      "metadata": {
        "id": "CR34c-XLcHvb"
      },
      "execution_count": 7,
      "outputs": []
    },
    {
      "cell_type": "code",
      "source": [
        "is_isogram(\"PasSword\") "
      ],
      "metadata": {
        "colab": {
          "base_uri": "https://localhost:8080/"
        },
        "id": "gVB7OLN6cR20",
        "outputId": "c7cee89c-4cbf-41f8-839b-dc0b67bd930f"
      },
      "execution_count": 8,
      "outputs": [
        {
          "output_type": "execute_result",
          "data": {
            "text/plain": [
              "False"
            ]
          },
          "metadata": {},
          "execution_count": 8
        }
      ]
    },
    {
      "cell_type": "markdown",
      "source": [
        "### Question5\n",
        "Create a function that takes a string and returns True or False, depending on whether the characters are in order or not.\n"
      ],
      "metadata": {
        "id": "Bk1v7I8kcZxh"
      }
    },
    {
      "cell_type": "code",
      "source": [
        "def is_in_order(string):\n",
        "    for i in range(len(string) - 1):\n",
        "        if string[i] > string[i + 1]:\n",
        "            return False\n",
        "    return True"
      ],
      "metadata": {
        "id": "-t8lWo7FcVNc"
      },
      "execution_count": 9,
      "outputs": []
    },
    {
      "cell_type": "code",
      "source": [
        "is_in_order(\"xyzz\") "
      ],
      "metadata": {
        "colab": {
          "base_uri": "https://localhost:8080/"
        },
        "id": "nfYTrmpXcfru",
        "outputId": "7a0080ef-ced3-487b-8324-4331f5b039e9"
      },
      "execution_count": 10,
      "outputs": [
        {
          "output_type": "execute_result",
          "data": {
            "text/plain": [
              "True"
            ]
          },
          "metadata": {},
          "execution_count": 10
        }
      ]
    }
  ]
}