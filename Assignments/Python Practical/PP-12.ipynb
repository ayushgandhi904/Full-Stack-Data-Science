{
  "nbformat": 4,
  "nbformat_minor": 0,
  "metadata": {
    "colab": {
      "provenance": []
    },
    "kernelspec": {
      "name": "python3",
      "display_name": "Python 3"
    },
    "language_info": {
      "name": "python"
    }
  },
  "cells": [
    {
      "cell_type": "markdown",
      "source": [
        "### 1.\tWrite a Python program to Extract Unique values dictionary values?"
      ],
      "metadata": {
        "id": "NxedqJk_EMql"
      }
    },
    {
      "cell_type": "code",
      "execution_count": 1,
      "metadata": {
        "id": "PATvl53SEHly"
      },
      "outputs": [],
      "source": [
        "def unique(dictionary):\n",
        "\n",
        "  uni = set(dictionary.values())\n",
        "  return uni"
      ]
    },
    {
      "cell_type": "code",
      "source": [
        "unique({\"a\":19,\"b\":19,\"c\":10,\"d\":\"Ayush\"})"
      ],
      "metadata": {
        "colab": {
          "base_uri": "https://localhost:8080/"
        },
        "id": "KS41P0_BFDEK",
        "outputId": "ba09d23c-ac6b-40cf-a0d0-301c1a3ca39a"
      },
      "execution_count": 2,
      "outputs": [
        {
          "output_type": "execute_result",
          "data": {
            "text/plain": [
              "{10, 19, 'Ayush'}"
            ]
          },
          "metadata": {},
          "execution_count": 2
        }
      ]
    },
    {
      "cell_type": "markdown",
      "source": [
        "### 2.\tWrite a Python program to find the sum of all items in a dictionary?"
      ],
      "metadata": {
        "id": "p-ngP4qgHyRf"
      }
    },
    {
      "cell_type": "code",
      "source": [
        "def sum_(dic):\n",
        "\n",
        "  sum = 0\n",
        "  for i in dic.values():\n",
        "    sum += i\n",
        "  return sum"
      ],
      "metadata": {
        "id": "YCMLU6YuFLbA"
      },
      "execution_count": 3,
      "outputs": []
    },
    {
      "cell_type": "code",
      "source": [
        "sum_({\"a\":19,\"b\":19,\"c\":10,\"d\":40})"
      ],
      "metadata": {
        "colab": {
          "base_uri": "https://localhost:8080/"
        },
        "id": "RLSd3KBCIeHp",
        "outputId": "8bcce829-57c1-4700-c010-403cae1a6f90"
      },
      "execution_count": 4,
      "outputs": [
        {
          "output_type": "execute_result",
          "data": {
            "text/plain": [
              "88"
            ]
          },
          "metadata": {},
          "execution_count": 4
        }
      ]
    },
    {
      "cell_type": "markdown",
      "source": [
        "### 3.\tWrite a Python program to Merging two Dictionaries?"
      ],
      "metadata": {
        "id": "AhJcBwlyIziB"
      }
    },
    {
      "cell_type": "code",
      "source": [
        "def mer(d1, d2):\n",
        "\n",
        "  dic = {**d1, **d2}\n",
        "  return dic"
      ],
      "metadata": {
        "id": "cAVEl3OzIhdA"
      },
      "execution_count": 5,
      "outputs": []
    },
    {
      "cell_type": "code",
      "source": [
        "mer({\"a\" : 2}, {\"Ayush\":\"Hey\", \"Gandhi\":\"How are you?\"})"
      ],
      "metadata": {
        "colab": {
          "base_uri": "https://localhost:8080/"
        },
        "id": "7dnzKcGhJAdi",
        "outputId": "2f4cd9ce-81dd-4250-e43f-b9dccdb52ff0"
      },
      "execution_count": 6,
      "outputs": [
        {
          "output_type": "execute_result",
          "data": {
            "text/plain": [
              "{'a': 2, 'Ayush': 'Hey', 'Gandhi': 'How are you?'}"
            ]
          },
          "metadata": {},
          "execution_count": 6
        }
      ]
    },
    {
      "cell_type": "markdown",
      "source": [
        "### 4.\tWrite a Python program to convert key-values list to flat dictionary?"
      ],
      "metadata": {
        "id": "R78LaGxbJR4V"
      }
    },
    {
      "cell_type": "code",
      "source": [
        "def fla(l):\n",
        "\n",
        "  dic = dict()\n",
        "\n",
        "  for i in l:\n",
        "    e1, e2 = i\n",
        "    dic[e1] = e2\n",
        "  return dic"
      ],
      "metadata": {
        "id": "-nqEkqejJHzi"
      },
      "execution_count": 12,
      "outputs": []
    },
    {
      "cell_type": "code",
      "source": [
        "fla([(\"Ayush\", 1), (\"Gandhi\", \"Engineer\")])"
      ],
      "metadata": {
        "colab": {
          "base_uri": "https://localhost:8080/"
        },
        "id": "Q7eRXgHKJ3JD",
        "outputId": "512e8916-045f-40e2-c4b6-e7127adc7499"
      },
      "execution_count": 13,
      "outputs": [
        {
          "output_type": "execute_result",
          "data": {
            "text/plain": [
              "{'Ayush': 1, 'Gandhi': 'Engineer'}"
            ]
          },
          "metadata": {},
          "execution_count": 13
        }
      ]
    },
    {
      "cell_type": "markdown",
      "source": [
        "### 5.\tWrite a Python program to insertion at the beginning in OrderedDict?"
      ],
      "metadata": {
        "id": "cmcNwzEJKx2X"
      }
    },
    {
      "cell_type": "code",
      "source": [
        "from collections import OrderedDict\n",
        "\n",
        "def inser(od, key, value):\n",
        "\n",
        "  new = OrderedDict([key, value])\n",
        "  new.update(od)\n",
        "\n",
        "  return new"
      ],
      "metadata": {
        "id": "6Z4xoxoBJ7zy"
      },
      "execution_count": 14,
      "outputs": []
    },
    {
      "cell_type": "markdown",
      "source": [
        "### 6.\tWrite a Python program to check order of character in string using OrderedDict()?"
      ],
      "metadata": {
        "id": "7LhOq8SaLvMd"
      }
    },
    {
      "cell_type": "code",
      "source": [
        "def orde(s, p):\n",
        "  pos = OrderedDict()\n",
        "\n",
        "  for i in s:\n",
        "    if i not in pos:\n",
        "      pos = len(pos) + 1\n",
        "  \n",
        "  for j in p:\n",
        "    if j not in p or p[j] > list(p.values())[-1]:\n",
        "      return False\n",
        "\n",
        "  return True"
      ],
      "metadata": {
        "id": "Lr-FBnFRLo3A"
      },
      "execution_count": 16,
      "outputs": []
    },
    {
      "cell_type": "markdown",
      "source": [
        "### 7.\tWrite a Python program to sort Python Dictionaries by Key or Value?"
      ],
      "metadata": {
        "id": "x9a5vRTQNEFW"
      }
    },
    {
      "cell_type": "code",
      "source": [
        "def di_key(di):\n",
        "\n",
        "  sor = dict(sorted(di.items()))\n",
        "  return sor\n",
        "\n",
        "def di_val(di):\n",
        "\n",
        "  sor = dict(sorted(di.items(), key = lambda x: x[1]))\n",
        "  return sor"
      ],
      "metadata": {
        "id": "dDXJ5rhxMsdQ"
      },
      "execution_count": 17,
      "outputs": []
    },
    {
      "cell_type": "code",
      "source": [
        "di_key({'b': 2, 'a': 1, 'd': 4, 'c': 3})"
      ],
      "metadata": {
        "colab": {
          "base_uri": "https://localhost:8080/"
        },
        "id": "3-mRSpwDN8NP",
        "outputId": "99b32738-0c97-4062-9cb7-75580e68a13f"
      },
      "execution_count": 18,
      "outputs": [
        {
          "output_type": "execute_result",
          "data": {
            "text/plain": [
              "{'a': 1, 'b': 2, 'c': 3, 'd': 4}"
            ]
          },
          "metadata": {},
          "execution_count": 18
        }
      ]
    },
    {
      "cell_type": "code",
      "source": [
        "di_val({'b': 2, 'a': 1, 'd': 4, 'c': 3})"
      ],
      "metadata": {
        "colab": {
          "base_uri": "https://localhost:8080/"
        },
        "id": "jwoiW9J4N-yG",
        "outputId": "8b0a2d65-6388-4da9-8c73-cec440fda01d"
      },
      "execution_count": 19,
      "outputs": [
        {
          "output_type": "execute_result",
          "data": {
            "text/plain": [
              "{'a': 1, 'b': 2, 'c': 3, 'd': 4}"
            ]
          },
          "metadata": {},
          "execution_count": 19
        }
      ]
    }
  ]
}