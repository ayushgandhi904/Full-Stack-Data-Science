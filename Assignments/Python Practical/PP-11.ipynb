{
  "cells": [
    {
      "cell_type": "markdown",
      "metadata": {
        "id": "ESOez35U2gCS"
      },
      "source": [
        "### 1.\tWrite a Python program to find words which are greater than given length k?"
      ]
    },
    {
      "cell_type": "code",
      "execution_count": null,
      "metadata": {
        "id": "zPbgXm8u2F9o"
      },
      "outputs": [],
      "source": [
        "def len_check(word, length):\n",
        "  if len(word) > length:\n",
        "    return \"Greter then length\"\n",
        "  else:\n",
        "    return \"Normal word\""
      ]
    },
    {
      "cell_type": "code",
      "execution_count": null,
      "metadata": {
        "colab": {
          "base_uri": "https://localhost:8080/",
          "height": 35
        },
        "id": "JYwxFRHg27_9",
        "outputId": "95687a99-1dfa-4a88-b469-00b4bbda416c"
      },
      "outputs": [
        {
          "data": {
            "application/vnd.google.colaboratory.intrinsic+json": {
              "type": "string"
            },
            "text/plain": [
              "'Greter then length'"
            ]
          },
          "execution_count": 4,
          "metadata": {},
          "output_type": "execute_result"
        }
      ],
      "source": [
        "len_check(\"Ayush Gandhi\", 5)"
      ]
    },
    {
      "cell_type": "markdown",
      "metadata": {
        "id": "Gh7DIB_B3Ta2"
      },
      "source": [
        "### 2.\tWrite a Python program for removing i-th character from a string?"
      ]
    },
    {
      "cell_type": "code",
      "execution_count": null,
      "metadata": {
        "id": "fPz--W_l2-Ax"
      },
      "outputs": [],
      "source": [
        "def rem_char(word, character):\n",
        "\n",
        "  return word[:character] + word[character+1:]"
      ]
    },
    {
      "cell_type": "code",
      "execution_count": null,
      "metadata": {
        "colab": {
          "base_uri": "https://localhost:8080/",
          "height": 35
        },
        "id": "hQLWTy984PjH",
        "outputId": "dad8c2c7-57b6-4780-acdc-38549ddaccaa"
      },
      "outputs": [
        {
          "data": {
            "application/vnd.google.colaboratory.intrinsic+json": {
              "type": "string"
            },
            "text/plain": [
              "'Ayuh'"
            ]
          },
          "execution_count": 8,
          "metadata": {},
          "output_type": "execute_result"
        }
      ],
      "source": [
        "rem_char(\"Ayush\", 3)"
      ]
    },
    {
      "cell_type": "markdown",
      "metadata": {
        "id": "N4pJ4qWY4YIo"
      },
      "source": [
        "### 3.\tWrite a Python program to split and join a string?"
      ]
    },
    {
      "cell_type": "code",
      "execution_count": null,
      "metadata": {
        "id": "IRMPNxw54RhS"
      },
      "outputs": [],
      "source": [
        "def split(string, char):\n",
        "\n",
        "  ans = string.split(char)\n",
        "  return ans\n",
        "\n",
        "def join(string, char):\n",
        "  ans = char.join(string)\n",
        "  return ans"
      ]
    },
    {
      "cell_type": "markdown",
      "metadata": {
        "id": "CBc_S6ZM59Bd"
      },
      "source": [
        "### 4.\tWrite a Python to check if a given string is binary string or not?"
      ]
    },
    {
      "cell_type": "code",
      "execution_count": null,
      "metadata": {
        "id": "woWNiByh55n-"
      },
      "outputs": [],
      "source": [
        "def check(a):\n",
        "  bin = {0, 1}\n",
        "  for i in a:\n",
        "    if i not in bin:\n",
        "      return False\n",
        "\n",
        "  return True"
      ]
    },
    {
      "cell_type": "code",
      "execution_count": null,
      "metadata": {
        "colab": {
          "base_uri": "https://localhost:8080/"
        },
        "id": "_1oYu1E57J-5",
        "outputId": "f5395ee6-fe12-44ce-ed94-3a190ec1afa2"
      },
      "outputs": [
        {
          "data": {
            "text/plain": [
              "False"
            ]
          },
          "execution_count": 17,
          "metadata": {},
          "output_type": "execute_result"
        }
      ],
      "source": [
        "check(\"19599\")"
      ]
    },
    {
      "cell_type": "markdown",
      "source": [
        "### 5.\tWrite a Python program to find uncommon words from two Strings?"
      ],
      "metadata": {
        "id": "nSBYtizfA89X"
      }
    },
    {
      "cell_type": "code",
      "execution_count": 28,
      "metadata": {
        "id": "f5Rsfpey7dtL"
      },
      "outputs": [],
      "source": [
        "def un(a1, a2):\n",
        "\n",
        "  w1 = a1.split()\n",
        "  w2 = a2.split()\n",
        "\n",
        "  u1 = set(w1)\n",
        "  u2 = set(w2)\n",
        "\n",
        "  words = u1.symmetric_difference(u2)\n",
        "\n",
        "  return words"
      ]
    },
    {
      "cell_type": "code",
      "source": [
        "un(\"Ayush like Deep Learning\", \"Gandhi like Machine Learning\")"
      ],
      "metadata": {
        "colab": {
          "base_uri": "https://localhost:8080/"
        },
        "id": "hbsimi59B4ho",
        "outputId": "711a2d4e-eb59-4879-f90f-c12b90a02a44"
      },
      "execution_count": 30,
      "outputs": [
        {
          "output_type": "execute_result",
          "data": {
            "text/plain": [
              "{'Ayush', 'Deep', 'Gandhi', 'Machine'}"
            ]
          },
          "metadata": {},
          "execution_count": 30
        }
      ]
    },
    {
      "cell_type": "markdown",
      "source": [
        "### 6.\tWrite a Python to find all duplicate characters in string?"
      ],
      "metadata": {
        "id": "LAs_nnQPCNAL"
      }
    },
    {
      "cell_type": "code",
      "source": [
        "def dup(a):\n",
        "  dup = set()\n",
        "  new = set()\n",
        "\n",
        "  for i in a:\n",
        "    if i in new:\n",
        "      dup.add(i)\n",
        "    else:\n",
        "      new.add(i)\n",
        "  return dup"
      ],
      "metadata": {
        "id": "6kcr_QYZB6kW"
      },
      "execution_count": 31,
      "outputs": []
    },
    {
      "cell_type": "code",
      "source": [
        "dup(\"Hello\")"
      ],
      "metadata": {
        "colab": {
          "base_uri": "https://localhost:8080/"
        },
        "id": "JhK4ISWXClm_",
        "outputId": "83fdf062-ccf5-4be3-cb82-8778e77f4fac"
      },
      "execution_count": 32,
      "outputs": [
        {
          "output_type": "execute_result",
          "data": {
            "text/plain": [
              "{'l'}"
            ]
          },
          "metadata": {},
          "execution_count": 32
        }
      ]
    },
    {
      "cell_type": "markdown",
      "source": [
        "### 7.\tWrite a Python Program to check if a string contains any special character?"
      ],
      "metadata": {
        "id": "2V8auvhZC00f"
      }
    },
    {
      "cell_type": "code",
      "source": [
        "def spe(a):\n",
        "\n",
        "  cha = ['a', 'b', 'c', 'd', 'e', 'f', 'g', 'h', 'i', 'j', 'k', 'l', 'm', 'n', 'o', 'p', 'q', 'r', 's', 't', 'u', 'v', 's', 't', 'u', 'v', 'w', 'x', 'y', 'z', 'A', 'B', 'C', 'D', 'E', 'F', 'G', 'H', 'I', 'J', 'K;', 'L', 'M', 'N', 'O', 'P', 'Q', 'R', 'S', 'T', 'U', 'V', 'W', 'X', 'Y', 'Z']\n",
        "  spe = set()\n",
        "\n",
        "  for i in a:\n",
        "    if i not in cha:\n",
        "      spe.add(i)\n",
        "  return spe"
      ],
      "metadata": {
        "id": "Mw7D9yPiCnrM"
      },
      "execution_count": 35,
      "outputs": []
    },
    {
      "cell_type": "code",
      "source": [
        "spe(\"Ayush@hl!\")"
      ],
      "metadata": {
        "colab": {
          "base_uri": "https://localhost:8080/"
        },
        "id": "xC_nsbXnDhZ_",
        "outputId": "dffb151a-c1c8-47e6-ad4e-dbf0418f6111"
      },
      "execution_count": 36,
      "outputs": [
        {
          "output_type": "execute_result",
          "data": {
            "text/plain": [
              "{'!', '@'}"
            ]
          },
          "metadata": {},
          "execution_count": 36
        }
      ]
    }
  ],
  "metadata": {
    "colab": {
      "provenance": []
    },
    "kernelspec": {
      "display_name": "Python 3",
      "name": "python3"
    },
    "language_info": {
      "name": "python"
    }
  },
  "nbformat": 4,
  "nbformat_minor": 0
}