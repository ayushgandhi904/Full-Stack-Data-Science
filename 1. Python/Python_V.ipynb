{
  "nbformat": 4,
  "nbformat_minor": 0,
  "metadata": {
    "colab": {
      "provenance": []
    },
    "kernelspec": {
      "name": "python3",
      "display_name": "Python 3"
    },
    "language_info": {
      "name": "python"
    }
  },
  "cells": [
    {
      "cell_type": "markdown",
      "source": [
        "## \n",
        "1. Control Flow statements\n",
        "\n",
        "- if else\n",
        "- if elif else\n",
        "- nested if else\n",
        "- single line if else [Not recommended]\n",
        "\n",
        "2. Loops in python\n",
        "- for\n",
        "- while\n"
      ],
      "metadata": {
        "id": "qvi-L3m6JhAP"
      }
    },
    {
      "cell_type": "code",
      "execution_count": null,
      "metadata": {
        "id": "yTQJvRf0EIIZ"
      },
      "outputs": [],
      "source": [
        "#if else "
      ]
    },
    {
      "cell_type": "code",
      "source": [],
      "metadata": {
        "id": "dpwrF4WAKAQs"
      },
      "execution_count": null,
      "outputs": []
    },
    {
      "cell_type": "markdown",
      "source": [
        "#### If elif condition"
      ],
      "metadata": {
        "id": "Hl_013N5KCvb"
      }
    },
    {
      "cell_type": "markdown",
      "source": [
        "##### Order > Rs 500\n",
        "- discount = 20%\n",
        "\n",
        "##### Order > Rs 1000\n",
        "- discount = 30%"
      ],
      "metadata": {
        "id": "PdQYtBh6LK2j"
      }
    },
    {
      "cell_type": "code",
      "source": [
        "total = 930\n",
        "\n",
        "if total > 1000:\n",
        "  price = total*0.7\n",
        "  print(f\"Ammount payed : {price}\")\n",
        "elif total <1000 and total > 500:\n",
        "  price = total*0.8\n",
        "  print(f\"Ammount to be payed : {price}\")\n",
        "else:\n",
        "  price = total\n",
        "  print(f\"Ammount to be played: {price}\")\n",
        "\n",
        "print(f\"Cart total should be {total}\")\n",
        "print(f\"Ammount to be payed {price}\")"
      ],
      "metadata": {
        "colab": {
          "base_uri": "https://localhost:8080/"
        },
        "id": "f70lC391KEe6",
        "outputId": "034112af-a4c7-463f-f091-4a3e3cc8c0dd"
      },
      "execution_count": null,
      "outputs": [
        {
          "output_type": "stream",
          "name": "stdout",
          "text": [
            "Ammount to be payed : 744.0\n",
            "Cart total should be 930\n",
            "Ammount to be payed 744.0\n"
          ]
        }
      ]
    },
    {
      "cell_type": "code",
      "source": [],
      "metadata": {
        "id": "mYdiwTJNMfVz"
      },
      "execution_count": null,
      "outputs": []
    },
    {
      "cell_type": "markdown",
      "source": [
        "### Nested if else "
      ],
      "metadata": {
        "id": "0sA4tQgFOr9l"
      }
    },
    {
      "cell_type": "code",
      "source": [
        "# print if the number is negative or positive\n",
        "\n",
        "val = float(input(\"Enter the nuber: \"))\n",
        "if val>=0:\n",
        "  if val == 0:\n",
        "    print(\"Neither negative nor positive\")\n",
        "  else:\n",
        "    print(\"Positive number\")\n",
        "else:\n",
        "  print(\"Negative number\")"
      ],
      "metadata": {
        "colab": {
          "base_uri": "https://localhost:8080/"
        },
        "id": "qsvOesTIOzHb",
        "outputId": "842ac731-a7bc-438f-e59e-fde9600012dc"
      },
      "execution_count": null,
      "outputs": [
        {
          "output_type": "stream",
          "name": "stdout",
          "text": [
            "Enter the nuber: -23.23\n",
            "Negative number\n"
          ]
        }
      ]
    },
    {
      "cell_type": "markdown",
      "source": [
        "### Single Statment \n"
      ],
      "metadata": {
        "id": "QMvC2ip_PVc6"
      }
    },
    {
      "cell_type": "code",
      "source": [
        "val = float(input(\"Enter number: \"))\n",
        "if val>99: print(\"yes\")\n",
        "else: print(\"no\")"
      ],
      "metadata": {
        "colab": {
          "base_uri": "https://localhost:8080/"
        },
        "id": "LG0E_2v9PJmH",
        "outputId": "a1c7aca7-4087-4bc0-c67e-1551a5e14505"
      },
      "execution_count": null,
      "outputs": [
        {
          "output_type": "stream",
          "name": "stdout",
          "text": [
            "Enter number: 2\n",
            "no\n"
          ]
        }
      ]
    },
    {
      "cell_type": "code",
      "source": [
        "val = float(input(\"Enter number: \"))\n",
        "print(\"yes\" if val > 100 else \"no\")"
      ],
      "metadata": {
        "colab": {
          "base_uri": "https://localhost:8080/"
        },
        "id": "UeakkWPVP0ws",
        "outputId": "ebe5059b-2d77-440b-b7c6-e9ee84ed55c2"
      },
      "execution_count": null,
      "outputs": [
        {
          "output_type": "stream",
          "name": "stdout",
          "text": [
            "Enter number: 293\n",
            "yes\n"
          ]
        }
      ]
    },
    {
      "cell_type": "code",
      "source": [],
      "metadata": {
        "id": "9vrVddssQ4rP"
      },
      "execution_count": null,
      "outputs": []
    },
    {
      "cell_type": "markdown",
      "source": [
        "## Loops\n",
        "\n",
        "1. While loop\n",
        "2. For loop\n",
        "3. loop control\n",
        "   - break\n",
        "   - continue\n",
        "   - pass\n",
        "4. nested loop"
      ],
      "metadata": {
        "id": "ElPeJozDRpYn"
      }
    },
    {
      "cell_type": "code",
      "source": [
        "## Goverment exam example"
      ],
      "metadata": {
        "id": "ULKPHikiRqx7"
      },
      "execution_count": null,
      "outputs": []
    },
    {
      "cell_type": "code",
      "source": [
        "marks = 1000\n",
        "cutoff = 400 \n",
        "score = [100, 200, 295, 300, 400, 500]\n",
        "\n",
        "#attempt till succced \n",
        "year = 0\n",
        "\n",
        "while score[year] < cutoff:\n",
        "  print(f\"Your score is: {score[year]}, cutooff is : {cutoff}\")\n",
        "  print(\"Need to attempt next year\")\n",
        "  year += 1"
      ],
      "metadata": {
        "colab": {
          "base_uri": "https://localhost:8080/"
        },
        "id": "ukI55bbOSvN7",
        "outputId": "014bc029-2b5b-4ec7-ab4c-43ff19d2f0de"
      },
      "execution_count": null,
      "outputs": [
        {
          "output_type": "stream",
          "name": "stdout",
          "text": [
            "Your score is: 100, cutooff is : 400\n",
            "Need to attempt next year\n",
            "Your score is: 200, cutooff is : 400\n",
            "Need to attempt next year\n",
            "Your score is: 295, cutooff is : 400\n",
            "Need to attempt next year\n",
            "Your score is: 300, cutooff is : 400\n",
            "Need to attempt next year\n"
          ]
        }
      ]
    },
    {
      "cell_type": "code",
      "source": [],
      "metadata": {
        "id": "p0le5nkkUD6s"
      },
      "execution_count": null,
      "outputs": []
    },
    {
      "cell_type": "markdown",
      "source": [
        "#### Infinite Loop\n",
        "- It will run until statement becomes false"
      ],
      "metadata": {
        "id": "ZjSXSuCVVE_d"
      }
    },
    {
      "cell_type": "code",
      "source": [
        "notes = 5 \n",
        "i = 1\n",
        "while i <= notes:\n",
        "  print(f\"current sum: {i*10}\")\n",
        "  i += 1"
      ],
      "metadata": {
        "colab": {
          "base_uri": "https://localhost:8080/"
        },
        "id": "vsGZZFv9VOjD",
        "outputId": "f4282555-cb07-413a-d941-e155ce164d06"
      },
      "execution_count": null,
      "outputs": [
        {
          "output_type": "stream",
          "name": "stdout",
          "text": [
            "current sum: 10\n",
            "current sum: 20\n",
            "current sum: 30\n",
            "current sum: 40\n",
            "current sum: 50\n"
          ]
        }
      ]
    },
    {
      "cell_type": "markdown",
      "source": [
        "### For loop"
      ],
      "metadata": {
        "id": "BYvzHRVlcVeh"
      }
    },
    {
      "cell_type": "code",
      "source": [
        "#it tries to iterate towards list \n",
        "\n",
        "for i in range(0, 10):\n",
        "  print(i)"
      ],
      "metadata": {
        "colab": {
          "base_uri": "https://localhost:8080/"
        },
        "id": "DqzfD6CfWSbx",
        "outputId": "bc077557-830d-4779-f375-e120fa871776"
      },
      "execution_count": null,
      "outputs": [
        {
          "output_type": "stream",
          "name": "stdout",
          "text": [
            "0\n",
            "1\n",
            "2\n",
            "3\n",
            "4\n",
            "5\n",
            "6\n",
            "7\n",
            "8\n",
            "9\n"
          ]
        }
      ]
    },
    {
      "cell_type": "code",
      "source": [
        "# for 17 table\n",
        "for i in range(0, 11):\n",
        "  print(f\"17 x {i} = {17*i}\")"
      ],
      "metadata": {
        "colab": {
          "base_uri": "https://localhost:8080/"
        },
        "id": "Y1w7kv0ccnYH",
        "outputId": "a0c90fdd-06bd-4515-b4d0-e159939467d4"
      },
      "execution_count": null,
      "outputs": [
        {
          "output_type": "stream",
          "name": "stdout",
          "text": [
            "17 x 0 = 0\n",
            "17 x 1 = 17\n",
            "17 x 2 = 34\n",
            "17 x 3 = 51\n",
            "17 x 4 = 68\n",
            "17 x 5 = 85\n",
            "17 x 6 = 102\n",
            "17 x 7 = 119\n",
            "17 x 8 = 136\n",
            "17 x 9 = 153\n",
            "17 x 10 = 170\n"
          ]
        }
      ]
    },
    {
      "cell_type": "code",
      "source": [
        "for i in range(1, 11):\n",
        "  print(\"*\"*i)"
      ],
      "metadata": {
        "colab": {
          "base_uri": "https://localhost:8080/"
        },
        "id": "Lxul7Rpbc8NJ",
        "outputId": "57e44f5f-0302-4d61-e35d-8265c6600c12"
      },
      "execution_count": null,
      "outputs": [
        {
          "output_type": "stream",
          "name": "stdout",
          "text": [
            "*\n",
            "**\n",
            "***\n",
            "****\n",
            "*****\n",
            "******\n",
            "*******\n",
            "********\n",
            "*********\n",
            "**********\n"
          ]
        }
      ]
    },
    {
      "cell_type": "code",
      "source": [
        "cost = [100, 200, 154, 543]\n",
        "\n",
        "sum = 0\n",
        "for i in range(0, 4):\n",
        "  total = total + cost[i]\n",
        "print(f\"Total ammount to be paid{total}\")"
      ],
      "metadata": {
        "colab": {
          "base_uri": "https://localhost:8080/"
        },
        "id": "d1ITbVFKdfTB",
        "outputId": "a45597df-26dc-4553-aba8-4752d05f9be1"
      },
      "execution_count": null,
      "outputs": [
        {
          "output_type": "stream",
          "name": "stdout",
          "text": [
            "Total ammount to be paid1927\n"
          ]
        }
      ]
    },
    {
      "cell_type": "code",
      "source": [
        "#if there are infinite number use len funtion\n",
        "for i in range(0, len(cost)):\n",
        "  total = total + cost[i]\n",
        "print(f\"{total}\")"
      ],
      "metadata": {
        "colab": {
          "base_uri": "https://localhost:8080/"
        },
        "id": "phhs_BKAe0Jg",
        "outputId": "d55b3583-f54a-4e33-daef-cc9615698329"
      },
      "execution_count": null,
      "outputs": [
        {
          "output_type": "stream",
          "name": "stdout",
          "text": [
            "2924\n"
          ]
        }
      ]
    },
    {
      "cell_type": "code",
      "source": [
        "for i in range(0, 51):\n",
        "  print(f\"{i>30}\")"
      ],
      "metadata": {
        "id": "C8LEY6MTgFEV",
        "colab": {
          "base_uri": "https://localhost:8080/"
        },
        "outputId": "40550206-1748-47d6-a900-fd9528d75fb2"
      },
      "execution_count": null,
      "outputs": [
        {
          "output_type": "stream",
          "name": "stdout",
          "text": [
            "False\n",
            "False\n",
            "False\n",
            "False\n",
            "False\n",
            "False\n",
            "False\n",
            "False\n",
            "False\n",
            "False\n",
            "False\n",
            "False\n",
            "False\n",
            "False\n",
            "False\n",
            "False\n",
            "False\n",
            "False\n",
            "False\n",
            "False\n",
            "False\n",
            "False\n",
            "False\n",
            "False\n",
            "False\n",
            "False\n",
            "False\n",
            "False\n",
            "False\n",
            "False\n",
            "False\n",
            "True\n",
            "True\n",
            "True\n",
            "True\n",
            "True\n",
            "True\n",
            "True\n",
            "True\n",
            "True\n",
            "True\n",
            "True\n",
            "True\n",
            "True\n",
            "True\n",
            "True\n",
            "True\n",
            "True\n",
            "True\n",
            "True\n",
            "True\n"
          ]
        }
      ]
    },
    {
      "cell_type": "code",
      "source": [
        "cost = [130, 258, 239]\n",
        "total = 0\n",
        "\n",
        "for i in range(0, 3):\n",
        "  print(f\"{total} = {total} + {cost[i]}\")\n",
        "  total = total + cost[i]\n",
        "  print(f\"Total ammount now = {total}\")\n",
        "  print(\"--\")\n",
        "print(f\"Total sum is {total}\")"
      ],
      "metadata": {
        "id": "7Dm6AOmI67V4",
        "colab": {
          "base_uri": "https://localhost:8080/"
        },
        "outputId": "09750ab8-cb4f-4493-e4fe-90bb6bea1a0c"
      },
      "execution_count": null,
      "outputs": [
        {
          "output_type": "stream",
          "name": "stdout",
          "text": [
            "0 = 0 + 130\n",
            "Total ammount now = 130\n",
            "--\n",
            "130 = 130 + 258\n",
            "Total ammount now = 388\n",
            "--\n",
            "388 = 388 + 239\n",
            "Total ammount now = 627\n",
            "--\n",
            "Total sum is 627\n"
          ]
        }
      ]
    },
    {
      "cell_type": "code",
      "source": [
        "#other option \n",
        "\n",
        "cost = [130, 258, 239]\n",
        "total = 0\n",
        "\n",
        "for costo in cost:\n",
        "  print(f\"{total} = {total} + {costo}\")\n",
        "  total = total + costo\n",
        "  print(f\"Total ammount now = {total}\")\n",
        "  print(\"--\")\n",
        "print(f\"Total sum is {total}\")"
      ],
      "metadata": {
        "id": "_iapC5rejMST",
        "colab": {
          "base_uri": "https://localhost:8080/"
        },
        "outputId": "1cedc2e8-1bec-4480-c6b1-4a811edffeb1"
      },
      "execution_count": null,
      "outputs": [
        {
          "output_type": "stream",
          "name": "stdout",
          "text": [
            "0 = 0 + 130\n",
            "Total ammount now = 130\n",
            "--\n",
            "130 = 130 + 258\n",
            "Total ammount now = 388\n",
            "--\n",
            "388 = 388 + 239\n",
            "Total ammount now = 627\n",
            "--\n",
            "Total sum is 627\n"
          ]
        }
      ]
    },
    {
      "cell_type": "code",
      "source": [
        "stations = [\"State 1\", \"State 2\", \"State 3\"]\n",
        "\n",
        "for stat in stations:\n",
        "  print(f\"current station is {stat}\")"
      ],
      "metadata": {
        "colab": {
          "base_uri": "https://localhost:8080/"
        },
        "id": "0mq7mBC6l2WX",
        "outputId": "31a18952-6c68-4564-f481-b16815fd5b1b"
      },
      "execution_count": null,
      "outputs": [
        {
          "output_type": "stream",
          "name": "stdout",
          "text": [
            "current station is State 1\n",
            "current station is State 2\n",
            "current station is State 3\n"
          ]
        }
      ]
    },
    {
      "cell_type": "markdown",
      "source": [
        "#### Break & Continue"
      ],
      "metadata": {
        "id": "RSFHGh71yWrk"
      }
    },
    {
      "cell_type": "code",
      "source": [
        "costed = [100, 599, 2339, 192, 140]\n",
        "sum = 0\n",
        "budget = 3000\n",
        "\n",
        "for cost in costed:\n",
        "  sum = sum + cost\n",
        "  if sum > budget:\n",
        "    sum = sum - cost\n",
        "    break\n",
        "\n",
        "print(f\"total ammount to be paid: {sum}\")"
      ],
      "metadata": {
        "colab": {
          "base_uri": "https://localhost:8080/"
        },
        "id": "jcciucyom3Dy",
        "outputId": "8bad7c8e-7fa9-4a58-f464-73c5850102f7"
      },
      "execution_count": null,
      "outputs": [
        {
          "output_type": "stream",
          "name": "stdout",
          "text": [
            "total ammount to be paid: 699\n"
          ]
        }
      ]
    },
    {
      "cell_type": "code",
      "source": [
        "for i in range(1, 101):\n",
        "  if i > 50:\n",
        "    break\n",
        "  print(i)"
      ],
      "metadata": {
        "colab": {
          "base_uri": "https://localhost:8080/"
        },
        "id": "s-7dqBenyn_B",
        "outputId": "4f7bddb6-f2e2-476e-b5ad-66fa1a47b9ea"
      },
      "execution_count": null,
      "outputs": [
        {
          "output_type": "stream",
          "name": "stdout",
          "text": [
            "1\n",
            "2\n",
            "3\n",
            "4\n",
            "5\n",
            "6\n",
            "7\n",
            "8\n",
            "9\n",
            "10\n",
            "11\n",
            "12\n",
            "13\n",
            "14\n",
            "15\n",
            "16\n",
            "17\n",
            "18\n",
            "19\n",
            "20\n",
            "21\n",
            "22\n",
            "23\n",
            "24\n",
            "25\n",
            "26\n",
            "27\n",
            "28\n",
            "29\n",
            "30\n",
            "31\n",
            "32\n",
            "33\n",
            "34\n",
            "35\n",
            "36\n",
            "37\n",
            "38\n",
            "39\n",
            "40\n",
            "41\n",
            "42\n",
            "43\n",
            "44\n",
            "45\n",
            "46\n",
            "47\n",
            "48\n",
            "49\n",
            "50\n"
          ]
        }
      ]
    },
    {
      "cell_type": "code",
      "source": [
        "for i in range(1, 101):\n",
        "  if i%2 == 0:\n",
        "    continue\n",
        "  print(i)"
      ],
      "metadata": {
        "colab": {
          "base_uri": "https://localhost:8080/"
        },
        "id": "UTufeYEhz6EQ",
        "outputId": "b031db37-a3cf-40f2-cba4-289a0405e6f8"
      },
      "execution_count": null,
      "outputs": [
        {
          "output_type": "stream",
          "name": "stdout",
          "text": [
            "1\n",
            "3\n",
            "5\n",
            "7\n",
            "9\n",
            "11\n",
            "13\n",
            "15\n",
            "17\n",
            "19\n",
            "21\n",
            "23\n",
            "25\n",
            "27\n",
            "29\n",
            "31\n",
            "33\n",
            "35\n",
            "37\n",
            "39\n",
            "41\n",
            "43\n",
            "45\n",
            "47\n",
            "49\n",
            "51\n",
            "53\n",
            "55\n",
            "57\n",
            "59\n",
            "61\n",
            "63\n",
            "65\n",
            "67\n",
            "69\n",
            "71\n",
            "73\n",
            "75\n",
            "77\n",
            "79\n",
            "81\n",
            "83\n",
            "85\n",
            "87\n",
            "89\n",
            "91\n",
            "93\n",
            "95\n",
            "97\n",
            "99\n"
          ]
        }
      ]
    },
    {
      "cell_type": "code",
      "source": [],
      "metadata": {
        "id": "GFDiSIJu1VVK"
      },
      "execution_count": null,
      "outputs": []
    }
  ]
}