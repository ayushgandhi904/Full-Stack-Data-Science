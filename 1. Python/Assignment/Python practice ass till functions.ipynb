{
 "cells": [
  {
   "cell_type": "markdown",
   "id": "9885a223",
   "metadata": {},
   "source": [
    "1. Print the first 5 positive integers in ascending order with one number \n",
    "in each line"
   ]
  },
  {
   "cell_type": "code",
   "execution_count": 3,
   "id": "06a05a9d",
   "metadata": {},
   "outputs": [
    {
     "name": "stdout",
     "output_type": "stream",
     "text": [
      "1\n",
      "2\n",
      "3\n",
      "4\n",
      "5\n"
     ]
    }
   ],
   "source": [
    "for i in range(1, 6):\n",
    "    print (i)"
   ]
  },
  {
   "cell_type": "markdown",
   "id": "b36fff12",
   "metadata": {},
   "source": [
    "2. Print the following pattern\n",
    "*\n",
    "**\n",
    "***\n",
    "****\n",
    "*****\n",
    "There are no spaces between consecutive stars. There are no spaces \n",
    "at the end of each line."
   ]
  },
  {
   "cell_type": "code",
   "execution_count": 12,
   "id": "9dc3899f",
   "metadata": {},
   "outputs": [
    {
     "name": "stdout",
     "output_type": "stream",
     "text": [
      "*\n",
      "**\n",
      "***\n",
      "****\n",
      "*****\n"
     ]
    }
   ],
   "source": [
    "for i in range(1, 6):\n",
    "    print(\"*\"*i)"
   ]
  },
  {
   "cell_type": "markdown",
   "id": "fef74ce8",
   "metadata": {},
   "source": [
    "3. Accept an integer as input and print its square as output."
   ]
  },
  {
   "cell_type": "code",
   "execution_count": 13,
   "id": "6a0363f2",
   "metadata": {},
   "outputs": [
    {
     "name": "stdout",
     "output_type": "stream",
     "text": [
      "Enter an integer: 5\n",
      "25\n"
     ]
    }
   ],
   "source": [
    "say = int(input(\"Enter an integer: \"))\n",
    "\n",
    "print(say**2)"
   ]
  },
  {
   "cell_type": "markdown",
   "id": "648d016b",
   "metadata": {},
   "source": [
    "4.Accept two integers as input and print their sum as output."
   ]
  },
  {
   "cell_type": "code",
   "execution_count": 14,
   "id": "0e0605ad",
   "metadata": {},
   "outputs": [
    {
     "name": "stdout",
     "output_type": "stream",
     "text": [
      "Enter 1st integer: 10\n",
      "Enter 1st integer: 58\n",
      "68\n"
     ]
    }
   ],
   "source": [
    "a = int(input(\"Enter 1st integer: \"))\n",
    "b = int(input(\"Enter 1st integer: \"))\n",
    "\n",
    "print(a+b)"
   ]
  },
  {
   "cell_type": "markdown",
   "id": "2fdef562",
   "metadata": {},
   "source": [
    "5. Accept two words as input and print the two words after adding a \n",
    "space between them"
   ]
  },
  {
   "cell_type": "code",
   "execution_count": 16,
   "id": "b081e72a",
   "metadata": {},
   "outputs": [
    {
     "name": "stdout",
     "output_type": "stream",
     "text": [
      "Hello\n",
      "Ayush\n",
      "Hello Ayush\n"
     ]
    }
   ],
   "source": [
    "print(f\"{input()} {input()}\")"
   ]
  },
  {
   "cell_type": "markdown",
   "id": "edf1a490",
   "metadata": {},
   "source": [
    "6. Accept the registration number of a vehicle as input and print its \n",
    "state-code as output."
   ]
  },
  {
   "cell_type": "code",
   "execution_count": 18,
   "id": "cda64a34",
   "metadata": {},
   "outputs": [
    {
     "name": "stdout",
     "output_type": "stream",
     "text": [
      "Enter your vehicle number: GJ068982\n",
      "GJ\n"
     ]
    }
   ],
   "source": [
    "vehicle_no  = input(\"Enter your vehicle number: \")\n",
    "print(f\"{vehicle_no[0:2]}\")"
   ]
  },
  {
   "cell_type": "markdown",
   "id": "76926d2d",
   "metadata": {},
   "source": [
    "7.Accept a five-digit number as input and print the sum of its digits as \n",
    "output."
   ]
  },
  {
   "cell_type": "code",
   "execution_count": 20,
   "id": "a9467823",
   "metadata": {},
   "outputs": [
    {
     "name": "stdout",
     "output_type": "stream",
     "text": [
      "Enter your 5 digit number: 12345\n",
      "15\n"
     ]
    }
   ],
   "source": [
    "nu = input(\"Enter your 5 digit number: \")\n",
    "x = int(nu[0]) + int(nu[1]) + int(nu[2]) + int(nu[3]) + int(nu[4])\n",
    "\n",
    "print(x)"
   ]
  },
  {
   "cell_type": "markdown",
   "id": "628cad41",
   "metadata": {},
   "source": [
    "8.Accept five words as input and print the sentence formed by these \n",
    "words after adding a space between consecutive words and a full stop \n",
    "at the end."
   ]
  },
  {
   "cell_type": "code",
   "execution_count": 21,
   "id": "0ef4b57a",
   "metadata": {},
   "outputs": [
    {
     "name": "stdout",
     "output_type": "stream",
     "text": [
      "Hello\n",
      "I \n",
      "am \n",
      "Ayush\n",
      "Gandhi\n",
      "Hello I  am  Ayush Gandhi.\n"
     ]
    }
   ],
   "source": [
    "print(f\"{input()} {input()} {input()} {input()} {input()}.\")"
   ]
  },
  {
   "cell_type": "markdown",
   "id": "f587fd85",
   "metadata": {},
   "source": [
    "9.Accept the date in DD-MM-YYYY format as input and print the \n",
    "year as output."
   ]
  },
  {
   "cell_type": "code",
   "execution_count": 22,
   "id": "a4a46e7b",
   "metadata": {},
   "outputs": [
    {
     "name": "stdout",
     "output_type": "stream",
     "text": [
      "Enter your date in DD-MM-YYYY format: 01-01-2001\n",
      "2001\n"
     ]
    }
   ],
   "source": [
    "date = input(\"Enter your date in DD-MM-YYYY format: \")\n",
    "\n",
    "print(date[-4:])"
   ]
  },
  {
   "cell_type": "markdown",
   "id": "e6d23d8d",
   "metadata": {},
   "source": [
    "10.Accept a sequence of five single digit numbers separated by commas \n",
    "as input. Print the product of all five numbers."
   ]
  },
  {
   "cell_type": "code",
   "execution_count": 23,
   "id": "47711e10",
   "metadata": {},
   "outputs": [
    {
     "name": "stdout",
     "output_type": "stream",
     "text": [
      "Enter your 5 different digit separated by ,: 1,2,3,4,5\n",
      "120\n"
     ]
    }
   ],
   "source": [
    "no = input(\"Enter your 5 different digit separated by ,: \")\n",
    "\n",
    "x = int(no[0])*int(no[2])*int(no[4])*int(no[6])*int(no[8])\n",
    "\n",
    "print(x)"
   ]
  },
  {
   "cell_type": "markdown",
   "id": "ff24fa5a",
   "metadata": {},
   "source": [
    "11. Accept two positive integers x and y as input. Print the number of \n",
    "digits in xy"
   ]
  },
  {
   "cell_type": "code",
   "execution_count": 27,
   "id": "44d23378",
   "metadata": {},
   "outputs": [
    {
     "name": "stdout",
     "output_type": "stream",
     "text": [
      "Enter the positive integer: 8\n",
      "Enter the positive integer: 9\n",
      "89\n"
     ]
    }
   ],
   "source": [
    "x = input(\"Enter the positive integer: \")\n",
    "y = input(\"Enter the positive integer: \")\n",
    "\n",
    "print(f\"{x}{y}\")"
   ]
  },
  {
   "cell_type": "markdown",
   "id": "0f9fc225",
   "metadata": {},
   "source": [
    "12. Accept a string as input. If the input string is of odd length, then \n",
    "continue with it. If the input string is of even length, make the \n",
    "string of odd length as below:\n",
    "• If the last character is a period (.), then remove it \n",
    "• If the last character is not a period, then add a period (.) to the \n",
    "end of the string\n",
    "Call this string of odd length word. Select a substring made up of \n",
    "three consecutive characters from word such that there are an \n",
    "equal number of characters to the left and right of this substring. \n",
    "Print this substring as output. You can assume that all input \n",
    "strings will be in lower case and will have a length of at least four"
   ]
  },
  {
   "cell_type": "code",
   "execution_count": 34,
   "id": "89f0f117",
   "metadata": {},
   "outputs": [
    {
     "name": "stdout",
     "output_type": "stream",
     "text": [
      "Enter your string: hello.\n",
      "ell\n"
     ]
    }
   ],
   "source": [
    "string = input(\"Enter your string: \")\n",
    "n = (len(string))\n",
    "if n % 2 == 0:\n",
    "    if string[-1] == \".\":\n",
    "        string = string[:n]\n",
    "    else:\n",
    "        string = string + \".\"\n",
    "\n",
    "n = int((len(string)-1) / 2)\n",
    "print(string[n-1:n+2])\n"
   ]
  },
  {
   "cell_type": "markdown",
   "id": "77a61a4a",
   "metadata": {},
   "source": [
    "13. Accept three positive integers as input and check if they form the \n",
    "sides of a right triangle. Print YES if they form one, and NO is they do \n",
    "not. The input will have three lines, with one integer on each line. \n",
    "The output should be a single line containing one of these two \n",
    "strings: YES or NO."
   ]
  },
  {
   "cell_type": "code",
   "execution_count": 36,
   "id": "0038061d",
   "metadata": {},
   "outputs": [
    {
     "name": "stdout",
     "output_type": "stream",
     "text": [
      "Enter an intger: 3\n",
      "Enter an intger: 4\n",
      "Enter an intger: 5\n",
      "yes\n"
     ]
    }
   ],
   "source": [
    "x = int(input(\"Enter an intger: \"))\n",
    "y = int(input(\"Enter an intger: \"))\n",
    "z = int(input(\"Enter an intger: \"))\n",
    "\n",
    "if (x**2+y**2 == z**2) or (x**2+z**2 == y**2) or (z**2+y**2 == x**2):\n",
    "    print(\"yes\")\n",
    "else:\n",
    "    print(\"no\")"
   ]
  },
  {
   "cell_type": "markdown",
   "id": "4b9cdad7",
   "metadata": {},
   "source": [
    "14. EvenOdd is a tech startup. Each employee at the startup is given an employee id which is a unique \n",
    "positive integer. On one warm Sunday evening, five employees of the company come together for a \n",
    "meeting and sit at a circular table:\n",
    "The employees follow a strange convention. They will continue the meeting only if the following \n",
    "condition is satisfied.\n",
    "The sum of the employee-ids of every pair of adjacent employees at the table must be an even \n",
    "number.\n",
    "They are so lazy that they won’t move around to satisfy the above condition, If the current seating \n",
    "plan doesn’t satisfy the condition, the meeting will be cancelled. You are given the employee-id of all \n",
    "five employees. Your task is to decide if the meeting happened or not.\n",
    "The input will be five lined, each containing an integer. The ith line will have the employee-id of Ei. \n",
    "The output will be a single line containing one of these two strings: YES or NO"
   ]
  },
  {
   "cell_type": "code",
   "execution_count": 38,
   "id": "91dfa176",
   "metadata": {},
   "outputs": [
    {
     "name": "stdout",
     "output_type": "stream",
     "text": [
      "Enter your id: 4\n",
      "Enter your id: 5\n",
      "Enter your id: 6\n",
      "Enter your id: 7\n",
      "Enter your id: 8\n",
      "NO\n"
     ]
    }
   ],
   "source": [
    "#considering the statement, it can be seen every empolyee needs to be even to satisfy contion so we can just called\n",
    "\n",
    "\n",
    "a = int(input(\"Enter your id: \"))\n",
    "b = int(input(\"Enter your id: \"))\n",
    "c = int(input(\"Enter your id: \"))\n",
    "d = int(input(\"Enter your id: \"))\n",
    "e = int(input(\"Enter your id: \"))\n",
    "\n",
    "if (a+b)%2 == 0 and (a+e)%2 == 0 and (c+b)%2 == 0 and (c+d)%2 == 0 and (d+e)%2 == 0:\n",
    "    print(\"YES\")\n",
    "else:\n",
    "    print(\"NO\")\n"
   ]
  },
  {
   "cell_type": "markdown",
   "id": "58bd962a",
   "metadata": {},
   "source": [
    "15. Accept a string as input and print the vowels present in the string in \n",
    "alphabetical order. If the string doesn’t contain any vowels, then \n",
    "print the string none as output. Each vowel that appears in the input \n",
    "string – irrespective of its case should appear just once in lower case \n",
    "in the output"
   ]
  },
  {
   "cell_type": "code",
   "execution_count": 2,
   "id": "aedf425a",
   "metadata": {},
   "outputs": [
    {
     "name": "stdout",
     "output_type": "stream",
     "text": [
      "Enter your string: ysh\n",
      "None\n"
     ]
    }
   ],
   "source": [
    "vowels = [\"a\", \"e\", \"i\", \"o\", \"u\"]\n",
    "\n",
    "string = input(\"Enter your string: \")\n",
    "\n",
    "string = string.lower()\n",
    "string = list(string)\n",
    "\n",
    "vols = []\n",
    "\n",
    "for i in string:\n",
    "    if i in vowels:\n",
    "        vols.append(i)\n",
    "if vols == []:\n",
    "    print(\"None\")\n",
    "else:\n",
    "    print(vols)"
   ]
  },
  {
   "cell_type": "markdown",
   "id": "5b7552ce",
   "metadata": {},
   "source": [
    "16.You are given the date of birth of two persons, not necessarily from \n",
    "the same family. Your task is to find the younger of the two. If both \n",
    "of them share the same date of birth, then the younger of the two is \n",
    "assumed to be that person whose name comes first in alphabetical \n",
    "order.\n",
    "The input will have four lines. The first two lines correspond to the \n",
    "first person, while the last two lines correspond to the second \n",
    "person. For each person, the first line corresponds to the name and \n",
    "the second line corresponds to the date of birth in “DD-MM-YYYY” \n",
    "format. Your output should be the name of the younger of the two."
   ]
  },
  {
   "cell_type": "code",
   "execution_count": 5,
   "id": "26820680",
   "metadata": {},
   "outputs": [
    {
     "name": "stdout",
     "output_type": "stream",
     "text": [
      "Enter your name: Ayush\n",
      "Enter your birthdate in DD-MM-YYYY format: 04-05-2001\n",
      "Enter your name: Hemil\n",
      "Enter your birthdate in DD-MM-YYYY format: 05-05-2001\n",
      "Hemil is younger then Ayush\n"
     ]
    }
   ],
   "source": [
    "n1 = input(\"Enter your name: \")\n",
    "d1 = input(\"Enter your birthdate in DD-MM-YYYY format: \")\n",
    "n2 = input(\"Enter your name: \")\n",
    "d2 = input(\"Enter your birthdate in DD-MM-YYYY format: \")\n",
    "\n",
    "if d1 == d2:\n",
    "    if n1 > n2:\n",
    "        print(f\"{n1} is younger then {n2}\")\n",
    "    else:\n",
    "        print(f\"{n2} is younger then {n1}\")\n",
    "else:\n",
    "    if d1[-4:] > d2[-4:]:\n",
    "        print(f\"{n1} is younger then {n2}\")\n",
    "    elif d1[-4:] < d2[-4:]:\n",
    "        print(f\"{n2} is younger then {n1}\")\n",
    "    else:\n",
    "        if d1[-4:] == d2[-4:]:\n",
    "            if d1[4:6] > d2[4:6]:\n",
    "                print(f\"{n1} is younger then {n2}\")\n",
    "            elif d1[4:6] < d2[4:6]:\n",
    "                print(f\"{n2} is younger then {n1}\")\n",
    "            else:\n",
    "                if d1[1:3] > d2[1:3]:\n",
    "                    print(f\"{n1} is younger then {n2}\")\n",
    "                else:\n",
    "                    print(f\"{n2} is younger then {n1}\")"
   ]
  },
  {
   "cell_type": "markdown",
   "id": "de1924ec",
   "metadata": {},
   "source": [
    "17.Accept a string as input. Your task is to determine if the input string is a valid password or not. For a \n",
    "string to be a valid password, it must satisfy all the conditions given below:\n",
    "(1) It should have at least 8 and at most 32 characters\n",
    "(2) It should start with an uppercase or lowercase letter\n",
    "(3) It should not have any of these characters: / \\ = ' \"\n",
    "(4) It should not have spaces\n",
    "It could have any character that is not mentioned in the list of characters to be avoided (points 3 and \n",
    "4). Output True if the string forms a valid password and False otherwise"
   ]
  },
  {
   "cell_type": "code",
   "execution_count": 16,
   "id": "dc92efea",
   "metadata": {},
   "outputs": [
    {
     "name": "stdout",
     "output_type": "stream",
     "text": [
      "Enter your password: Hellllllllo\n"
     ]
    }
   ],
   "source": [
    "p = input(\"Enter your password: \")\n",
    "\n",
    "a = [\"/\", \"\\\\\", \"=\", \"'\", '\"', \" \"]\n",
    "p = list(p)\n",
    "\n",
    "if 8 <= len(p) <= 32:\n",
    "    if p[0].isupper() or p[0].islower():\n",
    "        for i in a:\n",
    "            if i not in p:\n",
    "                pass\n",
    "            else: \n",
    "                print(\"Password invalid: It should not have special character or space in between\")\n",
    "    else:\n",
    "        print(\"password invalid: first letter must start with upper or lower case\")\n",
    "else:\n",
    "    print(\"password invalid: it must have at least 8 and at most 32 character\")\n",
    "    \n"
   ]
  },
  {
   "cell_type": "markdown",
   "id": "82ef0d11",
   "metadata": {},
   "source": [
    "18. Accept a positive integer n as input and print the first n positive \n",
    "integers, one number on each line."
   ]
  },
  {
   "cell_type": "code",
   "execution_count": 17,
   "id": "64e3c0dd",
   "metadata": {},
   "outputs": [
    {
     "name": "stdout",
     "output_type": "stream",
     "text": [
      "Enter the number8\n",
      "1\n",
      "2\n",
      "3\n",
      "4\n",
      "5\n",
      "6\n",
      "7\n",
      "8\n"
     ]
    }
   ],
   "source": [
    "num = int(input(\"Enter the number\"))\n",
    "\n",
    "for i in range(1, num+1):\n",
    "    print(i)"
   ]
  },
  {
   "cell_type": "markdown",
   "id": "970d3e85",
   "metadata": {},
   "source": [
    "19.Accept a positive integer n as input, where n is greater than 1. \n",
    "Print PRIME ifnis a prime number and NOTPRIME otherwise."
   ]
  },
  {
   "cell_type": "code",
   "execution_count": 23,
   "id": "fa8aba7e",
   "metadata": {},
   "outputs": [
    {
     "name": "stdout",
     "output_type": "stream",
     "text": [
      "Enter the number73\n",
      "Prime\n"
     ]
    }
   ],
   "source": [
    "num = int(input(\"Enter the number\"))\n",
    "prime = True\n",
    "\n",
    "for i in range(2, num):\n",
    "    if num % i == 0:\n",
    "        prime = False\n",
    "if prime == True:\n",
    "    print(\"Prime\")\n",
    "else:\n",
    "    print(\"Not Prime\")"
   ]
  },
  {
   "cell_type": "markdown",
   "id": "179d2002",
   "metadata": {},
   "source": [
    "20. Accept two strings as input and form a new string by removing all \n",
    "characters from the second string which are present in the first string. \n",
    "Print this new string as output. You can assume that all input strings \n",
    "will be in lower case."
   ]
  },
  {
   "cell_type": "code",
   "execution_count": 27,
   "id": "8c294e53",
   "metadata": {},
   "outputs": [
    {
     "name": "stdout",
     "output_type": "stream",
     "text": [
      "Enter your 1st stringayush\n",
      "Enter your 2nd stringhemil\n",
      "emil\n"
     ]
    }
   ],
   "source": [
    "s1 = input(\"Enter your 1st string\")\n",
    "s2 = input(\"Enter your 2nd string\")\n",
    "\n",
    "for i in s1:\n",
    "    if i in s2:\n",
    "        s2 = s2.replace(i, \"\")\n",
    "print(s2)\n",
    "    "
   ]
  },
  {
   "cell_type": "markdown",
   "id": "023ee88a",
   "metadata": {},
   "source": [
    "21.Accept a phone number as input. A valid phone number should satisfy \n",
    "the following constraints.\n",
    "(1) The number should start with one of these digits: 6, 7, 8, 9\n",
    "(2) The number should be exactly 10 digits long.\n",
    "(3) No digit should appear more than 7 times in the number.\n",
    "(4) No digit should appear more than 5 times in a row in the \n",
    "number.\n",
    "If the fourth condition is not very clear, then consider this example: \n",
    "the number 9888888765 is invalid because the digit 8 appears more \n",
    "than 5 times in a row. Print the string valid if the phone number is \n",
    "valid. If not, print the string invalid."
   ]
  },
  {
   "cell_type": "code",
   "execution_count": 25,
   "id": "846ddde9",
   "metadata": {},
   "outputs": [
    {
     "name": "stdout",
     "output_type": "stream",
     "text": [
      "Enter your phone number: 8888888888\n",
      "Invalid string\n"
     ]
    }
   ],
   "source": [
    "phone = (input(\"Enter your phone number: \"))\n",
    "\n",
    "a = True\n",
    "\n",
    "if len(phone) == 10:\n",
    "    if phone[0] == \"6\" or phone[0] == \"7\" or phone[0] == \"8\" or phone[0] == \"9\":\n",
    "        for i in phone:\n",
    "            if phone.count(i) < 8:\n",
    "                if i*6 in phone:\n",
    "                    a = False\n",
    "                else:\n",
    "                    a = True\n",
    "            else:\n",
    "                a = False\n",
    "    else:\n",
    "        a = False\n",
    "else:\n",
    "    a = False\n",
    "\n",
    "if a == True:\n",
    "    print(\"valid phone number\")\n",
    "else:\n",
    "    print(\"Invalid string\")"
   ]
  },
  {
   "cell_type": "markdown",
   "id": "5f1ec232",
   "metadata": {},
   "source": [
    "22. In the first line of input, accept a sequence of space-separated words. In the second line of \n",
    "input, accept a single word. If this word is not present in the sequence, print NO. If this word \n",
    "is present in the sequence, then print YES and in the next line of the output, print the number \n",
    "of times the word appears in the sequence."
   ]
  },
  {
   "cell_type": "code",
   "execution_count": 26,
   "id": "d59725e4",
   "metadata": {},
   "outputs": [
    {
     "name": "stdout",
     "output_type": "stream",
     "text": [
      "Enter the sequence of space separated workds: Hello I am Ayush studying in Ayush \n",
      "Enter the single word:Ayush\n",
      "YES available\n",
      "2\n"
     ]
    }
   ],
   "source": [
    "a = input(\"Enter the sequence of space separated workds: \").split(\" \")\n",
    "b = input(\"Enter the single word:\")\n",
    "\n",
    "if b in a:\n",
    "    print(\"YES available\")\n",
    "    print(a.count(b))\n",
    "else:\n",
    "    print(\"NO\")"
   ]
  },
  {
   "cell_type": "markdown",
   "id": "0086e94b",
   "metadata": {},
   "source": [
    "23. Write a function named factorial that accepts an integer n as argument. It should return \n",
    "the factorial of n if n is a positive integer. It should return -1 if n is a negative integer, and it \n",
    "should return 1 if n is zero."
   ]
  },
  {
   "cell_type": "code",
   "execution_count": 31,
   "id": "8bd86bbd",
   "metadata": {},
   "outputs": [],
   "source": [
    "def factorial(a):\n",
    "    \n",
    "    x = 1\n",
    "    \n",
    "    if a <0:\n",
    "        return(-1)\n",
    "    elif a == 0:\n",
    "        return(1)\n",
    "    else:\n",
    "        for i in range(1, a+1):\n",
    "            x = x*i\n",
    "        return(x)\n",
    "            "
   ]
  },
  {
   "cell_type": "code",
   "execution_count": 35,
   "id": "75722e77",
   "metadata": {},
   "outputs": [
    {
     "data": {
      "text/plain": [
       "3628800"
      ]
     },
     "execution_count": 35,
     "metadata": {},
     "output_type": "execute_result"
    }
   ],
   "source": [
    "factorial(10)"
   ]
  },
  {
   "cell_type": "markdown",
   "id": "4d0d9334",
   "metadata": {},
   "source": [
    "24. \n",
    "The range of a list of numbers is the difference between the maximum and minimum values in the list\n",
    "Write a function named get_range that accepts a non-empty list of real numbers as argument. It \n",
    "should return the range of the list.\n",
    "(1) Avoid using built-in function such as max and min.\n",
    "(2) You do not have to accept input from the user or print output to the console. You just have to write \n",
    "the function definition."
   ]
  },
  {
   "cell_type": "code",
   "execution_count": 42,
   "id": "403c5304",
   "metadata": {},
   "outputs": [],
   "source": [
    "def get_range(a):\n",
    "    \n",
    "    b = a[0]\n",
    "    c = a[0]\n",
    "     \n",
    "    \n",
    "    for i in a:\n",
    "        if i >= b:\n",
    "            b = i\n",
    "        if i <= c:\n",
    "            c = i\n",
    "    return (b-c)\n",
    "\n"
   ]
  },
  {
   "cell_type": "code",
   "execution_count": 43,
   "id": "dd3abbeb",
   "metadata": {},
   "outputs": [
    {
     "data": {
      "text/plain": [
       "4"
      ]
     },
     "execution_count": 43,
     "metadata": {},
     "output_type": "execute_result"
    }
   ],
   "source": [
    "get_range([1, 2, 3, 4, 5])"
   ]
  },
  {
   "cell_type": "markdown",
   "id": "0a4e9fc0",
   "metadata": {},
   "source": [
    "25. Write a function named read_file that accepts a text file named filename as argument. Within \n",
    "the function, read the file and print each line of the file on a separate line in the console. You shouldn't \n",
    "print any extra characters at the end of a line. There shouldn't be an empty line between any two \n",
    "consecutive lines.\n",
    "(1) filename is a string variable that holds the name of the file. For example, in the first test case, it \n",
    "is filename = 'public_1.txt'.\n",
    "(2) You do not have to accept input from the console. You have to write the function definition and \n",
    "print the contents of the file within the function"
   ]
  },
  {
   "cell_type": "code",
   "execution_count": 44,
   "id": "0e0a1773",
   "metadata": {},
   "outputs": [],
   "source": [
    "#yet to cover"
   ]
  },
  {
   "cell_type": "markdown",
   "id": "effb0d89",
   "metadata": {},
   "source": [
    "26. A simple algorithm has to be designed to find out whether a student \n",
    "belongs to the Data Science branch or not. The input will be a \n",
    "student's roll number, which is of the form BR18B0000. \n",
    "Here, BR represents the branch code, 18 represents the year of \n",
    "joining, B represents the education level and 0000 represents the \n",
    "specific identification given to the student of that batch. The branch \n",
    "code for Data Science is DS. Print True if the student belongs to \n",
    "Data Science branch and False otherwise."
   ]
  },
  {
   "cell_type": "code",
   "execution_count": 45,
   "id": "be42547e",
   "metadata": {},
   "outputs": [],
   "source": [
    "def ask(a):\n",
    "    a = input(\"Enter your roll number for the batch in form of BR18B0000: \")\n",
    "    \n",
    "    if len(a) == 9 and a[0:2] == \"DS\" and a[2:4].isnumeric() and a[4].isalpha() and a[5:].isnumeric():\n",
    "        print(\"Belongs to data science batch\")\n",
    "    else:\n",
    "        print(\"Dont belongs to DS batch\")"
   ]
  },
  {
   "cell_type": "code",
   "execution_count": 47,
   "id": "55cfe1b9",
   "metadata": {},
   "outputs": [
    {
     "name": "stdout",
     "output_type": "stream",
     "text": [
      "Enter your roll number for the batch in form of BR18B0000: DS22C8938\n",
      "Belongs to data science batch\n"
     ]
    }
   ],
   "source": [
    "ask(a)"
   ]
  },
  {
   "cell_type": "markdown",
   "id": "a0988747",
   "metadata": {},
   "source": [
    "27.The police are trying to track a criminal based on the evidence \n",
    "available at a crime site. Their main clue is a vehicle's damaged \n",
    "number plate. Only the string TN07 is visible. The format of the \n",
    "registration number is AA00AA00, where the first two letters are \n",
    "alphabets, next two are numbers, next two are again alphabets \n",
    "followed by two numbers at the end. A number plate is picked from a \n",
    "database of registration numbers and is given to you as input. Your \n",
    "task is to determine if this could belong to the criminal or not. \n",
    "Print True if the number plate \n",
    "contains TN07 and False otherwise."
   ]
  },
  {
   "cell_type": "code",
   "execution_count": 50,
   "id": "8b11b893",
   "metadata": {},
   "outputs": [
    {
     "name": "stdout",
     "output_type": "stream",
     "text": [
      "Enter the evidence you got: TN07AAAA\n",
      "It can be criminal\n"
     ]
    }
   ],
   "source": [
    "e = input(\"Enter the evidence you got: \")\n",
    "\n",
    "if(e[0:4] == \"TN07\" or e[4:8] == \"TN07\"):\n",
    "    print(\"It can be criminal\")\n",
    "else:\n",
    "    print(\"It can't be criminal\")"
   ]
  },
  {
   "cell_type": "markdown",
   "id": "22cbbefa",
   "metadata": {},
   "source": [
    "28. You are given a string and two non-negative integers as input. The \n",
    "two integers specify the start and end indices of a substring in the \n",
    "given string. Create a new string by replicating the substring a \n",
    "minimum number of times so that the resulting string is longer than \n",
    "the input string. The input parameters are the string, start index of \n",
    "the substring and the end index of substring (endpoints inclusive) \n",
    "each on a different line."
   ]
  },
  {
   "cell_type": "code",
   "execution_count": 54,
   "id": "176da345",
   "metadata": {},
   "outputs": [
    {
     "name": "stdout",
     "output_type": "stream",
     "text": [
      "Hellllo\n",
      "Enter an integer2\n",
      "Enter an integer4\n",
      "\n"
     ]
    }
   ],
   "source": [
    "a = input()\n",
    "b = int(input(\"Enter an integer\"))\n",
    "c = int(input(\"Enter an integer\"))\n",
    "\n",
    "x = a[b:c+1]\n",
    "y = len(a)\n",
    "ans = \"\"\n",
    "\n",
    "while y >= len(a):\n",
    "    ans += x\n",
    "print(ans)\n"
   ]
  },
  {
   "cell_type": "markdown",
   "id": "3a2393b1",
   "metadata": {},
   "source": [
    "29. A class teacher has decided to split her entire class into four groups, namely Sapphire, Peridot, Ruby, \n",
    "and Emerald for sports competitions. For dividing the students into these four groups, she has \n",
    "followed the pattern given below:\n",
    "Sapphire - 1, 5, 9, 13, 17, 21, ...\n",
    "Peridot - 2, 6, 10, 14, 18, 22, ...\n",
    "Ruby - 3, 7, 11, 15, 19, 23, ...\n",
    "Emerald - 4, 8, 12, 16, 20, 24, ...\n",
    "All the students are represented by their roll numbers. Based on the above pattern, given the roll \n",
    "number as input, print the group the student belongs to. Note that the roll number can be any \n",
    "positive integer and not necessarily less than 25."
   ]
  },
  {
   "cell_type": "code",
   "execution_count": 1,
   "id": "438769d3",
   "metadata": {},
   "outputs": [
    {
     "name": "stdout",
     "output_type": "stream",
     "text": [
      "Enter your roll no to know the team you belong: 21\n",
      "It belongs to Sapphire group\n"
     ]
    }
   ],
   "source": [
    "team = int(input(\"Enter your roll no to know the team you belong: \"))\n",
    "\n",
    "if team%4 == 0:\n",
    "    print(\"It belongs to Emerald group\")\n",
    "elif team%2 == 0 and team%4 != 0:\n",
    "    print(\"It belongs to Peridot group\")\n",
    "elif (team+1)%4 == 0:\n",
    "    print(\"It belongs to Ruby group\")\n",
    "else:\n",
    "    print(\"It belongs to Sapphire group\")"
   ]
  },
  {
   "cell_type": "markdown",
   "id": "ac3110b9",
   "metadata": {},
   "source": [
    "30. A data science company wants to hire data scientists from abc college. \n",
    "The company follows a certain criteria for selection: for a student to \n",
    "be selected, the number of backlogs should be at most 5 and the \n",
    "CGPA (Cumulative Grade Point Average) should be greater than 6. If \n",
    "the student does not fit the above criteria, then the student is not \n",
    "offered the job. If the student is selected, then the salary offered is \n",
    "equal to 5 times his/her CGPA (in lakhs).\n",
    "Accept the number of backlogs (integer) and the CGPA (float) of the \n",
    "student as input. Your task is to determine if the student is selected or \n",
    "not. If the student is selected, then print the package. If not, then \n",
    "print the string Not Selected."
   ]
  },
  {
   "cell_type": "code",
   "execution_count": 3,
   "id": "9acaa613",
   "metadata": {},
   "outputs": [
    {
     "name": "stdout",
     "output_type": "stream",
     "text": [
      "Enter your no. of backlogs: 3\n",
      "Enter your CGPA: 6.5\n",
      "Congratulations! You have been selected\n",
      "Your salary offer is 3250000.0\n"
     ]
    }
   ],
   "source": [
    "backlog = int(input(\"Enter your no. of backlogs: \"))\n",
    "CGPA = float(input(\"Enter your CGPA: \"))\n",
    "\n",
    "if (backlog <= 5) and (CGPA > 6):\n",
    "    print(\"Congratulations! You have been selected\")\n",
    "    print(f\"Your salary offer is {CGPA*500000}\")\n",
    "else:\n",
    "    print(\"You have not been selected\")"
   ]
  },
  {
   "cell_type": "markdown",
   "id": "2ab8f622",
   "metadata": {},
   "source": [
    "31. Accept a string as input and print PALINDROME if it is a \n",
    "palindrome, and NOT PALINDROME otherwise"
   ]
  },
  {
   "cell_type": "code",
   "execution_count": 5,
   "id": "9dc48866",
   "metadata": {},
   "outputs": [
    {
     "name": "stdout",
     "output_type": "stream",
     "text": [
      "Enter a stringyayayayayay\n",
      "palindrome\n"
     ]
    }
   ],
   "source": [
    "string = input(\"Enter a string\")\n",
    "\n",
    "if string[0:] == string[::-1]:\n",
    "    print(\"palindrome\")\n",
    "else:\n",
    "    print(\"not palindrome\")"
   ]
  },
  {
   "cell_type": "markdown",
   "id": "12dc1fdc",
   "metadata": {},
   "source": [
    "32. In a portal login website, you are asked to write a function get_password_strength to decide \n",
    "the strength of a password. The strength is decided based on the total score of the password, Use \n",
    "following conditions:\n",
    "1) If password has length greater than 7 then score increases by one point.\n",
    "2) If password has at least one upper case and one lower case alphabets score increases by one point.\n",
    "3) If password has at least one number and no consecutive numbers like 12 or 234 then score \n",
    "increases by one point.\n",
    "4) If password has at least one special character (any character other than numbers and alphabets) then \n",
    "score increases by one point.\n",
    "5) If password contains username, then it is invalid password.\n",
    "If the password has score of four points, three points, two points, or one point then print Very \n",
    "Strong, Strong, Moderate, or Weak respectively. If the password is invalid, then \n",
    "print PASSWORD SHOULD NOT CONTAIN USERNAME and If the score is zero, then print Use a \n",
    "different password.The arguments to the function are username and password which are \n",
    "already defined"
   ]
  },
  {
   "cell_type": "code",
   "execution_count": 31,
   "id": "4761da32",
   "metadata": {},
   "outputs": [],
   "source": [
    "def get_password_strength(ids, pas):\n",
    "    \n",
    "    s = 0\n",
    "    cap = \"ABCDEFGHIJKLMNOPQRSTUVWXYZ\"\n",
    "    c_ = False\n",
    "    sma = \"abcdefghijklmnopqrstuvwxyz\"\n",
    "    s_ = False\n",
    "    num = \"0123456789\"\n",
    "    n_ = False\n",
    "    \n",
    "    sp_ = False #for special character\n",
    "    i_ = False #for id\n",
    "    \n",
    "    \n",
    "    for i in range(len(pas)):\n",
    "        if pas[i] in cap:\n",
    "            c_ = True\n",
    "        elif pas[i] in sma:\n",
    "            s_ = True\n",
    "        elif pas[i] in num:\n",
    "            n_ = True\n",
    "        if n_:\n",
    "            if pas[i:i+2] in num:\n",
    "                n_ = False\n",
    "                \n",
    "        if (pas[i] not in num) and (pas[i] not in cap) and (pas[i] not in sma):\n",
    "            sp_ = True\n",
    "        \n",
    "        if ids not in pas:\n",
    "            i_ = True\n",
    "            \n",
    "    if len(pas) > 7:\n",
    "        s += 1    \n",
    "    if c_ and s_:\n",
    "        s += 1\n",
    "    if n_:\n",
    "        s += 1\n",
    "    if sp_:\n",
    "        s += 1\n",
    "    \n",
    "    if s==4:\n",
    "        print(\"Very strong\")\n",
    "    if s==3:\n",
    "        print(\"Strong\")\n",
    "    if s==2:\n",
    "        print(\"Moderate\")\n",
    "    if s==1:\n",
    "        print(\"Weak\")\n",
    "    if not i_:\n",
    "        print(\"Password invalid due to user id in password\")\n",
    "    if s==0:\n",
    "        print(\"Use different password\")\n",
    "    "
   ]
  },
  {
   "cell_type": "code",
   "execution_count": 32,
   "id": "1181d66a",
   "metadata": {},
   "outputs": [
    {
     "name": "stdout",
     "output_type": "stream",
     "text": [
      "Strong\n"
     ]
    }
   ],
   "source": [
    "get_password_strength(\"ayush\", \"hellHAyush123@0\")"
   ]
  },
  {
   "cell_type": "markdown",
   "id": "f65470db",
   "metadata": {},
   "source": [
    "33.decorator that logs the date and time"
   ]
  },
  {
   "cell_type": "code",
   "execution_count": 71,
   "id": "6088393f",
   "metadata": {},
   "outputs": [],
   "source": [
    "from datetime import datetime"
   ]
  },
  {
   "cell_type": "code",
   "execution_count": 76,
   "id": "3da26d80",
   "metadata": {},
   "outputs": [],
   "source": [
    "def dt(func):\n",
    "    \"\"\"Current date & time\"\"\"\n",
    "    \n",
    "    def new():\n",
    "        print(datetime.today().strftime(\"%Y-%m-%d %H:%M:%S\"))\n",
    "        func()\n",
    "    return new\n",
    "\n",
    "@dt\n",
    "def test():\n",
    "    print(\"hello\")"
   ]
  },
  {
   "cell_type": "code",
   "execution_count": 77,
   "id": "cdf419ff",
   "metadata": {},
   "outputs": [
    {
     "name": "stdout",
     "output_type": "stream",
     "text": [
      "2022-11-24 19:48:16\n",
      "hello\n"
     ]
    }
   ],
   "source": [
    "test()"
   ]
  },
  {
   "cell_type": "markdown",
   "id": "d4d59d58",
   "metadata": {},
   "source": [
    "34.Program to Get Data Items From a List Appearing Odd Number of Times"
   ]
  },
  {
   "cell_type": "code",
   "execution_count": 10,
   "id": "a697767f",
   "metadata": {},
   "outputs": [],
   "source": [
    "def odd_list(a):\n",
    "    \n",
    "    l = []\n",
    "    \n",
    "    for i in a:\n",
    "        if a.count(i)%2 == 1:\n",
    "            if i not in l:\n",
    "                l.append(i)\n",
    "    return l"
   ]
  },
  {
   "cell_type": "code",
   "execution_count": 11,
   "id": "d8304dda",
   "metadata": {},
   "outputs": [],
   "source": [
    "z = [14, 52, 1, 2, 5, 8, 8, 8, 5]"
   ]
  },
  {
   "cell_type": "code",
   "execution_count": 12,
   "id": "93b76524",
   "metadata": {},
   "outputs": [
    {
     "data": {
      "text/plain": [
       "[14, 52, 1, 2, 8]"
      ]
     },
     "execution_count": 12,
     "metadata": {},
     "output_type": "execute_result"
    }
   ],
   "source": [
    "odd_list(z)"
   ]
  },
  {
   "cell_type": "markdown",
   "id": "e49acfdb",
   "metadata": {},
   "source": [
    "35.What are decorators in Python?"
   ]
  },
  {
   "cell_type": "code",
   "execution_count": 13,
   "id": "d0580102",
   "metadata": {},
   "outputs": [],
   "source": [
    "#decorator are function which allows users to new functionality to an existing object without modifying the structure"
   ]
  },
  {
   "cell_type": "markdown",
   "id": "b8a94126",
   "metadata": {},
   "source": [
    "36. remove items from a list while iterating but without creating a different copy of a list.\n",
    "Remove numbers greater than 50\n",
    "number_list = [10, 20, 30, 40, 50, 60, 70, 80, 90, 100]\n",
    "Expected Output: [10, 20, 30, 40, 50]"
   ]
  },
  {
   "cell_type": "code",
   "execution_count": 45,
   "id": "bcd08e21",
   "metadata": {},
   "outputs": [
    {
     "name": "stdout",
     "output_type": "stream",
     "text": [
      "[3, 6, 9]\n"
     ]
    }
   ],
   "source": [
    "my_list = [3, 6, 9, 19, 24]\n",
    "\n",
    "for item in my_list.copy():\n",
    "    if item > 10:\n",
    "        my_list.remove(item)\n",
    "\n",
    "print(my_list)"
   ]
  },
  {
   "cell_type": "code",
   "execution_count": 60,
   "id": "2448c8e8",
   "metadata": {},
   "outputs": [
    {
     "name": "stdout",
     "output_type": "stream",
     "text": [
      "[60, 70, 80, 90, 100]\n"
     ]
    }
   ],
   "source": [
    "sample_list = [10, 20, 30, 40, 50, 60, 70, 80, 90, 100]\n",
    "\n",
    "sample_list = [i for i in sample_list if i > 50]\n",
    "\n",
    "print(sample_list)"
   ]
  },
  {
   "cell_type": "code",
   "execution_count": 39,
   "id": "7db4868d",
   "metadata": {},
   "outputs": [
    {
     "name": "stdout",
     "output_type": "stream",
     "text": [
      "0\n",
      "1\n",
      "2\n",
      "3\n",
      "4\n",
      "5\n",
      "6\n",
      "7\n",
      "8\n",
      "9\n",
      "[10, 20, 30, 40, 50, 60, 70, 80, 90, 100]\n"
     ]
    }
   ],
   "source": [
    "sample_list = [10, 20, 30, 40, 50, 60, 70, 80, 90, 100]\n",
    "\n",
    "for i in range(len(sample_list)):\n",
    "#     if sample_list[i]<50:\n",
    "#         del sample_list[i]\n",
    "        print(i)\n",
    "print(sample_list)"
   ]
  },
  {
   "cell_type": "code",
   "execution_count": null,
   "id": "eabd9488",
   "metadata": {},
   "outputs": [],
   "source": []
  },
  {
   "cell_type": "markdown",
   "id": "d1e13ea0",
   "metadata": {},
   "source": [
    "37.  Display all duplicate items from a list\n",
    "sample_list = [10, 20, 60, 30, 20, 40, 30, 60, 70, 80]\n",
    "Expected Output: [20, 60, 30]"
   ]
  },
  {
   "cell_type": "code",
   "execution_count": 17,
   "id": "b9f3b181",
   "metadata": {},
   "outputs": [],
   "source": [
    "def dup(a):\n",
    "    b = []\n",
    "    \n",
    "    for i in a:\n",
    "        if a.count(i) > 1:\n",
    "            if i not in b:\n",
    "                b.append(i)\n",
    "    return b"
   ]
  },
  {
   "cell_type": "code",
   "execution_count": 19,
   "id": "5fd8b999",
   "metadata": {},
   "outputs": [
    {
     "data": {
      "text/plain": [
       "[20, 60, 30]"
      ]
     },
     "execution_count": 19,
     "metadata": {},
     "output_type": "execute_result"
    }
   ],
   "source": [
    "dup(sample_list)"
   ]
  },
  {
   "cell_type": "code",
   "execution_count": 40,
   "id": "ef02530a",
   "metadata": {},
   "outputs": [],
   "source": [
    "# for a test :- create a decorator for more split & lower \n",
    "def low_dec(fun):\n",
    "    def wrapper():\n",
    "        func = fun()\n",
    "        lower = func.lower()\n",
    "        return lower\n",
    "    return wrapper\n",
    "\n",
    "def split(fun):\n",
    "    def wrapper():\n",
    "        func = fun()\n",
    "        split = func.split()\n",
    "        return split\n",
    "    return wrapper\n",
    "    \n",
    "\n"
   ]
  },
  {
   "cell_type": "code",
   "execution_count": 43,
   "id": "77c2f80c",
   "metadata": {},
   "outputs": [],
   "source": [
    "@split\n",
    "@low_dec\n",
    "def hello():\n",
    "    return  \"hello world\""
   ]
  },
  {
   "cell_type": "code",
   "execution_count": 44,
   "id": "c50c7e8e",
   "metadata": {},
   "outputs": [
    {
     "data": {
      "text/plain": [
       "['hello', 'world']"
      ]
     },
     "execution_count": 44,
     "metadata": {},
     "output_type": "execute_result"
    }
   ],
   "source": [
    "hello()"
   ]
  },
  {
   "cell_type": "markdown",
   "id": "50e59883",
   "metadata": {},
   "source": [
    "38. Create an outer function that will accept two strings, x and y. (x= 'Emma' and y = 'Kelly'.\n",
    "Create an inner function inside an outer function that will concatenate x and y.\n",
    "At last, an outer function will join the word 'developer' to it."
   ]
  },
  {
   "cell_type": "code",
   "execution_count": 48,
   "id": "a24e109b",
   "metadata": {},
   "outputs": [],
   "source": [
    "def con(x, y):\n",
    "    def inner(x, y):\n",
    "        return x + y\n",
    "    z = inner(x, y)\n",
    "    return z + \" devloper\""
   ]
  },
  {
   "cell_type": "code",
   "execution_count": 49,
   "id": "99bff764",
   "metadata": {},
   "outputs": [
    {
     "data": {
      "text/plain": [
       "'ayush gandhi devloper'"
      ]
     },
     "execution_count": 49,
     "metadata": {},
     "output_type": "execute_result"
    }
   ],
   "source": [
    "con(\"ayush\", \" gandhi\")"
   ]
  },
  {
   "cell_type": "markdown",
   "id": "59ba4f56",
   "metadata": {},
   "source": [
    "39. Modify the element of a nested list inside the following list\n",
    "Change the element 35 to 3500\n",
    "list1 = [5, [10, 15, [20, 25, [30, 35], 40], 45], 50]"
   ]
  },
  {
   "cell_type": "code",
   "execution_count": 51,
   "id": "48c56b8d",
   "metadata": {},
   "outputs": [],
   "source": [
    "list1 = [5, [10, 15, [20, 25, [30, 35], 40], 45], 50]"
   ]
  },
  {
   "cell_type": "code",
   "execution_count": 61,
   "id": "654f94dc",
   "metadata": {},
   "outputs": [],
   "source": [
    "list1[1][2][2][1] = 3500"
   ]
  },
  {
   "cell_type": "code",
   "execution_count": 62,
   "id": "2ab6dd31",
   "metadata": {},
   "outputs": [
    {
     "data": {
      "text/plain": [
       "[5, [10, 15, [20, 25, [30, 3500], 40], 45], 50]"
      ]
     },
     "execution_count": 62,
     "metadata": {},
     "output_type": "execute_result"
    }
   ],
   "source": [
    "list1"
   ]
  },
  {
   "cell_type": "markdown",
   "id": "f420ac48",
   "metadata": {},
   "source": [
    "40.  Access the nested key increment from the following dictionary\n",
    "Access 12\n",
    "emp_dict = {\n",
    "    \"company\": {\n",
    "        \"employee\": {\n",
    "            \"name\": \"Jess\",\n",
    "            \"payable\": {\n",
    "                \"salary\": 9000,\n",
    "                \"increment\": 12\n",
    "            }\n",
    "        }\n",
    "    }\n",
    "}"
   ]
  },
  {
   "cell_type": "code",
   "execution_count": 63,
   "id": "a9f8f623",
   "metadata": {},
   "outputs": [],
   "source": [
    "emp_dict = {\n",
    "    \"company\": {\n",
    "        \"employee\": {\n",
    "            \"name\": \"Jess\",\n",
    "            \"payable\": {\n",
    "                \"salary\": 9000,\n",
    "                \"increment\": 12\n",
    "            }\n",
    "        }\n",
    "    }\n",
    "}"
   ]
  },
  {
   "cell_type": "code",
   "execution_count": 67,
   "id": "f71d6350",
   "metadata": {},
   "outputs": [
    {
     "data": {
      "text/plain": [
       "12"
      ]
     },
     "execution_count": 67,
     "metadata": {},
     "output_type": "execute_result"
    }
   ],
   "source": [
    "emp_dict[\"company\"][\"employee\"][\"payable\"][\"increment\"]"
   ]
  },
  {
   "cell_type": "markdown",
   "id": "3d15caed",
   "metadata": {},
   "source": [
    "41. Print the sum of the current number and the previous number\n",
    "Write a program to iterate the first 10 numbers and in each iteration, print the sum of the current and previous number.\n",
    "Printing current and previous number sum in a range(10)\n",
    "Current Number 0 Previous Number  0  Sum:  0\n",
    "Current Number 1 Previous Number  0  Sum:  1\n",
    "Current Number 2 Previous Number  1  Sum:  3\n",
    "Current Number 3 Previous Number  2  Sum:  5\n",
    "Current Number 4 Previous Number  3  Sum:  7\n",
    "Current Number 5 Previous Number  4  Sum:  9\n",
    "Current Number 6 Previous Number  5  Sum:  11\n",
    "Current Number 7 Previous Number  6  Sum:  13\n",
    "Current Number 8 Previous Number  7  Sum:  15\n",
    "Current Number 9 Previous Number  8  Sum:  17"
   ]
  },
  {
   "cell_type": "code",
   "execution_count": 98,
   "id": "37426ccf",
   "metadata": {},
   "outputs": [
    {
     "name": "stdout",
     "output_type": "stream",
     "text": [
      "current no is 0 Previous no 0 sum: 0\n",
      "current no is 1 Previous no 0 sum: 1\n",
      "current no is 2 Previous no 1 sum: 3\n",
      "current no is 3 Previous no 2 sum: 6\n",
      "current no is 4 Previous no 3 sum: 10\n",
      "current no is 5 Previous no 4 sum: 15\n",
      "current no is 6 Previous no 5 sum: 21\n",
      "current no is 7 Previous no 6 sum: 28\n",
      "current no is 8 Previous no 7 sum: 36\n",
      "current no is 9 Previous no 8 sum: 45\n",
      "current no is 10 Previous no 9 sum: 55\n"
     ]
    }
   ],
   "source": [
    "a = 0\n",
    "p = 0\n",
    "for i in range(0, 11):\n",
    "    \n",
    "    a = a+i\n",
    "    print(f\"current no is {i} Previous no {p} sum: {a}\")\n",
    "    p = i\n",
    "    "
   ]
  },
  {
   "cell_type": "markdown",
   "id": "c1199a18",
   "metadata": {},
   "source": [
    "42. Print characters from a string that are present at an even index number\n",
    "Write a program to accept a string from the user and display characters that are present at an even index number.\n",
    "\n",
    "For example, str = \"ineuron\" so you should display ‘i’, ‘e’, ‘r’, ‘n’."
   ]
  },
  {
   "cell_type": "code",
   "execution_count": 71,
   "id": "ef6ee0a2",
   "metadata": {},
   "outputs": [
    {
     "name": "stdout",
     "output_type": "stream",
     "text": [
      "Enter string: ineuron\n",
      "i e r n "
     ]
    }
   ],
   "source": [
    "string = input(\"Enter string: \")\n",
    "\n",
    "for i in range(0, len(string),2):\n",
    "    print(string[i], end = \" \")  \n",
    "        "
   ]
  },
  {
   "cell_type": "markdown",
   "id": "3f1773d4",
   "metadata": {},
   "source": [
    "43. Print multiplication table form 1 to 10\n",
    "1  2 3 4 5 6 7 8 9 10 \t\t\n",
    "2  4 6 8 10 12 14 16 18 20 \t\t\n",
    "3  6 9 12 15 18 21 24 27 30 \t\t\n",
    "4  8 12 16 20 24 28 32 36 40 \t\t\n",
    "5  10 15 20 25 30 35 40 45 50 \t\t\n",
    "6  12 18 24 30 36 42 48 54 60 \t\t\n",
    "7  14 21 28 35 42 49 56 63 70 \t\t\n",
    "8  16 24 32 40 48 56 64 72 80 \t\t\n",
    "9  18 27 36 45 54 63 72 81 90 \t\t\n",
    "10 20 30 40 50 60 70 80 90 100 "
   ]
  },
  {
   "cell_type": "code",
   "execution_count": 75,
   "id": "4911d00c",
   "metadata": {},
   "outputs": [
    {
     "name": "stdout",
     "output_type": "stream",
     "text": [
      "1 2 3 4 5 6 7 8 9 10 \n",
      "\n",
      "2 4 6 8 10 12 14 16 18 20 \n",
      "\n",
      "3 6 9 12 15 18 21 24 27 30 \n",
      "\n",
      "4 8 12 16 20 24 28 32 36 40 \n",
      "\n",
      "5 10 15 20 25 30 35 40 45 50 \n",
      "\n",
      "6 12 18 24 30 36 42 48 54 60 \n",
      "\n",
      "7 14 21 28 35 42 49 56 63 70 \n",
      "\n",
      "8 16 24 32 40 48 56 64 72 80 \n",
      "\n",
      "9 18 27 36 45 54 63 72 81 90 \n",
      "\n",
      "10 20 30 40 50 60 70 80 90 100 \n",
      "\n"
     ]
    }
   ],
   "source": [
    "for i in range(1, 11):\n",
    "    for j in range(1, 11):\n",
    "        k = i*j\n",
    "        print(k, end = \" \")\n",
    "    print(\"\\n\")"
   ]
  },
  {
   "cell_type": "markdown",
   "id": "3e5f5f1b",
   "metadata": {},
   "source": [
    "44. Remove duplicates from a list and create a tuple and find the minimum and maximum number\n",
    "sample_list = [87, 45, 41, 65, 94, 41, 99, 94]\n",
    "Expected Outcome:\n",
    "unique items [87, 45, 41, 65, 99]\n",
    "tuple (87, 45, 41, 65, 99)\n",
    "min: 41\n",
    "max: 99"
   ]
  },
  {
   "cell_type": "code",
   "execution_count": 78,
   "id": "d8b3709f",
   "metadata": {},
   "outputs": [
    {
     "name": "stdout",
     "output_type": "stream",
     "text": [
      "99\n",
      "41\n"
     ]
    }
   ],
   "source": [
    "sample_list = [87, 45, 41, 65, 94, 41, 99, 94]\n",
    "\n",
    "unique_item = tuple(set(sample_list))\n",
    "\n",
    "print(max(unique_item))\n",
    "print(min(unique_item))"
   ]
  },
  {
   "cell_type": "markdown",
   "id": "5b768521",
   "metadata": {},
   "source": [
    "45. Write a Python program to create a lambda function that adds 15 to a given number passed in as an argument,\n",
    "also create a lambda function\n",
    "that multiplies argument x with argument y and print the result."
   ]
  },
  {
   "cell_type": "code",
   "execution_count": 79,
   "id": "6929722c",
   "metadata": {},
   "outputs": [
    {
     "name": "stdout",
     "output_type": "stream",
     "text": [
      "Addition 17\n",
      "Multiplication:  30\n"
     ]
    }
   ],
   "source": [
    "add = lambda x : x+15\n",
    "print(\"Addition\", add(2))\n",
    "\n",
    "mul = lambda x, y: x*y\n",
    "print(\"Multiplication: \", mul(15, 2))"
   ]
  },
  {
   "cell_type": "markdown",
   "id": "60cef108",
   "metadata": {},
   "source": [
    "46. Write a Python program to sort a list of tuples using Lambda."
   ]
  },
  {
   "cell_type": "code",
   "execution_count": 81,
   "id": "3f3dbf62",
   "metadata": {},
   "outputs": [
    {
     "name": "stdout",
     "output_type": "stream",
     "text": [
      "[1, 5, 9, 29]\n"
     ]
    }
   ],
   "source": [
    "sor = lambda x: sorted(x)\n",
    "print(sor([1, 5, 29, 9]))"
   ]
  },
  {
   "cell_type": "markdown",
   "id": "a99a485f",
   "metadata": {},
   "source": [
    "47. Write a Python program to extract year, month, date and time using Lambda."
   ]
  },
  {
   "cell_type": "code",
   "execution_count": 84,
   "id": "5f769dd7",
   "metadata": {},
   "outputs": [
    {
     "name": "stdout",
     "output_type": "stream",
     "text": [
      "2022\n",
      "11\n",
      "26\n",
      "17:18:46.198540\n"
     ]
    }
   ],
   "source": [
    "import datetime\n",
    "now = datetime.datetime.now()\n",
    "\n",
    "year = lambda x:x.year\n",
    "month = lambda x:x.month\n",
    "day = lambda x:x.day\n",
    "timee = lambda x: x.time()\n",
    "\n",
    "print(year(now))\n",
    "print(month(now))\n",
    "print(day(now))\n",
    "print(timee(now))"
   ]
  },
  {
   "cell_type": "markdown",
   "id": "501f6a56",
   "metadata": {},
   "source": [
    "48. Write a Python program to count the even, odd numbers in a given array of integers using Lambda."
   ]
  },
  {
   "cell_type": "code",
   "execution_count": 85,
   "id": "54b203cc",
   "metadata": {},
   "outputs": [
    {
     "name": "stdout",
     "output_type": "stream",
     "text": [
      "5\n",
      "5\n"
     ]
    }
   ],
   "source": [
    "l = [1, 2, 3, 4, 5, 6, 7, 8, 9, 10]\n",
    "\n",
    "even = len(list(filter(lambda x: x%2 == 0, l)))\n",
    "odd = len(list(filter(lambda x: x%2 == 1, l)))\n",
    "\n",
    "print(even)\n",
    "print(odd)"
   ]
  },
  {
   "cell_type": "markdown",
   "id": "67bc84d0",
   "metadata": {},
   "source": [
    "49. Write a Python program to convert all the characters in uppercase and lowercase and eliminate duplicate letters from a given sequence.\n",
    "Use map() function."
   ]
  },
  {
   "cell_type": "code",
   "execution_count": 91,
   "id": "e918c94a",
   "metadata": {},
   "outputs": [],
   "source": [
    "def test(s):\n",
    "    return str(s).upper(), str(s).lower()"
   ]
  },
  {
   "cell_type": "code",
   "execution_count": 92,
   "id": "0c4ab4ea",
   "metadata": {},
   "outputs": [],
   "source": [
    "char = [\"a\", \"E\", \"i\", \"o\", \"U\"]"
   ]
  },
  {
   "cell_type": "code",
   "execution_count": 96,
   "id": "92d2c9f4",
   "metadata": {},
   "outputs": [],
   "source": [
    "r = map(test, char)"
   ]
  },
  {
   "cell_type": "code",
   "execution_count": 97,
   "id": "96611629",
   "metadata": {},
   "outputs": [
    {
     "data": {
      "text/plain": [
       "[('I', 'i'), ('E', 'e'), ('O', 'o'), ('A', 'a'), ('U', 'u')]"
      ]
     },
     "execution_count": 97,
     "metadata": {},
     "output_type": "execute_result"
    }
   ],
   "source": [
    "list(set(r))"
   ]
  },
  {
   "cell_type": "markdown",
   "id": "d83a1510",
   "metadata": {},
   "source": [
    "50.  Write a Python program to square the elements of a list using map() function."
   ]
  },
  {
   "cell_type": "code",
   "execution_count": 86,
   "id": "371b16d8",
   "metadata": {},
   "outputs": [],
   "source": [
    "def sq(n):\n",
    "    return n**2"
   ]
  },
  {
   "cell_type": "code",
   "execution_count": 87,
   "id": "0b908b7f",
   "metadata": {},
   "outputs": [],
   "source": [
    "number = (1, 2, 3)"
   ]
  },
  {
   "cell_type": "code",
   "execution_count": 88,
   "id": "5b812953",
   "metadata": {},
   "outputs": [],
   "source": [
    "r = map(sq, number)"
   ]
  },
  {
   "cell_type": "code",
   "execution_count": 90,
   "id": "e3ed6699",
   "metadata": {},
   "outputs": [
    {
     "data": {
      "text/plain": [
       "[1, 4, 9]"
      ]
     },
     "execution_count": 90,
     "metadata": {},
     "output_type": "execute_result"
    }
   ],
   "source": [
    "list(r)"
   ]
  },
  {
   "cell_type": "code",
   "execution_count": 2,
   "id": "482528e5",
   "metadata": {},
   "outputs": [],
   "source": [
    "#decorator function string\n",
    "\n",
    "def test(name):\n",
    "    \"\"\"\n",
    "    This function greets to person\n",
    "    \"\"\"\n",
    "    print(f\"Hello {name}! Good Moring\")"
   ]
  },
  {
   "cell_type": "code",
   "execution_count": 4,
   "id": "e6dc48e6",
   "metadata": {},
   "outputs": [
    {
     "name": "stdout",
     "output_type": "stream",
     "text": [
      "Hello ayush! Good Moring\n"
     ]
    }
   ],
   "source": [
    "test(\"ayush\")"
   ]
  },
  {
   "cell_type": "code",
   "execution_count": 5,
   "id": "1cf3cc94",
   "metadata": {},
   "outputs": [
    {
     "name": "stdout",
     "output_type": "stream",
     "text": [
      "Hello hemil! Good Moring\n",
      "None\n"
     ]
    }
   ],
   "source": [
    "print(test(\"hemil\"))"
   ]
  },
  {
   "cell_type": "code",
   "execution_count": 6,
   "id": "8ada86ca",
   "metadata": {},
   "outputs": [],
   "source": [
    "def ab(num):\n",
    "    if num>=0:\n",
    "        return num\n",
    "    else:\n",
    "        return -num"
   ]
  },
  {
   "cell_type": "code",
   "execution_count": 10,
   "id": "818fe9a9",
   "metadata": {},
   "outputs": [
    {
     "data": {
      "text/plain": [
       "2"
      ]
     },
     "execution_count": 10,
     "metadata": {},
     "output_type": "execute_result"
    }
   ],
   "source": [
    "ab(-2)"
   ]
  },
  {
   "cell_type": "code",
   "execution_count": 11,
   "id": "3ea39d49",
   "metadata": {},
   "outputs": [],
   "source": [
    "def square(x):\n",
    "    return (x*x)"
   ]
  },
  {
   "cell_type": "code",
   "execution_count": 12,
   "id": "8faab6d6",
   "metadata": {},
   "outputs": [
    {
     "data": {
      "text/plain": [
       "9"
      ]
     },
     "execution_count": 12,
     "metadata": {},
     "output_type": "execute_result"
    }
   ],
   "source": [
    "square(3)"
   ]
  },
  {
   "cell_type": "code",
   "execution_count": 13,
   "id": "3b235f7a",
   "metadata": {},
   "outputs": [],
   "source": [
    "f = square(4)"
   ]
  },
  {
   "cell_type": "code",
   "execution_count": 14,
   "id": "1a799dbb",
   "metadata": {},
   "outputs": [
    {
     "data": {
      "text/plain": [
       "16"
      ]
     },
     "execution_count": 14,
     "metadata": {},
     "output_type": "execute_result"
    }
   ],
   "source": [
    "f"
   ]
  },
  {
   "cell_type": "code",
   "execution_count": 15,
   "id": "5804f76f",
   "metadata": {},
   "outputs": [
    {
     "data": {
      "text/plain": [
       "int"
      ]
     },
     "execution_count": 15,
     "metadata": {},
     "output_type": "execute_result"
    }
   ],
   "source": [
    "type(f)"
   ]
  },
  {
   "cell_type": "code",
   "execution_count": 16,
   "id": "2602d819",
   "metadata": {},
   "outputs": [
    {
     "data": {
      "text/plain": [
       "int"
      ]
     },
     "execution_count": 16,
     "metadata": {},
     "output_type": "execute_result"
    }
   ],
   "source": [
    "type(square(4))"
   ]
  },
  {
   "cell_type": "code",
   "execution_count": 17,
   "id": "a77a5584",
   "metadata": {},
   "outputs": [
    {
     "data": {
      "text/plain": [
       "function"
      ]
     },
     "execution_count": 17,
     "metadata": {},
     "output_type": "execute_result"
    }
   ],
   "source": [
    "type(square)"
   ]
  },
  {
   "cell_type": "code",
   "execution_count": 19,
   "id": "e4407157",
   "metadata": {},
   "outputs": [],
   "source": [
    "u = square"
   ]
  },
  {
   "cell_type": "code",
   "execution_count": 20,
   "id": "3c523c61",
   "metadata": {},
   "outputs": [
    {
     "data": {
      "text/plain": [
       "81"
      ]
     },
     "execution_count": 20,
     "metadata": {},
     "output_type": "execute_result"
    }
   ],
   "source": [
    "u(9)"
   ]
  },
  {
   "cell_type": "code",
   "execution_count": 25,
   "id": "c059604a",
   "metadata": {},
   "outputs": [],
   "source": [
    "def outer():\n",
    "    message = \"hi\"\n",
    "    \n",
    "    def inner():\n",
    "        print(message)\n",
    "    return inner()"
   ]
  },
  {
   "cell_type": "code",
   "execution_count": 23,
   "id": "a21db258",
   "metadata": {},
   "outputs": [],
   "source": [
    "def outer():\n",
    "    message = \"hi\"\n",
    "    \n",
    "    def inner():\n",
    "        print(message)\n",
    "    return inner"
   ]
  },
  {
   "cell_type": "code",
   "execution_count": 26,
   "id": "c03d5ead",
   "metadata": {},
   "outputs": [
    {
     "name": "stdout",
     "output_type": "stream",
     "text": [
      "hi\n"
     ]
    }
   ],
   "source": [
    "outer()"
   ]
  },
  {
   "cell_type": "code",
   "execution_count": 45,
   "id": "86d30652",
   "metadata": {},
   "outputs": [
    {
     "name": "stdout",
     "output_type": "stream",
     "text": [
      "[66, 77, 99]\n"
     ]
    }
   ],
   "source": [
    "my_list = [22, 33, 66, 77, 99]\n",
    "\n",
    "for item in my_list.copy():\n",
    "    if item < 50:\n",
    "        my_list.remove(item)\n",
    "\n",
    "print(my_list)"
   ]
  },
  {
   "cell_type": "code",
   "execution_count": null,
   "id": "e41b6bc7",
   "metadata": {},
   "outputs": [],
   "source": []
  }
 ],
 "metadata": {
  "kernelspec": {
   "display_name": "Python 3 (ipykernel)",
   "language": "python",
   "name": "python3"
  },
  "language_info": {
   "codemirror_mode": {
    "name": "ipython",
    "version": 3
   },
   "file_extension": ".py",
   "mimetype": "text/x-python",
   "name": "python",
   "nbconvert_exporter": "python",
   "pygments_lexer": "ipython3",
   "version": "3.9.15"
  }
 },
 "nbformat": 4,
 "nbformat_minor": 5
}
