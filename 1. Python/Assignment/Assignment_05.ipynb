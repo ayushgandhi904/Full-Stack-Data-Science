{
  "nbformat": 4,
  "nbformat_minor": 0,
  "metadata": {
    "colab": {
      "provenance": []
    },
    "kernelspec": {
      "name": "python3",
      "display_name": "Python 3"
    },
    "language_info": {
      "name": "python"
    }
  },
  "cells": [
    {
      "cell_type": "markdown",
      "source": [
        "### Q-1 On amazon website we have the following available items -\n",
        "Take the user input N no. of times and find out the total cost to be paid?\n",
        "\n",
        "OR\n",
        "\n",
        "You can ask the user quntity or the count of item?\n",
        "\n",
        "if the item is not present in the amazon website then print that item as out of stock and do add it total\n",
        "\n",
        "HINT: while, for loop.. indexing"
      ],
      "metadata": {
        "id": "J0T_hNccXRWu"
      }
    },
    {
      "cell_type": "code",
      "execution_count": 1,
      "metadata": {
        "id": "6YXqOzjjVzK_"
      },
      "outputs": [],
      "source": [
        "amazon_website = [(\"watch\", 5000), (\"phone\", 10000), (\"laptop\", 50000), (\"shirt\", 1000)]\n"
      ]
    },
    {
      "cell_type": "code",
      "source": [
        "N = int(input(\"Enter the the number of item you want to purchase: \"))\n",
        "i = 0\n",
        "total = 0\n",
        "while i<N:\n",
        "  item = input(\"Enter the item you want to enter: \")\n",
        "  for j in range(len(amazon_website)):\n",
        "    if item == amazon_website[j][0]:\n",
        "      print(\"your item is available\")\n",
        "      total = total + amazon_website[j][1]\n",
        "    else:\n",
        "      print(\"Item out of stock, wil be available soon\")\n",
        "  i = i + 1\n",
        "print(f\"Total item cost is {total}\")\n",
        "\n"
      ],
      "metadata": {
        "colab": {
          "base_uri": "https://localhost:8080/"
        },
        "id": "NZbQApu5XjPp",
        "outputId": "95559ab2-0e9c-4a0f-f77f-6d3b9384cbc6"
      },
      "execution_count": 9,
      "outputs": [
        {
          "output_type": "stream",
          "name": "stdout",
          "text": [
            "Enter the the number of item you want to purchase: 3\n",
            "Enter the item you want to enter: phone\n",
            "Item out of stock, wil be available soon\n",
            "your item is available\n",
            "Item out of stock, wil be available soon\n",
            "Item out of stock, wil be available soon\n",
            "Enter the item you want to enter: laptop\n",
            "Item out of stock, wil be available soon\n",
            "Item out of stock, wil be available soon\n",
            "your item is available\n",
            "Item out of stock, wil be available soon\n",
            "Enter the item you want to enter: shirtt\n",
            "Item out of stock, wil be available soon\n",
            "Item out of stock, wil be available soon\n",
            "Item out of stock, wil be available soon\n",
            "Item out of stock, wil be available soon\n",
            "Total item cost is 60000\n"
          ]
        }
      ]
    },
    {
      "cell_type": "markdown",
      "source": [
        "### Q-2. What will be the output of the following code snippet?\n"
      ],
      "metadata": {
        "id": "p6zHmV57fGtD"
      }
    },
    {
      "cell_type": "code",
      "source": [
        "arr = [1, 2, 3, 4, 5, 6]\n",
        "for i in range(1, 6):\n",
        "    arr[i - 1] = arr[i]\n",
        "for i in range(0, 6): \n",
        "    print(arr[i], end = \" \")\n",
        "\n",
        "#in first arr[i-1] = arr[i], it arr[0] = arr[1]---> it means 1=2, 2=3, 3=4, 4=5, 5=6, 6=6(as nothing is there) so array becomes arr = [2, 3, 4, 5, 6, 6]\n",
        "#for 2nd range array is separated with list so output will be 2 3 4 5 6 6\n"
      ],
      "metadata": {
        "colab": {
          "base_uri": "https://localhost:8080/"
        },
        "id": "1q1pVOsHdPFW",
        "outputId": "df634cdf-c123-41c3-8b99-a1cb12d0942d"
      },
      "execution_count": 13,
      "outputs": [
        {
          "output_type": "stream",
          "name": "stdout",
          "text": [
            "2 3 4 5 6 6 "
          ]
        }
      ]
    },
    {
      "cell_type": "markdown",
      "source": [
        "### Q-3 Write a Python program to find the repeated items of a tuple."
      ],
      "metadata": {
        "id": "ejbBqI_fgmWT"
      }
    },
    {
      "cell_type": "code",
      "source": [
        "tup = (1, 3, 5, 5, 6, 7, 8, 8, 10)\n",
        "x = len(tup)\n",
        "\n",
        "convert = set(tup)\n",
        "y = len(convert)\n",
        "\n",
        "repeted_item = x-y\n",
        "\n",
        "print(f\"Total number of repeated items in tup were: {repeted_item}\")"
      ],
      "metadata": {
        "colab": {
          "base_uri": "https://localhost:8080/"
        },
        "id": "1AjoRQQbfXOq",
        "outputId": "087299bc-9115-496c-9aae-609250b9cc0f"
      },
      "execution_count": 15,
      "outputs": [
        {
          "output_type": "stream",
          "name": "stdout",
          "text": [
            "Total number of repeated items in tup were: 2\n"
          ]
        }
      ]
    },
    {
      "cell_type": "markdown",
      "source": [
        "### Q-4 Replace last value of tuples in a list with 500. Try using list comprehension"
      ],
      "metadata": {
        "id": "2R0JzAu1h7oQ"
      }
    },
    {
      "cell_type": "code",
      "source": [
        "x = [(10, 20, 40), (40, 50, 60), (70, 80, 90)]"
      ],
      "metadata": {
        "id": "7mfD7mEdgAms"
      },
      "execution_count": 16,
      "outputs": []
    },
    {
      "cell_type": "code",
      "source": [
        "for i in range(len(x)):\n",
        "  x[i] = list(x[i])\n",
        "  x[i][2] = 500\n",
        "  x[i] = tuple(x[i])\n",
        "print(x)"
      ],
      "metadata": {
        "colab": {
          "base_uri": "https://localhost:8080/"
        },
        "id": "Q6zSf4Pkidon",
        "outputId": "aa164415-d19e-4b63-9dfe-546d6b65993e"
      },
      "execution_count": 22,
      "outputs": [
        {
          "output_type": "stream",
          "name": "stdout",
          "text": [
            "[(10, 20, 500), (40, 50, 500), (70, 80, 500)]\n"
          ]
        }
      ]
    },
    {
      "cell_type": "code",
      "source": [
        "#tried with list comprehension but not able to do it, please suggest me method"
      ],
      "metadata": {
        "id": "TRrVZUgYjEo8"
      },
      "execution_count": 23,
      "outputs": []
    },
    {
      "cell_type": "code",
      "source": [],
      "metadata": {
        "id": "1Purmtt5nA_i"
      },
      "execution_count": null,
      "outputs": []
    }
  ]
}