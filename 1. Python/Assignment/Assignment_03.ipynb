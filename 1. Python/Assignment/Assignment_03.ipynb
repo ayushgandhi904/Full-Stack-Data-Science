{
  "nbformat": 4,
  "nbformat_minor": 0,
  "metadata": {
    "colab": {
      "provenance": [],
      "collapsed_sections": []
    },
    "kernelspec": {
      "name": "python3",
      "display_name": "Python 3"
    },
    "language_info": {
      "name": "python"
    }
  },
  "cells": [
    {
      "cell_type": "markdown",
      "source": [
        "### Q-1 Count the number of times iNeuron appears in the string."
      ],
      "metadata": {
        "id": "UrQGqzzd6iRl"
      }
    },
    {
      "cell_type": "code",
      "source": [
        "text = \"Welcome to iNeuron, You are a part of FSDS Bootcamp 2 in iNeuron. I hope you are enjoying the course by iNeuron\"\n",
        "\n",
        "text.count(\"iNeuron\")\n",
        "\n",
        "# 3 is the answer"
      ],
      "metadata": {
        "colab": {
          "base_uri": "https://localhost:8080/"
        },
        "id": "o8rtsjC26hcJ",
        "outputId": "272a1b56-9753-4c8c-859f-fd8316d64a02"
      },
      "execution_count": 1,
      "outputs": [
        {
          "output_type": "execute_result",
          "data": {
            "text/plain": [
              "3"
            ]
          },
          "metadata": {},
          "execution_count": 1
        }
      ]
    },
    {
      "cell_type": "markdown",
      "source": [
        "### Q-2 Check if position 5 to 11 ends with the phrase iNeuron. in the string"
      ],
      "metadata": {
        "id": "ney_UNlR-4Tw"
      }
    },
    {
      "cell_type": "code",
      "source": [
        "txt = \"Hello, welcome to FSDS 2.0 at iNeuron.\"\n",
        "\n",
        "txt[5:12].endswith(\"iNeuron\") \n",
        "\n",
        "#False, it doesn't end with iNeuron"
      ],
      "metadata": {
        "colab": {
          "base_uri": "https://localhost:8080/"
        },
        "id": "RF5P4k3Z_CeJ",
        "outputId": "753cae07-f1b2-458b-f2b5-cbdc1d8d60e7"
      },
      "execution_count": 7,
      "outputs": [
        {
          "output_type": "execute_result",
          "data": {
            "text/plain": [
              "False"
            ]
          },
          "metadata": {},
          "execution_count": 7
        }
      ]
    },
    {
      "cell_type": "markdown",
      "source": [],
      "metadata": {
        "id": "GYsQzfvx_nw7"
      }
    },
    {
      "cell_type": "markdown",
      "source": [
        "### Q-3 Write a program that takes your full name as input and displays the abbreviations of the first and middle names except the last name which is displayed as it is. For example, if your name is Sunny Bhaveen Chandra, then the output should be S.B.Chandra."
      ],
      "metadata": {
        "id": "s3Z4ODWq_7Z0"
      }
    },
    {
      "cell_type": "code",
      "source": [
        "FN = input(\"Enter your First Name: \")\n",
        "MN = input(\"Enter your Middle Name: \")\n",
        "LN = input(\"Enter your Last Name: \")\n",
        "\n",
        "print(f\"{FN[0]}. {MN[0]}. {LN}\")\n",
        "\n",
        "# Output should be A. N. Gandhi"
      ],
      "metadata": {
        "colab": {
          "base_uri": "https://localhost:8080/"
        },
        "id": "dp2vv2s6_86M",
        "outputId": "a7d5b39f-33ac-4d27-80e8-0f4d5876840b"
      },
      "execution_count": 5,
      "outputs": [
        {
          "output_type": "stream",
          "name": "stdout",
          "text": [
            "Enter your First Name: Ayush\n",
            "Enter your Middle Name: Nilesh\n",
            "Enter your Last Name: Gandhi\n",
            "A. N. Gandhi\n"
          ]
        }
      ]
    },
    {
      "cell_type": "markdown",
      "source": [
        "### Q-4 Join all items in a list into a string, using a hash(#) character as separator:"
      ],
      "metadata": {
        "id": "tz8Ig4QOAzc7"
      }
    },
    {
      "cell_type": "code",
      "source": [
        "LIST = [\"My\", \"name\", \"is\", \"Rishav\", \"Dash\"]\n",
        "\n",
        "\"#\".join(LIST)"
      ],
      "metadata": {
        "colab": {
          "base_uri": "https://localhost:8080/",
          "height": 35
        },
        "id": "G55KHdw6A5lR",
        "outputId": "3765a7e0-15ce-4d09-c619-a0d23012d78a"
      },
      "execution_count": 8,
      "outputs": [
        {
          "output_type": "execute_result",
          "data": {
            "text/plain": [
              "'My#name#is#Rishav#Dash'"
            ],
            "application/vnd.google.colaboratory.intrinsic+json": {
              "type": "string"
            }
          },
          "metadata": {},
          "execution_count": 8
        }
      ]
    },
    {
      "cell_type": "markdown",
      "source": [
        "### Q-5 Write example for the following string manipulation function\n",
        "\n",
        "- isdecimal()\n",
        "- islower()\n",
        "- isupper()\n",
        "- isalpha()\n",
        "- isnumeric()"
      ],
      "metadata": {
        "id": "hDWbF9f2DJzE"
      }
    },
    {
      "cell_type": "code",
      "source": [
        "a = \"5\"\n",
        "a.isdecimal()"
      ],
      "metadata": {
        "colab": {
          "base_uri": "https://localhost:8080/"
        },
        "id": "XivaDhlcBB3P",
        "outputId": "b67ef133-7897-46dd-d644-97c6dbc9bebe"
      },
      "execution_count": 10,
      "outputs": [
        {
          "output_type": "execute_result",
          "data": {
            "text/plain": [
              "True"
            ]
          },
          "metadata": {},
          "execution_count": 10
        }
      ]
    },
    {
      "cell_type": "code",
      "source": [
        "b = \"hello\"\n",
        "b.islower()"
      ],
      "metadata": {
        "colab": {
          "base_uri": "https://localhost:8080/"
        },
        "id": "EKSIfhkVDWcw",
        "outputId": "a9611565-aa4c-43e0-e32b-4e9f9cd5e694"
      },
      "execution_count": 11,
      "outputs": [
        {
          "output_type": "execute_result",
          "data": {
            "text/plain": [
              "True"
            ]
          },
          "metadata": {},
          "execution_count": 11
        }
      ]
    },
    {
      "cell_type": "code",
      "source": [
        "c = \"AYSH\"\n",
        "c.isupper()"
      ],
      "metadata": {
        "colab": {
          "base_uri": "https://localhost:8080/"
        },
        "id": "j8H4iUYSD3KN",
        "outputId": "51d820ae-353a-419c-9adc-707d67a4509b"
      },
      "execution_count": 12,
      "outputs": [
        {
          "output_type": "execute_result",
          "data": {
            "text/plain": [
              "True"
            ]
          },
          "metadata": {},
          "execution_count": 12
        }
      ]
    },
    {
      "cell_type": "code",
      "source": [
        "d = \"IbhaierbC\"\n",
        "d.isalpha()"
      ],
      "metadata": {
        "colab": {
          "base_uri": "https://localhost:8080/"
        },
        "id": "TTzl0jovD63S",
        "outputId": "fcff072b-2019-4d95-f209-78bf2f192951"
      },
      "execution_count": 13,
      "outputs": [
        {
          "output_type": "execute_result",
          "data": {
            "text/plain": [
              "True"
            ]
          },
          "metadata": {},
          "execution_count": 13
        }
      ]
    },
    {
      "cell_type": "code",
      "source": [
        "e = \"53343\"\n",
        "e.isnumeric()"
      ],
      "metadata": {
        "colab": {
          "base_uri": "https://localhost:8080/"
        },
        "id": "8yi-ftS6EAui",
        "outputId": "fbe8fd1f-d137-49c6-aa15-97b17136beb7"
      },
      "execution_count": 18,
      "outputs": [
        {
          "output_type": "execute_result",
          "data": {
            "text/plain": [
              "True"
            ]
          },
          "metadata": {},
          "execution_count": 18
        }
      ]
    },
    {
      "cell_type": "code",
      "source": [
        "#Here are the examples for everymanupalation"
      ],
      "metadata": {
        "id": "vRvKdo7mED4p"
      },
      "execution_count": 16,
      "outputs": []
    },
    {
      "cell_type": "code",
      "source": [],
      "metadata": {
        "id": "vdzHjkUDESuw"
      },
      "execution_count": null,
      "outputs": []
    },
    {
      "cell_type": "markdown",
      "source": [
        "### Q-6 Indian PAN card format follows the following formats -\n",
        "\n",
        "- AYEPC7894X\n",
        "- ABCDE9999Y Take user input for PAN_CARD and validate as per the above example."
      ],
      "metadata": {
        "id": "fCDwNX4cETTk"
      }
    },
    {
      "cell_type": "code",
      "source": [
        "pan = input(\"Enter your PAN Card number: \")\n",
        "\n",
        "if (pan[0:5].isalpha() and pan[5:9].isdigit() and pan[9].isalpha() and len(pan) == 10):\n",
        "  print(f\"Your PAN card number is {pan[0:5].upper()}{pan[5:9]}{pan[9].upper()}\")\n",
        "else: \n",
        "  if len(pan) != 10:\n",
        "    print(\"Enter your valid 10 digit number with first 5 with alphabet, next 4 digit with numbers & last with alphabet\")\n",
        "  else:\n",
        "    if not pan[0:5].isalpha():\n",
        "      print(\"First 5 letters should be alphabet\")\n",
        "    elif not pan[5:9].isdigit():\n",
        "      print(\"You have to enter number 5 alphabets\")\n",
        "    elif not pan[9].isalpha():\n",
        "      print(\"Last letter should be alphabet\")"
      ],
      "metadata": {
        "colab": {
          "base_uri": "https://localhost:8080/"
        },
        "id": "4u6vLe9gEh6k",
        "outputId": "4859cd2e-29f7-424c-8c61-76b4cb58f974"
      },
      "execution_count": 25,
      "outputs": [
        {
          "output_type": "stream",
          "name": "stdout",
          "text": [
            "Enter your PAN Card number: ayepc7894x\n",
            "Your PAN card number is AYEPC7894X\n"
          ]
        }
      ]
    },
    {
      "cell_type": "code",
      "source": [],
      "metadata": {
        "id": "J492WuiKIC_3"
      },
      "execution_count": null,
      "outputs": []
    }
  ]
}