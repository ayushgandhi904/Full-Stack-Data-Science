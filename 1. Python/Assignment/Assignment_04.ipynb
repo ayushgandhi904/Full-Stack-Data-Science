{
  "nbformat": 4,
  "nbformat_minor": 0,
  "metadata": {
    "colab": {
      "provenance": [],
      "collapsed_sections": []
    },
    "kernelspec": {
      "name": "python3",
      "display_name": "Python 3"
    },
    "language_info": {
      "name": "python"
    }
  },
  "cells": [
    {
      "cell_type": "markdown",
      "source": [
        "### Q1. Find the largest number from the given list, use for loop."
      ],
      "metadata": {
        "id": "5UyaAdpAqlVp"
      }
    },
    {
      "cell_type": "code",
      "source": [
        "numbers = [12, 75, 150, 180, 145, 525, 50]\n",
        "\n",
        "largest = numbers[0]\n",
        "\n",
        "for i in numbers:\n",
        "  if i > largest:\n",
        "    largest = i\n",
        "print(f\"Largest number is {largest}\")\n",
        "\n",
        "#It should be print 525"
      ],
      "metadata": {
        "colab": {
          "base_uri": "https://localhost:8080/"
        },
        "id": "4lnfIKzvqqh3",
        "outputId": "d720cb88-d083-4709-9931-5605d30167d3"
      },
      "execution_count": 1,
      "outputs": [
        {
          "output_type": "stream",
          "name": "stdout",
          "text": [
            "Largest number is 525\n"
          ]
        }
      ]
    },
    {
      "cell_type": "markdown",
      "source": [
        "### Q-2. Print all the even number between (1, 12)"
      ],
      "metadata": {
        "id": "oS3DraqAsBwC"
      }
    },
    {
      "cell_type": "code",
      "source": [
        "for i in range(1, 12):\n",
        "\n",
        "  if i%2 != 0:\n",
        "    continue\n",
        "  print(f\"{i}\")"
      ],
      "metadata": {
        "colab": {
          "base_uri": "https://localhost:8080/"
        },
        "id": "khXtGl8usG4e",
        "outputId": "96110add-51fe-47dc-e92d-c4991b5bea14"
      },
      "execution_count": 2,
      "outputs": [
        {
          "output_type": "stream",
          "name": "stdout",
          "text": [
            "2\n",
            "4\n",
            "6\n",
            "8\n",
            "10\n"
          ]
        }
      ]
    },
    {
      "cell_type": "markdown",
      "source": [
        "### Q3. Calculate the sum of all numbers from 1 to a given number"
      ],
      "metadata": {
        "id": "v0OrL6o1t_c8"
      }
    },
    {
      "cell_type": "code",
      "source": [
        "number = int(input(\"Enter the number: \"))\n",
        "\n",
        "sum = 0\n",
        "for i in range(1, number + 1):\n",
        "  sum = sum + i\n",
        "\n",
        "print(f\"Total sum is {sum}\")\n",
        "\n",
        "#expected input is 10 so sum will be 55"
      ],
      "metadata": {
        "colab": {
          "base_uri": "https://localhost:8080/"
        },
        "id": "cljcslAJuF9I",
        "outputId": "0424e432-0742-4081-ab73-bffdc2d61902"
      },
      "execution_count": 3,
      "outputs": [
        {
          "output_type": "stream",
          "name": "stdout",
          "text": [
            "Enter the number: 10\n",
            "Total sum is 55\n"
          ]
        }
      ]
    },
    {
      "cell_type": "markdown",
      "source": [
        "### Q4. Write a program to display only those numbers from a list that satisfy the following conditions\n",
        "\n",
        "- The number must be divisible by five\n",
        "\n",
        "- If the number is greater than 150, then skip it and move to the next number\n",
        "\n",
        "- If the number is greater than 500, then stop the loop"
      ],
      "metadata": {
        "id": "pmG2NX3qutlX"
      }
    },
    {
      "cell_type": "code",
      "source": [
        "numbers = [12, 75, 150, 180, 145, 525, 50]\n",
        "\n",
        "for i in numbers:\n",
        "  if i > 150:\n",
        "    if i > 500:\n",
        "      break\n",
        "      print(f\"Loop has stopped due to {i} number\")\n",
        "    continue\n",
        "    print(f\"Loop will continue since it is {i}\")\n",
        "  if i % 5 == 0:\n",
        "    print(f\"{i} are acceptable\")"
      ],
      "metadata": {
        "colab": {
          "base_uri": "https://localhost:8080/"
        },
        "id": "EGtQpwQTu1ey",
        "outputId": "5d9d9c00-25df-4f80-b887-140d5d21c554"
      },
      "execution_count": 4,
      "outputs": [
        {
          "output_type": "stream",
          "name": "stdout",
          "text": [
            "75 are acceptable\n",
            "150 are acceptable\n",
            "145 are acceptable\n"
          ]
        }
      ]
    },
    {
      "cell_type": "code",
      "source": [],
      "metadata": {
        "id": "fr8pkpFOwMMf"
      },
      "execution_count": 4,
      "outputs": []
    },
    {
      "cell_type": "markdown",
      "source": [
        "### Q5. Print the given list in reverse order."
      ],
      "metadata": {
        "id": "7ZSpTZ51yZzk"
      }
    },
    {
      "cell_type": "code",
      "source": [
        "list1 = [10, 20, 30, 40, 50]\n",
        "\n",
        "reverse = list(reversed(list1))\n",
        "print(reverse)"
      ],
      "metadata": {
        "colab": {
          "base_uri": "https://localhost:8080/"
        },
        "id": "__V_pnQkyeSu",
        "outputId": "6d3a61ca-c863-4912-c8ee-02e21784c556"
      },
      "execution_count": 7,
      "outputs": [
        {
          "output_type": "stream",
          "name": "stdout",
          "text": [
            "[50, 40, 30, 20, 10]\n"
          ]
        }
      ]
    },
    {
      "cell_type": "code",
      "source": [],
      "metadata": {
        "id": "lQU76T7Ly-Zx"
      },
      "execution_count": 5,
      "outputs": []
    },
    {
      "cell_type": "code",
      "source": [],
      "metadata": {
        "id": "9tJnVpBG1JRO"
      },
      "execution_count": 5,
      "outputs": []
    },
    {
      "cell_type": "code",
      "source": [],
      "metadata": {
        "id": "PB-sPsLP53Ah"
      },
      "execution_count": 5,
      "outputs": []
    }
  ]
}